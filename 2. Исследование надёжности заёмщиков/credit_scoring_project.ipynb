{
 "cells": [
  {
   "cell_type": "markdown",
   "id": "677a0941",
   "metadata": {},
   "source": [
    "# Исследование надежности заемщиков"
   ]
  },
  {
   "cell_type": "markdown",
   "id": "d004842d",
   "metadata": {},
   "source": [
    "\n",
    "Своевременное погашение кредита зависит от множества факторов. В рамках данного проекта проанализируем, влияют ли на это семейное положение клиентов, количество детей и уровень дохода. \n",
    "    \n",
    "**Цель исследования** - проверить четыре гипотезы:\n",
    "    \n",
    "1. Есть ли зависимость между количеством детей и возвратом кредита в срок\n",
    "2. Есть ли зависимость между семейным положением и возвратом кредита в срок\n",
    "3. Есть ли зависимость между уровнем дохода и возвратом кредита в срок\n",
    "4. Как разные цели кредита влияют на его возврат в срок\n",
    "\n",
    "**Ход исследования**\n",
    "    \n",
    "Статистика о платежеспособности клиентов предоставлена банком. О качестве данных ничего не известно, поэтому перед проверкой гипотез понадобится обзор данных и предобработка. \n",
    "Проверим данные на ошибки и оценим их влияние на исследование. Затем, на этапе предобработки исправим самые критичные ошибки данных.\n",
    " \n",
    "Таким образом, исследование пройдёт в три этапа:\n",
    " 1. Обзор данных.\n",
    " 2. Предобработка данных.\n",
    " 3. Проверка гипотез.\n"
   ]
  },
  {
   "cell_type": "markdown",
   "id": "0a761512",
   "metadata": {},
   "source": [
    "# Шаг 1. Обзор данных"
   ]
  },
  {
   "cell_type": "code",
   "execution_count": 1,
   "id": "99e17f5c",
   "metadata": {},
   "outputs": [],
   "source": [
    "import pandas as pd"
   ]
  },
  {
   "cell_type": "code",
   "execution_count": 2,
   "id": "403851fe",
   "metadata": {},
   "outputs": [
    {
     "data": {
      "text/html": [
       "<div>\n",
       "<style scoped>\n",
       "    .dataframe tbody tr th:only-of-type {\n",
       "        vertical-align: middle;\n",
       "    }\n",
       "\n",
       "    .dataframe tbody tr th {\n",
       "        vertical-align: top;\n",
       "    }\n",
       "\n",
       "    .dataframe thead th {\n",
       "        text-align: right;\n",
       "    }\n",
       "</style>\n",
       "<table border=\"1\" class=\"dataframe\">\n",
       "  <thead>\n",
       "    <tr style=\"text-align: right;\">\n",
       "      <th></th>\n",
       "      <th>count</th>\n",
       "      <th>mean</th>\n",
       "      <th>std</th>\n",
       "      <th>min</th>\n",
       "      <th>25%</th>\n",
       "      <th>50%</th>\n",
       "      <th>75%</th>\n",
       "      <th>max</th>\n",
       "    </tr>\n",
       "  </thead>\n",
       "  <tbody>\n",
       "    <tr>\n",
       "      <th>children</th>\n",
       "      <td>21525.0</td>\n",
       "      <td>0.538908</td>\n",
       "      <td>1.381587</td>\n",
       "      <td>-1.000000</td>\n",
       "      <td>0.000000</td>\n",
       "      <td>0.000000</td>\n",
       "      <td>1.000000</td>\n",
       "      <td>2.000000e+01</td>\n",
       "    </tr>\n",
       "    <tr>\n",
       "      <th>days_employed</th>\n",
       "      <td>19351.0</td>\n",
       "      <td>63046.497661</td>\n",
       "      <td>140827.311974</td>\n",
       "      <td>-18388.949901</td>\n",
       "      <td>-2747.423625</td>\n",
       "      <td>-1203.369529</td>\n",
       "      <td>-291.095954</td>\n",
       "      <td>4.017554e+05</td>\n",
       "    </tr>\n",
       "    <tr>\n",
       "      <th>dob_years</th>\n",
       "      <td>21525.0</td>\n",
       "      <td>43.293380</td>\n",
       "      <td>12.574584</td>\n",
       "      <td>0.000000</td>\n",
       "      <td>33.000000</td>\n",
       "      <td>42.000000</td>\n",
       "      <td>53.000000</td>\n",
       "      <td>7.500000e+01</td>\n",
       "    </tr>\n",
       "    <tr>\n",
       "      <th>education_id</th>\n",
       "      <td>21525.0</td>\n",
       "      <td>0.817236</td>\n",
       "      <td>0.548138</td>\n",
       "      <td>0.000000</td>\n",
       "      <td>1.000000</td>\n",
       "      <td>1.000000</td>\n",
       "      <td>1.000000</td>\n",
       "      <td>4.000000e+00</td>\n",
       "    </tr>\n",
       "    <tr>\n",
       "      <th>family_status_id</th>\n",
       "      <td>21525.0</td>\n",
       "      <td>0.972544</td>\n",
       "      <td>1.420324</td>\n",
       "      <td>0.000000</td>\n",
       "      <td>0.000000</td>\n",
       "      <td>0.000000</td>\n",
       "      <td>1.000000</td>\n",
       "      <td>4.000000e+00</td>\n",
       "    </tr>\n",
       "    <tr>\n",
       "      <th>debt</th>\n",
       "      <td>21525.0</td>\n",
       "      <td>0.080883</td>\n",
       "      <td>0.272661</td>\n",
       "      <td>0.000000</td>\n",
       "      <td>0.000000</td>\n",
       "      <td>0.000000</td>\n",
       "      <td>0.000000</td>\n",
       "      <td>1.000000e+00</td>\n",
       "    </tr>\n",
       "    <tr>\n",
       "      <th>total_income</th>\n",
       "      <td>19351.0</td>\n",
       "      <td>167422.302208</td>\n",
       "      <td>102971.566448</td>\n",
       "      <td>20667.263793</td>\n",
       "      <td>103053.152913</td>\n",
       "      <td>145017.937533</td>\n",
       "      <td>203435.067663</td>\n",
       "      <td>2.265604e+06</td>\n",
       "    </tr>\n",
       "  </tbody>\n",
       "</table>\n",
       "</div>"
      ],
      "text/plain": [
       "                    count           mean            std           min  \\\n",
       "children          21525.0       0.538908       1.381587     -1.000000   \n",
       "days_employed     19351.0   63046.497661  140827.311974 -18388.949901   \n",
       "dob_years         21525.0      43.293380      12.574584      0.000000   \n",
       "education_id      21525.0       0.817236       0.548138      0.000000   \n",
       "family_status_id  21525.0       0.972544       1.420324      0.000000   \n",
       "debt              21525.0       0.080883       0.272661      0.000000   \n",
       "total_income      19351.0  167422.302208  102971.566448  20667.263793   \n",
       "\n",
       "                            25%            50%            75%           max  \n",
       "children               0.000000       0.000000       1.000000  2.000000e+01  \n",
       "days_employed      -2747.423625   -1203.369529    -291.095954  4.017554e+05  \n",
       "dob_years             33.000000      42.000000      53.000000  7.500000e+01  \n",
       "education_id           1.000000       1.000000       1.000000  4.000000e+00  \n",
       "family_status_id       0.000000       0.000000       1.000000  4.000000e+00  \n",
       "debt                   0.000000       0.000000       0.000000  1.000000e+00  \n",
       "total_income      103053.152913  145017.937533  203435.067663  2.265604e+06  "
      ]
     },
     "execution_count": 2,
     "metadata": {},
     "output_type": "execute_result"
    }
   ],
   "source": [
    "data = pd.read_csv('/datasets/data.csv')\n",
    "data.describe().T"
   ]
  },
  {
   "cell_type": "markdown",
   "id": "38719c26",
   "metadata": {},
   "source": [
    "В таблице 21 525 строк и 12 столбцов. В таблице представлены данные разных типов: object, int64, float64.\n",
    "\n",
    "Согласно документации к данным:\n",
    "\n",
    "* children — количество детей в семье\n",
    "* days_employed — общий трудовой стаж в днях\n",
    "* dob_years — возраст клиента в годах\n",
    "* education — уровень образования клиента\n",
    "* education_id — идентификатор уровня образования\n",
    "* family_status — семейное положение\n",
    "* family_status_id — идентификатор семейного положения\n",
    "* gender — пол клиента\n",
    "* income_type — тип занятости\n",
    "* debt — имел ли задолженность по возврату кредитов\n",
    "* total_income — ежемесячный доход\n",
    "* purpose — цель получения кредита\n",
    "\n",
    "В названиях колонок не выявлены нарушения стиля.\n",
    "\n",
    "В столбцах, содержащих информацию об общем трудовом стаже заемщиков и их ежемесячном доходе, есть пропущенные значения, их доля составляет 10% от общего числа данных. Количество пропущенных значений в обоих столбцах одинаковое, поэтому можно предположить, что это не ошибка, а реальное отсутствие данных. Клиент банка может не иметь трудового стажа и, соответственно, ежемесячного дохода. Но удалить эти строки мы не можем, иначе потеряем 1/10 данных о семейном положении и количестве детей клиентов.  "
   ]
  },
  {
   "cell_type": "markdown",
   "id": "745f9207",
   "metadata": {},
   "source": [
    "\n",
    "Кроме этого мы видим, что в данных о трудовом стаже есть отрицательные значения. Минус явно проставлен ошибочно, поэтому на этапе предобработки данных заменим эти значения на положительные. \n",
    "Посмотрим несколько записей из датафрейма, выберем 5 случайных строк. \n"
   ]
  },
  {
   "cell_type": "code",
   "execution_count": 3,
   "id": "e81b8983",
   "metadata": {},
   "outputs": [
    {
     "data": {
      "text/html": [
       "<div>\n",
       "<style scoped>\n",
       "    .dataframe tbody tr th:only-of-type {\n",
       "        vertical-align: middle;\n",
       "    }\n",
       "\n",
       "    .dataframe tbody tr th {\n",
       "        vertical-align: top;\n",
       "    }\n",
       "\n",
       "    .dataframe thead th {\n",
       "        text-align: right;\n",
       "    }\n",
       "</style>\n",
       "<table border=\"1\" class=\"dataframe\">\n",
       "  <thead>\n",
       "    <tr style=\"text-align: right;\">\n",
       "      <th></th>\n",
       "      <th>children</th>\n",
       "      <th>days_employed</th>\n",
       "      <th>dob_years</th>\n",
       "      <th>education</th>\n",
       "      <th>education_id</th>\n",
       "      <th>family_status</th>\n",
       "      <th>family_status_id</th>\n",
       "      <th>gender</th>\n",
       "      <th>income_type</th>\n",
       "      <th>debt</th>\n",
       "      <th>total_income</th>\n",
       "      <th>purpose</th>\n",
       "    </tr>\n",
       "  </thead>\n",
       "  <tbody>\n",
       "    <tr>\n",
       "      <th>10910</th>\n",
       "      <td>1</td>\n",
       "      <td>NaN</td>\n",
       "      <td>41</td>\n",
       "      <td>среднее</td>\n",
       "      <td>1</td>\n",
       "      <td>Не женат / не замужем</td>\n",
       "      <td>4</td>\n",
       "      <td>M</td>\n",
       "      <td>сотрудник</td>\n",
       "      <td>0</td>\n",
       "      <td>NaN</td>\n",
       "      <td>покупка коммерческой недвижимости</td>\n",
       "    </tr>\n",
       "    <tr>\n",
       "      <th>12522</th>\n",
       "      <td>0</td>\n",
       "      <td>386557.606883</td>\n",
       "      <td>57</td>\n",
       "      <td>среднее</td>\n",
       "      <td>1</td>\n",
       "      <td>гражданский брак</td>\n",
       "      <td>1</td>\n",
       "      <td>F</td>\n",
       "      <td>пенсионер</td>\n",
       "      <td>0</td>\n",
       "      <td>198538.540997</td>\n",
       "      <td>операции с жильем</td>\n",
       "    </tr>\n",
       "    <tr>\n",
       "      <th>7895</th>\n",
       "      <td>1</td>\n",
       "      <td>-5011.732939</td>\n",
       "      <td>41</td>\n",
       "      <td>среднее</td>\n",
       "      <td>1</td>\n",
       "      <td>женат / замужем</td>\n",
       "      <td>0</td>\n",
       "      <td>M</td>\n",
       "      <td>сотрудник</td>\n",
       "      <td>0</td>\n",
       "      <td>101711.579657</td>\n",
       "      <td>операции с жильем</td>\n",
       "    </tr>\n",
       "    <tr>\n",
       "      <th>15729</th>\n",
       "      <td>1</td>\n",
       "      <td>-1728.936706</td>\n",
       "      <td>40</td>\n",
       "      <td>Высшее</td>\n",
       "      <td>0</td>\n",
       "      <td>женат / замужем</td>\n",
       "      <td>0</td>\n",
       "      <td>M</td>\n",
       "      <td>сотрудник</td>\n",
       "      <td>0</td>\n",
       "      <td>172814.828313</td>\n",
       "      <td>сделка с автомобилем</td>\n",
       "    </tr>\n",
       "    <tr>\n",
       "      <th>17382</th>\n",
       "      <td>0</td>\n",
       "      <td>340176.954536</td>\n",
       "      <td>62</td>\n",
       "      <td>среднее</td>\n",
       "      <td>1</td>\n",
       "      <td>женат / замужем</td>\n",
       "      <td>0</td>\n",
       "      <td>F</td>\n",
       "      <td>пенсионер</td>\n",
       "      <td>0</td>\n",
       "      <td>125929.346549</td>\n",
       "      <td>на покупку автомобиля</td>\n",
       "    </tr>\n",
       "  </tbody>\n",
       "</table>\n",
       "</div>"
      ],
      "text/plain": [
       "       children  days_employed  dob_years education  education_id  \\\n",
       "10910         1            NaN         41   среднее             1   \n",
       "12522         0  386557.606883         57   среднее             1   \n",
       "7895          1   -5011.732939         41   среднее             1   \n",
       "15729         1   -1728.936706         40    Высшее             0   \n",
       "17382         0  340176.954536         62   среднее             1   \n",
       "\n",
       "               family_status  family_status_id gender income_type  debt  \\\n",
       "10910  Не женат / не замужем                 4      M   сотрудник     0   \n",
       "12522       гражданский брак                 1      F   пенсионер     0   \n",
       "7895         женат / замужем                 0      M   сотрудник     0   \n",
       "15729        женат / замужем                 0      M   сотрудник     0   \n",
       "17382        женат / замужем                 0      F   пенсионер     0   \n",
       "\n",
       "        total_income                            purpose  \n",
       "10910            NaN  покупка коммерческой недвижимости  \n",
       "12522  198538.540997                  операции с жильем  \n",
       "7895   101711.579657                  операции с жильем  \n",
       "15729  172814.828313               сделка с автомобилем  \n",
       "17382  125929.346549              на покупку автомобиля  "
      ]
     },
     "execution_count": 3,
     "metadata": {},
     "output_type": "execute_result"
    }
   ],
   "source": [
    "data.sample(5)"
   ]
  },
  {
   "cell_type": "markdown",
   "id": "553fe1d4",
   "metadata": {},
   "source": [
    "\n",
    "Это позволяет увидеть еще некоторые ошибки в данных. Например, 0 в колонке, где указывается возраст клиента, нарушение стиля при заполнении данных об образовании.\n",
    "Перейдем ко второму этапу работы - к предобработке данных. \n",
    "  "
   ]
  },
  {
   "cell_type": "markdown",
   "id": "03bf216b",
   "metadata": {},
   "source": [
    "# Шаг 2.1 Заполнение пропусков"
   ]
  },
  {
   "cell_type": "markdown",
   "id": "32e63d3e",
   "metadata": {},
   "source": [
    "Общий трудовой стаж в днях и ежемесячный доход - это количественные переменные. Следовательно, мы можем заполнить недостающие данные средним арифметическим или медианным значением.\n",
    "Данные по ежемесячному доходу нужны нам для проверки гипотезы о том, влияет ли уровень дохода на возврат кредита в срок. Поэтому, чем точнее будут эти данные, тем лучше. Рассчитаем средний доход в зависимости от рода деятельности и заполним пропуски (значения NaN) соответствующими значениями. "
   ]
  },
  {
   "cell_type": "code",
   "execution_count": 4,
   "id": "53591cd0",
   "metadata": {},
   "outputs": [
    {
     "data": {
      "text/plain": [
       "0        253875.639453\n",
       "1        112080.014102\n",
       "2        145885.952297\n",
       "3        267628.550329\n",
       "4        158616.077870\n",
       "             ...      \n",
       "21520    224791.862382\n",
       "21521    155999.806512\n",
       "21522     89672.561153\n",
       "21523    244093.050500\n",
       "21524     82047.418899\n",
       "Name: total_income, Length: 21525, dtype: float64"
      ]
     },
     "execution_count": 4,
     "metadata": {},
     "output_type": "execute_result"
    }
   ],
   "source": [
    "#заменяем все NaN на 0\n",
    "data['total_income'] = data['total_income'].fillna(0)\n",
    "income_type_avg = data.groupby('income_type')['total_income'].transform('mean')\n",
    "\n",
    "income_type_avg_value = data.groupby('income_type')['total_income'].mean()\n",
    "data['total_income'].fillna(data.loc[data['income_type']=='пенсионер']['total_income'].median())\n",
    "data['total_income'].fillna(income_type_avg)\n",
    "\n",
    "#data.info() #проверка, что все строки в столбце total_income заполнены значениями"
   ]
  },
  {
   "cell_type": "markdown",
   "id": "ca59ebc2",
   "metadata": {},
   "source": [
    "\n",
    "Некорректные данные о трудовом стаже мы не можем заменить на медианные значения, т.к. еще на этапе обзора данных обнаружили, что в столбце присутствуют отрицательные значения (аномалии).\n"
   ]
  },
  {
   "cell_type": "markdown",
   "id": "11758876",
   "metadata": {},
   "source": [
    "# Шаг 2.2 Проверка данных на аномалии и исправления"
   ]
  },
  {
   "cell_type": "markdown",
   "id": "53c1f493",
   "metadata": {},
   "source": [
    "В таблице обнаружены явно аномальные значения в колонке с данными о трудовом стаже клиентов в днях. Есть как отрицательные значения, так и нереально большие (343 937 дня - это 955 лет). Для начала разберемся, какие значения мы будем считать аномальными:\n",
    "* Отрицательные - стаж может быть не менее 0;\n",
    "* Верхнюю границу однозначно нельзя указать, можно только примерно рассчитать, в каких пределах будет находиться нормальное значение. В среднем, трудовой стаж человека составляет 45 лет (с 18 до 63 лет). Есть ситуации, когда люди устраиваются на работу раньше (с 14 или 16 лет, а в отдельных сферах еще раньше), но таких случаев не так много, и в таком возрасте трудоустраивают на какие-то часы, а не полные рабочие дни. Т.е. значение будет невелико, и им можно принебречь. Аналогично и возрастом выхода на пенсию. Для простоты расчетов возьмем пенсионный возраст для мужчин, установленный в РФ - 63 года. \n",
    "\n",
    "Таким образом, аномальными значениями будем считать те, которые меньше 0 и больше 16 425 (45 лет*365 = 16 425 дней).\n",
    "\n",
    "Сначала разберемся с пропущенными значениями возраста клиентов банка."
   ]
  },
  {
   "cell_type": "code",
   "execution_count": 5,
   "id": "23f362c9",
   "metadata": {},
   "outputs": [],
   "source": [
    "dob_years_median = data['dob_years'].sort_values().median() \n",
    "data.loc[data['dob_years'] == 0, 'dob_years'] = dob_years_median \n",
    "# Теперь разберемся с данными по стажу\n",
    "data['days_employed'] = data['days_employed'].fillna(0) \n",
    "data.loc[data['days_employed'] < 0, 'days_employed'] = data['days_employed']*(-1) \n",
    "normal_value = 16425\n",
    "days_employed_normal = data.loc[data['days_employed'] < normal_value] \n",
    "days_employed_median = days_employed_normal['days_employed'].sort_values().median() \n",
    "\n",
    "data.loc[data['days_employed'] > normal_value, 'days_employed'] = days_employed_median "
   ]
  },
  {
   "cell_type": "markdown",
   "id": "d8d81e37",
   "metadata": {},
   "source": [
    "Также выполним проверку по остальным данным таблице на наличие аномалий. В столбцах children, days_employed, dob_years, total_income не должно быть отрицательных значений. "
   ]
  },
  {
   "cell_type": "code",
   "execution_count": 6,
   "id": "1ce29735",
   "metadata": {},
   "outputs": [],
   "source": [
    "data['dob_years'].value_counts()\n",
    "data['children'].value_counts()\n",
    "def abs_children(children):\n",
    "    return abs(children)\n",
    "data['children'] = data['children'].apply(abs_children)\n",
    "data['children']=data['children'].replace(20,2)"
   ]
  },
  {
   "cell_type": "markdown",
   "id": "026275e9",
   "metadata": {},
   "source": [
    "Также проверим значения по полю gender, чтобы убедиться, что там нет непредсказуемых значений:"
   ]
  },
  {
   "cell_type": "code",
   "execution_count": 7,
   "id": "0fa30760",
   "metadata": {},
   "outputs": [],
   "source": [
    "data['gender'].value_counts()\n",
    "data=data.drop(data[data['gender']=='XNA'].index) "
   ]
  },
  {
   "cell_type": "markdown",
   "id": "3ce013f8",
   "metadata": {},
   "source": [
    "По колонке 'family_status' проверим, что данные записаны в одном стиле. Значений должно быть немного, если изначально не было нарушений стиля. Также при выводе части таблицы на экран было заметно, что в  колонке 'education' значения записаны буквами разного размера. Это похоже на человеческий фактор, либо сам клиент, либо сотрудник банка, при заполнении анкеты не обратили внимание на размер шрифта. "
   ]
  },
  {
   "cell_type": "code",
   "execution_count": 8,
   "id": "65b94ad9",
   "metadata": {},
   "outputs": [],
   "source": [
    "data['family_status'].value_counts()\n",
    "data['family_status'] = data['family_status'].replace('Не женат / не замужем','не женат / не замужем')\n",
    "data['education']=data['education'].str.lower()"
   ]
  },
  {
   "cell_type": "markdown",
   "id": "32d7d457",
   "metadata": {},
   "source": [
    "Мы разобрались с пропущенными данными, избавились от аномальных значений, исправили некоторые проблемы со стилем. \n",
    "Но визуально таблица все равно выглядят небрежно. Данные о стаже, общем доходе, возрасте воспринимаются лучше, когда записаны целыми числами. Поэтому следующим шагом заменим тип данных в этих строках. "
   ]
  },
  {
   "cell_type": "markdown",
   "id": "fd8c5f34",
   "metadata": {},
   "source": [
    "# Шаг 2.3. Изменение типов данных"
   ]
  },
  {
   "cell_type": "code",
   "execution_count": 9,
   "id": "e9046fca",
   "metadata": {},
   "outputs": [
    {
     "data": {
      "text/plain": [
       "2265604.028722744"
      ]
     },
     "metadata": {},
     "output_type": "display_data"
    }
   ],
   "source": [
    "display(data['total_income'].max())"
   ]
  },
  {
   "cell_type": "code",
   "execution_count": 10,
   "id": "55483b61",
   "metadata": {},
   "outputs": [
    {
     "name": "stdout",
     "output_type": "stream",
     "text": [
      "<class 'pandas.core.frame.DataFrame'>\n",
      "Int64Index: 21524 entries, 0 to 21524\n",
      "Data columns (total 12 columns):\n",
      " #   Column            Non-Null Count  Dtype \n",
      "---  ------            --------------  ----- \n",
      " 0   children          21524 non-null  int64 \n",
      " 1   days_employed     21524 non-null  int8  \n",
      " 2   dob_years         21524 non-null  int8  \n",
      " 3   education         21524 non-null  object\n",
      " 4   education_id      21524 non-null  int64 \n",
      " 5   family_status     21524 non-null  object\n",
      " 6   family_status_id  21524 non-null  int64 \n",
      " 7   gender            21524 non-null  object\n",
      " 8   income_type       21524 non-null  object\n",
      " 9   debt              21524 non-null  int64 \n",
      " 10  total_income      21524 non-null  int32 \n",
      " 11  purpose           21524 non-null  object\n",
      "dtypes: int32(1), int64(4), int8(2), object(5)\n",
      "memory usage: 1.8+ MB\n"
     ]
    }
   ],
   "source": [
    "data[['dob_years','days_employed']]=data[['dob_years','days_employed']].astype('int8')\n",
    "data[['total_income']]=data[['total_income']].astype('int32')\n",
    "data.info() #проверка"
   ]
  },
  {
   "cell_type": "markdown",
   "id": "00054b4b",
   "metadata": {},
   "source": [
    "Таблица стала выглядеть гораздо лучше, осталось избавиться от дубликатов."
   ]
  },
  {
   "cell_type": "markdown",
   "id": "82eea499",
   "metadata": {},
   "source": [
    "# Шаг 2.4. Удаление дубликатов"
   ]
  },
  {
   "cell_type": "markdown",
   "id": "664f3aba",
   "metadata": {},
   "source": [
    "Сначала найдем и уберем явные дубликаты."
   ]
  },
  {
   "cell_type": "code",
   "execution_count": 11,
   "id": "c84526dc",
   "metadata": {},
   "outputs": [],
   "source": [
    "data.duplicated().sum()\n",
    "data = data.drop_duplicates().reset_index(drop= True)"
   ]
  },
  {
   "cell_type": "markdown",
   "id": "12e97256",
   "metadata": {},
   "source": [
    "Неявные дубликаты были обработаны на предыдущем этапе при исправлении данных, напр., разные стили/буквы в колонках с данными об образовании и семейном положении. Сделав все буквы одинакового размера, мы уже избавились от дубликатов."
   ]
  },
  {
   "cell_type": "markdown",
   "id": "a8274778",
   "metadata": {},
   "source": [
    "# Шаг 2.5. Формирование дополнительных датафреймов словарей, декомпозиция исходного датафрейма"
   ]
  },
  {
   "cell_type": "markdown",
   "id": "5e4a59f3",
   "metadata": {},
   "source": [
    "Создадим два новых датафрейма, в которых:\n",
    "* каждому уникальному значению из education соответствует уникальное значение education_id — в первом;\n",
    "* каждому уникальному значению из family_status соответствует уникальное значение family_status_id — во втором.\n",
    "\n",
    "Затем удалим из исходного датафрейма столбцы education и family_status"
   ]
  },
  {
   "cell_type": "code",
   "execution_count": 12,
   "id": "02538d1e",
   "metadata": {},
   "outputs": [
    {
     "data": {
      "text/html": [
       "<div>\n",
       "<style scoped>\n",
       "    .dataframe tbody tr th:only-of-type {\n",
       "        vertical-align: middle;\n",
       "    }\n",
       "\n",
       "    .dataframe tbody tr th {\n",
       "        vertical-align: top;\n",
       "    }\n",
       "\n",
       "    .dataframe thead th {\n",
       "        text-align: right;\n",
       "    }\n",
       "</style>\n",
       "<table border=\"1\" class=\"dataframe\">\n",
       "  <thead>\n",
       "    <tr style=\"text-align: right;\">\n",
       "      <th></th>\n",
       "      <th>education</th>\n",
       "      <th>education_id</th>\n",
       "    </tr>\n",
       "  </thead>\n",
       "  <tbody>\n",
       "    <tr>\n",
       "      <th>0</th>\n",
       "      <td>высшее</td>\n",
       "      <td>0</td>\n",
       "    </tr>\n",
       "    <tr>\n",
       "      <th>1</th>\n",
       "      <td>среднее</td>\n",
       "      <td>1</td>\n",
       "    </tr>\n",
       "    <tr>\n",
       "      <th>2</th>\n",
       "      <td>неоконченное высшее</td>\n",
       "      <td>2</td>\n",
       "    </tr>\n",
       "    <tr>\n",
       "      <th>3</th>\n",
       "      <td>начальное</td>\n",
       "      <td>3</td>\n",
       "    </tr>\n",
       "    <tr>\n",
       "      <th>4</th>\n",
       "      <td>ученая степень</td>\n",
       "      <td>4</td>\n",
       "    </tr>\n",
       "  </tbody>\n",
       "</table>\n",
       "</div>"
      ],
      "text/plain": [
       "             education  education_id\n",
       "0               высшее             0\n",
       "1              среднее             1\n",
       "2  неоконченное высшее             2\n",
       "3            начальное             3\n",
       "4       ученая степень             4"
      ]
     },
     "metadata": {},
     "output_type": "display_data"
    },
    {
     "data": {
      "text/html": [
       "<div>\n",
       "<style scoped>\n",
       "    .dataframe tbody tr th:only-of-type {\n",
       "        vertical-align: middle;\n",
       "    }\n",
       "\n",
       "    .dataframe tbody tr th {\n",
       "        vertical-align: top;\n",
       "    }\n",
       "\n",
       "    .dataframe thead th {\n",
       "        text-align: right;\n",
       "    }\n",
       "</style>\n",
       "<table border=\"1\" class=\"dataframe\">\n",
       "  <thead>\n",
       "    <tr style=\"text-align: right;\">\n",
       "      <th></th>\n",
       "      <th>family_status</th>\n",
       "      <th>family_status_id</th>\n",
       "    </tr>\n",
       "  </thead>\n",
       "  <tbody>\n",
       "    <tr>\n",
       "      <th>0</th>\n",
       "      <td>женат / замужем</td>\n",
       "      <td>0</td>\n",
       "    </tr>\n",
       "    <tr>\n",
       "      <th>1</th>\n",
       "      <td>гражданский брак</td>\n",
       "      <td>1</td>\n",
       "    </tr>\n",
       "    <tr>\n",
       "      <th>2</th>\n",
       "      <td>вдовец / вдова</td>\n",
       "      <td>2</td>\n",
       "    </tr>\n",
       "    <tr>\n",
       "      <th>3</th>\n",
       "      <td>в разводе</td>\n",
       "      <td>3</td>\n",
       "    </tr>\n",
       "    <tr>\n",
       "      <th>4</th>\n",
       "      <td>не женат / не замужем</td>\n",
       "      <td>4</td>\n",
       "    </tr>\n",
       "  </tbody>\n",
       "</table>\n",
       "</div>"
      ],
      "text/plain": [
       "           family_status  family_status_id\n",
       "0        женат / замужем                 0\n",
       "1       гражданский брак                 1\n",
       "2         вдовец / вдова                 2\n",
       "3              в разводе                 3\n",
       "4  не женат / не замужем                 4"
      ]
     },
     "metadata": {},
     "output_type": "display_data"
    }
   ],
   "source": [
    "education_log = data[['education','education_id']]\n",
    "family_status_log = data[['family_status','family_status_id']]\n",
    "education_log = education_log.drop_duplicates().reset_index(drop=True)\n",
    "family_status_log = family_status_log.drop_duplicates().reset_index(drop=True)\n",
    "display(education_log)\n",
    "display(family_status_log)"
   ]
  },
  {
   "cell_type": "code",
   "execution_count": 13,
   "id": "7fe1bb55",
   "metadata": {},
   "outputs": [
    {
     "name": "stdout",
     "output_type": "stream",
     "text": [
      "<class 'pandas.core.frame.DataFrame'>\n",
      "RangeIndex: 21452 entries, 0 to 21451\n",
      "Data columns (total 10 columns):\n",
      " #   Column            Non-Null Count  Dtype \n",
      "---  ------            --------------  ----- \n",
      " 0   children          21452 non-null  int64 \n",
      " 1   days_employed     21452 non-null  int8  \n",
      " 2   dob_years         21452 non-null  int8  \n",
      " 3   education_id      21452 non-null  int64 \n",
      " 4   family_status_id  21452 non-null  int64 \n",
      " 5   gender            21452 non-null  object\n",
      " 6   income_type       21452 non-null  object\n",
      " 7   debt              21452 non-null  int64 \n",
      " 8   total_income      21452 non-null  int32 \n",
      " 9   purpose           21452 non-null  object\n",
      "dtypes: int32(1), int64(4), int8(2), object(3)\n",
      "memory usage: 1.3+ MB\n"
     ]
    }
   ],
   "source": [
    "data=data.drop('education', 1)\n",
    "data=data.drop('family_status', 1)\n",
    "data.info() #проверка"
   ]
  },
  {
   "cell_type": "markdown",
   "id": "e5ed65db",
   "metadata": {},
   "source": [
    "# Шаг 2.6. Категоризация дохода"
   ]
  },
  {
   "cell_type": "markdown",
   "id": "00a74b4b",
   "metadata": {},
   "source": [
    "На основании диапазонов, указанных ниже, создадим столбец total_income_category с категориями:\n",
    "* 0–30000 — 'E';\n",
    "* 30001–50000 — 'D';\n",
    "* 50001–200000 — 'C';\n",
    "* 200001–1000000 — 'B';\n",
    "* 1000001 и выше — 'A'."
   ]
  },
  {
   "cell_type": "code",
   "execution_count": 14,
   "id": "8e847310",
   "metadata": {},
   "outputs": [],
   "source": [
    "def total_income_category(income):\n",
    "    if 0<=income<30000:\n",
    "        return 'E'\n",
    "    if 30001<=income<50000:\n",
    "        return 'D'\n",
    "    if 50001<=income<200000:\n",
    "        return 'C'\n",
    "    if 200001<=income<1000000:\n",
    "        return 'B'\n",
    "    return 'A'\n",
    "#total_income_category(125000) #проверка\n",
    "data['total_income_category'] = data['total_income'].apply(total_income_category)\n"
   ]
  },
  {
   "cell_type": "markdown",
   "id": "624521af",
   "metadata": {},
   "source": [
    "# Шаг 2.7. Категоризация целей кредита"
   ]
  },
  {
   "cell_type": "markdown",
   "id": "4b7f1f6e",
   "metadata": {},
   "source": [
    "Создадим функцию, которая на основании данных из столбца purpose сформирует новый столбец purpose_category, в который войдут следующие категории:\n",
    "* 'операции с автомобилем',\n",
    "* 'операции с недвижимостью',\n",
    "* 'проведение свадьбы',\n",
    "* 'получение образования'."
   ]
  },
  {
   "cell_type": "code",
   "execution_count": 15,
   "id": "ba734e44",
   "metadata": {},
   "outputs": [
    {
     "name": "stdout",
     "output_type": "stream",
     "text": [
      "<class 'pandas.core.frame.DataFrame'>\n",
      "RangeIndex: 21452 entries, 0 to 21451\n",
      "Data columns (total 12 columns):\n",
      " #   Column                 Non-Null Count  Dtype \n",
      "---  ------                 --------------  ----- \n",
      " 0   children               21452 non-null  int64 \n",
      " 1   days_employed          21452 non-null  int8  \n",
      " 2   dob_years              21452 non-null  int8  \n",
      " 3   education_id           21452 non-null  int64 \n",
      " 4   family_status_id       21452 non-null  int64 \n",
      " 5   gender                 21452 non-null  object\n",
      " 6   income_type            21452 non-null  object\n",
      " 7   debt                   21452 non-null  int64 \n",
      " 8   total_income           21452 non-null  int32 \n",
      " 9   purpose                21452 non-null  object\n",
      " 10  total_income_category  21452 non-null  object\n",
      " 11  purpose_category       21452 non-null  object\n",
      "dtypes: int32(1), int64(4), int8(2), object(5)\n",
      "memory usage: 1.6+ MB\n"
     ]
    }
   ],
   "source": [
    "def credit_category (purpose):\n",
    "    if 'жиль' in purpose:\n",
    "        return 'операции с недвижимостью'\n",
    "    if 'недвиж' in purpose:\n",
    "        return 'операции с недвижимостью'\n",
    "    if 'авто' in purpose:\n",
    "        return 'операции с автомобилем'\n",
    "    if 'свадьб' in purpose:\n",
    "        return 'проведение свадьбы'\n",
    "    if 'образов' in purpose:\n",
    "        return 'получение образования'\n",
    "data['purpose_category']=data['purpose'].apply(credit_category)\n",
    "data.info()"
   ]
  },
  {
   "cell_type": "markdown",
   "id": "084547d8",
   "metadata": {},
   "source": [
    "Таким образом, на этапе предобработки данных было сделано следующее:\n",
    "* Недостающие и аномальные значения заменены на медианные \n",
    "* Были обработаны дубликаты\n",
    "* Вещественные значения заменены на целые\n",
    "* Для удобства работы с данными были созданы дополнительные датафреймы\n",
    "* Доходы разбили на диапазоны и присвоили категории\n",
    "* Добавили категории для целей кредита\n",
    "\n",
    "Данные можно использовать для проверки гипотез."
   ]
  },
  {
   "cell_type": "markdown",
   "id": "149b957a",
   "metadata": {},
   "source": [
    "# Ответы на вопросы."
   ]
  },
  {
   "cell_type": "markdown",
   "id": "4565578d",
   "metadata": {},
   "source": [
    "## Вопрос 1: Есть ли зависимость между количеством детей и возвратом кредита в срок?"
   ]
  },
  {
   "cell_type": "code",
   "execution_count": 16,
   "id": "c7701b20",
   "metadata": {},
   "outputs": [
    {
     "data": {
      "text/html": [
       "<div>\n",
       "<style scoped>\n",
       "    .dataframe tbody tr th:only-of-type {\n",
       "        vertical-align: middle;\n",
       "    }\n",
       "\n",
       "    .dataframe tbody tr th {\n",
       "        vertical-align: top;\n",
       "    }\n",
       "\n",
       "    .dataframe thead tr th {\n",
       "        text-align: left;\n",
       "    }\n",
       "\n",
       "    .dataframe thead tr:last-of-type th {\n",
       "        text-align: right;\n",
       "    }\n",
       "</style>\n",
       "<table border=\"1\" class=\"dataframe\">\n",
       "  <thead>\n",
       "    <tr>\n",
       "      <th></th>\n",
       "      <th colspan=\"2\" halign=\"left\">debt</th>\n",
       "    </tr>\n",
       "    <tr>\n",
       "      <th></th>\n",
       "      <th>count</th>\n",
       "      <th>sum</th>\n",
       "    </tr>\n",
       "    <tr>\n",
       "      <th>children</th>\n",
       "      <th></th>\n",
       "      <th></th>\n",
       "    </tr>\n",
       "  </thead>\n",
       "  <tbody>\n",
       "    <tr>\n",
       "      <th>0</th>\n",
       "      <td>14089</td>\n",
       "      <td>1063</td>\n",
       "    </tr>\n",
       "    <tr>\n",
       "      <th>1</th>\n",
       "      <td>4855</td>\n",
       "      <td>445</td>\n",
       "    </tr>\n",
       "    <tr>\n",
       "      <th>2</th>\n",
       "      <td>2128</td>\n",
       "      <td>202</td>\n",
       "    </tr>\n",
       "    <tr>\n",
       "      <th>3</th>\n",
       "      <td>330</td>\n",
       "      <td>27</td>\n",
       "    </tr>\n",
       "    <tr>\n",
       "      <th>4</th>\n",
       "      <td>41</td>\n",
       "      <td>4</td>\n",
       "    </tr>\n",
       "    <tr>\n",
       "      <th>5</th>\n",
       "      <td>9</td>\n",
       "      <td>0</td>\n",
       "    </tr>\n",
       "  </tbody>\n",
       "</table>\n",
       "</div>"
      ],
      "text/plain": [
       "           debt      \n",
       "          count   sum\n",
       "children             \n",
       "0         14089  1063\n",
       "1          4855   445\n",
       "2          2128   202\n",
       "3           330    27\n",
       "4            41     4\n",
       "5             9     0"
      ]
     },
     "metadata": {},
     "output_type": "display_data"
    }
   ],
   "source": [
    "children_debt=data.groupby('children').agg({'debt':['count','sum']}) \n",
    "display(children_debt)\n",
    "children_debt_part=children_debt['debt']['sum']/children_debt['debt']['count'] "
   ]
  },
  {
   "cell_type": "code",
   "execution_count": 17,
   "id": "d63e567c",
   "metadata": {},
   "outputs": [
    {
     "data": {
      "text/html": [
       "<div>\n",
       "<style scoped>\n",
       "    .dataframe tbody tr th:only-of-type {\n",
       "        vertical-align: middle;\n",
       "    }\n",
       "\n",
       "    .dataframe tbody tr th {\n",
       "        vertical-align: top;\n",
       "    }\n",
       "\n",
       "    .dataframe thead th {\n",
       "        text-align: right;\n",
       "    }\n",
       "</style>\n",
       "<table border=\"1\" class=\"dataframe\">\n",
       "  <thead>\n",
       "    <tr style=\"text-align: right;\">\n",
       "      <th>total_income_category</th>\n",
       "      <th>A</th>\n",
       "      <th>B</th>\n",
       "      <th>C</th>\n",
       "      <th>D</th>\n",
       "      <th>E</th>\n",
       "    </tr>\n",
       "    <tr>\n",
       "      <th>children</th>\n",
       "      <th></th>\n",
       "      <th></th>\n",
       "      <th></th>\n",
       "      <th></th>\n",
       "      <th></th>\n",
       "    </tr>\n",
       "  </thead>\n",
       "  <tbody>\n",
       "    <tr>\n",
       "      <th>0</th>\n",
       "      <td>1</td>\n",
       "      <td>220</td>\n",
       "      <td>717</td>\n",
       "      <td>12</td>\n",
       "      <td>113</td>\n",
       "    </tr>\n",
       "    <tr>\n",
       "      <th>1</th>\n",
       "      <td>1</td>\n",
       "      <td>88</td>\n",
       "      <td>316</td>\n",
       "      <td>4</td>\n",
       "      <td>36</td>\n",
       "    </tr>\n",
       "    <tr>\n",
       "      <th>2</th>\n",
       "      <td>0</td>\n",
       "      <td>43</td>\n",
       "      <td>138</td>\n",
       "      <td>4</td>\n",
       "      <td>17</td>\n",
       "    </tr>\n",
       "    <tr>\n",
       "      <th>3</th>\n",
       "      <td>0</td>\n",
       "      <td>4</td>\n",
       "      <td>17</td>\n",
       "      <td>1</td>\n",
       "      <td>5</td>\n",
       "    </tr>\n",
       "    <tr>\n",
       "      <th>4</th>\n",
       "      <td>0</td>\n",
       "      <td>1</td>\n",
       "      <td>2</td>\n",
       "      <td>0</td>\n",
       "      <td>1</td>\n",
       "    </tr>\n",
       "    <tr>\n",
       "      <th>5</th>\n",
       "      <td>0</td>\n",
       "      <td>0</td>\n",
       "      <td>0</td>\n",
       "      <td>0</td>\n",
       "      <td>0</td>\n",
       "    </tr>\n",
       "  </tbody>\n",
       "</table>\n",
       "</div>"
      ],
      "text/plain": [
       "total_income_category  A    B    C   D    E\n",
       "children                                   \n",
       "0                      1  220  717  12  113\n",
       "1                      1   88  316   4   36\n",
       "2                      0   43  138   4   17\n",
       "3                      0    4   17   1    5\n",
       "4                      0    1    2   0    1\n",
       "5                      0    0    0   0    0"
      ]
     },
     "metadata": {},
     "output_type": "display_data"
    }
   ],
   "source": [
    "data_pivot=data.pivot_table(index=['children'],columns='total_income_category',values='debt',aggfunc='sum',fill_value=0)\n",
    "display(data_pivot) "
   ]
  },
  {
   "cell_type": "markdown",
   "id": "13b5778c",
   "metadata": {},
   "source": [
    "**Вывод 1:**"
   ]
  },
  {
   "cell_type": "markdown",
   "id": "fd107642",
   "metadata": {},
   "source": [
    "Между возвратом кредита в срок и количеством детей определенно есть зависимость. \n",
    "В первую очередь, нужно отметить, что клиенты, имеющие 3 и более детей берут значительно меньше кредитов. \n",
    "Клиенты, имеющие 5 детей вообще не имеют просрочек по кредитам. Если сравнивать остальных клиентов, то наименьшее количество просрочек у клиентов, не имеющих детей (7,5%)."
   ]
  },
  {
   "cell_type": "markdown",
   "id": "e9879b95",
   "metadata": {},
   "source": [
    "## Вопрос 2: Есть ли зависимость между семейным положением и возвратом кредита в срок?"
   ]
  },
  {
   "cell_type": "code",
   "execution_count": 18,
   "id": "81650040",
   "metadata": {},
   "outputs": [
    {
     "data": {
      "text/plain": [
       "family_status_id\n",
       "0    0.075452\n",
       "1    0.093517\n",
       "2    0.065693\n",
       "3    0.071130\n",
       "4    0.097509\n",
       "dtype: float64"
      ]
     },
     "metadata": {},
     "output_type": "display_data"
    },
    {
     "name": "stderr",
     "output_type": "stream",
     "text": [
      "/opt/conda/lib/python3.9/site-packages/pandas/core/reshape/merge.py:648: UserWarning: merging between different levels can give an unintended result (2 levels on the left,1 on the right)\n",
      "  warnings.warn(msg, UserWarning)\n"
     ]
    },
    {
     "data": {
      "text/html": [
       "<div>\n",
       "<style scoped>\n",
       "    .dataframe tbody tr th:only-of-type {\n",
       "        vertical-align: middle;\n",
       "    }\n",
       "\n",
       "    .dataframe tbody tr th {\n",
       "        vertical-align: top;\n",
       "    }\n",
       "\n",
       "    .dataframe thead th {\n",
       "        text-align: right;\n",
       "    }\n",
       "</style>\n",
       "<table border=\"1\" class=\"dataframe\">\n",
       "  <thead>\n",
       "    <tr style=\"text-align: right;\">\n",
       "      <th></th>\n",
       "      <th>family_status_id</th>\n",
       "      <th>(debt, count)</th>\n",
       "      <th>(debt, sum)</th>\n",
       "      <th>family_status</th>\n",
       "    </tr>\n",
       "  </thead>\n",
       "  <tbody>\n",
       "    <tr>\n",
       "      <th>0</th>\n",
       "      <td>0</td>\n",
       "      <td>12339</td>\n",
       "      <td>931</td>\n",
       "      <td>женат / замужем</td>\n",
       "    </tr>\n",
       "    <tr>\n",
       "      <th>1</th>\n",
       "      <td>1</td>\n",
       "      <td>4149</td>\n",
       "      <td>388</td>\n",
       "      <td>гражданский брак</td>\n",
       "    </tr>\n",
       "    <tr>\n",
       "      <th>2</th>\n",
       "      <td>2</td>\n",
       "      <td>959</td>\n",
       "      <td>63</td>\n",
       "      <td>вдовец / вдова</td>\n",
       "    </tr>\n",
       "    <tr>\n",
       "      <th>3</th>\n",
       "      <td>3</td>\n",
       "      <td>1195</td>\n",
       "      <td>85</td>\n",
       "      <td>в разводе</td>\n",
       "    </tr>\n",
       "    <tr>\n",
       "      <th>4</th>\n",
       "      <td>4</td>\n",
       "      <td>2810</td>\n",
       "      <td>274</td>\n",
       "      <td>не женат / не замужем</td>\n",
       "    </tr>\n",
       "  </tbody>\n",
       "</table>\n",
       "</div>"
      ],
      "text/plain": [
       "   family_status_id  (debt, count)  (debt, sum)          family_status\n",
       "0                 0          12339          931        женат / замужем\n",
       "1                 1           4149          388       гражданский брак\n",
       "2                 2            959           63         вдовец / вдова\n",
       "3                 3           1195           85              в разводе\n",
       "4                 4           2810          274  не женат / не замужем"
      ]
     },
     "metadata": {},
     "output_type": "display_data"
    }
   ],
   "source": [
    "family_debt=data.groupby('family_status_id').agg({'debt':['count','sum']})\n",
    "#display(family_debt)\n",
    "family_debt_part=family_debt['debt']['sum']/family_debt['debt']['count']\n",
    "display(family_debt_part)\n",
    "family_debt_total = family_debt.merge(family_status_log, on='family_status_id',how='left')\n",
    "display(family_debt_total)"
   ]
  },
  {
   "cell_type": "code",
   "execution_count": 19,
   "id": "67730dc6",
   "metadata": {},
   "outputs": [
    {
     "data": {
      "text/html": [
       "<div>\n",
       "<style scoped>\n",
       "    .dataframe tbody tr th:only-of-type {\n",
       "        vertical-align: middle;\n",
       "    }\n",
       "\n",
       "    .dataframe tbody tr th {\n",
       "        vertical-align: top;\n",
       "    }\n",
       "\n",
       "    .dataframe thead th {\n",
       "        text-align: right;\n",
       "    }\n",
       "</style>\n",
       "<table border=\"1\" class=\"dataframe\">\n",
       "  <thead>\n",
       "    <tr style=\"text-align: right;\">\n",
       "      <th>total_income_category</th>\n",
       "      <th>A</th>\n",
       "      <th>B</th>\n",
       "      <th>C</th>\n",
       "      <th>D</th>\n",
       "      <th>E</th>\n",
       "    </tr>\n",
       "    <tr>\n",
       "      <th>family_status_id</th>\n",
       "      <th></th>\n",
       "      <th></th>\n",
       "      <th></th>\n",
       "      <th></th>\n",
       "      <th></th>\n",
       "    </tr>\n",
       "  </thead>\n",
       "  <tbody>\n",
       "    <tr>\n",
       "      <th>0</th>\n",
       "      <td>1</td>\n",
       "      <td>203</td>\n",
       "      <td>628</td>\n",
       "      <td>12</td>\n",
       "      <td>87</td>\n",
       "    </tr>\n",
       "    <tr>\n",
       "      <th>1</th>\n",
       "      <td>1</td>\n",
       "      <td>64</td>\n",
       "      <td>269</td>\n",
       "      <td>5</td>\n",
       "      <td>49</td>\n",
       "    </tr>\n",
       "    <tr>\n",
       "      <th>2</th>\n",
       "      <td>0</td>\n",
       "      <td>9</td>\n",
       "      <td>47</td>\n",
       "      <td>0</td>\n",
       "      <td>7</td>\n",
       "    </tr>\n",
       "    <tr>\n",
       "      <th>3</th>\n",
       "      <td>0</td>\n",
       "      <td>18</td>\n",
       "      <td>56</td>\n",
       "      <td>2</td>\n",
       "      <td>9</td>\n",
       "    </tr>\n",
       "    <tr>\n",
       "      <th>4</th>\n",
       "      <td>0</td>\n",
       "      <td>62</td>\n",
       "      <td>190</td>\n",
       "      <td>2</td>\n",
       "      <td>20</td>\n",
       "    </tr>\n",
       "  </tbody>\n",
       "</table>\n",
       "</div>"
      ],
      "text/plain": [
       "total_income_category  A    B    C   D   E\n",
       "family_status_id                          \n",
       "0                      1  203  628  12  87\n",
       "1                      1   64  269   5  49\n",
       "2                      0    9   47   0   7\n",
       "3                      0   18   56   2   9\n",
       "4                      0   62  190   2  20"
      ]
     },
     "metadata": {},
     "output_type": "display_data"
    }
   ],
   "source": [
    "data_pivot=data.pivot_table(index=['family_status_id'],columns='total_income_category',values='debt',aggfunc='sum',fill_value=0)\n",
    "display(data_pivot)"
   ]
  },
  {
   "cell_type": "markdown",
   "id": "f2ce0c07",
   "metadata": {},
   "source": [
    "**Вывод 2:**"
   ]
  },
  {
   "cell_type": "markdown",
   "id": "e116147c",
   "metadata": {},
   "source": [
    "При анализе данных о семейном статусе и просрочкам по кредитам можно увидеть следующее:\n",
    "* Наименьшее количество кредитов и просрочек по долгу у клиентов, которые ранее были в отношениях, но затем либо развелись, либо потеряли супруга/супругу\n",
    "* Доля просрочек у людей, состоящих в официальном браке составляет 7,5% - это не такой плохой показатель, он практически на том же уровне, что и у клиентов в разводе\n",
    "* Самая высокая доля просрочек (более 9%) у клиентов, находящихся в гражданском браке и не женатых/замужних. Это связано с тем, что финансовые вопросы в неофициальных отношениях решаются сложнее всего. В случае, если люди расходятся, обязательство по выплате кредитных обязательств ложится только на того, на кого оформлен кредит. "
   ]
  },
  {
   "cell_type": "markdown",
   "id": "33a58f5a",
   "metadata": {},
   "source": [
    "## Вопрос 3: Есть ли зависимость между уровнем дохода и возвратом кредита в срок?"
   ]
  },
  {
   "cell_type": "code",
   "execution_count": 20,
   "id": "31095421",
   "metadata": {},
   "outputs": [
    {
     "data": {
      "text/plain": [
       "total_income_category\n",
       "A    0.080000\n",
       "B    0.070635\n",
       "C    0.085532\n",
       "D    0.060000\n",
       "E    0.080979\n",
       "dtype: float64"
      ]
     },
     "metadata": {},
     "output_type": "display_data"
    },
    {
     "data": {
      "text/html": [
       "<div>\n",
       "<style scoped>\n",
       "    .dataframe tbody tr th:only-of-type {\n",
       "        vertical-align: middle;\n",
       "    }\n",
       "\n",
       "    .dataframe tbody tr th {\n",
       "        vertical-align: top;\n",
       "    }\n",
       "\n",
       "    .dataframe thead th {\n",
       "        text-align: right;\n",
       "    }\n",
       "</style>\n",
       "<table border=\"1\" class=\"dataframe\">\n",
       "  <thead>\n",
       "    <tr style=\"text-align: right;\">\n",
       "      <th>total_income_category</th>\n",
       "      <th>A</th>\n",
       "      <th>B</th>\n",
       "      <th>C</th>\n",
       "      <th>D</th>\n",
       "      <th>E</th>\n",
       "    </tr>\n",
       "    <tr>\n",
       "      <th>income_type</th>\n",
       "      <th></th>\n",
       "      <th></th>\n",
       "      <th></th>\n",
       "      <th></th>\n",
       "      <th></th>\n",
       "    </tr>\n",
       "  </thead>\n",
       "  <tbody>\n",
       "    <tr>\n",
       "      <th>безработный</th>\n",
       "      <td>0</td>\n",
       "      <td>0</td>\n",
       "      <td>1</td>\n",
       "      <td>0</td>\n",
       "      <td>0</td>\n",
       "    </tr>\n",
       "    <tr>\n",
       "      <th>в декрете</th>\n",
       "      <td>0</td>\n",
       "      <td>0</td>\n",
       "      <td>1</td>\n",
       "      <td>0</td>\n",
       "      <td>0</td>\n",
       "    </tr>\n",
       "    <tr>\n",
       "      <th>госслужащий</th>\n",
       "      <td>0</td>\n",
       "      <td>18</td>\n",
       "      <td>60</td>\n",
       "      <td>1</td>\n",
       "      <td>7</td>\n",
       "    </tr>\n",
       "    <tr>\n",
       "      <th>компаньон</th>\n",
       "      <td>2</td>\n",
       "      <td>110</td>\n",
       "      <td>233</td>\n",
       "      <td>1</td>\n",
       "      <td>30</td>\n",
       "    </tr>\n",
       "    <tr>\n",
       "      <th>пенсионер</th>\n",
       "      <td>0</td>\n",
       "      <td>31</td>\n",
       "      <td>141</td>\n",
       "      <td>7</td>\n",
       "      <td>37</td>\n",
       "    </tr>\n",
       "    <tr>\n",
       "      <th>предприниматель</th>\n",
       "      <td>0</td>\n",
       "      <td>0</td>\n",
       "      <td>0</td>\n",
       "      <td>0</td>\n",
       "      <td>0</td>\n",
       "    </tr>\n",
       "    <tr>\n",
       "      <th>сотрудник</th>\n",
       "      <td>0</td>\n",
       "      <td>197</td>\n",
       "      <td>754</td>\n",
       "      <td>12</td>\n",
       "      <td>98</td>\n",
       "    </tr>\n",
       "    <tr>\n",
       "      <th>студент</th>\n",
       "      <td>0</td>\n",
       "      <td>0</td>\n",
       "      <td>0</td>\n",
       "      <td>0</td>\n",
       "      <td>0</td>\n",
       "    </tr>\n",
       "  </tbody>\n",
       "</table>\n",
       "</div>"
      ],
      "text/plain": [
       "total_income_category  A    B    C   D   E\n",
       "income_type                               \n",
       "безработный            0    0    1   0   0\n",
       "в декрете              0    0    1   0   0\n",
       "госслужащий            0   18   60   1   7\n",
       "компаньон              2  110  233   1  30\n",
       "пенсионер              0   31  141   7  37\n",
       "предприниматель        0    0    0   0   0\n",
       "сотрудник              0  197  754  12  98\n",
       "студент                0    0    0   0   0"
      ]
     },
     "metadata": {},
     "output_type": "display_data"
    }
   ],
   "source": [
    "total_income_debt=data.groupby('total_income_category').agg({'debt':['sum','count']})\n",
    "total_income_debt_part=total_income_debt['debt']['sum']/total_income_debt['debt']['count']\n",
    "display(total_income_debt_part)\n",
    "#Построим сводную таблицу просрочек в зависимости от уровня дохода клиента:\n",
    "data_pivot=data.pivot_table(index=['income_type'],columns='total_income_category',values='debt',aggfunc='sum',fill_value=0)\n",
    "display(data_pivot)\n"
   ]
  },
  {
   "cell_type": "markdown",
   "id": "b28a9790",
   "metadata": {},
   "source": [
    "**Вывод 3:**"
   ]
  },
  {
   "cell_type": "markdown",
   "id": "9b439153",
   "metadata": {},
   "source": [
    "При анализе данных по уровню дохода и количеством просрочек по кредитам, можно сделать следующие выводы:\n",
    "* Наименьшее число просрочек по кредитам (6%) отмечается среди людей с доходом 30-50 тыс.руб. И по роду деятельности это, в основном, наемные сотрудики и пенсионеры. Низкий показатель просрочек можно объяснить тем, что люди, имеющие невысокий, но стабильный доход, умеют распределять финансовую нагрузку и берут кредит действительно на то, что им нужно, реально оценивая свои возможности.  \n",
    "* Чуть выше показатель (7%) в категории клиентов с доходом 200–1.000 тыс. руб. Люди с таким доходом понимают ценность денег и не хотят портить кредитную историю. \n",
    "* Хуже показатели по категориям клиентов с совсем низкими доходами и с самыми высокими. Доля просрочек в обоих случаях 8%. Это можно объяснить тем, что в первом случае люди не могут реально оценить свои возможности и просчитать риски, во втором - люди те так внимательно относятся к платежам по кредиту, зная, что в любой момент могут погасить и задолженность, и проценты. \n",
    "* Самый высокий показатель просрочек по кредиту у клиентов с доходами 50-200 тыс. руб. - 8,5%. Чтобы понять причину, можно дополнительно проанализировать остальные данные по этим клиентам: их возраст и семейное положение."
   ]
  },
  {
   "cell_type": "markdown",
   "id": "4c4b6c3d",
   "metadata": {},
   "source": [
    "## Вопрос 4: Как разные цели кредита влияют на его возврат в срок?"
   ]
  },
  {
   "cell_type": "code",
   "execution_count": 21,
   "id": "08d1f674",
   "metadata": {},
   "outputs": [
    {
     "data": {
      "text/plain": [
       "purpose_category\n",
       "операции с автомобилем      0.093590\n",
       "операции с недвижимостью    0.072340\n",
       "получение образования       0.092200\n",
       "проведение свадьбы          0.080069\n",
       "dtype: float64"
      ]
     },
     "execution_count": 21,
     "metadata": {},
     "output_type": "execute_result"
    }
   ],
   "source": [
    "purpose_debt=data.groupby('purpose_category').agg({'debt':['sum','count']})\n",
    "purpose_part=purpose_debt['debt']['sum']/purpose_debt['debt']['count']\n",
    "purpose_part"
   ]
  },
  {
   "cell_type": "markdown",
   "id": "9ac0f2a5",
   "metadata": {},
   "source": [
    "**Вывод 4:**"
   ]
  },
  {
   "cell_type": "markdown",
   "id": "b0f5f77e",
   "metadata": {},
   "source": [
    "Из полученных данных можно сделать следующие выводы:\n",
    "* Наименьшее число просрочек по кредитам, выданным на операции с недвижимостью. Это может быть связано с тем, что клиенты лучше оценивают свои возможности и просчитывают все риски, т.к. срок кредита очень большой. Также невысокая доля просрочек по кредитам на проведение свадьбы. \n",
    "* Наибольшее число просрочек имееют кредиты на образование и автокредиты. В случаях с авто, это может быть связано с тем, что люди оформляют кредит, не до конца вникая в суть и условия. Такие сделки заключаются, как правило, прямо в дилерском центре и связаны с тем, что при покупке авто в кредит покупатель получает дополнительную скидку. "
   ]
  },
  {
   "cell_type": "markdown",
   "id": "3169946b",
   "metadata": {},
   "source": [
    "# Общий вывод"
   ]
  },
  {
   "cell_type": "code",
   "execution_count": 22,
   "id": "947a9814",
   "metadata": {},
   "outputs": [
    {
     "data": {
      "text/html": [
       "<div>\n",
       "<style scoped>\n",
       "    .dataframe tbody tr th:only-of-type {\n",
       "        vertical-align: middle;\n",
       "    }\n",
       "\n",
       "    .dataframe tbody tr th {\n",
       "        vertical-align: top;\n",
       "    }\n",
       "\n",
       "    .dataframe thead th {\n",
       "        text-align: right;\n",
       "    }\n",
       "</style>\n",
       "<table border=\"1\" class=\"dataframe\">\n",
       "  <thead>\n",
       "    <tr style=\"text-align: right;\">\n",
       "      <th></th>\n",
       "      <th>total_income_category</th>\n",
       "      <th>A</th>\n",
       "      <th>B</th>\n",
       "      <th>C</th>\n",
       "      <th>D</th>\n",
       "      <th>E</th>\n",
       "    </tr>\n",
       "    <tr>\n",
       "      <th>purpose_category</th>\n",
       "      <th>income_type</th>\n",
       "      <th></th>\n",
       "      <th></th>\n",
       "      <th></th>\n",
       "      <th></th>\n",
       "      <th></th>\n",
       "    </tr>\n",
       "  </thead>\n",
       "  <tbody>\n",
       "    <tr>\n",
       "      <th rowspan=\"5\" valign=\"top\">операции с автомобилем</th>\n",
       "      <th>в декрете</th>\n",
       "      <td>0</td>\n",
       "      <td>0</td>\n",
       "      <td>1</td>\n",
       "      <td>0</td>\n",
       "      <td>0</td>\n",
       "    </tr>\n",
       "    <tr>\n",
       "      <th>госслужащий</th>\n",
       "      <td>0</td>\n",
       "      <td>4</td>\n",
       "      <td>16</td>\n",
       "      <td>0</td>\n",
       "      <td>2</td>\n",
       "    </tr>\n",
       "    <tr>\n",
       "      <th>компаньон</th>\n",
       "      <td>0</td>\n",
       "      <td>24</td>\n",
       "      <td>53</td>\n",
       "      <td>1</td>\n",
       "      <td>7</td>\n",
       "    </tr>\n",
       "    <tr>\n",
       "      <th>пенсионер</th>\n",
       "      <td>0</td>\n",
       "      <td>7</td>\n",
       "      <td>32</td>\n",
       "      <td>4</td>\n",
       "      <td>8</td>\n",
       "    </tr>\n",
       "    <tr>\n",
       "      <th>сотрудник</th>\n",
       "      <td>0</td>\n",
       "      <td>51</td>\n",
       "      <td>169</td>\n",
       "      <td>5</td>\n",
       "      <td>19</td>\n",
       "    </tr>\n",
       "    <tr>\n",
       "      <th rowspan=\"7\" valign=\"top\">операции с недвижимостью</th>\n",
       "      <th>безработный</th>\n",
       "      <td>0</td>\n",
       "      <td>0</td>\n",
       "      <td>1</td>\n",
       "      <td>0</td>\n",
       "      <td>0</td>\n",
       "    </tr>\n",
       "    <tr>\n",
       "      <th>госслужащий</th>\n",
       "      <td>0</td>\n",
       "      <td>9</td>\n",
       "      <td>24</td>\n",
       "      <td>0</td>\n",
       "      <td>3</td>\n",
       "    </tr>\n",
       "    <tr>\n",
       "      <th>компаньон</th>\n",
       "      <td>1</td>\n",
       "      <td>52</td>\n",
       "      <td>106</td>\n",
       "      <td>0</td>\n",
       "      <td>8</td>\n",
       "    </tr>\n",
       "    <tr>\n",
       "      <th>пенсионер</th>\n",
       "      <td>0</td>\n",
       "      <td>15</td>\n",
       "      <td>59</td>\n",
       "      <td>1</td>\n",
       "      <td>17</td>\n",
       "    </tr>\n",
       "    <tr>\n",
       "      <th>предприниматель</th>\n",
       "      <td>0</td>\n",
       "      <td>0</td>\n",
       "      <td>0</td>\n",
       "      <td>0</td>\n",
       "      <td>0</td>\n",
       "    </tr>\n",
       "    <tr>\n",
       "      <th>сотрудник</th>\n",
       "      <td>0</td>\n",
       "      <td>96</td>\n",
       "      <td>344</td>\n",
       "      <td>5</td>\n",
       "      <td>41</td>\n",
       "    </tr>\n",
       "    <tr>\n",
       "      <th>студент</th>\n",
       "      <td>0</td>\n",
       "      <td>0</td>\n",
       "      <td>0</td>\n",
       "      <td>0</td>\n",
       "      <td>0</td>\n",
       "    </tr>\n",
       "    <tr>\n",
       "      <th rowspan=\"4\" valign=\"top\">получение образования</th>\n",
       "      <th>госслужащий</th>\n",
       "      <td>0</td>\n",
       "      <td>4</td>\n",
       "      <td>14</td>\n",
       "      <td>1</td>\n",
       "      <td>2</td>\n",
       "    </tr>\n",
       "    <tr>\n",
       "      <th>компаньон</th>\n",
       "      <td>1</td>\n",
       "      <td>22</td>\n",
       "      <td>41</td>\n",
       "      <td>0</td>\n",
       "      <td>8</td>\n",
       "    </tr>\n",
       "    <tr>\n",
       "      <th>пенсионер</th>\n",
       "      <td>0</td>\n",
       "      <td>6</td>\n",
       "      <td>35</td>\n",
       "      <td>1</td>\n",
       "      <td>6</td>\n",
       "    </tr>\n",
       "    <tr>\n",
       "      <th>сотрудник</th>\n",
       "      <td>0</td>\n",
       "      <td>38</td>\n",
       "      <td>168</td>\n",
       "      <td>0</td>\n",
       "      <td>23</td>\n",
       "    </tr>\n",
       "    <tr>\n",
       "      <th rowspan=\"5\" valign=\"top\">проведение свадьбы</th>\n",
       "      <th>госслужащий</th>\n",
       "      <td>0</td>\n",
       "      <td>1</td>\n",
       "      <td>6</td>\n",
       "      <td>0</td>\n",
       "      <td>0</td>\n",
       "    </tr>\n",
       "    <tr>\n",
       "      <th>компаньон</th>\n",
       "      <td>0</td>\n",
       "      <td>12</td>\n",
       "      <td>33</td>\n",
       "      <td>0</td>\n",
       "      <td>7</td>\n",
       "    </tr>\n",
       "    <tr>\n",
       "      <th>пенсионер</th>\n",
       "      <td>0</td>\n",
       "      <td>3</td>\n",
       "      <td>15</td>\n",
       "      <td>1</td>\n",
       "      <td>6</td>\n",
       "    </tr>\n",
       "    <tr>\n",
       "      <th>предприниматель</th>\n",
       "      <td>0</td>\n",
       "      <td>0</td>\n",
       "      <td>0</td>\n",
       "      <td>0</td>\n",
       "      <td>0</td>\n",
       "    </tr>\n",
       "    <tr>\n",
       "      <th>сотрудник</th>\n",
       "      <td>0</td>\n",
       "      <td>12</td>\n",
       "      <td>73</td>\n",
       "      <td>2</td>\n",
       "      <td>15</td>\n",
       "    </tr>\n",
       "  </tbody>\n",
       "</table>\n",
       "</div>"
      ],
      "text/plain": [
       "total_income_category                     A   B    C  D   E\n",
       "purpose_category         income_type                       \n",
       "операции с автомобилем   в декрете        0   0    1  0   0\n",
       "                         госслужащий      0   4   16  0   2\n",
       "                         компаньон        0  24   53  1   7\n",
       "                         пенсионер        0   7   32  4   8\n",
       "                         сотрудник        0  51  169  5  19\n",
       "операции с недвижимостью безработный      0   0    1  0   0\n",
       "                         госслужащий      0   9   24  0   3\n",
       "                         компаньон        1  52  106  0   8\n",
       "                         пенсионер        0  15   59  1  17\n",
       "                         предприниматель  0   0    0  0   0\n",
       "                         сотрудник        0  96  344  5  41\n",
       "                         студент          0   0    0  0   0\n",
       "получение образования    госслужащий      0   4   14  1   2\n",
       "                         компаньон        1  22   41  0   8\n",
       "                         пенсионер        0   6   35  1   6\n",
       "                         сотрудник        0  38  168  0  23\n",
       "проведение свадьбы       госслужащий      0   1    6  0   0\n",
       "                         компаньон        0  12   33  0   7\n",
       "                         пенсионер        0   3   15  1   6\n",
       "                         предприниматель  0   0    0  0   0\n",
       "                         сотрудник        0  12   73  2  15"
      ]
     },
     "metadata": {},
     "output_type": "display_data"
    }
   ],
   "source": [
    "data_pivot=data.pivot_table(index=['purpose_category','income_type'],columns='total_income_category',values='debt',aggfunc='sum',fill_value=0)\n",
    "display(data_pivot.head(50))"
   ]
  },
  {
   "cell_type": "markdown",
   "id": "f596abe9",
   "metadata": {},
   "source": [
    "По результатам исследования можно сделать следующие выводы:\n",
    "* Выявлена зависимость между возвратом кредита в срок и количеством детей. Наименьшее количество просрочек у клиентов, не имеющих детей или имеющих более 3х детей.\n",
    "* Наибольшее количество просрочек выявлено у клиентов:\n",
    "    * находящихся в гражданском браке и не женатых/замужних. \n",
    "    * с самыми высокими и самыми низкими доходами. \n",
    "    Требуется дополнительный анализ, чтобы понять причину просрочек у клиентов с доходом 50-200 тыс.руб. - у них самый высокий показатель несвоевременного погашения долга\n",
    "    * с целью кредита на покупку авто или получение образования. \n",
    "    \n",
    "* Наименьшее количество просрочек выявлено у клиентов:\n",
    "    * которые ранее были в отношениях, но затем либо развелись, либо потеряли супруга/супругу\n",
    "    * с доходом 30-50 тыс.руб.\n",
    "    * с целью кредита, выданным на операции с недвижимостью.\n",
    "Таким образом, можно сделать вывод, что самыми надежными заемщиками для банка являются клиенты, которые берут займ на покупку недвижимости (ипотеку), зарегистрированы в официальном браке и имеют несколько детей."
   ]
  }
 ],
 "metadata": {
  "ExecuteTimeLog": [
   {
    "duration": 534,
    "start_time": "2022-04-05T18:06:07.750Z"
   },
   {
    "duration": 71,
    "start_time": "2022-04-05T18:06:35.561Z"
   },
   {
    "duration": 45,
    "start_time": "2022-04-06T19:56:50.613Z"
   },
   {
    "duration": 479,
    "start_time": "2022-04-06T19:57:10.334Z"
   },
   {
    "duration": 19,
    "start_time": "2022-04-06T19:57:16.538Z"
   },
   {
    "duration": 14,
    "start_time": "2022-04-06T19:57:27.606Z"
   },
   {
    "duration": 32,
    "start_time": "2022-04-06T19:58:31.531Z"
   },
   {
    "duration": 77,
    "start_time": "2022-04-06T20:11:47.297Z"
   },
   {
    "duration": 512,
    "start_time": "2022-04-07T16:12:07.080Z"
   },
   {
    "duration": 68,
    "start_time": "2022-04-07T16:23:04.749Z"
   },
   {
    "duration": 33,
    "start_time": "2022-04-07T16:23:11.619Z"
   },
   {
    "duration": 21,
    "start_time": "2022-04-07T16:23:24.915Z"
   },
   {
    "duration": 15,
    "start_time": "2022-04-07T16:39:08.719Z"
   },
   {
    "duration": 20,
    "start_time": "2022-04-07T16:39:34.665Z"
   },
   {
    "duration": 22,
    "start_time": "2022-04-07T16:40:22.506Z"
   },
   {
    "duration": 20,
    "start_time": "2022-04-07T16:41:03.607Z"
   },
   {
    "duration": 6,
    "start_time": "2022-04-07T16:42:43.358Z"
   },
   {
    "duration": 22,
    "start_time": "2022-04-07T16:42:55.764Z"
   },
   {
    "duration": 22,
    "start_time": "2022-04-07T16:43:12.597Z"
   },
   {
    "duration": 24,
    "start_time": "2022-04-07T16:43:25.315Z"
   },
   {
    "duration": 24,
    "start_time": "2022-04-07T16:44:10.505Z"
   },
   {
    "duration": 21,
    "start_time": "2022-04-07T16:51:55.847Z"
   },
   {
    "duration": 11,
    "start_time": "2022-04-07T17:22:44.652Z"
   },
   {
    "duration": 11,
    "start_time": "2022-04-07T17:26:43.911Z"
   },
   {
    "duration": 9,
    "start_time": "2022-04-07T17:26:52.040Z"
   },
   {
    "duration": 21,
    "start_time": "2022-04-07T17:27:12.620Z"
   },
   {
    "duration": 21,
    "start_time": "2022-04-07T17:28:01.695Z"
   },
   {
    "duration": 11,
    "start_time": "2022-04-07T17:28:17.356Z"
   },
   {
    "duration": 70,
    "start_time": "2022-04-07T17:30:40.934Z"
   },
   {
    "duration": 637,
    "start_time": "2022-04-07T17:31:17.769Z"
   },
   {
    "duration": 23,
    "start_time": "2022-04-07T17:32:05.292Z"
   },
   {
    "duration": 12,
    "start_time": "2022-04-07T17:32:47.018Z"
   },
   {
    "duration": 16,
    "start_time": "2022-04-07T17:33:00.847Z"
   },
   {
    "duration": 13,
    "start_time": "2022-04-07T17:33:09.988Z"
   },
   {
    "duration": 15,
    "start_time": "2022-04-07T17:33:33.662Z"
   },
   {
    "duration": 31,
    "start_time": "2022-04-07T17:34:04.753Z"
   },
   {
    "duration": 21,
    "start_time": "2022-04-07T17:37:55.931Z"
   },
   {
    "duration": 15,
    "start_time": "2022-04-07T17:57:08.962Z"
   },
   {
    "duration": 9,
    "start_time": "2022-04-07T17:57:23.731Z"
   },
   {
    "duration": 13,
    "start_time": "2022-04-07T18:06:08.580Z"
   },
   {
    "duration": 13,
    "start_time": "2022-04-07T18:06:55.109Z"
   },
   {
    "duration": 8,
    "start_time": "2022-04-07T18:07:24.941Z"
   },
   {
    "duration": 20,
    "start_time": "2022-04-07T18:07:50.785Z"
   },
   {
    "duration": 24,
    "start_time": "2022-04-07T18:09:11.324Z"
   },
   {
    "duration": 65,
    "start_time": "2022-04-07T18:09:24.046Z"
   },
   {
    "duration": 11,
    "start_time": "2022-04-07T18:09:58.885Z"
   },
   {
    "duration": 947,
    "start_time": "2022-04-07T18:10:04.969Z"
   },
   {
    "duration": 11,
    "start_time": "2022-04-07T18:10:11.324Z"
   },
   {
    "duration": 4,
    "start_time": "2022-04-07T18:13:26.054Z"
   },
   {
    "duration": 3,
    "start_time": "2022-04-07T18:13:36.335Z"
   },
   {
    "duration": 21,
    "start_time": "2022-04-07T18:14:10.044Z"
   },
   {
    "duration": 8,
    "start_time": "2022-04-07T18:14:59.814Z"
   },
   {
    "duration": 22,
    "start_time": "2022-04-07T18:15:19.703Z"
   },
   {
    "duration": 93,
    "start_time": "2022-04-07T18:17:48.780Z"
   },
   {
    "duration": 63,
    "start_time": "2022-04-07T18:18:01.035Z"
   },
   {
    "duration": 63,
    "start_time": "2022-04-07T18:18:23.342Z"
   },
   {
    "duration": 23,
    "start_time": "2022-04-07T18:18:27.759Z"
   },
   {
    "duration": 22,
    "start_time": "2022-04-07T18:18:36.649Z"
   },
   {
    "duration": 9,
    "start_time": "2022-04-07T18:19:37.363Z"
   },
   {
    "duration": 3,
    "start_time": "2022-04-07T18:19:44.908Z"
   },
   {
    "duration": 9,
    "start_time": "2022-04-07T18:19:51.095Z"
   },
   {
    "duration": 21,
    "start_time": "2022-04-07T18:20:04.968Z"
   },
   {
    "duration": 5,
    "start_time": "2022-04-07T18:22:54.527Z"
   },
   {
    "duration": 20,
    "start_time": "2022-04-07T18:23:10.040Z"
   },
   {
    "duration": 9,
    "start_time": "2022-04-07T18:23:46.814Z"
   },
   {
    "duration": 63,
    "start_time": "2022-04-07T18:26:52.441Z"
   },
   {
    "duration": 65,
    "start_time": "2022-04-07T18:27:14.756Z"
   },
   {
    "duration": 29,
    "start_time": "2022-04-07T18:27:19.553Z"
   },
   {
    "duration": 19,
    "start_time": "2022-04-07T18:27:23.534Z"
   },
   {
    "duration": 16,
    "start_time": "2022-04-07T18:30:00.526Z"
   },
   {
    "duration": 24,
    "start_time": "2022-04-07T18:30:18.237Z"
   },
   {
    "duration": 24,
    "start_time": "2022-04-07T18:31:30.717Z"
   },
   {
    "duration": 9,
    "start_time": "2022-04-07T18:34:32.913Z"
   },
   {
    "duration": 11,
    "start_time": "2022-04-07T18:36:50.834Z"
   },
   {
    "duration": 12,
    "start_time": "2022-04-07T18:37:16.897Z"
   },
   {
    "duration": 8,
    "start_time": "2022-04-07T18:37:56.735Z"
   },
   {
    "duration": 7,
    "start_time": "2022-04-07T18:54:43.399Z"
   },
   {
    "duration": 7,
    "start_time": "2022-04-07T18:54:55.252Z"
   },
   {
    "duration": 9,
    "start_time": "2022-04-07T19:04:51.332Z"
   },
   {
    "duration": 10,
    "start_time": "2022-04-07T19:05:17.878Z"
   },
   {
    "duration": 9,
    "start_time": "2022-04-07T19:05:51.787Z"
   },
   {
    "duration": 5,
    "start_time": "2022-04-07T19:07:03.577Z"
   },
   {
    "duration": 24,
    "start_time": "2022-04-07T19:07:15.747Z"
   },
   {
    "duration": 22,
    "start_time": "2022-04-07T19:07:39.780Z"
   },
   {
    "duration": 10,
    "start_time": "2022-04-07T19:09:28.052Z"
   },
   {
    "duration": 10,
    "start_time": "2022-04-07T19:17:09.120Z"
   },
   {
    "duration": 9,
    "start_time": "2022-04-07T19:17:38.672Z"
   },
   {
    "duration": 88,
    "start_time": "2022-04-07T19:18:10.277Z"
   },
   {
    "duration": 10,
    "start_time": "2022-04-07T19:18:18.594Z"
   },
   {
    "duration": 6,
    "start_time": "2022-04-07T19:19:36.521Z"
   },
   {
    "duration": 23,
    "start_time": "2022-04-07T19:20:09.405Z"
   },
   {
    "duration": 23,
    "start_time": "2022-04-07T19:20:45.248Z"
   },
   {
    "duration": 22,
    "start_time": "2022-04-07T19:21:09.385Z"
   },
   {
    "duration": 22,
    "start_time": "2022-04-07T19:21:42.913Z"
   },
   {
    "duration": 23,
    "start_time": "2022-04-07T19:22:55.423Z"
   },
   {
    "duration": 22,
    "start_time": "2022-04-07T19:23:23.606Z"
   },
   {
    "duration": 32,
    "start_time": "2022-04-07T19:24:24.425Z"
   },
   {
    "duration": 23,
    "start_time": "2022-04-07T19:25:28.599Z"
   },
   {
    "duration": 25,
    "start_time": "2022-04-07T19:26:15.079Z"
   },
   {
    "duration": 23,
    "start_time": "2022-04-07T19:28:16.763Z"
   },
   {
    "duration": 60,
    "start_time": "2022-04-07T19:47:23.963Z"
   },
   {
    "duration": 60,
    "start_time": "2022-04-07T19:47:53.161Z"
   },
   {
    "duration": 29,
    "start_time": "2022-04-07T19:48:00.081Z"
   },
   {
    "duration": 19,
    "start_time": "2022-04-07T19:48:29.136Z"
   },
   {
    "duration": 20,
    "start_time": "2022-04-07T19:48:49.387Z"
   },
   {
    "duration": 4,
    "start_time": "2022-04-07T19:51:59.463Z"
   },
   {
    "duration": 23,
    "start_time": "2022-04-07T19:52:44.715Z"
   },
   {
    "duration": 4,
    "start_time": "2022-04-07T19:52:53.913Z"
   },
   {
    "duration": 5,
    "start_time": "2022-04-07T19:53:04.505Z"
   },
   {
    "duration": 5,
    "start_time": "2022-04-07T19:54:17.185Z"
   },
   {
    "duration": 4,
    "start_time": "2022-04-07T19:57:35.664Z"
   },
   {
    "duration": 6,
    "start_time": "2022-04-07T20:11:12.966Z"
   },
   {
    "duration": 6,
    "start_time": "2022-04-07T20:11:19.902Z"
   },
   {
    "duration": 4,
    "start_time": "2022-04-07T20:11:33.977Z"
   },
   {
    "duration": 7,
    "start_time": "2022-04-07T20:11:55.810Z"
   },
   {
    "duration": 8,
    "start_time": "2022-04-07T20:12:05.673Z"
   },
   {
    "duration": 4,
    "start_time": "2022-04-07T20:12:22.569Z"
   },
   {
    "duration": 4,
    "start_time": "2022-04-07T20:12:25.919Z"
   },
   {
    "duration": 4,
    "start_time": "2022-04-07T20:12:30.978Z"
   },
   {
    "duration": 12,
    "start_time": "2022-04-07T20:12:52.108Z"
   },
   {
    "duration": 62,
    "start_time": "2022-04-07T20:13:02.839Z"
   },
   {
    "duration": 30,
    "start_time": "2022-04-07T20:13:06.412Z"
   },
   {
    "duration": 14,
    "start_time": "2022-04-07T20:13:09.742Z"
   },
   {
    "duration": 5,
    "start_time": "2022-04-07T20:13:13.605Z"
   },
   {
    "duration": 6,
    "start_time": "2022-04-07T20:13:35.647Z"
   },
   {
    "duration": 13,
    "start_time": "2022-04-07T20:13:41.428Z"
   },
   {
    "duration": 19,
    "start_time": "2022-04-07T20:14:29.402Z"
   },
   {
    "duration": 3,
    "start_time": "2022-04-07T20:23:16.492Z"
   },
   {
    "duration": 6,
    "start_time": "2022-04-07T20:23:53.872Z"
   },
   {
    "duration": 9,
    "start_time": "2022-04-07T20:26:56.126Z"
   },
   {
    "duration": 10,
    "start_time": "2022-04-07T20:27:08.839Z"
   },
   {
    "duration": 8,
    "start_time": "2022-04-07T20:27:14.581Z"
   },
   {
    "duration": 20,
    "start_time": "2022-04-07T20:27:34.882Z"
   },
   {
    "duration": 22,
    "start_time": "2022-04-07T20:28:21.861Z"
   },
   {
    "duration": 10,
    "start_time": "2022-04-07T20:28:32.502Z"
   },
   {
    "duration": 7,
    "start_time": "2022-04-07T20:28:58.615Z"
   },
   {
    "duration": 64,
    "start_time": "2022-04-07T20:29:13.170Z"
   },
   {
    "duration": 7,
    "start_time": "2022-04-07T20:29:21.390Z"
   },
   {
    "duration": 7,
    "start_time": "2022-04-07T20:29:54.010Z"
   },
   {
    "duration": 21,
    "start_time": "2022-04-07T20:30:20.161Z"
   },
   {
    "duration": 23,
    "start_time": "2022-04-07T20:31:24.422Z"
   },
   {
    "duration": 22,
    "start_time": "2022-04-07T20:31:47.096Z"
   },
   {
    "duration": 6,
    "start_time": "2022-04-07T20:33:18.849Z"
   },
   {
    "duration": 22,
    "start_time": "2022-04-07T20:33:34.882Z"
   },
   {
    "duration": 7,
    "start_time": "2022-04-07T20:36:18.940Z"
   },
   {
    "duration": 58,
    "start_time": "2022-04-07T20:53:09.086Z"
   },
   {
    "duration": 4,
    "start_time": "2022-04-07T20:53:36.050Z"
   },
   {
    "duration": 44,
    "start_time": "2022-04-07T20:53:51.950Z"
   },
   {
    "duration": 20,
    "start_time": "2022-04-07T20:54:24.956Z"
   },
   {
    "duration": 10,
    "start_time": "2022-04-07T20:55:14.998Z"
   },
   {
    "duration": 10,
    "start_time": "2022-04-07T21:01:57.277Z"
   },
   {
    "duration": 11,
    "start_time": "2022-04-07T21:02:05.293Z"
   },
   {
    "duration": 65,
    "start_time": "2022-04-07T21:07:03.502Z"
   },
   {
    "duration": 17,
    "start_time": "2022-04-07T21:07:28.395Z"
   },
   {
    "duration": 12,
    "start_time": "2022-04-07T21:09:21.992Z"
   },
   {
    "duration": 62,
    "start_time": "2022-04-07T21:11:23.650Z"
   },
   {
    "duration": 33,
    "start_time": "2022-04-07T21:11:28.065Z"
   },
   {
    "duration": 22,
    "start_time": "2022-04-07T21:11:31.524Z"
   },
   {
    "duration": 6,
    "start_time": "2022-04-07T21:11:35.892Z"
   },
   {
    "duration": 16,
    "start_time": "2022-04-07T21:11:37.908Z"
   },
   {
    "duration": 16,
    "start_time": "2022-04-07T21:11:52.645Z"
   },
   {
    "duration": 26,
    "start_time": "2022-04-07T21:17:03.053Z"
   },
   {
    "duration": 26,
    "start_time": "2022-04-07T21:20:06.040Z"
   },
   {
    "duration": 26,
    "start_time": "2022-04-07T21:20:32.870Z"
   },
   {
    "duration": 560,
    "start_time": "2022-04-08T16:33:21.479Z"
   },
   {
    "duration": 52,
    "start_time": "2022-04-08T16:34:55.915Z"
   },
   {
    "duration": 37,
    "start_time": "2022-04-08T16:35:00.462Z"
   },
   {
    "duration": 10,
    "start_time": "2022-04-08T16:35:10.712Z"
   },
   {
    "duration": 36,
    "start_time": "2022-04-08T16:35:13.680Z"
   },
   {
    "duration": 6,
    "start_time": "2022-04-08T16:39:19.988Z"
   },
   {
    "duration": 6,
    "start_time": "2022-04-08T16:40:36.361Z"
   },
   {
    "duration": 13,
    "start_time": "2022-04-08T16:44:58.770Z"
   },
   {
    "duration": 14,
    "start_time": "2022-04-08T17:03:16.073Z"
   },
   {
    "duration": 88,
    "start_time": "2022-04-08T17:04:36.882Z"
   },
   {
    "duration": 13,
    "start_time": "2022-04-08T17:04:41.072Z"
   },
   {
    "duration": 8,
    "start_time": "2022-04-08T17:09:43.043Z"
   },
   {
    "duration": 33,
    "start_time": "2022-04-08T17:09:51.765Z"
   },
   {
    "duration": 5,
    "start_time": "2022-04-08T17:11:06.222Z"
   },
   {
    "duration": 36,
    "start_time": "2022-04-08T17:11:08.758Z"
   },
   {
    "duration": 91,
    "start_time": "2022-04-08T17:20:48.679Z"
   },
   {
    "duration": 15,
    "start_time": "2022-04-08T17:21:15.576Z"
   },
   {
    "duration": 205,
    "start_time": "2022-04-08T17:21:41.322Z"
   },
   {
    "duration": 199,
    "start_time": "2022-04-08T17:21:52.307Z"
   },
   {
    "duration": 10,
    "start_time": "2022-04-08T17:22:00.966Z"
   },
   {
    "duration": 10,
    "start_time": "2022-04-08T17:22:06.153Z"
   },
   {
    "duration": 15,
    "start_time": "2022-04-08T17:22:23.980Z"
   },
   {
    "duration": 9,
    "start_time": "2022-04-08T17:22:37.110Z"
   },
   {
    "duration": 10,
    "start_time": "2022-04-08T17:26:11.040Z"
   },
   {
    "duration": 10,
    "start_time": "2022-04-08T17:26:16.255Z"
   },
   {
    "duration": 10,
    "start_time": "2022-04-08T17:26:36.438Z"
   },
   {
    "duration": 9,
    "start_time": "2022-04-08T17:27:52.976Z"
   },
   {
    "duration": 10,
    "start_time": "2022-04-08T17:28:52.444Z"
   },
   {
    "duration": 9,
    "start_time": "2022-04-08T17:33:32.603Z"
   },
   {
    "duration": 11,
    "start_time": "2022-04-08T17:33:56.117Z"
   },
   {
    "duration": 10,
    "start_time": "2022-04-08T17:34:07.048Z"
   },
   {
    "duration": 38,
    "start_time": "2022-04-08T17:36:26.101Z"
   },
   {
    "duration": 7,
    "start_time": "2022-04-08T17:37:44.520Z"
   },
   {
    "duration": 10,
    "start_time": "2022-04-08T17:37:59.776Z"
   },
   {
    "duration": 12,
    "start_time": "2022-04-08T17:39:45.017Z"
   },
   {
    "duration": 14,
    "start_time": "2022-04-08T17:39:53.531Z"
   },
   {
    "duration": 36,
    "start_time": "2022-04-08T17:40:07.913Z"
   },
   {
    "duration": 10,
    "start_time": "2022-04-08T17:40:15.568Z"
   },
   {
    "duration": 393,
    "start_time": "2022-04-08T17:40:39.835Z"
   },
   {
    "duration": 214,
    "start_time": "2022-04-08T17:42:27.797Z"
   },
   {
    "duration": 214,
    "start_time": "2022-04-08T17:42:41.840Z"
   },
   {
    "duration": 186,
    "start_time": "2022-04-08T17:43:46.850Z"
   },
   {
    "duration": 11,
    "start_time": "2022-04-08T17:43:55.628Z"
   },
   {
    "duration": 47,
    "start_time": "2022-04-08T17:50:31.972Z"
   },
   {
    "duration": 18,
    "start_time": "2022-04-08T17:50:56.788Z"
   },
   {
    "duration": 44,
    "start_time": "2022-04-08T17:51:24.048Z"
   },
   {
    "duration": 46,
    "start_time": "2022-04-08T17:53:01.345Z"
   },
   {
    "duration": 9,
    "start_time": "2022-04-08T18:00:02.161Z"
   },
   {
    "duration": 39,
    "start_time": "2022-04-08T18:00:05.109Z"
   },
   {
    "duration": 13,
    "start_time": "2022-04-08T18:01:40.555Z"
   },
   {
    "duration": 22,
    "start_time": "2022-04-08T18:06:54.460Z"
   },
   {
    "duration": 7,
    "start_time": "2022-04-08T18:14:42.195Z"
   },
   {
    "duration": 7,
    "start_time": "2022-04-08T18:15:01.529Z"
   },
   {
    "duration": 11,
    "start_time": "2022-04-08T18:20:51.702Z"
   },
   {
    "duration": 16,
    "start_time": "2022-04-08T18:21:01.919Z"
   },
   {
    "duration": 8,
    "start_time": "2022-04-08T18:23:36.846Z"
   },
   {
    "duration": 23,
    "start_time": "2022-04-08T18:23:48.438Z"
   },
   {
    "duration": 28,
    "start_time": "2022-04-08T18:23:58.339Z"
   },
   {
    "duration": 28,
    "start_time": "2022-04-08T18:25:17.802Z"
   },
   {
    "duration": 24,
    "start_time": "2022-04-08T18:26:30.521Z"
   },
   {
    "duration": 22,
    "start_time": "2022-04-08T18:27:40.122Z"
   },
   {
    "duration": 23,
    "start_time": "2022-04-08T18:27:55.748Z"
   },
   {
    "duration": 37,
    "start_time": "2022-04-08T18:28:26.758Z"
   },
   {
    "duration": 52,
    "start_time": "2022-04-08T18:29:15.053Z"
   },
   {
    "duration": 7,
    "start_time": "2022-04-08T20:12:07.448Z"
   },
   {
    "duration": 204,
    "start_time": "2022-04-08T20:32:26.982Z"
   },
   {
    "duration": 26,
    "start_time": "2022-04-08T20:32:53.149Z"
   },
   {
    "duration": 22,
    "start_time": "2022-04-08T20:36:07.460Z"
   },
   {
    "duration": 25,
    "start_time": "2022-04-08T20:37:37.649Z"
   },
   {
    "duration": 25,
    "start_time": "2022-04-08T20:38:26.577Z"
   },
   {
    "duration": 25,
    "start_time": "2022-04-08T20:39:41.804Z"
   },
   {
    "duration": 65,
    "start_time": "2022-04-08T20:40:49.787Z"
   },
   {
    "duration": 8,
    "start_time": "2022-04-08T20:41:13.916Z"
   },
   {
    "duration": 517,
    "start_time": "2022-04-09T06:50:27.508Z"
   },
   {
    "duration": 39,
    "start_time": "2022-04-09T06:59:54.003Z"
   },
   {
    "duration": 9,
    "start_time": "2022-04-09T07:36:50.917Z"
   },
   {
    "duration": 9,
    "start_time": "2022-04-09T07:37:44.874Z"
   },
   {
    "duration": 9,
    "start_time": "2022-04-09T07:39:01.500Z"
   },
   {
    "duration": 26,
    "start_time": "2022-04-09T07:39:16.339Z"
   },
   {
    "duration": 30,
    "start_time": "2022-04-09T07:39:47.034Z"
   },
   {
    "duration": 32,
    "start_time": "2022-04-09T07:40:18.591Z"
   },
   {
    "duration": 75,
    "start_time": "2022-04-09T07:42:31.538Z"
   },
   {
    "duration": 32,
    "start_time": "2022-04-09T07:42:44.568Z"
   },
   {
    "duration": 34,
    "start_time": "2022-04-09T07:43:33.802Z"
   },
   {
    "duration": 36,
    "start_time": "2022-04-09T07:45:39.297Z"
   },
   {
    "duration": 19,
    "start_time": "2022-04-09T08:00:38.456Z"
   },
   {
    "duration": 42,
    "start_time": "2022-04-09T08:00:56.393Z"
   },
   {
    "duration": 43,
    "start_time": "2022-04-09T08:01:19.607Z"
   },
   {
    "duration": 43,
    "start_time": "2022-04-09T08:01:58.088Z"
   },
   {
    "duration": 54,
    "start_time": "2022-04-09T08:02:09.134Z"
   },
   {
    "duration": 42,
    "start_time": "2022-04-09T08:04:44.966Z"
   },
   {
    "duration": 66,
    "start_time": "2022-04-09T08:05:24.523Z"
   },
   {
    "duration": 47,
    "start_time": "2022-04-09T08:12:34.652Z"
   },
   {
    "duration": 14,
    "start_time": "2022-04-09T08:16:45.143Z"
   },
   {
    "duration": 12,
    "start_time": "2022-04-09T08:17:09.571Z"
   },
   {
    "duration": 36,
    "start_time": "2022-04-09T08:17:47.619Z"
   },
   {
    "duration": 35,
    "start_time": "2022-04-09T08:18:33.152Z"
   },
   {
    "duration": 38,
    "start_time": "2022-04-09T08:22:14.727Z"
   },
   {
    "duration": 33,
    "start_time": "2022-04-09T08:22:55.202Z"
   },
   {
    "duration": 38,
    "start_time": "2022-04-09T08:23:11.814Z"
   },
   {
    "duration": 27,
    "start_time": "2022-04-09T08:24:03.169Z"
   },
   {
    "duration": 750,
    "start_time": "2022-04-09T12:40:04.240Z"
   },
   {
    "duration": 1750,
    "start_time": "2022-04-09T12:40:30.587Z"
   },
   {
    "duration": 23,
    "start_time": "2022-04-09T12:40:54.827Z"
   },
   {
    "duration": 44,
    "start_time": "2022-04-09T12:41:12.011Z"
   },
   {
    "duration": 45,
    "start_time": "2022-04-09T12:41:23.413Z"
   },
   {
    "duration": 12,
    "start_time": "2022-04-09T13:00:53.661Z"
   },
   {
    "duration": 38,
    "start_time": "2022-04-09T13:01:22.089Z"
   },
   {
    "duration": 41,
    "start_time": "2022-04-09T13:02:37.515Z"
   },
   {
    "duration": 17,
    "start_time": "2022-04-09T13:02:47.882Z"
   },
   {
    "duration": 45,
    "start_time": "2022-04-09T13:03:34.345Z"
   },
   {
    "duration": 62,
    "start_time": "2022-04-09T13:04:00.549Z"
   },
   {
    "duration": 45,
    "start_time": "2022-04-09T13:04:15.698Z"
   },
   {
    "duration": 47,
    "start_time": "2022-04-09T13:04:29.217Z"
   },
   {
    "duration": 47,
    "start_time": "2022-04-09T13:04:47.823Z"
   },
   {
    "duration": 43,
    "start_time": "2022-04-09T13:06:17.233Z"
   },
   {
    "duration": 44,
    "start_time": "2022-04-09T13:06:36.741Z"
   },
   {
    "duration": 19,
    "start_time": "2022-04-09T13:07:38.204Z"
   },
   {
    "duration": 17,
    "start_time": "2022-04-09T13:07:57.555Z"
   },
   {
    "duration": 21,
    "start_time": "2022-04-09T13:08:20.549Z"
   },
   {
    "duration": 48,
    "start_time": "2022-04-09T13:09:48.496Z"
   },
   {
    "duration": 48,
    "start_time": "2022-04-09T13:19:00.545Z"
   },
   {
    "duration": 62,
    "start_time": "2022-04-09T13:19:22.751Z"
   },
   {
    "duration": 44,
    "start_time": "2022-04-09T13:19:39.048Z"
   },
   {
    "duration": 45,
    "start_time": "2022-04-09T13:19:52.865Z"
   },
   {
    "duration": 45,
    "start_time": "2022-04-09T13:20:11.161Z"
   },
   {
    "duration": 32,
    "start_time": "2022-04-09T13:21:22.172Z"
   },
   {
    "duration": 88,
    "start_time": "2022-04-09T13:21:46.986Z"
   },
   {
    "duration": 24,
    "start_time": "2022-04-09T13:23:07.878Z"
   },
   {
    "duration": 33,
    "start_time": "2022-04-09T13:23:16.334Z"
   },
   {
    "duration": 35,
    "start_time": "2022-04-09T13:24:00.162Z"
   },
   {
    "duration": 43,
    "start_time": "2022-04-09T13:32:51.988Z"
   },
   {
    "duration": 43,
    "start_time": "2022-04-09T13:41:34.646Z"
   },
   {
    "duration": 24,
    "start_time": "2022-04-09T13:43:48.911Z"
   },
   {
    "duration": 21,
    "start_time": "2022-04-09T13:46:27.488Z"
   },
   {
    "duration": 83,
    "start_time": "2022-04-09T13:46:38.893Z"
   },
   {
    "duration": 43,
    "start_time": "2022-04-09T13:46:42.938Z"
   },
   {
    "duration": 22,
    "start_time": "2022-04-09T13:46:46.769Z"
   },
   {
    "duration": 12,
    "start_time": "2022-04-09T13:46:54.363Z"
   },
   {
    "duration": 9,
    "start_time": "2022-04-09T13:46:57.149Z"
   },
   {
    "duration": 41,
    "start_time": "2022-04-09T13:46:59.368Z"
   },
   {
    "duration": 14,
    "start_time": "2022-04-09T13:47:10.063Z"
   },
   {
    "duration": 62,
    "start_time": "2022-04-09T13:47:12.744Z"
   },
   {
    "duration": 8,
    "start_time": "2022-04-09T13:47:20.248Z"
   },
   {
    "duration": 30,
    "start_time": "2022-04-09T13:47:23.716Z"
   },
   {
    "duration": 26,
    "start_time": "2022-04-09T13:47:46.154Z"
   },
   {
    "duration": 50,
    "start_time": "2022-04-09T13:48:28.783Z"
   },
   {
    "duration": 57,
    "start_time": "2022-04-09T14:06:20.190Z"
   },
   {
    "duration": 124,
    "start_time": "2022-04-09T14:21:20.208Z"
   },
   {
    "duration": 48,
    "start_time": "2022-04-09T14:21:23.731Z"
   },
   {
    "duration": 23,
    "start_time": "2022-04-09T14:21:26.986Z"
   },
   {
    "duration": 34,
    "start_time": "2022-04-09T14:21:30.004Z"
   },
   {
    "duration": 12,
    "start_time": "2022-04-09T14:21:34.116Z"
   },
   {
    "duration": 10,
    "start_time": "2022-04-09T14:21:34.801Z"
   },
   {
    "duration": 15,
    "start_time": "2022-04-09T14:21:37.921Z"
   },
   {
    "duration": 20,
    "start_time": "2022-04-09T14:21:40.497Z"
   },
   {
    "duration": 19,
    "start_time": "2022-04-09T14:21:57.492Z"
   },
   {
    "duration": 18,
    "start_time": "2022-04-09T14:22:12.302Z"
   },
   {
    "duration": 19,
    "start_time": "2022-04-09T14:23:43.927Z"
   },
   {
    "duration": 21,
    "start_time": "2022-04-09T14:23:53.220Z"
   },
   {
    "duration": 25,
    "start_time": "2022-04-09T14:25:24.066Z"
   },
   {
    "duration": 40,
    "start_time": "2022-04-09T14:25:41.119Z"
   },
   {
    "duration": 22,
    "start_time": "2022-04-09T14:26:00.942Z"
   },
   {
    "duration": 23,
    "start_time": "2022-04-09T14:26:22.014Z"
   },
   {
    "duration": 23,
    "start_time": "2022-04-09T14:27:12.458Z"
   },
   {
    "duration": 62,
    "start_time": "2022-04-09T14:27:22.277Z"
   },
   {
    "duration": 102,
    "start_time": "2022-04-09T14:46:10.818Z"
   },
   {
    "duration": 14,
    "start_time": "2022-04-09T14:46:23.063Z"
   },
   {
    "duration": 43,
    "start_time": "2022-04-09T14:46:39.302Z"
   },
   {
    "duration": 32,
    "start_time": "2022-04-09T14:46:59.679Z"
   },
   {
    "duration": 9,
    "start_time": "2022-04-09T14:47:56.497Z"
   },
   {
    "duration": 15,
    "start_time": "2022-04-09T14:57:06.506Z"
   },
   {
    "duration": 25,
    "start_time": "2022-04-09T14:57:11.931Z"
   },
   {
    "duration": 11,
    "start_time": "2022-04-09T14:59:01.167Z"
   },
   {
    "duration": 8,
    "start_time": "2022-04-09T15:06:07.816Z"
   },
   {
    "duration": 7,
    "start_time": "2022-04-09T15:07:02.738Z"
   },
   {
    "duration": 16,
    "start_time": "2022-04-09T15:09:20.697Z"
   },
   {
    "duration": 33,
    "start_time": "2022-04-09T15:09:31.752Z"
   },
   {
    "duration": 11,
    "start_time": "2022-04-09T15:18:00.220Z"
   },
   {
    "duration": 15,
    "start_time": "2022-04-09T15:18:12.918Z"
   },
   {
    "duration": 18,
    "start_time": "2022-04-09T15:22:05.686Z"
   },
   {
    "duration": 28,
    "start_time": "2022-04-09T15:22:34.434Z"
   },
   {
    "duration": 7,
    "start_time": "2022-04-09T15:26:02.928Z"
   },
   {
    "duration": 1332,
    "start_time": "2022-04-09T15:26:10.940Z"
   },
   {
    "duration": 1390,
    "start_time": "2022-04-09T15:26:46.547Z"
   },
   {
    "duration": 1588,
    "start_time": "2022-04-09T15:33:33.939Z"
   },
   {
    "duration": 15,
    "start_time": "2022-04-09T15:35:36.232Z"
   },
   {
    "duration": 16,
    "start_time": "2022-04-09T15:35:58.878Z"
   },
   {
    "duration": 18,
    "start_time": "2022-04-09T15:41:03.472Z"
   },
   {
    "duration": 17,
    "start_time": "2022-04-09T15:41:11.884Z"
   },
   {
    "duration": 15,
    "start_time": "2022-04-09T15:42:33.026Z"
   },
   {
    "duration": 16,
    "start_time": "2022-04-09T15:42:57.861Z"
   },
   {
    "duration": 16,
    "start_time": "2022-04-09T15:43:34.187Z"
   },
   {
    "duration": 82,
    "start_time": "2022-04-09T15:43:48.519Z"
   },
   {
    "duration": 43,
    "start_time": "2022-04-09T15:43:52.358Z"
   },
   {
    "duration": 23,
    "start_time": "2022-04-09T15:43:54.942Z"
   },
   {
    "duration": 35,
    "start_time": "2022-04-09T15:43:57.706Z"
   },
   {
    "duration": 11,
    "start_time": "2022-04-09T15:44:02.533Z"
   },
   {
    "duration": 8,
    "start_time": "2022-04-09T15:44:03.700Z"
   },
   {
    "duration": 14,
    "start_time": "2022-04-09T15:44:07.037Z"
   },
   {
    "duration": 12,
    "start_time": "2022-04-09T15:44:08.517Z"
   },
   {
    "duration": 24,
    "start_time": "2022-04-09T15:44:10.786Z"
   },
   {
    "duration": 43,
    "start_time": "2022-04-09T15:44:24.588Z"
   },
   {
    "duration": 14,
    "start_time": "2022-04-09T15:44:28.074Z"
   },
   {
    "duration": 13,
    "start_time": "2022-04-09T15:44:31.556Z"
   },
   {
    "duration": 24,
    "start_time": "2022-04-09T15:44:36.441Z"
   },
   {
    "duration": 58,
    "start_time": "2022-04-09T15:44:42.258Z"
   },
   {
    "duration": 32,
    "start_time": "2022-04-09T15:44:44.326Z"
   },
   {
    "duration": 28,
    "start_time": "2022-04-09T15:44:48.168Z"
   },
   {
    "duration": 26,
    "start_time": "2022-04-09T15:45:07.198Z"
   },
   {
    "duration": 34,
    "start_time": "2022-04-09T15:47:16.911Z"
   },
   {
    "duration": 16,
    "start_time": "2022-04-09T15:48:10.141Z"
   },
   {
    "duration": 18,
    "start_time": "2022-04-09T15:48:30.056Z"
   },
   {
    "duration": 16,
    "start_time": "2022-04-09T15:48:35.918Z"
   },
   {
    "duration": 20,
    "start_time": "2022-04-09T15:48:50.389Z"
   },
   {
    "duration": 21,
    "start_time": "2022-04-09T15:49:04.180Z"
   },
   {
    "duration": 21,
    "start_time": "2022-04-09T15:49:39.556Z"
   },
   {
    "duration": 19,
    "start_time": "2022-04-09T15:49:48.445Z"
   },
   {
    "duration": 15,
    "start_time": "2022-04-09T15:49:53.615Z"
   },
   {
    "duration": 19,
    "start_time": "2022-04-09T15:50:00.779Z"
   },
   {
    "duration": 20,
    "start_time": "2022-04-09T15:50:48.932Z"
   },
   {
    "duration": 19,
    "start_time": "2022-04-09T15:55:30.610Z"
   },
   {
    "duration": 79,
    "start_time": "2022-04-09T18:34:59.246Z"
   },
   {
    "duration": 44,
    "start_time": "2022-04-09T18:35:04.419Z"
   },
   {
    "duration": 24,
    "start_time": "2022-04-09T18:35:09.025Z"
   },
   {
    "duration": 35,
    "start_time": "2022-04-09T18:35:14.002Z"
   },
   {
    "duration": 13,
    "start_time": "2022-04-09T18:35:18.564Z"
   },
   {
    "duration": 8,
    "start_time": "2022-04-09T18:35:19.623Z"
   },
   {
    "duration": 42,
    "start_time": "2022-04-09T18:35:21.725Z"
   },
   {
    "duration": 15,
    "start_time": "2022-04-09T18:35:25.443Z"
   },
   {
    "duration": 13,
    "start_time": "2022-04-09T18:35:26.083Z"
   },
   {
    "duration": 23,
    "start_time": "2022-04-09T18:35:29.383Z"
   },
   {
    "duration": 57,
    "start_time": "2022-04-09T18:35:34.991Z"
   },
   {
    "duration": 31,
    "start_time": "2022-04-09T18:35:35.897Z"
   },
   {
    "duration": 35,
    "start_time": "2022-04-09T18:35:37.014Z"
   },
   {
    "duration": 31,
    "start_time": "2022-04-09T18:35:41.892Z"
   },
   {
    "duration": 8,
    "start_time": "2022-04-09T18:35:45.528Z"
   },
   {
    "duration": 8,
    "start_time": "2022-04-09T18:36:06.755Z"
   },
   {
    "duration": 19,
    "start_time": "2022-04-09T18:36:23.569Z"
   },
   {
    "duration": 9,
    "start_time": "2022-04-09T18:45:10.325Z"
   },
   {
    "duration": 15,
    "start_time": "2022-04-09T18:45:23.784Z"
   },
   {
    "duration": 24,
    "start_time": "2022-04-09T18:48:27.809Z"
   },
   {
    "duration": 32,
    "start_time": "2022-04-09T18:51:00.550Z"
   },
   {
    "duration": 22,
    "start_time": "2022-04-09T18:52:20.738Z"
   },
   {
    "duration": 25,
    "start_time": "2022-04-09T19:11:13.706Z"
   },
   {
    "duration": 31,
    "start_time": "2022-04-09T19:12:05.005Z"
   },
   {
    "duration": 20,
    "start_time": "2022-04-09T19:16:13.954Z"
   },
   {
    "duration": 17,
    "start_time": "2022-04-09T19:16:36.041Z"
   },
   {
    "duration": 202,
    "start_time": "2022-04-09T19:17:36.250Z"
   },
   {
    "duration": 211,
    "start_time": "2022-04-09T19:26:30.220Z"
   },
   {
    "duration": 55,
    "start_time": "2022-04-09T19:30:23.860Z"
   },
   {
    "duration": 35,
    "start_time": "2022-04-09T19:31:54.093Z"
   },
   {
    "duration": 43,
    "start_time": "2022-04-09T19:45:36.283Z"
   },
   {
    "duration": 46,
    "start_time": "2022-04-09T19:45:50.755Z"
   },
   {
    "duration": 42,
    "start_time": "2022-04-09T20:08:09.156Z"
   },
   {
    "duration": 79,
    "start_time": "2022-04-09T20:08:29.647Z"
   },
   {
    "duration": 41,
    "start_time": "2022-04-09T20:08:39.858Z"
   },
   {
    "duration": 48,
    "start_time": "2022-04-09T20:09:44.832Z"
   },
   {
    "duration": 45,
    "start_time": "2022-04-09T20:10:25.297Z"
   },
   {
    "duration": 39,
    "start_time": "2022-04-09T20:11:00.100Z"
   },
   {
    "duration": 29,
    "start_time": "2022-04-09T21:30:27.673Z"
   },
   {
    "duration": 29,
    "start_time": "2022-04-09T22:01:37.121Z"
   },
   {
    "duration": 30,
    "start_time": "2022-04-09T22:02:23.380Z"
   },
   {
    "duration": 19,
    "start_time": "2022-04-09T22:02:50.642Z"
   },
   {
    "duration": 29,
    "start_time": "2022-04-09T22:02:55.857Z"
   },
   {
    "duration": 3,
    "start_time": "2022-04-09T22:05:40.223Z"
   },
   {
    "duration": 3,
    "start_time": "2022-04-09T22:05:42.422Z"
   },
   {
    "duration": 3,
    "start_time": "2022-04-09T22:06:06.923Z"
   },
   {
    "duration": 3,
    "start_time": "2022-04-09T22:06:24.383Z"
   },
   {
    "duration": 4,
    "start_time": "2022-04-09T22:21:02.773Z"
   },
   {
    "duration": 15,
    "start_time": "2022-04-09T22:28:20.228Z"
   },
   {
    "duration": 16,
    "start_time": "2022-04-09T22:29:05.480Z"
   },
   {
    "duration": 481,
    "start_time": "2022-04-10T15:53:40.147Z"
   },
   {
    "duration": 20,
    "start_time": "2022-04-10T15:53:47.296Z"
   },
   {
    "duration": 24,
    "start_time": "2022-04-10T15:53:55.812Z"
   },
   {
    "duration": 20,
    "start_time": "2022-04-10T15:54:00.194Z"
   },
   {
    "duration": 19,
    "start_time": "2022-04-10T15:54:14.848Z"
   },
   {
    "duration": 7,
    "start_time": "2022-04-10T15:54:21.453Z"
   },
   {
    "duration": 10,
    "start_time": "2022-04-10T15:54:29.462Z"
   },
   {
    "duration": 15,
    "start_time": "2022-04-10T15:54:43.184Z"
   },
   {
    "duration": 17,
    "start_time": "2022-04-10T15:54:48.500Z"
   },
   {
    "duration": 31,
    "start_time": "2022-04-10T15:54:55.528Z"
   },
   {
    "duration": 20,
    "start_time": "2022-04-10T15:55:03.039Z"
   },
   {
    "duration": 15,
    "start_time": "2022-04-10T15:55:11.320Z"
   },
   {
    "duration": 11,
    "start_time": "2022-04-10T15:55:22.803Z"
   },
   {
    "duration": 22,
    "start_time": "2022-04-10T15:55:28.589Z"
   },
   {
    "duration": 15,
    "start_time": "2022-04-10T15:55:37.209Z"
   },
   {
    "duration": 20,
    "start_time": "2022-04-10T15:55:41.547Z"
   },
   {
    "duration": 18,
    "start_time": "2022-04-10T15:55:48.624Z"
   },
   {
    "duration": 19,
    "start_time": "2022-04-10T15:56:04.720Z"
   },
   {
    "duration": 3008,
    "start_time": "2022-04-10T16:36:10.381Z"
   },
   {
    "duration": 83,
    "start_time": "2022-04-10T16:36:31.998Z"
   },
   {
    "duration": 20,
    "start_time": "2022-04-10T16:36:56.224Z"
   },
   {
    "duration": 21,
    "start_time": "2022-04-10T16:37:25.041Z"
   },
   {
    "duration": 24,
    "start_time": "2022-04-10T16:37:37.329Z"
   },
   {
    "duration": 22,
    "start_time": "2022-04-10T16:38:18.525Z"
   },
   {
    "duration": 29,
    "start_time": "2022-04-10T16:38:39.860Z"
   },
   {
    "duration": 39,
    "start_time": "2022-04-10T16:38:54.037Z"
   },
   {
    "duration": 38,
    "start_time": "2022-04-10T16:41:19.859Z"
   },
   {
    "duration": 36,
    "start_time": "2022-04-10T16:42:13.701Z"
   },
   {
    "duration": 35,
    "start_time": "2022-04-10T16:42:31.437Z"
   },
   {
    "duration": 34,
    "start_time": "2022-04-10T16:45:25.509Z"
   },
   {
    "duration": 30,
    "start_time": "2022-04-10T16:45:51.459Z"
   },
   {
    "duration": 28,
    "start_time": "2022-04-10T16:46:04.164Z"
   },
   {
    "duration": 15,
    "start_time": "2022-04-10T17:15:31.343Z"
   },
   {
    "duration": 13,
    "start_time": "2022-04-10T17:15:52.863Z"
   },
   {
    "duration": 13,
    "start_time": "2022-04-10T17:16:24.257Z"
   },
   {
    "duration": 414,
    "start_time": "2022-04-22T19:08:07.626Z"
   },
   {
    "duration": 186,
    "start_time": "2022-04-22T19:08:36.500Z"
   },
   {
    "duration": 112,
    "start_time": "2022-04-22T19:08:40.359Z"
   },
   {
    "duration": 12,
    "start_time": "2022-04-22T19:50:33.728Z"
   },
   {
    "duration": 12,
    "start_time": "2022-04-22T19:50:45.146Z"
   },
   {
    "duration": 12,
    "start_time": "2022-04-22T19:51:49.081Z"
   },
   {
    "duration": 13,
    "start_time": "2022-04-22T19:51:59.252Z"
   },
   {
    "duration": 17,
    "start_time": "2022-04-22T19:52:24.803Z"
   },
   {
    "duration": 21,
    "start_time": "2022-04-22T20:16:13.216Z"
   },
   {
    "duration": 60,
    "start_time": "2022-04-22T20:52:52.676Z"
   },
   {
    "duration": 18,
    "start_time": "2022-04-22T20:53:20.361Z"
   },
   {
    "duration": 801,
    "start_time": "2022-04-22T20:53:34.308Z"
   },
   {
    "duration": 12,
    "start_time": "2022-04-22T21:02:15.744Z"
   },
   {
    "duration": 6,
    "start_time": "2022-04-22T21:02:38.780Z"
   },
   {
    "duration": 4,
    "start_time": "2022-04-22T21:03:09.477Z"
   },
   {
    "duration": 11,
    "start_time": "2022-04-22T21:04:49.850Z"
   },
   {
    "duration": 5,
    "start_time": "2022-04-22T21:23:30.852Z"
   },
   {
    "duration": 16,
    "start_time": "2022-04-22T21:25:08.970Z"
   },
   {
    "duration": 16,
    "start_time": "2022-04-22T21:27:00.572Z"
   },
   {
    "duration": 21,
    "start_time": "2022-04-22T21:27:28.450Z"
   },
   {
    "duration": 16,
    "start_time": "2022-04-22T21:28:00.641Z"
   },
   {
    "duration": 12,
    "start_time": "2022-04-22T21:28:45.808Z"
   },
   {
    "duration": 12,
    "start_time": "2022-04-22T21:29:47.094Z"
   },
   {
    "duration": 13,
    "start_time": "2022-04-22T21:29:53.189Z"
   },
   {
    "duration": 4,
    "start_time": "2022-04-22T21:31:36.329Z"
   },
   {
    "duration": 14,
    "start_time": "2022-04-22T21:31:41.145Z"
   },
   {
    "duration": 13,
    "start_time": "2022-04-22T21:31:59.474Z"
   },
   {
    "duration": 19,
    "start_time": "2022-04-22T21:32:46.229Z"
   },
   {
    "duration": 13,
    "start_time": "2022-04-22T21:33:05.638Z"
   },
   {
    "duration": 7,
    "start_time": "2022-04-22T21:33:33.447Z"
   },
   {
    "duration": 20,
    "start_time": "2022-04-22T21:35:17.613Z"
   },
   {
    "duration": 5,
    "start_time": "2022-04-22T21:35:26.747Z"
   },
   {
    "duration": 6,
    "start_time": "2022-04-22T21:35:48.290Z"
   },
   {
    "duration": 4,
    "start_time": "2022-04-22T21:35:54.131Z"
   },
   {
    "duration": 17,
    "start_time": "2022-04-22T21:35:55.381Z"
   },
   {
    "duration": 19,
    "start_time": "2022-04-22T21:36:26.653Z"
   },
   {
    "duration": 13,
    "start_time": "2022-04-22T22:31:47.456Z"
   },
   {
    "duration": 2,
    "start_time": "2022-04-22T22:32:14.609Z"
   },
   {
    "duration": 104,
    "start_time": "2022-04-22T22:32:16.563Z"
   },
   {
    "duration": 21,
    "start_time": "2022-04-22T22:32:24.215Z"
   },
   {
    "duration": 15,
    "start_time": "2022-04-22T22:32:28.488Z"
   },
   {
    "duration": 15,
    "start_time": "2022-04-22T22:32:32.274Z"
   },
   {
    "duration": 10,
    "start_time": "2022-04-22T22:32:35.037Z"
   },
   {
    "duration": 14,
    "start_time": "2022-04-22T22:32:36.838Z"
   },
   {
    "duration": 12,
    "start_time": "2022-04-22T22:33:24.986Z"
   },
   {
    "duration": 383,
    "start_time": "2022-04-23T20:54:18.042Z"
   },
   {
    "duration": 96,
    "start_time": "2022-04-23T20:54:18.427Z"
   },
   {
    "duration": 13,
    "start_time": "2022-04-23T20:54:18.525Z"
   },
   {
    "duration": 19,
    "start_time": "2022-04-23T20:54:18.541Z"
   },
   {
    "duration": 39,
    "start_time": "2022-04-23T20:54:18.562Z"
   },
   {
    "duration": 15,
    "start_time": "2022-04-23T20:54:18.602Z"
   },
   {
    "duration": 12,
    "start_time": "2022-04-23T20:54:18.619Z"
   },
   {
    "duration": 18,
    "start_time": "2022-04-23T20:54:18.633Z"
   },
   {
    "duration": 5,
    "start_time": "2022-04-23T20:54:18.653Z"
   },
   {
    "duration": 52,
    "start_time": "2022-04-23T20:54:18.661Z"
   },
   {
    "duration": 32,
    "start_time": "2022-04-23T20:54:18.715Z"
   },
   {
    "duration": 20,
    "start_time": "2022-04-23T20:54:18.749Z"
   },
   {
    "duration": 38,
    "start_time": "2022-04-23T20:54:18.771Z"
   },
   {
    "duration": 17,
    "start_time": "2022-04-23T20:54:18.811Z"
   },
   {
    "duration": 38,
    "start_time": "2022-04-23T20:54:18.831Z"
   },
   {
    "duration": 36,
    "start_time": "2022-04-23T20:54:18.871Z"
   },
   {
    "duration": 30,
    "start_time": "2022-04-23T20:54:18.908Z"
   },
   {
    "duration": 52,
    "start_time": "2022-04-23T20:54:18.940Z"
   },
   {
    "duration": 23,
    "start_time": "2022-04-23T20:54:18.995Z"
   },
   {
    "duration": 30,
    "start_time": "2022-04-23T20:54:19.020Z"
   },
   {
    "duration": 41,
    "start_time": "2022-04-23T20:54:19.053Z"
   },
   {
    "duration": 28,
    "start_time": "2022-04-23T20:54:19.096Z"
   },
   {
    "duration": 408,
    "start_time": "2023-02-25T16:03:50.417Z"
   },
   {
    "duration": 167,
    "start_time": "2023-02-25T16:03:50.827Z"
   },
   {
    "duration": 13,
    "start_time": "2023-02-25T16:03:50.996Z"
   },
   {
    "duration": 32,
    "start_time": "2023-02-25T16:03:51.012Z"
   },
   {
    "duration": 22,
    "start_time": "2023-02-25T16:03:51.046Z"
   },
   {
    "duration": 11,
    "start_time": "2023-02-25T16:03:51.070Z"
   },
   {
    "duration": 11,
    "start_time": "2023-02-25T16:03:51.102Z"
   },
   {
    "duration": 21,
    "start_time": "2023-02-25T16:03:51.115Z"
   },
   {
    "duration": 8,
    "start_time": "2023-02-25T16:03:51.138Z"
   },
   {
    "duration": 20,
    "start_time": "2023-02-25T16:03:51.149Z"
   },
   {
    "duration": 65,
    "start_time": "2023-02-25T16:03:51.170Z"
   },
   {
    "duration": 30,
    "start_time": "2023-02-25T16:03:51.237Z"
   },
   {
    "duration": 38,
    "start_time": "2023-02-25T16:03:51.269Z"
   },
   {
    "duration": 10,
    "start_time": "2023-02-25T16:03:51.309Z"
   },
   {
    "duration": 22,
    "start_time": "2023-02-25T16:03:51.320Z"
   },
   {
    "duration": 15,
    "start_time": "2023-02-25T16:03:51.344Z"
   },
   {
    "duration": 56,
    "start_time": "2023-02-25T16:03:51.361Z"
   },
   {
    "duration": 20,
    "start_time": "2023-02-25T16:03:51.419Z"
   },
   {
    "duration": 19,
    "start_time": "2023-02-25T16:03:51.441Z"
   },
   {
    "duration": 66,
    "start_time": "2023-02-25T16:03:51.462Z"
   },
   {
    "duration": 13,
    "start_time": "2023-02-25T16:03:51.529Z"
   },
   {
    "duration": 29,
    "start_time": "2023-02-25T16:03:51.544Z"
   }
  ],
  "kernelspec": {
   "display_name": "Python 3 (ipykernel)",
   "language": "python",
   "name": "python3"
  },
  "language_info": {
   "codemirror_mode": {
    "name": "ipython",
    "version": 3
   },
   "file_extension": ".py",
   "mimetype": "text/x-python",
   "name": "python",
   "nbconvert_exporter": "python",
   "pygments_lexer": "ipython3",
   "version": "3.9.5"
  },
  "toc": {
   "base_numbering": 1,
   "nav_menu": {},
   "number_sections": true,
   "sideBar": true,
   "skip_h1_title": true,
   "title_cell": "Table of Contents",
   "title_sidebar": "Contents",
   "toc_cell": false,
   "toc_position": {},
   "toc_section_display": true,
   "toc_window_display": false
  }
 },
 "nbformat": 4,
 "nbformat_minor": 5
}
