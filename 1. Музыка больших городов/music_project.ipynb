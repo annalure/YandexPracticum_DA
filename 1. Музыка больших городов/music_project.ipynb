{
 "cells": [
  {
   "cell_type": "markdown",
   "metadata": {
    "id": "E0vqbgi9ay0H"
   },
   "source": [
    "# Яндекс.Музыка"
   ]
  },
  {
   "cell_type": "markdown",
   "metadata": {
    "id": "VUC88oWjTJw2"
   },
   "source": [
    "Сравнение Москвы и Петербурга окружено мифами. Например:\n",
    " * Москва — мегаполис, подчинённый жёсткому ритму рабочей недели;\n",
    " * Петербург — культурная столица, со своими вкусами.\n",
    "\n",
    "На данных Яндекс.Музыки вы сравните поведение пользователей двух столиц.\n",
    "\n",
    "**Цель исследования** — проверьте три гипотезы:\n",
    "1. Активность пользователей зависит от дня недели. Причём в Москве и Петербурге это проявляется по-разному.\n",
    "2. В понедельник утром в Москве преобладают одни жанры, а в Петербурге — другие. Так же и вечером пятницы преобладают разные жанры — в зависимости от города. \n",
    "3. Москва и Петербург предпочитают разные жанры музыки. В Москве чаще слушают поп-музыку, в Петербурге — русский рэп.\n",
    "\n",
    "**Ход исследования**\n",
    "\n",
    "Данные о поведении пользователей вы получите из файла `yandex_music_project.csv`. О качестве данных ничего не известно. Поэтому перед проверкой гипотез понадобится обзор данных. \n",
    "\n",
    "Вы проверите данные на ошибки и оцените их влияние на исследование. Затем, на этапе предобработки вы поищете возможность исправить самые критичные ошибки данных.\n",
    " \n",
    "Таким образом, исследование пройдёт в три этапа:\n",
    " 1. Обзор данных.\n",
    " 2. Предобработка данных.\n",
    " 3. Проверка гипотез.\n",
    "\n"
   ]
  },
  {
   "cell_type": "markdown",
   "metadata": {
    "id": "Ml1hmfXC_Zcs"
   },
   "source": [
    "## Обзор данных\n",
    "\n",
    "\n",
    "\n",
    "\n"
   ]
  },
  {
   "cell_type": "code",
   "execution_count": 1,
   "metadata": {
    "id": "AXN7PHPN_Zcs"
   },
   "outputs": [],
   "source": [
    "# импорт библиотеки pandas\n",
    "import pandas as pd"
   ]
  },
  {
   "cell_type": "code",
   "execution_count": 2,
   "metadata": {
    "id": "fFVu7vqh_Zct"
   },
   "outputs": [],
   "source": [
    "# чтение файла с данными и сохранение в df\n",
    "df = pd.read_csv('/datasets/yandex_music_project.csv')"
   ]
  },
  {
   "cell_type": "code",
   "execution_count": 3,
   "metadata": {
    "id": "oWTVX3gW_Zct"
   },
   "outputs": [
    {
     "data": {
      "text/html": [
       "<div>\n",
       "<style scoped>\n",
       "    .dataframe tbody tr th:only-of-type {\n",
       "        vertical-align: middle;\n",
       "    }\n",
       "\n",
       "    .dataframe tbody tr th {\n",
       "        vertical-align: top;\n",
       "    }\n",
       "\n",
       "    .dataframe thead th {\n",
       "        text-align: right;\n",
       "    }\n",
       "</style>\n",
       "<table border=\"1\" class=\"dataframe\">\n",
       "  <thead>\n",
       "    <tr style=\"text-align: right;\">\n",
       "      <th></th>\n",
       "      <th>userID</th>\n",
       "      <th>Track</th>\n",
       "      <th>artist</th>\n",
       "      <th>genre</th>\n",
       "      <th>City</th>\n",
       "      <th>time</th>\n",
       "      <th>Day</th>\n",
       "    </tr>\n",
       "  </thead>\n",
       "  <tbody>\n",
       "    <tr>\n",
       "      <th>0</th>\n",
       "      <td>FFB692EC</td>\n",
       "      <td>Kamigata To Boots</td>\n",
       "      <td>The Mass Missile</td>\n",
       "      <td>rock</td>\n",
       "      <td>Saint-Petersburg</td>\n",
       "      <td>20:28:33</td>\n",
       "      <td>Wednesday</td>\n",
       "    </tr>\n",
       "    <tr>\n",
       "      <th>1</th>\n",
       "      <td>55204538</td>\n",
       "      <td>Delayed Because of Accident</td>\n",
       "      <td>Andreas Rönnberg</td>\n",
       "      <td>rock</td>\n",
       "      <td>Moscow</td>\n",
       "      <td>14:07:09</td>\n",
       "      <td>Friday</td>\n",
       "    </tr>\n",
       "    <tr>\n",
       "      <th>2</th>\n",
       "      <td>20EC38</td>\n",
       "      <td>Funiculì funiculà</td>\n",
       "      <td>Mario Lanza</td>\n",
       "      <td>pop</td>\n",
       "      <td>Saint-Petersburg</td>\n",
       "      <td>20:58:07</td>\n",
       "      <td>Wednesday</td>\n",
       "    </tr>\n",
       "    <tr>\n",
       "      <th>3</th>\n",
       "      <td>A3DD03C9</td>\n",
       "      <td>Dragons in the Sunset</td>\n",
       "      <td>Fire + Ice</td>\n",
       "      <td>folk</td>\n",
       "      <td>Saint-Petersburg</td>\n",
       "      <td>08:37:09</td>\n",
       "      <td>Monday</td>\n",
       "    </tr>\n",
       "    <tr>\n",
       "      <th>4</th>\n",
       "      <td>E2DC1FAE</td>\n",
       "      <td>Soul People</td>\n",
       "      <td>Space Echo</td>\n",
       "      <td>dance</td>\n",
       "      <td>Moscow</td>\n",
       "      <td>08:34:34</td>\n",
       "      <td>Monday</td>\n",
       "    </tr>\n",
       "    <tr>\n",
       "      <th>5</th>\n",
       "      <td>842029A1</td>\n",
       "      <td>Преданная</td>\n",
       "      <td>IMPERVTOR</td>\n",
       "      <td>rusrap</td>\n",
       "      <td>Saint-Petersburg</td>\n",
       "      <td>13:09:41</td>\n",
       "      <td>Friday</td>\n",
       "    </tr>\n",
       "    <tr>\n",
       "      <th>6</th>\n",
       "      <td>4CB90AA5</td>\n",
       "      <td>True</td>\n",
       "      <td>Roman Messer</td>\n",
       "      <td>dance</td>\n",
       "      <td>Moscow</td>\n",
       "      <td>13:00:07</td>\n",
       "      <td>Wednesday</td>\n",
       "    </tr>\n",
       "    <tr>\n",
       "      <th>7</th>\n",
       "      <td>F03E1C1F</td>\n",
       "      <td>Feeling This Way</td>\n",
       "      <td>Polina Griffith</td>\n",
       "      <td>dance</td>\n",
       "      <td>Moscow</td>\n",
       "      <td>20:47:49</td>\n",
       "      <td>Wednesday</td>\n",
       "    </tr>\n",
       "    <tr>\n",
       "      <th>8</th>\n",
       "      <td>8FA1D3BE</td>\n",
       "      <td>И вновь продолжается бой</td>\n",
       "      <td>NaN</td>\n",
       "      <td>ruspop</td>\n",
       "      <td>Moscow</td>\n",
       "      <td>09:17:40</td>\n",
       "      <td>Friday</td>\n",
       "    </tr>\n",
       "    <tr>\n",
       "      <th>9</th>\n",
       "      <td>E772D5C0</td>\n",
       "      <td>Pessimist</td>\n",
       "      <td>NaN</td>\n",
       "      <td>dance</td>\n",
       "      <td>Saint-Petersburg</td>\n",
       "      <td>21:20:49</td>\n",
       "      <td>Wednesday</td>\n",
       "    </tr>\n",
       "  </tbody>\n",
       "</table>\n",
       "</div>"
      ],
      "text/plain": [
       "     userID                        Track            artist   genre  \\\n",
       "0  FFB692EC            Kamigata To Boots  The Mass Missile    rock   \n",
       "1  55204538  Delayed Because of Accident  Andreas Rönnberg    rock   \n",
       "2    20EC38            Funiculì funiculà       Mario Lanza     pop   \n",
       "3  A3DD03C9        Dragons in the Sunset        Fire + Ice    folk   \n",
       "4  E2DC1FAE                  Soul People        Space Echo   dance   \n",
       "5  842029A1                    Преданная         IMPERVTOR  rusrap   \n",
       "6  4CB90AA5                         True      Roman Messer   dance   \n",
       "7  F03E1C1F             Feeling This Way   Polina Griffith   dance   \n",
       "8  8FA1D3BE     И вновь продолжается бой               NaN  ruspop   \n",
       "9  E772D5C0                    Pessimist               NaN   dance   \n",
       "\n",
       "             City        time        Day  \n",
       "0  Saint-Petersburg  20:28:33  Wednesday  \n",
       "1            Moscow  14:07:09     Friday  \n",
       "2  Saint-Petersburg  20:58:07  Wednesday  \n",
       "3  Saint-Petersburg  08:37:09     Monday  \n",
       "4            Moscow  08:34:34     Monday  \n",
       "5  Saint-Petersburg  13:09:41     Friday  \n",
       "6            Moscow  13:00:07  Wednesday  \n",
       "7            Moscow  20:47:49  Wednesday  \n",
       "8            Moscow  09:17:40     Friday  \n",
       "9  Saint-Petersburg  21:20:49  Wednesday  "
      ]
     },
     "execution_count": 3,
     "metadata": {},
     "output_type": "execute_result"
    }
   ],
   "source": [
    "# получение первых 10 строк таблицы df\n",
    "df.head(10)"
   ]
  },
  {
   "cell_type": "code",
   "execution_count": 4,
   "metadata": {
    "id": "DSf2kIb-_Zct"
   },
   "outputs": [
    {
     "name": "stdout",
     "output_type": "stream",
     "text": [
      "<class 'pandas.core.frame.DataFrame'>\n",
      "RangeIndex: 65079 entries, 0 to 65078\n",
      "Data columns (total 7 columns):\n",
      " #   Column    Non-Null Count  Dtype \n",
      "---  ------    --------------  ----- \n",
      " 0     userID  65079 non-null  object\n",
      " 1   Track     63848 non-null  object\n",
      " 2   artist    57876 non-null  object\n",
      " 3   genre     63881 non-null  object\n",
      " 4     City    65079 non-null  object\n",
      " 5   time      65079 non-null  object\n",
      " 6   Day       65079 non-null  object\n",
      "dtypes: object(7)\n",
      "memory usage: 3.5+ MB\n"
     ]
    }
   ],
   "source": [
    "# получение общей информации о данных в таблице df\n",
    "df.info()"
   ]
  },
  {
   "cell_type": "markdown",
   "metadata": {
    "id": "TaQ2Iwbr_Zct"
   },
   "source": [
    "Итак, в таблице семь столбцов. Тип данных во всех столбцах — `object`.\n",
    "\n",
    "Согласно документации к данным:\n",
    "* `userID` — идентификатор пользователя;\n",
    "* `Track` — название трека;  \n",
    "* `artist` — имя исполнителя;\n",
    "* `genre` — название жанра;\n",
    "* `City` — город пользователя;\n",
    "* `time` — время начала прослушивания;\n",
    "* `Day` — день недели.\n",
    "\n",
    "В названиях колонок видны три нарушения стиля:\n",
    "1. Строчные буквы сочетаются с прописными.\n",
    "2. Встречаются пробелы.\n",
    "3. Слова в названии не разделены нижним подчеркиванием, нарушение змеиного регистра\n",
    "\n",
    "\n",
    "\n",
    "Количество значений в столбцах различается. Значит, в данных есть пропущенные значения.\n"
   ]
  },
  {
   "cell_type": "markdown",
   "metadata": {
    "id": "MCB6-dXG_Zct"
   },
   "source": [
    "**Выводы**\n",
    "\n",
    "В каждой строке таблицы — данные о прослушанном треке. Часть колонок описывает саму композицию: название, исполнителя и жанр. Остальные данные рассказывают о пользователе: из какого он города, когда он слушал музыку. \n",
    "\n",
    "Предварительно можно утверждать, что, данных достаточно для проверки гипотез. Но встречаются пропуски в данных, а в названиях колонок — расхождения с хорошим стилем.\n",
    "\n",
    "Чтобы двигаться дальше, нужно устранить проблемы в данных."
   ]
  },
  {
   "cell_type": "markdown",
   "metadata": {
    "id": "SjYF6Ub9_Zct"
   },
   "source": [
    "## Предобработка данных\n",
    "Исправим стиль в заголовках столбцов, исключим пропуски. Затем проверим данные на дубликаты."
   ]
  },
  {
   "cell_type": "markdown",
   "metadata": {
    "id": "dIaKXr29_Zct"
   },
   "source": [
    "### Стиль заголовков\n",
    "Выведите на экран названия столбцов:"
   ]
  },
  {
   "cell_type": "code",
   "execution_count": 5,
   "metadata": {
    "id": "oKOTdF_Q_Zct",
    "scrolled": true
   },
   "outputs": [
    {
     "data": {
      "text/plain": [
       "['  userID', 'Track', 'artist', 'genre', '  City  ', 'time', 'Day']"
      ]
     },
     "execution_count": 5,
     "metadata": {},
     "output_type": "execute_result"
    }
   ],
   "source": [
    "# перечень названий столбцов таблицы df\n",
    "list(df)"
   ]
  },
  {
   "cell_type": "markdown",
   "metadata": {
    "id": "FPZA3ki8xe7T"
   },
   "source": []
  },
  {
   "cell_type": "markdown",
   "metadata": {
    "id": "zj5534cv_Zct"
   },
   "source": [
    "Приведем названия в соответствие с хорошим стилем:\n",
    "* несколько слов в названии запишем в «змеином_регистре»,\n",
    "* все символы сделаем строчными,\n",
    "* устраним пробелы.\n",
    "\n",
    "Для этого переименуем колонки так:\n",
    "* `'  userID'` → `'user_id'`;\n",
    "* `'Track'` → `'track'`;\n",
    "* `'  City  '` → `'city'`;\n",
    "* `'Day'` → `'day'`."
   ]
  },
  {
   "cell_type": "code",
   "execution_count": 6,
   "metadata": {
    "id": "ISlFqs5y_Zct"
   },
   "outputs": [],
   "source": [
    "# переименование столбцов\n",
    "df = df.rename (columns = {'  userID':'user_id','Track':'track','  City  ':'city','Day':'day'})"
   ]
  },
  {
   "cell_type": "markdown",
   "metadata": {
    "id": "1dqbh00J_Zct"
   },
   "source": [
    "Проверим результат. Для этого ещё раз выведем на экран названия столбцов:"
   ]
  },
  {
   "cell_type": "code",
   "execution_count": 7,
   "metadata": {
    "id": "d4NOAmTW_Zct"
   },
   "outputs": [
    {
     "data": {
      "text/plain": [
       "['user_id', 'track', 'artist', 'genre', 'city', 'time', 'day']"
      ]
     },
     "execution_count": 7,
     "metadata": {},
     "output_type": "execute_result"
    }
   ],
   "source": [
    "# проверка результатов - перечень названий столбцов\n",
    "list(df)"
   ]
  },
  {
   "cell_type": "markdown",
   "metadata": {
    "id": "5ISfbcfY_Zct"
   },
   "source": [
    "### Пропуски значений\n",
    "Сначала посчитаем, сколько в таблице пропущенных значений. Для этого достаточно двух методов `pandas`:"
   ]
  },
  {
   "cell_type": "code",
   "execution_count": 8,
   "metadata": {
    "id": "RskX29qr_Zct",
    "scrolled": true
   },
   "outputs": [
    {
     "data": {
      "text/plain": [
       "user_id       0\n",
       "track      1231\n",
       "artist     7203\n",
       "genre      1198\n",
       "city          0\n",
       "time          0\n",
       "day           0\n",
       "dtype: int64"
      ]
     },
     "execution_count": 8,
     "metadata": {},
     "output_type": "execute_result"
    }
   ],
   "source": [
    "df.isna().sum()# подсчёт пропусков"
   ]
  },
  {
   "cell_type": "markdown",
   "metadata": {
    "id": "qubhgnlO_Zct"
   },
   "source": [
    "Не все пропущенные значения влияют на исследование. Так в `track` и `artist` пропуски не важны для вашей работы. Достаточно заменить их явными обозначениями.\n",
    "\n",
    "Но пропуски в `genre` могут помешать сравнению музыкальных вкусов в Москве и Санкт-Петербурге. На практике было бы правильно установить причину пропусков и восстановить данные. Такой возможности нет в учебном проекте. Придётся:\n",
    "* заполнить и эти пропуски явными обозначениями,\n",
    "* оценить, насколько они повредят расчётам. "
   ]
  },
  {
   "cell_type": "markdown",
   "metadata": {
    "id": "fSv2laPA_Zct"
   },
   "source": [
    "Заменим пропущенные значения в столбцах `track`, `artist` и `genre` на строку `'unknown'`. Для этого создадим список `columns_to_replace`, переберем его элементы циклом `for` и для каждого столбца выполним замену пропущенных значений:"
   ]
  },
  {
   "cell_type": "code",
   "execution_count": 9,
   "metadata": {
    "id": "KplB5qWs_Zct"
   },
   "outputs": [],
   "source": [
    "columns_to_replace = ['track','artist','genre']\n",
    "for column in columns_to_replace:\n",
    "    df[column] = df[column].fillna('unknown')# перебор названий столбцов в цикле и замена пропущенных значений на 'unknown'"
   ]
  },
  {
   "cell_type": "markdown",
   "metadata": {
    "id": "Ilsm-MZo_Zct"
   },
   "source": [
    "Убедитесь, что в таблице не осталось пропусков. Для этого ещё раз посчитайте пропущенные значения."
   ]
  },
  {
   "cell_type": "code",
   "execution_count": 10,
   "metadata": {
    "id": "Tq4nYRX4_Zct",
    "scrolled": true
   },
   "outputs": [
    {
     "data": {
      "text/plain": [
       "user_id    0\n",
       "track      0\n",
       "artist     0\n",
       "genre      0\n",
       "city       0\n",
       "time       0\n",
       "day        0\n",
       "dtype: int64"
      ]
     },
     "execution_count": 10,
     "metadata": {},
     "output_type": "execute_result"
    }
   ],
   "source": [
    "df.isna().sum()# подсчёт пропусков"
   ]
  },
  {
   "cell_type": "markdown",
   "metadata": {
    "id": "BWKRtBJ3_Zct"
   },
   "source": [
    "### Дубликаты\n",
    "Посчитайте явные дубликаты в таблице одной командой:"
   ]
  },
  {
   "cell_type": "code",
   "execution_count": 11,
   "metadata": {
    "id": "36eES_S0_Zct",
    "scrolled": true
   },
   "outputs": [
    {
     "data": {
      "text/plain": [
       "3826"
      ]
     },
     "execution_count": 11,
     "metadata": {},
     "output_type": "execute_result"
    }
   ],
   "source": [
    "df.duplicated().sum()# подсчёт явных дубликатов"
   ]
  },
  {
   "cell_type": "markdown",
   "metadata": {
    "id": "Ot25h6XR_Zct"
   },
   "source": [
    "Вызовем специальный метод `pandas`, чтобы удалить явные дубликаты:"
   ]
  },
  {
   "cell_type": "code",
   "execution_count": 12,
   "metadata": {
    "id": "exFHq6tt_Zct"
   },
   "outputs": [],
   "source": [
    "df = df.drop_duplicates().reset_index(drop=True)# удаление явных дубликатов (с удалением старых индексов и формированием новых)"
   ]
  },
  {
   "cell_type": "markdown",
   "metadata": {
    "id": "Im2YwBEG_Zct"
   },
   "source": [
    "Ещё раз посчитайте явные дубликаты в таблице — убедитесь, что полностью от них избавились:"
   ]
  },
  {
   "cell_type": "code",
   "execution_count": 13,
   "metadata": {
    "id": "-8PuNWQ0_Zct",
    "scrolled": true
   },
   "outputs": [
    {
     "data": {
      "text/plain": [
       "0"
      ]
     },
     "execution_count": 13,
     "metadata": {},
     "output_type": "execute_result"
    }
   ],
   "source": [
    "df.duplicated().sum()# проверка на отсутствие дубликатов"
   ]
  },
  {
   "cell_type": "markdown",
   "metadata": {
    "id": "QlFBsxAr_Zct"
   },
   "source": [
    "Теперь избавимся от неявных дубликатов в колонке `genre`. Например, название одного и того же жанра может быть записано немного по-разному. Такие ошибки тоже повлияют на результат исследования."
   ]
  },
  {
   "cell_type": "markdown",
   "metadata": {
    "id": "eSjWwsOh_Zct"
   },
   "source": [
    "Выведем на экран список уникальных названий жанров, отсортированный в алфавитном порядке. Для этого:\n",
    "* извлечем нужный столбец датафрейма, \n",
    "* применим к нему метод сортировки,\n",
    "* для отсортированного столбца вызовем метод, который вернёт уникальные значения из столбца."
   ]
  },
  {
   "cell_type": "code",
   "execution_count": 14,
   "metadata": {
    "id": "JIUcqzZN_Zct",
    "scrolled": true
   },
   "outputs": [
    {
     "data": {
      "text/plain": [
       "array(['acid', 'acoustic', 'action', 'adult', 'africa', 'afrikaans',\n",
       "       'alternative', 'alternativepunk', 'ambient', 'americana',\n",
       "       'animated', 'anime', 'arabesk', 'arabic', 'arena',\n",
       "       'argentinetango', 'art', 'audiobook', 'author', 'avantgarde',\n",
       "       'axé', 'baile', 'balkan', 'beats', 'bigroom', 'black', 'bluegrass',\n",
       "       'blues', 'bollywood', 'bossa', 'brazilian', 'breakbeat', 'breaks',\n",
       "       'broadway', 'cantautori', 'cantopop', 'canzone', 'caribbean',\n",
       "       'caucasian', 'celtic', 'chamber', 'chanson', 'children', 'chill',\n",
       "       'chinese', 'choral', 'christian', 'christmas', 'classical',\n",
       "       'classicmetal', 'club', 'colombian', 'comedy', 'conjazz',\n",
       "       'contemporary', 'country', 'cuban', 'dance', 'dancehall',\n",
       "       'dancepop', 'dark', 'death', 'deep', 'deutschrock', 'deutschspr',\n",
       "       'dirty', 'disco', 'dnb', 'documentary', 'downbeat', 'downtempo',\n",
       "       'drum', 'dub', 'dubstep', 'eastern', 'easy', 'electronic',\n",
       "       'electropop', 'emo', 'entehno', 'epicmetal', 'estrada', 'ethnic',\n",
       "       'eurofolk', 'european', 'experimental', 'extrememetal', 'fado',\n",
       "       'fairytail', 'film', 'fitness', 'flamenco', 'folk', 'folklore',\n",
       "       'folkmetal', 'folkrock', 'folktronica', 'forró', 'frankreich',\n",
       "       'französisch', 'french', 'funk', 'future', 'gangsta', 'garage',\n",
       "       'german', 'ghazal', 'gitarre', 'glitch', 'gospel', 'gothic',\n",
       "       'grime', 'grunge', 'gypsy', 'handsup', \"hard'n'heavy\", 'hardcore',\n",
       "       'hardstyle', 'hardtechno', 'hip', 'hip-hop', 'hiphop',\n",
       "       'historisch', 'holiday', 'hop', 'horror', 'house', 'hymn', 'idm',\n",
       "       'independent', 'indian', 'indie', 'indipop', 'industrial',\n",
       "       'inspirational', 'instrumental', 'international', 'irish', 'jam',\n",
       "       'japanese', 'jazz', 'jewish', 'jpop', 'jungle', 'k-pop',\n",
       "       'karadeniz', 'karaoke', 'kayokyoku', 'korean', 'laiko', 'latin',\n",
       "       'latino', 'leftfield', 'local', 'lounge', 'loungeelectronic',\n",
       "       'lovers', 'malaysian', 'mandopop', 'marschmusik', 'meditative',\n",
       "       'mediterranean', 'melodic', 'metal', 'metalcore', 'mexican',\n",
       "       'middle', 'minimal', 'miscellaneous', 'modern', 'mood', 'mpb',\n",
       "       'muslim', 'native', 'neoklassik', 'neue', 'new', 'newage',\n",
       "       'newwave', 'nu', 'nujazz', 'numetal', 'oceania', 'old', 'opera',\n",
       "       'orchestral', 'other', 'piano', 'podcasts', 'pop', 'popdance',\n",
       "       'popelectronic', 'popeurodance', 'poprussian', 'post',\n",
       "       'posthardcore', 'postrock', 'power', 'progmetal', 'progressive',\n",
       "       'psychedelic', 'punjabi', 'punk', 'quebecois', 'ragga', 'ram',\n",
       "       'rancheras', 'rap', 'rave', 'reggae', 'reggaeton', 'regional',\n",
       "       'relax', 'religious', 'retro', 'rhythm', 'rnb', 'rnr', 'rock',\n",
       "       'rockabilly', 'rockalternative', 'rockindie', 'rockother',\n",
       "       'romance', 'roots', 'ruspop', 'rusrap', 'rusrock', 'russian',\n",
       "       'salsa', 'samba', 'scenic', 'schlager', 'self', 'sertanejo',\n",
       "       'shanson', 'shoegazing', 'showtunes', 'singer', 'ska', 'skarock',\n",
       "       'slow', 'smooth', 'soft', 'soul', 'soulful', 'sound', 'soundtrack',\n",
       "       'southern', 'specialty', 'speech', 'spiritual', 'sport',\n",
       "       'stonerrock', 'surf', 'swing', 'synthpop', 'synthrock',\n",
       "       'sängerportrait', 'tango', 'tanzorchester', 'taraftar', 'tatar',\n",
       "       'tech', 'techno', 'teen', 'thrash', 'top', 'traditional',\n",
       "       'tradjazz', 'trance', 'tribal', 'trip', 'triphop', 'tropical',\n",
       "       'türk', 'türkçe', 'ukrrock', 'unknown', 'urban', 'uzbek',\n",
       "       'variété', 'vi', 'videogame', 'vocal', 'western', 'world',\n",
       "       'worldbeat', 'ïîï', 'электроника'], dtype=object)"
      ]
     },
     "execution_count": 14,
     "metadata": {},
     "output_type": "execute_result"
    }
   ],
   "source": [
    "sorted_by_genre = df.sort_values(by='genre',ascending=True)\n",
    "sorted_by_genre['genre'].unique()\n",
    "# Просмотр уникальных названий жанров"
   ]
  },
  {
   "cell_type": "markdown",
   "metadata": {
    "id": "qej-Qmuo_Zct"
   },
   "source": [
    "Просмотрим список и найдем неявные дубликаты названия `hiphop`. Это могут быть названия с ошибками или альтернативные названия того же жанра.\n",
    "\n",
    "Можно увидеть следующие неявные дубликаты:\n",
    "* *hip*,\n",
    "* *hop*,\n",
    "* *hip-hop*.\n",
    "\n",
    "Чтобы очистить от них таблицу, напишем функцию `replace_wrong_genres()` с двумя параметрами: \n",
    "* `wrong_genres` — список дубликатов,\n",
    "* `correct_genre` — строка с правильным значением.\n",
    "\n",
    "Функция должна исправить колонку `genre` в таблице `df`: заменить каждое значение из списка `wrong_genres` на значение из `correct_genre`."
   ]
  },
  {
   "cell_type": "code",
   "execution_count": 15,
   "metadata": {
    "id": "ErNDkmns_Zct"
   },
   "outputs": [],
   "source": [
    "def replace_wrong_values(wrong_values, correct_value):\n",
    "    for wrong_value in wrong_values:\n",
    "        df['genre'] = df['genre'].replace(wrong_value, correct_value)# Функция для замены неявных дубликатов"
   ]
  },
  {
   "cell_type": "markdown",
   "metadata": {
    "id": "aDoBJxbA_Zct"
   },
   "source": [
    "Вызовем `replace_wrong_genres()` и передадим ей такие аргументы, чтобы она устранила неявные дубликаты: вместо `hip`, `hop` и `hip-hop` в таблице должно быть значение `hiphop`:"
   ]
  },
  {
   "cell_type": "code",
   "execution_count": 16,
   "metadata": {
    "id": "YN5i2hpmSo09"
   },
   "outputs": [],
   "source": [
    "duplicates = ['hip','hop','hip-hop']\n",
    "name = 'hiphop'\n",
    "replace_wrong_values(duplicates, name)# Устранение неявных дубликатов"
   ]
  },
  {
   "cell_type": "markdown",
   "metadata": {
    "id": "zQKF16_RG15m"
   },
   "source": [
    "Проверим, что заменили неправильные названия:\n",
    "\n",
    "*   hip\n",
    "*   hop\n",
    "*   hip-hop\n",
    "\n",
    "Выведем отсортированный список уникальных значений столбца `genre`:"
   ]
  },
  {
   "cell_type": "code",
   "execution_count": 17,
   "metadata": {
    "id": "wvixALnFG15m",
    "scrolled": true
   },
   "outputs": [
    {
     "data": {
      "text/plain": [
       "array(['rock', 'pop', 'folk', 'dance', 'rusrap', 'ruspop', 'world',\n",
       "       'electronic', 'unknown', 'alternative', 'children', 'rnb',\n",
       "       'hiphop', 'jazz', 'postrock', 'latin', 'classical', 'metal',\n",
       "       'reggae', 'tatar', 'blues', 'instrumental', 'rusrock', 'dnb',\n",
       "       'türk', 'post', 'country', 'psychedelic', 'conjazz', 'indie',\n",
       "       'posthardcore', 'local', 'avantgarde', 'punk', 'videogame',\n",
       "       'techno', 'house', 'christmas', 'melodic', 'caucasian',\n",
       "       'reggaeton', 'soundtrack', 'singer', 'ska', 'shanson', 'ambient',\n",
       "       'film', 'western', 'rap', 'beats', \"hard'n'heavy\", 'progmetal',\n",
       "       'minimal', 'contemporary', 'new', 'soul', 'holiday', 'german',\n",
       "       'tropical', 'fairytail', 'spiritual', 'urban', 'gospel', 'nujazz',\n",
       "       'folkmetal', 'trance', 'miscellaneous', 'anime', 'hardcore',\n",
       "       'progressive', 'chanson', 'numetal', 'vocal', 'estrada', 'russian',\n",
       "       'classicmetal', 'dubstep', 'club', 'deep', 'southern', 'black',\n",
       "       'folkrock', 'fitness', 'french', 'disco', 'religious', 'drum',\n",
       "       'extrememetal', 'türkçe', 'experimental', 'easy', 'metalcore',\n",
       "       'modern', 'argentinetango', 'old', 'breaks', 'eurofolk',\n",
       "       'stonerrock', 'industrial', 'funk', 'jpop', 'middle', 'variété',\n",
       "       'other', 'adult', 'christian', 'gothic', 'international', 'muslim',\n",
       "       'relax', 'schlager', 'caribbean', 'ukrrock', 'nu', 'breakbeat',\n",
       "       'comedy', 'chill', 'newage', 'specialty', 'uzbek', 'k-pop',\n",
       "       'balkan', 'chinese', 'meditative', 'dub', 'power', 'death',\n",
       "       'grime', 'arabesk', 'romance', 'flamenco', 'leftfield', 'european',\n",
       "       'tech', 'newwave', 'dancehall', 'mpb', 'piano', 'top', 'bigroom',\n",
       "       'opera', 'celtic', 'tradjazz', 'acoustic', 'epicmetal',\n",
       "       'historisch', 'downbeat', 'downtempo', 'africa', 'audiobook',\n",
       "       'jewish', 'sängerportrait', 'deutschrock', 'eastern', 'action',\n",
       "       'future', 'electropop', 'folklore', 'bollywood', 'marschmusik',\n",
       "       'rnr', 'karaoke', 'indian', 'rancheras', 'электроника',\n",
       "       'afrikaans', 'tango', 'rhythm', 'sound', 'deutschspr', 'trip',\n",
       "       'lovers', 'choral', 'dancepop', 'podcasts', 'retro', 'smooth',\n",
       "       'mexican', 'brazilian', 'ïîï', 'mood', 'surf', 'author', 'gangsta',\n",
       "       'triphop', 'inspirational', 'idm', 'ethnic', 'bluegrass',\n",
       "       'broadway', 'animated', 'americana', 'karadeniz', 'rockabilly',\n",
       "       'colombian', 'self', 'synthrock', 'sertanejo', 'japanese',\n",
       "       'canzone', 'swing', 'lounge', 'sport', 'korean', 'ragga',\n",
       "       'traditional', 'gitarre', 'frankreich', 'alternativepunk', 'emo',\n",
       "       'laiko', 'cantopop', 'glitch', 'documentary', 'rockalternative',\n",
       "       'thrash', 'hymn', 'oceania', 'rockother', 'popeurodance', 'dark',\n",
       "       'vi', 'grunge', 'hardstyle', 'samba', 'garage', 'soft', 'art',\n",
       "       'folktronica', 'entehno', 'mediterranean', 'chamber', 'cuban',\n",
       "       'taraftar', 'rockindie', 'gypsy', 'hardtechno', 'shoegazing',\n",
       "       'skarock', 'bossa', 'salsa', 'latino', 'worldbeat', 'malaysian',\n",
       "       'baile', 'ghazal', 'loungeelectronic', 'arabic', 'popelectronic',\n",
       "       'acid', 'kayokyoku', 'neoklassik', 'tribal', 'tanzorchester',\n",
       "       'native', 'independent', 'cantautori', 'handsup', 'poprussian',\n",
       "       'punjabi', 'synthpop', 'rave', 'französisch', 'quebecois',\n",
       "       'speech', 'soulful', 'teen', 'jam', 'ram', 'horror', 'scenic',\n",
       "       'orchestral', 'neue', 'roots', 'slow', 'jungle', 'indipop', 'axé',\n",
       "       'fado', 'showtunes', 'arena', 'irish', 'mandopop', 'forró',\n",
       "       'popdance', 'dirty', 'regional'], dtype=object)"
      ]
     },
     "execution_count": 17,
     "metadata": {},
     "output_type": "execute_result"
    }
   ],
   "source": [
    "df['genre'].unique()# Проверка на неявные дубликаты"
   ]
  },
  {
   "cell_type": "markdown",
   "metadata": {
    "id": "jz6a9-7HQUDd"
   },
   "source": [
    "**Выводы**\n",
    "\n",
    "Предобработка обнаружила три проблемы в данных:\n",
    "\n",
    "- нарушения в стиле заголовков,\n",
    "- пропущенные значения,\n",
    "- дубликаты — явные и неявные.\n",
    "\n",
    "Вы исправили заголовки, чтобы упростить работу с таблицей. Без дубликатов исследование станет более точным.\n",
    "\n",
    "Пропущенные значения вы заменили на `'unknown'`. Ещё предстоит увидеть, не повредят ли исследованию пропуски в колонке `genre`.\n",
    "\n",
    "Теперь можно перейти к проверке гипотез. "
   ]
  },
  {
   "cell_type": "markdown",
   "metadata": {
    "id": "WttZHXH0SqKk"
   },
   "source": [
    "## Проверка гипотез"
   ]
  },
  {
   "cell_type": "markdown",
   "metadata": {
    "id": "Im936VVi_Zcu"
   },
   "source": [
    "### Сравнение поведения пользователей двух столиц"
   ]
  },
  {
   "cell_type": "markdown",
   "metadata": {
    "id": "nwt_MuaL_Zcu"
   },
   "source": [
    "Первая гипотеза утверждает, что пользователи по-разному слушают музыку в Москве и Санкт-Петербурге. Проверим это предположение по данным о трёх днях недели — понедельнике, среде и пятнице. Для этого:\n",
    "\n",
    "* Разделим пользователей Москвы и Санкт-Петербурга\n",
    "* Сравним, сколько треков послушала каждая группа пользователей в понедельник, среду и пятницу.\n"
   ]
  },
  {
   "cell_type": "markdown",
   "metadata": {
    "id": "8Dw_YMmT_Zcu"
   },
   "source": [
    "Для тренировки сначала выполним каждый из расчётов по отдельности. \n",
    "\n",
    "Оценим активность пользователей в каждом городе. Сгруппируем данные по городу и посчитаем прослушивания в каждой группе.\n",
    "\n"
   ]
  },
  {
   "cell_type": "code",
   "execution_count": 18,
   "metadata": {
    "id": "0_Qs96oh_Zcu"
   },
   "outputs": [
    {
     "name": "stdout",
     "output_type": "stream",
     "text": [
      "city\n",
      "Moscow              42741\n",
      "Saint-Petersburg    18512\n",
      "Name: user_id, dtype: int64\n"
     ]
    }
   ],
   "source": [
    "city_grouping = df.groupby('city')['user_id'].count()\n",
    "print(city_grouping)# Подсчёт прослушиваний в каждом городе"
   ]
  },
  {
   "cell_type": "markdown",
   "metadata": {
    "id": "dzli3w8o_Zcu"
   },
   "source": [
    "В Москве прослушиваний больше, чем в Петербурге. Из этого не следует, что московские пользователи чаще слушают музыку. Просто самих пользователей в Москве больше.\n",
    "\n",
    "Теперь сгруппируем данные по дню недели и подсчитаем прослушивания в понедельник, среду и пятницу. Необходимо учесть, что в данных есть информация о прослушиваниях только за эти дни.\n"
   ]
  },
  {
   "cell_type": "code",
   "execution_count": 19,
   "metadata": {
    "id": "uZMKjiJz_Zcu"
   },
   "outputs": [
    {
     "name": "stdout",
     "output_type": "stream",
     "text": [
      "day\n",
      "Friday       21840\n",
      "Monday       21354\n",
      "Wednesday    18059\n",
      "Name: user_id, dtype: int64\n"
     ]
    }
   ],
   "source": [
    "day_grouping = df.groupby('day')['user_id'].count()\n",
    "print(day_grouping)# Подсчёт прослушиваний в каждый из трёх дней"
   ]
  },
  {
   "cell_type": "markdown",
   "metadata": {
    "id": "cC2tNrlL_Zcu"
   },
   "source": [
    "В среднем пользователи из двух городов менее активны по средам. Но картина может измениться, если рассмотреть каждый город в отдельности."
   ]
  },
  {
   "cell_type": "markdown",
   "metadata": {
    "id": "POzs8bGa_Zcu"
   },
   "source": [
    "Теперь напишите функцию, которая объединит группировку по городу и по дням недели.\n",
    "\n",
    "Создадим функцию `number_tracks()`, которая посчитает прослушивания для заданного дня и города. Ей понадобятся два параметра:\n",
    "* день недели,\n",
    "* название города.\n",
    "\n",
    "В функции сохраним в переменную строки исходной таблицы, у которых значение:\n",
    "  * в колонке `day` равно параметру `day`,\n",
    "  * в колонке `city` равно параметру `city`.\n",
    "\n",
    "Для этого применим последовательную фильтрацию с логической индексацией.\n",
    "\n",
    "Затем посчитаем значения в столбце `user_id` получившейся таблицы. Результат сохраним в новую переменную. Вернем эту переменную из функции."
   ]
  },
  {
   "cell_type": "code",
   "execution_count": 20,
   "metadata": {
    "id": "Nz3GdQB1_Zcu"
   },
   "outputs": [],
   "source": [
    "# <создание функции number_tracks()>\n",
    "def number_tracks(day,city):# Объявляется функция с двумя параметрами: day, city.\n",
    "    track_list = df.loc[df['day']==day]# В переменной track_list сохраняются те строки таблицы df, для которых \n",
    "# значение в столбце 'day' равно параметру day и одновременно значение\n",
    "    track_list = track_list.loc[track_list['city']==city]# в столбце 'city' равно параметру city (используйте последовательную фильтрацию\n",
    "# с помощью логической индексации).\n",
    "    track_list_count = track_list['user_id'].count()# В переменной track_list_count сохраняется число значений столбца 'user_id',\n",
    "# рассчитанное методом count() для таблицы track_list.\n",
    "    return track_list_count# Функция возвращает число - значение track_list_count.\n",
    "\n",
    "# Функция для подсчёта прослушиваний для конкретного города и дня.\n",
    "# С помощью последовательной фильтрации с логической индексацией она \n",
    "# сначала получит из исходной таблицы строки с нужным днём,\n",
    "# затем из результата отфильтрует строки с нужным городом,\n",
    "# методом count() посчитает количество значений в колонке user_id. \n",
    "# Это количество функция вернёт в качестве результата"
   ]
  },
  {
   "cell_type": "markdown",
   "metadata": {
    "id": "ytf7xFrFJQ2r"
   },
   "source": [
    "Вызовите `number_tracks()` шесть раз, меняя значение параметров — так, чтобы получить данные для каждого города в каждый из трёх дней."
   ]
  },
  {
   "cell_type": "code",
   "execution_count": 21,
   "metadata": {
    "id": "rJcRATNQ_Zcu"
   },
   "outputs": [
    {
     "data": {
      "text/plain": [
       "15740"
      ]
     },
     "execution_count": 21,
     "metadata": {},
     "output_type": "execute_result"
    }
   ],
   "source": [
    "number_tracks('Monday','Moscow')# количество прослушиваний в Москве по понедельникам"
   ]
  },
  {
   "cell_type": "code",
   "execution_count": 22,
   "metadata": {
    "id": "hq_ncZ5T_Zcu"
   },
   "outputs": [
    {
     "data": {
      "text/plain": [
       "5614"
      ]
     },
     "execution_count": 22,
     "metadata": {},
     "output_type": "execute_result"
    }
   ],
   "source": [
    "number_tracks('Monday','Saint-Petersburg')# количество прослушиваний в Санкт-Петербурге по понедельникам"
   ]
  },
  {
   "cell_type": "code",
   "execution_count": 23,
   "metadata": {
    "id": "_NTy2VPU_Zcu"
   },
   "outputs": [
    {
     "data": {
      "text/plain": [
       "11056"
      ]
     },
     "execution_count": 23,
     "metadata": {},
     "output_type": "execute_result"
    }
   ],
   "source": [
    "number_tracks('Wednesday','Moscow')# количество прослушиваний в Москве по средам"
   ]
  },
  {
   "cell_type": "code",
   "execution_count": 24,
   "metadata": {
    "id": "j2y3TAwo_Zcu"
   },
   "outputs": [
    {
     "data": {
      "text/plain": [
       "7003"
      ]
     },
     "execution_count": 24,
     "metadata": {},
     "output_type": "execute_result"
    }
   ],
   "source": [
    "number_tracks('Wednesday','Saint-Petersburg')# количество прослушиваний в Санкт-Петербурге по средам"
   ]
  },
  {
   "cell_type": "code",
   "execution_count": 25,
   "metadata": {
    "id": "vYDw5u_K_Zcu"
   },
   "outputs": [
    {
     "data": {
      "text/plain": [
       "15945"
      ]
     },
     "execution_count": 25,
     "metadata": {},
     "output_type": "execute_result"
    }
   ],
   "source": [
    "number_tracks('Friday','Moscow')# количество прослушиваний в Москве по пятницам"
   ]
  },
  {
   "cell_type": "code",
   "execution_count": 26,
   "metadata": {
    "id": "8_yzFtW3_Zcu",
    "scrolled": true
   },
   "outputs": [
    {
     "data": {
      "text/plain": [
       "5895"
      ]
     },
     "execution_count": 26,
     "metadata": {},
     "output_type": "execute_result"
    }
   ],
   "source": [
    "number_tracks('Friday','Saint-Petersburg')# количество прослушиваний в Санкт-Петербурге по пятницам"
   ]
  },
  {
   "cell_type": "markdown",
   "metadata": {
    "id": "7QXffbO-_Zcu"
   },
   "source": [
    "Создадим c помощью конструктора `pd.DataFrame` таблицу, где\n",
    "* названия колонок — `['city', 'monday', 'wednesday', 'friday']`;\n",
    "* данные — результаты, которые вы получили с помощью `number_tracks`."
   ]
  },
  {
   "cell_type": "code",
   "execution_count": 27,
   "metadata": {
    "id": "APAcLpOr_Zcu"
   },
   "outputs": [
    {
     "data": {
      "text/html": [
       "<div>\n",
       "<style scoped>\n",
       "    .dataframe tbody tr th:only-of-type {\n",
       "        vertical-align: middle;\n",
       "    }\n",
       "\n",
       "    .dataframe tbody tr th {\n",
       "        vertical-align: top;\n",
       "    }\n",
       "\n",
       "    .dataframe thead th {\n",
       "        text-align: right;\n",
       "    }\n",
       "</style>\n",
       "<table border=\"1\" class=\"dataframe\">\n",
       "  <thead>\n",
       "    <tr style=\"text-align: right;\">\n",
       "      <th></th>\n",
       "      <th>city</th>\n",
       "      <th>monday</th>\n",
       "      <th>wednesday</th>\n",
       "      <th>friday</th>\n",
       "    </tr>\n",
       "  </thead>\n",
       "  <tbody>\n",
       "    <tr>\n",
       "      <th>0</th>\n",
       "      <td>Moscow</td>\n",
       "      <td>15740</td>\n",
       "      <td>11056</td>\n",
       "      <td>15945</td>\n",
       "    </tr>\n",
       "    <tr>\n",
       "      <th>1</th>\n",
       "      <td>Saint-Petersburg</td>\n",
       "      <td>5614</td>\n",
       "      <td>7003</td>\n",
       "      <td>5895</td>\n",
       "    </tr>\n",
       "  </tbody>\n",
       "</table>\n",
       "</div>"
      ],
      "text/plain": [
       "               city  monday  wednesday  friday\n",
       "0            Moscow   15740      11056   15945\n",
       "1  Saint-Petersburg    5614       7003    5895"
      ]
     },
     "metadata": {},
     "output_type": "display_data"
    }
   ],
   "source": [
    "number_tracks_count = [['Moscow', 15740, 11056, 15945],\n",
    "                      ['Saint-Petersburg', 5614, 7003, 5895]]\n",
    "columns = ['city', 'monday', 'wednesday', 'friday']\n",
    "general_tracks_count = pd.DataFrame(data=number_tracks_count, columns=columns)\n",
    "display(general_tracks_count)# Таблица с результатами"
   ]
  },
  {
   "cell_type": "markdown",
   "metadata": {
    "id": "-EgPIHYu_Zcu"
   },
   "source": [
    "**Выводы**\n",
    "\n",
    "Данные показывают разницу поведения пользователей:\n",
    "\n",
    "- В Москве пик прослушиваний приходится на понедельник и пятницу, а в среду заметен спад.\n",
    "- В Петербурге, наоборот, больше слушают музыку по средам. Активность в понедельник и пятницу здесь почти в равной мере уступает среде.\n",
    "\n",
    "Значит, данные говорят в пользу первой гипотезы."
   ]
  },
  {
   "cell_type": "markdown",
   "metadata": {
    "id": "atZAxtq4_Zcu"
   },
   "source": [
    "### Музыка в начале и в конце недели"
   ]
  },
  {
   "cell_type": "markdown",
   "metadata": {
    "id": "eXrQqXFH_Zcu"
   },
   "source": [
    "Согласно второй гипотезе, утром в понедельник в Москве преобладают одни жанры, а в Петербурге — другие. Так же и вечером пятницы преобладают разные жанры — в зависимости от города."
   ]
  },
  {
   "cell_type": "markdown",
   "metadata": {
    "id": "S8UcW6Hw_Zcu"
   },
   "source": [
    "Сохраним таблицы с данными в две переменные:\n",
    "* по Москве — в `moscow_general`;\n",
    "* по Санкт-Петербургу — в `spb_general`."
   ]
  },
  {
   "cell_type": "code",
   "execution_count": 28,
   "metadata": {
    "id": "qeaFfM_P_Zcu"
   },
   "outputs": [],
   "source": [
    "moscow_general = df.loc[df['city']=='Moscow']\n",
    "# получение таблицы moscow_general из тех строк таблицы df, \n",
    "# для которых значение в столбце 'city' равно 'Moscow'\n"
   ]
  },
  {
   "cell_type": "code",
   "execution_count": 29,
   "metadata": {
    "id": "ORaVRKto_Zcu"
   },
   "outputs": [],
   "source": [
    "spb_general = df.loc[df['city']=='Saint-Petersburg']# получение таблицы spb_general из тех строк таблицы df,\n",
    "# для которых значение в столбце 'city' равно 'Saint-Petersburg'\n"
   ]
  },
  {
   "cell_type": "markdown",
   "metadata": {
    "id": "MEJV-CX2_Zcu"
   },
   "source": [
    "Создадим функцию `genre_weekday()` с четырьмя параметрами:\n",
    "* таблица (датафрейм) с данными,\n",
    "* день недели,\n",
    "* начальная временная метка в формате 'hh:mm', \n",
    "* последняя временная метка в формате 'hh:mm'.\n",
    "\n",
    "Функция должна вернуть информацию о топ-10 жанров тех треков, которые прослушивали в указанный день, в промежутке между двумя отметками времени."
   ]
  },
  {
   "cell_type": "code",
   "execution_count": 30,
   "metadata": {
    "id": "laJT9BYl_Zcu"
   },
   "outputs": [],
   "source": [
    "def genre_weekday (table,day,time1,time2):# Объявление функции genre_weekday() с параметрами table, day, time1, time2,\n",
    "# которая возвращает информацию о самых популярных жанрах в указанный день в\n",
    "# заданное время:\n",
    "# 1) в переменную genre_df сохраняются те строки переданного датафрейма table, для\n",
    "#    которых одновременно:\n",
    "    genre_df = table[table['day']==day]#    - значение в столбце day равно значению аргумента day\n",
    "    genre_df = genre_df.loc[df['time']>time1]\n",
    "    genre_df = genre_df.loc[df['time']<time2]\n",
    "    #    - значение в столбце time больше значения аргумента time1\n",
    "#    - значение в столбце time меньше значения аргумента time2\n",
    "#    Используйте последовательную фильтрацию с помощью логической индексации.\n",
    "    genre_df_count = (genre_df.groupby('genre')['user_id']).count()# 2) сгруппировать датафрейм genre_df по столбцу genre, взять один из его\n",
    "#    столбцов и посчитать методом count() количество записей для каждого из\n",
    "#    присутствующих жанров, получившийся Series записать в переменную\n",
    "#    genre_df_count\n",
    "    genre_df_sorted = genre_df_count.sort_values(ascending=False)# 3) отсортировать genre_df_count по убыванию встречаемости и сохранить\n",
    "#    в переменную genre_df_sorted\n",
    "    \n",
    "    return genre_df_sorted.head(10)# 4) вернуть Series из 10 первых значений genre_df_sorted, это будут топ-10\n",
    "#    популярных жанров (в указанный день, в заданное время)"
   ]
  },
  {
   "cell_type": "markdown",
   "metadata": {
    "id": "la2s2_PF_Zcu"
   },
   "source": [
    "Cравним результаты функции `genre_weekday()` для Москвы и Санкт-Петербурга в понедельник утром (с 7:00 до 11:00) и в пятницу вечером (с 17:00 до 23:00):"
   ]
  },
  {
   "cell_type": "code",
   "execution_count": 31,
   "metadata": {
    "id": "yz7itPUQ_Zcu"
   },
   "outputs": [
    {
     "data": {
      "text/plain": [
       "genre\n",
       "pop            781\n",
       "dance          549\n",
       "electronic     480\n",
       "rock           474\n",
       "hiphop         286\n",
       "ruspop         186\n",
       "world          181\n",
       "rusrap         175\n",
       "alternative    164\n",
       "unknown        161\n",
       "Name: user_id, dtype: int64"
      ]
     },
     "execution_count": 31,
     "metadata": {},
     "output_type": "execute_result"
    }
   ],
   "source": [
    "genre_weekday(moscow_general, 'Monday', '07:00', '11:00')# вызов функции для утра понедельника в Москве (вместо df — таблица moscow_general)\n",
    "# объекты, хранящие время, являются строками и сравниваются как строки\n",
    "# пример вызова: genre_weekday(moscow_general, 'Monday', '07:00', '11:00')"
   ]
  },
  {
   "cell_type": "code",
   "execution_count": 32,
   "metadata": {
    "id": "kwUcHPdy_Zcu"
   },
   "outputs": [
    {
     "data": {
      "text/plain": [
       "genre\n",
       "pop            218\n",
       "dance          182\n",
       "rock           162\n",
       "electronic     147\n",
       "hiphop          80\n",
       "ruspop          64\n",
       "alternative     58\n",
       "rusrap          55\n",
       "jazz            44\n",
       "classical       40\n",
       "Name: user_id, dtype: int64"
      ]
     },
     "execution_count": 32,
     "metadata": {},
     "output_type": "execute_result"
    }
   ],
   "source": [
    "genre_weekday(spb_general, 'Monday', '07:00', '11:00')# вызов функции для утра понедельника в Петербурге (вместо df — таблица spb_general)"
   ]
  },
  {
   "cell_type": "code",
   "execution_count": 33,
   "metadata": {
    "id": "EzXVRE1o_Zcu"
   },
   "outputs": [
    {
     "data": {
      "text/plain": [
       "genre\n",
       "pop            713\n",
       "rock           517\n",
       "dance          495\n",
       "electronic     482\n",
       "hiphop         273\n",
       "world          208\n",
       "ruspop         170\n",
       "alternative    163\n",
       "classical      163\n",
       "rusrap         142\n",
       "Name: user_id, dtype: int64"
      ]
     },
     "execution_count": 33,
     "metadata": {},
     "output_type": "execute_result"
    }
   ],
   "source": [
    "genre_weekday(moscow_general, 'Friday', '17:00', '23:00')# вызов функции для вечера пятницы в Москве"
   ]
  },
  {
   "cell_type": "code",
   "execution_count": 34,
   "metadata": {
    "id": "JZaEKu5v_Zcu",
    "scrolled": true
   },
   "outputs": [
    {
     "data": {
      "text/plain": [
       "genre\n",
       "pop            256\n",
       "electronic     216\n",
       "rock           216\n",
       "dance          210\n",
       "hiphop          97\n",
       "alternative     63\n",
       "jazz            61\n",
       "classical       60\n",
       "rusrap          59\n",
       "world           54\n",
       "Name: user_id, dtype: int64"
      ]
     },
     "execution_count": 34,
     "metadata": {},
     "output_type": "execute_result"
    }
   ],
   "source": [
    "genre_weekday(spb_general, 'Friday', '17:00', '23:00')# вызов функции для вечера пятницы в Петербурге"
   ]
  },
  {
   "cell_type": "markdown",
   "metadata": {
    "id": "wrCe4MNX_Zcu"
   },
   "source": [
    "**Выводы**\n",
    "\n",
    "Если сравнить топ-10 жанров в понедельник утром, можно сделать такие выводы:\n",
    "\n",
    "1. В Москве и Петербурге слушают похожую музыку. Единственное отличие — в московский рейтинг вошёл жанр “world”, а в петербургский — джаз и классика.\n",
    "\n",
    "2. В Москве пропущенных значений оказалось так много, что значение `'unknown'` заняло десятое место среди самых популярных жанров. Значит, пропущенные значения занимают существенную долю в данных и угрожают достоверности исследования.\n",
    "\n",
    "Вечер пятницы не меняет эту картину. Некоторые жанры поднимаются немного выше, другие спускаются, но в целом топ-10 остаётся тем же самым.\n",
    "\n",
    "Таким образом, вторая гипотеза подтвердилась лишь частично:\n",
    "* Пользователи слушают похожую музыку в начале недели и в конце.\n",
    "* Разница между Москвой и Петербургом не слишком выражена. В Москве чаще слушают русскую популярную музыку, в Петербурге — джаз.\n",
    "\n",
    "Однако пропуски в данных ставят под сомнение этот результат. В Москве их так много, что рейтинг топ-10 мог бы выглядеть иначе, если бы не утерянные  данные о жанрах."
   ]
  },
  {
   "cell_type": "markdown",
   "metadata": {
    "id": "JolODAqr_Zcu"
   },
   "source": [
    "### Жанровые предпочтения в Москве и Петербурге\n",
    "\n",
    "Гипотеза: Петербург — столица рэпа, музыку этого жанра там слушают чаще, чем в Москве.  А Москва — город контрастов, в котором, тем не менее, преобладает поп-музыка."
   ]
  },
  {
   "cell_type": "markdown",
   "metadata": {
    "id": "DlegSvaT_Zcu"
   },
   "source": [
    "Сгруппируем таблицу `moscow_general` по жанру и посчитаем прослушивания треков каждого жанра методом `count()`. Затем отсортируем результат в порядке убывания и сохраните его в таблице `moscow_genres`."
   ]
  },
  {
   "cell_type": "code",
   "execution_count": 35,
   "metadata": {
    "id": "r19lIPke_Zcu"
   },
   "outputs": [
    {
     "data": {
      "text/plain": [
       "genre\n",
       "pop            5892\n",
       "dance          4435\n",
       "rock           3965\n",
       "electronic     3786\n",
       "hiphop         2096\n",
       "               ... \n",
       "neoklassik        1\n",
       "mood              1\n",
       "metalcore         1\n",
       "marschmusik       1\n",
       "ïîï               1\n",
       "Name: genre, Length: 267, dtype: int64"
      ]
     },
     "execution_count": 35,
     "metadata": {},
     "output_type": "execute_result"
    }
   ],
   "source": [
    "moscow_genres = moscow_general.groupby('genre')['genre'].count()# одной строкой: группировка таблицы moscow_general по столбцу 'genre', \n",
    "# подсчёт числа значений 'genre' в этой группировке методом count(), \n",
    "moscow_genres.sort_values(ascending=False)# сортировка получившегося Series в порядке убывания и сохранение в moscow_genres"
   ]
  },
  {
   "cell_type": "markdown",
   "metadata": {
    "id": "6kMuomxTiIr8"
   },
   "source": [
    "Выведем на экран первые десять строк `moscow_genres`:"
   ]
  },
  {
   "cell_type": "code",
   "execution_count": 36,
   "metadata": {
    "id": "WhCSooF8_Zcv"
   },
   "outputs": [
    {
     "data": {
      "text/plain": [
       "genre\n",
       "pop            5892\n",
       "dance          4435\n",
       "rock           3965\n",
       "electronic     3786\n",
       "hiphop         2096\n",
       "classical      1616\n",
       "world          1432\n",
       "alternative    1379\n",
       "ruspop         1372\n",
       "rusrap         1161\n",
       "Name: genre, dtype: int64"
      ]
     },
     "execution_count": 36,
     "metadata": {},
     "output_type": "execute_result"
    }
   ],
   "source": [
    "moscow_genres.sort_values(ascending=False).head(10)# просмотр первых 10 строк moscow_genres"
   ]
  },
  {
   "cell_type": "markdown",
   "metadata": {
    "id": "cnPG2vnN_Zcv"
   },
   "source": [
    "Теперь повторим то же и для Петербурга.\n",
    "\n",
    "Сгруппируем таблицу `spb_general` по жанру. Посчитаем прослушивания треков каждого жанра. Результат отсортируем в порядке убывания и сохраним в таблице `spb_genres`:\n"
   ]
  },
  {
   "cell_type": "code",
   "execution_count": 37,
   "metadata": {
    "id": "gluLIpE7_Zcv"
   },
   "outputs": [
    {
     "data": {
      "text/plain": [
       "genre\n",
       "pop              2431\n",
       "dance            1932\n",
       "rock             1879\n",
       "electronic       1736\n",
       "hiphop            960\n",
       "                 ... \n",
       "international       1\n",
       "independent         1\n",
       "idm                 1\n",
       "gypsy               1\n",
       "электроника         1\n",
       "Name: genre, Length: 211, dtype: int64"
      ]
     },
     "execution_count": 37,
     "metadata": {},
     "output_type": "execute_result"
    }
   ],
   "source": [
    "spb_genres = spb_general.groupby('genre')['genre'].count()# одной строкой: группировка таблицы spb_general по столбцу 'genre', \n",
    "# подсчёт числа значений 'genre' в этой группировке методом count(), \n",
    "spb_genres.sort_values(ascending=False)# сортировка получившегося Series в порядке убывания и сохранение в spb_genres"
   ]
  },
  {
   "cell_type": "markdown",
   "metadata": {
    "id": "5Doha_ODgyQ8"
   },
   "source": [
    "Выведем на экран первые десять строк `spb_genres`:"
   ]
  },
  {
   "cell_type": "code",
   "execution_count": 38,
   "metadata": {
    "id": "uaGJHjVU_Zcv"
   },
   "outputs": [
    {
     "data": {
      "text/plain": [
       "genre\n",
       "pop            2431\n",
       "dance          1932\n",
       "rock           1879\n",
       "electronic     1736\n",
       "hiphop          960\n",
       "alternative     649\n",
       "classical       646\n",
       "rusrap          564\n",
       "ruspop          538\n",
       "world           515\n",
       "Name: genre, dtype: int64"
      ]
     },
     "execution_count": 38,
     "metadata": {},
     "output_type": "execute_result"
    }
   ],
   "source": [
    "spb_genres.sort_values(ascending=False).head(10)# просмотр первых 10 строк spb_genres"
   ]
  },
  {
   "cell_type": "markdown",
   "metadata": {
    "id": "RY51YJYu_Zcv"
   },
   "source": [
    "**Выводы**"
   ]
  },
  {
   "cell_type": "markdown",
   "metadata": {
    "id": "nVhnJEm__Zcv"
   },
   "source": [
    "Гипотеза частично подтвердилась:\n",
    "* Поп-музыка — самый популярный жанр в Москве, как и предполагала гипотеза. Более того, в топ-10 жанров встречается близкий жанр — русская популярная музыка.\n",
    "* Вопреки ожиданиям, рэп одинаково популярен в Москве и Петербурге. \n"
   ]
  },
  {
   "cell_type": "markdown",
   "metadata": {
    "id": "ykKQ0N65_Zcv"
   },
   "source": [
    "## Итоги исследования"
   ]
  },
  {
   "cell_type": "markdown",
   "metadata": {
    "id": "tjUwbHb3_Zcv"
   },
   "source": [
    "Вы проверили три гипотезы и установили:\n",
    "\n",
    "1. День недели по-разному влияет на активность пользователей в Москве и Петербурге. \n",
    "\n",
    "Первая гипотеза полностью подтвердилась.\n",
    "\n",
    "2. Музыкальные предпочтения не сильно меняются в течение недели — будь то Москва или Петербург. Небольшие различия заметны в начале недели, по понедельникам:\n",
    "* в Москве слушают музыку жанра “world”,\n",
    "* в Петербурге — джаз и классику.\n",
    "\n",
    "Таким образом, вторая гипотеза подтвердилась лишь отчасти. Этот результат мог оказаться иным, если бы не пропуски в данных.\n",
    "\n",
    "3. Во вкусах пользователей Москвы и Петербурга больше общего чем различий. Вопреки ожиданиям, предпочтения жанров в Петербурге напоминают московские.\n",
    "\n",
    "Третья гипотеза не подтвердилась. Если различия в предпочтениях и существуют, на основной массе пользователей они незаметны.\n",
    "\n",
    "**На практике исследования содержат проверки статистических гипотез.**\n",
    "Из данных одного сервиса не всегда можно сделать вывод о всех жителях города.\n",
    "Проверки статистических гипотез покажут, насколько они достоверны, исходя из имеющихся данных. \n",
    "С методами проверок гипотез вы ещё познакомитесь в следующих темах."
   ]
  }
 ],
 "metadata": {
  "ExecuteTimeLog": [
   {
    "duration": 50,
    "start_time": "2022-03-24T19:14:04.216Z"
   },
   {
    "duration": 144,
    "start_time": "2022-03-24T19:14:09.655Z"
   },
   {
    "duration": 6,
    "start_time": "2022-03-24T19:14:34.466Z"
   },
   {
    "duration": 139,
    "start_time": "2022-03-24T19:15:53.157Z"
   },
   {
    "duration": 157,
    "start_time": "2022-03-24T19:16:05.157Z"
   },
   {
    "duration": 174,
    "start_time": "2022-03-24T19:16:29.740Z"
   },
   {
    "duration": 8,
    "start_time": "2022-03-24T19:17:23.447Z"
   },
   {
    "duration": 7,
    "start_time": "2022-03-24T19:17:51.578Z"
   },
   {
    "duration": 9,
    "start_time": "2022-03-24T19:23:22.286Z"
   },
   {
    "duration": 71,
    "start_time": "2022-03-24T19:32:51.423Z"
   },
   {
    "duration": 9,
    "start_time": "2022-03-24T19:35:38.353Z"
   },
   {
    "duration": 428,
    "start_time": "2022-03-24T19:35:51.035Z"
   },
   {
    "duration": 148,
    "start_time": "2022-03-24T19:35:55.535Z"
   },
   {
    "duration": 17,
    "start_time": "2022-03-24T19:36:06.968Z"
   },
   {
    "duration": 31,
    "start_time": "2022-03-24T19:36:29.290Z"
   },
   {
    "duration": 4,
    "start_time": "2022-03-24T19:58:43.675Z"
   },
   {
    "duration": 15,
    "start_time": "2022-03-24T20:00:36.209Z"
   },
   {
    "duration": 4,
    "start_time": "2022-03-24T20:00:46.602Z"
   },
   {
    "duration": 29,
    "start_time": "2022-03-24T20:02:25.596Z"
   },
   {
    "duration": 30,
    "start_time": "2022-03-24T20:03:25.164Z"
   },
   {
    "duration": 22,
    "start_time": "2022-03-24T20:04:06.046Z"
   },
   {
    "duration": 29,
    "start_time": "2022-03-24T20:04:18.884Z"
   },
   {
    "duration": 74,
    "start_time": "2022-03-24T20:04:53.633Z"
   },
   {
    "duration": 11,
    "start_time": "2022-03-24T20:05:20.452Z"
   },
   {
    "duration": 9,
    "start_time": "2022-03-24T20:06:18.061Z"
   },
   {
    "duration": 12,
    "start_time": "2022-03-24T20:06:28.102Z"
   },
   {
    "duration": 140,
    "start_time": "2022-03-24T20:06:49.871Z"
   },
   {
    "duration": 113,
    "start_time": "2022-03-24T20:07:00.101Z"
   },
   {
    "duration": 11,
    "start_time": "2022-03-24T20:11:57.595Z"
   },
   {
    "duration": 145,
    "start_time": "2022-03-24T20:13:56.156Z"
   },
   {
    "duration": 56,
    "start_time": "2022-03-24T20:14:01.932Z"
   },
   {
    "duration": 75,
    "start_time": "2022-03-24T20:14:57.123Z"
   },
   {
    "duration": 68,
    "start_time": "2022-03-24T20:15:56.467Z"
   },
   {
    "duration": 77,
    "start_time": "2022-03-24T20:16:17.737Z"
   },
   {
    "duration": 47,
    "start_time": "2022-03-24T20:16:58.096Z"
   },
   {
    "duration": 8,
    "start_time": "2022-03-24T20:23:51.541Z"
   },
   {
    "duration": 3,
    "start_time": "2022-03-24T20:23:56.842Z"
   },
   {
    "duration": 12,
    "start_time": "2022-03-24T20:23:59.348Z"
   },
   {
    "duration": 10,
    "start_time": "2022-03-24T20:24:32.979Z"
   },
   {
    "duration": 4,
    "start_time": "2022-03-24T20:24:50.678Z"
   },
   {
    "duration": 4,
    "start_time": "2022-03-24T20:24:53.627Z"
   },
   {
    "duration": 13,
    "start_time": "2022-03-24T20:24:57.522Z"
   },
   {
    "duration": 11,
    "start_time": "2022-03-24T20:25:25.947Z"
   },
   {
    "duration": 87,
    "start_time": "2022-03-24T20:26:37.774Z"
   },
   {
    "duration": 3,
    "start_time": "2022-03-24T20:26:46.096Z"
   },
   {
    "duration": 8,
    "start_time": "2022-03-24T20:26:49.861Z"
   },
   {
    "duration": 8,
    "start_time": "2022-03-24T20:26:54.789Z"
   },
   {
    "duration": 70,
    "start_time": "2022-03-25T09:08:15.072Z"
   },
   {
    "duration": 8,
    "start_time": "2022-03-25T09:08:34.606Z"
   },
   {
    "duration": 468,
    "start_time": "2022-03-25T09:08:40.200Z"
   },
   {
    "duration": 210,
    "start_time": "2022-03-25T09:08:43.055Z"
   },
   {
    "duration": 26,
    "start_time": "2022-03-25T09:08:46.383Z"
   },
   {
    "duration": 42,
    "start_time": "2022-03-25T09:08:50.782Z"
   },
   {
    "duration": 6,
    "start_time": "2022-03-25T09:08:55.214Z"
   },
   {
    "duration": 15,
    "start_time": "2022-03-25T09:08:58.430Z"
   },
   {
    "duration": 6,
    "start_time": "2022-03-25T09:09:01.073Z"
   },
   {
    "duration": 33,
    "start_time": "2022-03-25T09:09:04.641Z"
   },
   {
    "duration": 25,
    "start_time": "2022-03-25T09:09:07.752Z"
   },
   {
    "duration": 33,
    "start_time": "2022-03-25T09:09:10.423Z"
   },
   {
    "duration": 105,
    "start_time": "2022-03-25T09:09:14.574Z"
   },
   {
    "duration": 117,
    "start_time": "2022-03-25T09:09:17.701Z"
   },
   {
    "duration": 91,
    "start_time": "2022-03-25T09:09:20.350Z"
   },
   {
    "duration": 68,
    "start_time": "2022-03-25T09:09:24.867Z"
   },
   {
    "duration": 4,
    "start_time": "2022-03-25T09:09:29.202Z"
   },
   {
    "duration": 15,
    "start_time": "2022-03-25T09:09:31.124Z"
   },
   {
    "duration": 12,
    "start_time": "2022-03-25T09:09:35.061Z"
   },
   {
    "duration": 46,
    "start_time": "2022-03-25T09:09:39.959Z"
   },
   {
    "duration": 724,
    "start_time": "2022-03-25T09:11:13.250Z"
   },
   {
    "duration": 16,
    "start_time": "2022-03-25T09:11:28.766Z"
   },
   {
    "duration": 13,
    "start_time": "2022-03-25T09:15:04.269Z"
   },
   {
    "duration": 18,
    "start_time": "2022-03-25T09:15:22.236Z"
   },
   {
    "duration": 6,
    "start_time": "2022-03-25T10:11:30.183Z"
   },
   {
    "duration": 23,
    "start_time": "2022-03-25T10:12:16.963Z"
   },
   {
    "duration": 30,
    "start_time": "2022-03-25T10:12:58.109Z"
   },
   {
    "duration": 34,
    "start_time": "2022-03-25T10:13:14.403Z"
   },
   {
    "duration": 21,
    "start_time": "2022-03-25T10:13:32.937Z"
   },
   {
    "duration": 23,
    "start_time": "2022-03-25T10:13:52.956Z"
   },
   {
    "duration": 22,
    "start_time": "2022-03-25T10:14:04.325Z"
   },
   {
    "duration": 89,
    "start_time": "2022-03-25T10:21:38.444Z"
   },
   {
    "duration": 153,
    "start_time": "2022-03-25T10:23:37.094Z"
   },
   {
    "duration": 165,
    "start_time": "2022-03-25T10:23:45.869Z"
   },
   {
    "duration": 28,
    "start_time": "2022-03-25T10:24:33.433Z"
   },
   {
    "duration": 24,
    "start_time": "2022-03-25T10:31:20.430Z"
   },
   {
    "duration": 112,
    "start_time": "2022-03-25T10:34:29.319Z"
   },
   {
    "duration": 112,
    "start_time": "2022-03-25T10:35:37.210Z"
   },
   {
    "duration": 28,
    "start_time": "2022-03-25T10:38:47.586Z"
   },
   {
    "duration": 17,
    "start_time": "2022-03-25T10:39:01.734Z"
   },
   {
    "duration": 23,
    "start_time": "2022-03-25T10:39:21.077Z"
   },
   {
    "duration": 35,
    "start_time": "2022-03-25T10:39:29.319Z"
   },
   {
    "duration": 49,
    "start_time": "2022-03-25T10:39:49.203Z"
   },
   {
    "duration": 20,
    "start_time": "2022-03-25T10:40:25.953Z"
   },
   {
    "duration": 7,
    "start_time": "2022-03-25T10:43:09.974Z"
   },
   {
    "duration": 14,
    "start_time": "2022-03-25T10:43:31.354Z"
   },
   {
    "duration": 17,
    "start_time": "2022-03-25T11:14:36.627Z"
   },
   {
    "duration": 15,
    "start_time": "2022-03-25T11:15:01.218Z"
   },
   {
    "duration": 12,
    "start_time": "2022-03-25T11:43:59.524Z"
   },
   {
    "duration": 12,
    "start_time": "2022-03-25T11:45:25.075Z"
   },
   {
    "duration": 12,
    "start_time": "2022-03-25T11:45:53.187Z"
   },
   {
    "duration": 5,
    "start_time": "2022-03-25T11:50:08.240Z"
   },
   {
    "duration": 5,
    "start_time": "2022-03-25T11:50:13.882Z"
   },
   {
    "duration": 6,
    "start_time": "2022-03-25T11:50:30.542Z"
   },
   {
    "duration": 7,
    "start_time": "2022-03-25T11:50:33.216Z"
   },
   {
    "duration": 6,
    "start_time": "2022-03-25T11:52:22.014Z"
   },
   {
    "duration": 8,
    "start_time": "2022-03-25T11:52:56.505Z"
   },
   {
    "duration": 50,
    "start_time": "2022-03-25T11:54:17.609Z"
   },
   {
    "duration": 6,
    "start_time": "2022-03-25T11:55:21.635Z"
   },
   {
    "duration": 32,
    "start_time": "2022-03-25T11:55:24.525Z"
   },
   {
    "duration": 18,
    "start_time": "2022-03-25T11:55:36.965Z"
   },
   {
    "duration": 16,
    "start_time": "2022-03-25T11:55:38.278Z"
   },
   {
    "duration": 10,
    "start_time": "2022-03-25T11:55:39.993Z"
   },
   {
    "duration": 32,
    "start_time": "2022-03-25T11:55:42.294Z"
   },
   {
    "duration": 8,
    "start_time": "2022-03-25T11:56:23.049Z"
   },
   {
    "duration": 5,
    "start_time": "2022-03-25T11:56:24.645Z"
   },
   {
    "duration": 49,
    "start_time": "2022-03-25T11:57:01.311Z"
   },
   {
    "duration": 24,
    "start_time": "2022-03-25T11:57:10.423Z"
   },
   {
    "duration": 7,
    "start_time": "2022-03-25T12:00:03.146Z"
   },
   {
    "duration": 33,
    "start_time": "2022-03-25T12:00:14.740Z"
   },
   {
    "duration": 16,
    "start_time": "2022-03-25T12:01:20.307Z"
   },
   {
    "duration": 18,
    "start_time": "2022-03-25T12:01:21.769Z"
   },
   {
    "duration": 7,
    "start_time": "2022-03-25T12:01:25.491Z"
   },
   {
    "duration": 4,
    "start_time": "2022-03-25T12:01:34.360Z"
   },
   {
    "duration": 253,
    "start_time": "2022-03-25T12:01:36.860Z"
   },
   {
    "duration": 24,
    "start_time": "2022-03-25T12:01:41.670Z"
   },
   {
    "duration": 41,
    "start_time": "2022-03-25T12:01:45.742Z"
   },
   {
    "duration": 6,
    "start_time": "2022-03-25T12:01:51.563Z"
   },
   {
    "duration": 13,
    "start_time": "2022-03-25T12:01:54.348Z"
   },
   {
    "duration": 6,
    "start_time": "2022-03-25T12:01:57.785Z"
   },
   {
    "duration": 40,
    "start_time": "2022-03-25T12:02:00.577Z"
   },
   {
    "duration": 26,
    "start_time": "2022-03-25T12:02:10.154Z"
   },
   {
    "duration": 54,
    "start_time": "2022-03-25T12:02:13.175Z"
   },
   {
    "duration": 108,
    "start_time": "2022-03-25T12:02:16.392Z"
   },
   {
    "duration": 124,
    "start_time": "2022-03-25T12:02:18.370Z"
   },
   {
    "duration": 96,
    "start_time": "2022-03-25T12:02:20.484Z"
   },
   {
    "duration": 79,
    "start_time": "2022-03-25T12:02:24.274Z"
   },
   {
    "duration": 4,
    "start_time": "2022-03-25T12:02:29.217Z"
   },
   {
    "duration": 14,
    "start_time": "2022-03-25T12:02:31.477Z"
   },
   {
    "duration": 12,
    "start_time": "2022-03-25T12:02:34.503Z"
   },
   {
    "duration": 20,
    "start_time": "2022-03-25T12:02:38.982Z"
   },
   {
    "duration": 17,
    "start_time": "2022-03-25T12:02:41.946Z"
   },
   {
    "duration": 5,
    "start_time": "2022-03-25T12:02:46.290Z"
   },
   {
    "duration": 29,
    "start_time": "2022-03-25T12:37:17.072Z"
   },
   {
    "duration": 29,
    "start_time": "2022-03-25T12:38:42.694Z"
   },
   {
    "duration": 523,
    "start_time": "2022-03-25T12:39:25.661Z"
   },
   {
    "duration": 210,
    "start_time": "2022-03-25T12:39:28.950Z"
   },
   {
    "duration": 27,
    "start_time": "2022-03-25T12:39:31.650Z"
   },
   {
    "duration": 40,
    "start_time": "2022-03-25T12:39:35.570Z"
   },
   {
    "duration": 5,
    "start_time": "2022-03-25T12:39:39.901Z"
   },
   {
    "duration": 13,
    "start_time": "2022-03-25T12:39:43.485Z"
   },
   {
    "duration": 5,
    "start_time": "2022-03-25T12:39:45.256Z"
   },
   {
    "duration": 33,
    "start_time": "2022-03-25T12:39:48.062Z"
   },
   {
    "duration": 26,
    "start_time": "2022-03-25T12:39:51.296Z"
   },
   {
    "duration": 37,
    "start_time": "2022-03-25T12:39:53.112Z"
   },
   {
    "duration": 114,
    "start_time": "2022-03-25T12:39:56.042Z"
   },
   {
    "duration": 112,
    "start_time": "2022-03-25T12:39:57.550Z"
   },
   {
    "duration": 88,
    "start_time": "2022-03-25T12:39:59.181Z"
   },
   {
    "duration": 66,
    "start_time": "2022-03-25T12:40:01.545Z"
   },
   {
    "duration": 4,
    "start_time": "2022-03-25T12:40:05.624Z"
   },
   {
    "duration": 13,
    "start_time": "2022-03-25T12:40:07.059Z"
   },
   {
    "duration": 12,
    "start_time": "2022-03-25T12:40:09.242Z"
   },
   {
    "duration": 19,
    "start_time": "2022-03-25T12:40:13.657Z"
   },
   {
    "duration": 17,
    "start_time": "2022-03-25T12:40:15.445Z"
   },
   {
    "duration": 5,
    "start_time": "2022-03-25T12:40:18.425Z"
   },
   {
    "duration": 23,
    "start_time": "2022-03-25T12:40:21.194Z"
   },
   {
    "duration": 21,
    "start_time": "2022-03-25T12:40:21.849Z"
   },
   {
    "duration": 23,
    "start_time": "2022-03-25T12:40:22.414Z"
   },
   {
    "duration": 22,
    "start_time": "2022-03-25T12:40:22.990Z"
   },
   {
    "duration": 22,
    "start_time": "2022-03-25T12:40:23.528Z"
   },
   {
    "duration": 21,
    "start_time": "2022-03-25T12:40:24.021Z"
   },
   {
    "duration": 6,
    "start_time": "2022-03-25T12:40:27.266Z"
   },
   {
    "duration": 15,
    "start_time": "2022-03-25T12:40:30.857Z"
   },
   {
    "duration": 18,
    "start_time": "2022-03-25T12:40:31.973Z"
   },
   {
    "duration": 7,
    "start_time": "2022-03-25T12:40:37.229Z"
   },
   {
    "duration": 118,
    "start_time": "2022-03-25T12:40:39.645Z"
   },
   {
    "duration": 8,
    "start_time": "2022-03-25T12:48:08.621Z"
   },
   {
    "duration": 28,
    "start_time": "2022-03-25T12:48:11.418Z"
   },
   {
    "duration": 6,
    "start_time": "2022-03-25T12:48:30.014Z"
   },
   {
    "duration": 32,
    "start_time": "2022-03-25T12:48:31.915Z"
   },
   {
    "duration": 40,
    "start_time": "2022-03-25T12:50:46.173Z"
   },
   {
    "duration": 7,
    "start_time": "2022-03-25T13:08:27.219Z"
   },
   {
    "duration": 38,
    "start_time": "2022-03-25T13:08:29.769Z"
   },
   {
    "duration": 35,
    "start_time": "2022-03-25T13:09:13.527Z"
   },
   {
    "duration": 16,
    "start_time": "2022-03-25T13:09:48.684Z"
   },
   {
    "duration": 13,
    "start_time": "2022-03-25T13:09:50.169Z"
   },
   {
    "duration": 6,
    "start_time": "2022-03-25T13:09:53.213Z"
   },
   {
    "duration": 37,
    "start_time": "2022-03-25T13:09:55.893Z"
   },
   {
    "duration": 35,
    "start_time": "2022-03-25T13:10:00.163Z"
   },
   {
    "duration": 36,
    "start_time": "2022-03-25T13:10:34.059Z"
   },
   {
    "duration": 36,
    "start_time": "2022-03-25T13:11:17.888Z"
   },
   {
    "duration": 37,
    "start_time": "2022-03-25T13:11:26.092Z"
   },
   {
    "duration": 12,
    "start_time": "2022-03-25T13:15:41.308Z"
   },
   {
    "duration": 8,
    "start_time": "2022-03-25T13:15:53.053Z"
   },
   {
    "duration": 10,
    "start_time": "2022-03-25T13:16:59.765Z"
   },
   {
    "duration": 9,
    "start_time": "2022-03-25T13:17:04.486Z"
   },
   {
    "duration": 6,
    "start_time": "2022-03-25T13:17:06.216Z"
   },
   {
    "duration": 7,
    "start_time": "2022-03-25T13:17:52.193Z"
   },
   {
    "duration": 42,
    "start_time": "2022-03-25T13:17:55.204Z"
   },
   {
    "duration": 40,
    "start_time": "2022-03-25T13:17:58.054Z"
   },
   {
    "duration": 9,
    "start_time": "2022-03-25T13:19:56.205Z"
   },
   {
    "duration": 45,
    "start_time": "2022-03-25T13:19:58.312Z"
   },
   {
    "duration": 45,
    "start_time": "2022-03-25T13:20:00.893Z"
   },
   {
    "duration": 8,
    "start_time": "2022-03-25T13:20:51.374Z"
   },
   {
    "duration": 53,
    "start_time": "2022-03-25T13:20:55.869Z"
   },
   {
    "duration": 45,
    "start_time": "2022-03-25T13:20:58.799Z"
   },
   {
    "duration": 18,
    "start_time": "2022-03-25T13:22:12.704Z"
   },
   {
    "duration": 15,
    "start_time": "2022-03-25T13:22:13.946Z"
   },
   {
    "duration": 22,
    "start_time": "2022-03-25T13:22:26.066Z"
   },
   {
    "duration": 19,
    "start_time": "2022-03-25T13:22:33.225Z"
   },
   {
    "duration": 16,
    "start_time": "2022-03-25T13:22:39.723Z"
   },
   {
    "duration": 7,
    "start_time": "2022-03-25T13:22:42.848Z"
   },
   {
    "duration": 43,
    "start_time": "2022-03-25T13:22:47.007Z"
   },
   {
    "duration": 40,
    "start_time": "2022-03-25T13:22:50.303Z"
   },
   {
    "duration": 14,
    "start_time": "2022-04-04T14:57:09.573Z"
   },
   {
    "duration": 381,
    "start_time": "2022-04-04T18:48:41.913Z"
   },
   {
    "duration": 156,
    "start_time": "2022-04-04T18:48:52.108Z"
   },
   {
    "duration": 17,
    "start_time": "2022-04-04T18:48:57.559Z"
   },
   {
    "duration": 4,
    "start_time": "2022-04-04T18:50:18.471Z"
   },
   {
    "duration": 10,
    "start_time": "2022-04-04T18:50:24.901Z"
   },
   {
    "duration": 4,
    "start_time": "2022-04-04T18:50:27.869Z"
   },
   {
    "duration": 26,
    "start_time": "2022-04-04T18:50:36.120Z"
   },
   {
    "duration": 19,
    "start_time": "2022-04-04T18:50:40.121Z"
   },
   {
    "duration": 24,
    "start_time": "2022-04-04T18:50:43.743Z"
   },
   {
    "duration": 67,
    "start_time": "2022-04-04T18:50:46.952Z"
   },
   {
    "duration": 72,
    "start_time": "2022-04-04T18:50:51.914Z"
   },
   {
    "duration": 58,
    "start_time": "2022-04-04T18:50:54.602Z"
   },
   {
    "duration": 47,
    "start_time": "2022-04-04T18:51:01.035Z"
   },
   {
    "duration": 3,
    "start_time": "2022-04-04T18:51:07.071Z"
   },
   {
    "duration": 10,
    "start_time": "2022-04-04T18:51:09.432Z"
   },
   {
    "duration": 8,
    "start_time": "2022-04-04T18:51:25.418Z"
   },
   {
    "duration": 13,
    "start_time": "2022-04-04T18:52:42.550Z"
   },
   {
    "duration": 11,
    "start_time": "2022-04-04T18:52:46.309Z"
   },
   {
    "duration": 4,
    "start_time": "2022-04-04T18:52:59.115Z"
   },
   {
    "duration": 16,
    "start_time": "2022-04-04T18:53:05.878Z"
   },
   {
    "duration": 15,
    "start_time": "2022-04-04T18:53:08.437Z"
   },
   {
    "duration": 16,
    "start_time": "2022-04-04T18:53:09.180Z"
   },
   {
    "duration": 15,
    "start_time": "2022-04-04T18:53:09.835Z"
   },
   {
    "duration": 18,
    "start_time": "2022-04-04T18:53:10.305Z"
   },
   {
    "duration": 15,
    "start_time": "2022-04-04T18:53:10.915Z"
   },
   {
    "duration": 65,
    "start_time": "2022-04-04T18:53:35.864Z"
   },
   {
    "duration": 8,
    "start_time": "2022-04-04T18:54:38.259Z"
   },
   {
    "duration": 9,
    "start_time": "2022-04-04T18:54:49.059Z"
   },
   {
    "duration": 10,
    "start_time": "2022-04-04T18:54:59.049Z"
   },
   {
    "duration": 9,
    "start_time": "2022-04-04T18:55:00.753Z"
   },
   {
    "duration": 4,
    "start_time": "2022-04-04T18:56:32.115Z"
   },
   {
    "duration": 23,
    "start_time": "2022-04-04T18:56:43.139Z"
   },
   {
    "duration": 18,
    "start_time": "2022-04-04T18:56:46.892Z"
   },
   {
    "duration": 21,
    "start_time": "2022-04-04T18:56:49.311Z"
   },
   {
    "duration": 19,
    "start_time": "2022-04-04T18:56:55.050Z"
   },
   {
    "duration": 13,
    "start_time": "2022-04-04T18:59:29.746Z"
   },
   {
    "duration": 14,
    "start_time": "2022-04-04T18:59:50.716Z"
   },
   {
    "duration": 5,
    "start_time": "2022-04-04T19:00:00.087Z"
   },
   {
    "duration": 6,
    "start_time": "2022-04-04T19:00:59.283Z"
   },
   {
    "duration": 10,
    "start_time": "2022-04-04T19:01:41.179Z"
   },
   {
    "duration": 6,
    "start_time": "2022-04-04T19:01:44.825Z"
   },
   {
    "duration": 467,
    "start_time": "2022-04-05T12:58:03.074Z"
   },
   {
    "duration": 380,
    "start_time": "2022-04-05T12:58:30.145Z"
   },
   {
    "duration": 200,
    "start_time": "2022-04-05T12:58:50.271Z"
   },
   {
    "duration": 411,
    "start_time": "2023-02-28T17:53:27.434Z"
   },
   {
    "duration": 610,
    "start_time": "2023-02-28T17:53:27.847Z"
   },
   {
    "duration": 23,
    "start_time": "2023-02-28T17:53:28.460Z"
   },
   {
    "duration": 175,
    "start_time": "2023-02-28T17:53:28.485Z"
   },
   {
    "duration": 5,
    "start_time": "2023-02-28T17:53:28.662Z"
   },
   {
    "duration": 19,
    "start_time": "2023-02-28T17:53:28.669Z"
   },
   {
    "duration": 41,
    "start_time": "2023-02-28T17:53:28.690Z"
   },
   {
    "duration": 36,
    "start_time": "2023-02-28T17:53:28.734Z"
   },
   {
    "duration": 38,
    "start_time": "2023-02-28T17:53:28.773Z"
   },
   {
    "duration": 39,
    "start_time": "2023-02-28T17:53:28.813Z"
   },
   {
    "duration": 112,
    "start_time": "2023-02-28T17:53:28.854Z"
   },
   {
    "duration": 101,
    "start_time": "2023-02-28T17:53:28.968Z"
   },
   {
    "duration": 71,
    "start_time": "2023-02-28T17:53:29.071Z"
   },
   {
    "duration": 135,
    "start_time": "2023-02-28T17:53:29.147Z"
   },
   {
    "duration": 0,
    "start_time": "2023-02-28T17:53:29.284Z"
   },
   {
    "duration": 0,
    "start_time": "2023-02-28T17:53:29.285Z"
   },
   {
    "duration": 0,
    "start_time": "2023-02-28T17:53:29.300Z"
   },
   {
    "duration": 0,
    "start_time": "2023-02-28T17:53:29.300Z"
   },
   {
    "duration": 0,
    "start_time": "2023-02-28T17:53:29.301Z"
   },
   {
    "duration": 0,
    "start_time": "2023-02-28T17:53:29.302Z"
   },
   {
    "duration": 0,
    "start_time": "2023-02-28T17:53:29.302Z"
   },
   {
    "duration": 0,
    "start_time": "2023-02-28T17:53:29.303Z"
   },
   {
    "duration": 0,
    "start_time": "2023-02-28T17:53:29.308Z"
   },
   {
    "duration": 0,
    "start_time": "2023-02-28T17:53:29.309Z"
   },
   {
    "duration": 0,
    "start_time": "2023-02-28T17:53:29.310Z"
   },
   {
    "duration": 0,
    "start_time": "2023-02-28T17:53:29.311Z"
   },
   {
    "duration": 0,
    "start_time": "2023-02-28T17:53:29.313Z"
   },
   {
    "duration": 0,
    "start_time": "2023-02-28T17:53:29.313Z"
   },
   {
    "duration": 0,
    "start_time": "2023-02-28T17:53:29.314Z"
   },
   {
    "duration": 0,
    "start_time": "2023-02-28T17:53:29.316Z"
   },
   {
    "duration": 0,
    "start_time": "2023-02-28T17:53:29.317Z"
   },
   {
    "duration": 0,
    "start_time": "2023-02-28T17:53:29.318Z"
   },
   {
    "duration": 0,
    "start_time": "2023-02-28T17:53:29.320Z"
   },
   {
    "duration": 0,
    "start_time": "2023-02-28T17:53:29.321Z"
   },
   {
    "duration": 0,
    "start_time": "2023-02-28T17:53:29.324Z"
   },
   {
    "duration": 0,
    "start_time": "2023-02-28T17:53:29.325Z"
   },
   {
    "duration": 0,
    "start_time": "2023-02-28T17:53:29.326Z"
   },
   {
    "duration": 0,
    "start_time": "2023-02-28T17:53:29.328Z"
   },
   {
    "duration": 65,
    "start_time": "2023-02-28T17:54:47.262Z"
   },
   {
    "duration": 424,
    "start_time": "2023-02-28T18:01:33.733Z"
   },
   {
    "duration": 225,
    "start_time": "2023-02-28T18:01:34.159Z"
   },
   {
    "duration": 35,
    "start_time": "2023-02-28T18:01:34.386Z"
   },
   {
    "duration": 66,
    "start_time": "2023-02-28T18:01:34.424Z"
   },
   {
    "duration": 39,
    "start_time": "2023-02-28T18:01:34.493Z"
   },
   {
    "duration": 81,
    "start_time": "2023-02-28T18:01:34.534Z"
   },
   {
    "duration": 53,
    "start_time": "2023-02-28T18:01:34.618Z"
   },
   {
    "duration": 70,
    "start_time": "2023-02-28T18:01:34.675Z"
   },
   {
    "duration": 22,
    "start_time": "2023-02-28T18:01:34.748Z"
   },
   {
    "duration": 27,
    "start_time": "2023-02-28T18:01:34.772Z"
   },
   {
    "duration": 116,
    "start_time": "2023-02-28T18:01:34.801Z"
   },
   {
    "duration": 126,
    "start_time": "2023-02-28T18:01:34.919Z"
   },
   {
    "duration": 89,
    "start_time": "2023-02-28T18:01:35.047Z"
   },
   {
    "duration": 49,
    "start_time": "2023-02-28T18:01:35.142Z"
   },
   {
    "duration": 5,
    "start_time": "2023-02-28T18:01:35.200Z"
   },
   {
    "duration": 14,
    "start_time": "2023-02-28T18:01:35.207Z"
   },
   {
    "duration": 48,
    "start_time": "2023-02-28T18:01:35.224Z"
   },
   {
    "duration": 14,
    "start_time": "2023-02-28T18:01:35.275Z"
   },
   {
    "duration": 52,
    "start_time": "2023-02-28T18:01:35.292Z"
   },
   {
    "duration": 8,
    "start_time": "2023-02-28T18:01:35.347Z"
   },
   {
    "duration": 26,
    "start_time": "2023-02-28T18:01:35.357Z"
   },
   {
    "duration": 61,
    "start_time": "2023-02-28T18:01:35.386Z"
   },
   {
    "duration": 25,
    "start_time": "2023-02-28T18:01:35.449Z"
   },
   {
    "duration": 22,
    "start_time": "2023-02-28T18:01:35.476Z"
   },
   {
    "duration": 43,
    "start_time": "2023-02-28T18:01:35.499Z"
   },
   {
    "duration": 29,
    "start_time": "2023-02-28T18:01:35.544Z"
   },
   {
    "duration": 35,
    "start_time": "2023-02-28T18:01:35.575Z"
   },
   {
    "duration": 62,
    "start_time": "2023-02-28T18:01:35.612Z"
   },
   {
    "duration": 16,
    "start_time": "2023-02-28T18:01:35.675Z"
   },
   {
    "duration": 32,
    "start_time": "2023-02-28T18:01:35.697Z"
   },
   {
    "duration": 47,
    "start_time": "2023-02-28T18:01:35.733Z"
   },
   {
    "duration": 45,
    "start_time": "2023-02-28T18:01:35.782Z"
   },
   {
    "duration": 55,
    "start_time": "2023-02-28T18:01:35.828Z"
   },
   {
    "duration": 35,
    "start_time": "2023-02-28T18:01:35.886Z"
   },
   {
    "duration": 44,
    "start_time": "2023-02-28T18:01:35.923Z"
   },
   {
    "duration": 11,
    "start_time": "2023-02-28T18:01:35.969Z"
   },
   {
    "duration": 61,
    "start_time": "2023-02-28T18:01:35.983Z"
   },
   {
    "duration": 17,
    "start_time": "2023-02-28T18:01:36.046Z"
   }
  ],
  "colab": {
   "collapsed_sections": [
    "E0vqbgi9ay0H",
    "VUC88oWjTJw2"
   ],
   "name": "yandex_music_project.ipynb",
   "provenance": []
  },
  "kernelspec": {
   "display_name": "Python 3 (ipykernel)",
   "language": "python",
   "name": "python3"
  },
  "language_info": {
   "codemirror_mode": {
    "name": "ipython",
    "version": 3
   },
   "file_extension": ".py",
   "mimetype": "text/x-python",
   "name": "python",
   "nbconvert_exporter": "python",
   "pygments_lexer": "ipython3",
   "version": "3.9.5"
  },
  "toc": {
   "base_numbering": 1,
   "nav_menu": {},
   "number_sections": true,
   "sideBar": true,
   "skip_h1_title": true,
   "title_cell": "Table of Contents",
   "title_sidebar": "Contents",
   "toc_cell": false,
   "toc_position": {},
   "toc_section_display": true,
   "toc_window_display": false
  }
 },
 "nbformat": 4,
 "nbformat_minor": 1
}
