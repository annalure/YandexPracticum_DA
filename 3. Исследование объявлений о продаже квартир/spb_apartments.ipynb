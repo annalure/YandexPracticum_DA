{
 "cells": [
  {
   "cell_type": "markdown",
   "metadata": {},
   "source": [
    "# Исследование объявлений о продаже квартир\n",
    "\n",
    "В вашем распоряжении данные сервиса Яндекc Недвижимость — архив объявлений о продаже квартир в Санкт-Петербурге и соседних населённых пунктах за несколько лет. Нужно научиться определять рыночную стоимость объектов недвижимости. Ваша задача — установить параметры. Это позволит построить автоматизированную систему: она отследит аномалии и мошенническую деятельность. \n",
    "\n",
    "По каждой квартире на продажу доступны два вида данных. Первые вписаны пользователем, вторые получены автоматически на основе картографических данных. Например, расстояние до центра, аэропорта, ближайшего парка и водоёма. \n",
    "\n",
    "**Цель исследования** - изучить рынок недвижимости в 2014-2019гг и оценить:\n",
    "    \n",
    "1. Какими объектами представлен рынок по площади, цене, количеству комнат и высоте потолков \n",
    "2. Какие факторы больше всего влияют на стоимость квартиры\n",
    "3. Какая область входит в центр Санкт-Петербурга\n",
    "4. Какие факторы влияют на цену недвижимости в центре города и отличаются ли они от общей выборки\n",
    "\n",
    "**Ход исследования**\n",
    "    \n",
    "Статистика о платежеспособности клиентов предоставлена банком. О качестве данных ничего не известно, поэтому перед проверкой гипотез понадобится обзор данных и предобработка. \n",
    "Проверим данные на ошибки и оценим их влияние на исследование. Затем, на этапе предобработки исправим самые критичные ошибки данных.\n",
    " \n",
    "Таким образом, исследование пройдёт в три этапа:\n",
    " 1. Обзор данных.\n",
    " 2. Предобработка данных.\n",
    " 3. Проверка гипотез."
   ]
  },
  {
   "cell_type": "markdown",
   "metadata": {
    "toc": true
   },
   "source": [
    "<h1>Содержание<span class=\"tocSkip\"></span></h1>\n",
    "<div class=\"toc\"><ul class=\"toc-item\"><li><span><a href=\"#Изучение-данных-из-файла\" data-toc-modified-id=\"Изучение-данных-из-файла-1\"><span class=\"toc-item-num\">1&nbsp;&nbsp;</span>Изучение данных из файла</a></span><ul class=\"toc-item\"><li><span><a href=\"#Вывод\" data-toc-modified-id=\"Вывод-1.1\"><span class=\"toc-item-num\">1.1&nbsp;&nbsp;</span>Вывод</a></span></li></ul></li><li><span><a href=\"#Предобработка-данных\" data-toc-modified-id=\"Предобработка-данных-2\"><span class=\"toc-item-num\">2&nbsp;&nbsp;</span>Предобработка данных</a></span></li><li><span><a href=\"#Расчёты-и-добавление-результатов-в-таблицу\" data-toc-modified-id=\"Расчёты-и-добавление-результатов-в-таблицу-3\"><span class=\"toc-item-num\">3&nbsp;&nbsp;</span>Расчёты и добавление результатов в таблицу</a></span></li><li><span><a href=\"#Исследовательский-анализ-данных\" data-toc-modified-id=\"Исследовательский-анализ-данных-4\"><span class=\"toc-item-num\">4&nbsp;&nbsp;</span>Исследовательский анализ данных</a></span></li><li><span><a href=\"#Общий-вывод\" data-toc-modified-id=\"Общий-вывод-5\"><span class=\"toc-item-num\">5&nbsp;&nbsp;</span>Общий вывод</a></span></li></ul></div>"
   ]
  },
  {
   "cell_type": "markdown",
   "metadata": {},
   "source": [
    "## Изучение данных из файла"
   ]
  },
  {
   "cell_type": "code",
   "execution_count": 1,
   "metadata": {},
   "outputs": [],
   "source": [
    "import pandas as pd\n",
    "import matplotlib.pyplot as plt"
   ]
  },
  {
   "cell_type": "code",
   "execution_count": 2,
   "metadata": {},
   "outputs": [
    {
     "data": {
      "text/html": [
       "<div>\n",
       "<style scoped>\n",
       "    .dataframe tbody tr th:only-of-type {\n",
       "        vertical-align: middle;\n",
       "    }\n",
       "\n",
       "    .dataframe tbody tr th {\n",
       "        vertical-align: top;\n",
       "    }\n",
       "\n",
       "    .dataframe thead th {\n",
       "        text-align: right;\n",
       "    }\n",
       "</style>\n",
       "<table border=\"1\" class=\"dataframe\">\n",
       "  <thead>\n",
       "    <tr style=\"text-align: right;\">\n",
       "      <th></th>\n",
       "      <th>count</th>\n",
       "      <th>mean</th>\n",
       "      <th>std</th>\n",
       "      <th>min</th>\n",
       "      <th>25%</th>\n",
       "      <th>50%</th>\n",
       "      <th>75%</th>\n",
       "      <th>max</th>\n",
       "    </tr>\n",
       "  </thead>\n",
       "  <tbody>\n",
       "    <tr>\n",
       "      <th>total_images</th>\n",
       "      <td>23699.0</td>\n",
       "      <td>9.858475e+00</td>\n",
       "      <td>5.682529e+00</td>\n",
       "      <td>0.0</td>\n",
       "      <td>6.00</td>\n",
       "      <td>9.00</td>\n",
       "      <td>14.0</td>\n",
       "      <td>50.0</td>\n",
       "    </tr>\n",
       "    <tr>\n",
       "      <th>last_price</th>\n",
       "      <td>23699.0</td>\n",
       "      <td>6.541549e+06</td>\n",
       "      <td>1.088701e+07</td>\n",
       "      <td>12190.0</td>\n",
       "      <td>3400000.00</td>\n",
       "      <td>4650000.00</td>\n",
       "      <td>6800000.0</td>\n",
       "      <td>763000000.0</td>\n",
       "    </tr>\n",
       "    <tr>\n",
       "      <th>total_area</th>\n",
       "      <td>23699.0</td>\n",
       "      <td>6.034865e+01</td>\n",
       "      <td>3.565408e+01</td>\n",
       "      <td>12.0</td>\n",
       "      <td>40.00</td>\n",
       "      <td>52.00</td>\n",
       "      <td>69.9</td>\n",
       "      <td>900.0</td>\n",
       "    </tr>\n",
       "    <tr>\n",
       "      <th>rooms</th>\n",
       "      <td>23699.0</td>\n",
       "      <td>2.070636e+00</td>\n",
       "      <td>1.078405e+00</td>\n",
       "      <td>0.0</td>\n",
       "      <td>1.00</td>\n",
       "      <td>2.00</td>\n",
       "      <td>3.0</td>\n",
       "      <td>19.0</td>\n",
       "    </tr>\n",
       "    <tr>\n",
       "      <th>ceiling_height</th>\n",
       "      <td>14504.0</td>\n",
       "      <td>2.771499e+00</td>\n",
       "      <td>1.261056e+00</td>\n",
       "      <td>1.0</td>\n",
       "      <td>2.52</td>\n",
       "      <td>2.65</td>\n",
       "      <td>2.8</td>\n",
       "      <td>100.0</td>\n",
       "    </tr>\n",
       "    <tr>\n",
       "      <th>floors_total</th>\n",
       "      <td>23613.0</td>\n",
       "      <td>1.067382e+01</td>\n",
       "      <td>6.597173e+00</td>\n",
       "      <td>1.0</td>\n",
       "      <td>5.00</td>\n",
       "      <td>9.00</td>\n",
       "      <td>16.0</td>\n",
       "      <td>60.0</td>\n",
       "    </tr>\n",
       "    <tr>\n",
       "      <th>living_area</th>\n",
       "      <td>21796.0</td>\n",
       "      <td>3.445785e+01</td>\n",
       "      <td>2.203045e+01</td>\n",
       "      <td>2.0</td>\n",
       "      <td>18.60</td>\n",
       "      <td>30.00</td>\n",
       "      <td>42.3</td>\n",
       "      <td>409.7</td>\n",
       "    </tr>\n",
       "    <tr>\n",
       "      <th>floor</th>\n",
       "      <td>23699.0</td>\n",
       "      <td>5.892358e+00</td>\n",
       "      <td>4.885249e+00</td>\n",
       "      <td>1.0</td>\n",
       "      <td>2.00</td>\n",
       "      <td>4.00</td>\n",
       "      <td>8.0</td>\n",
       "      <td>33.0</td>\n",
       "    </tr>\n",
       "    <tr>\n",
       "      <th>kitchen_area</th>\n",
       "      <td>21421.0</td>\n",
       "      <td>1.056981e+01</td>\n",
       "      <td>5.905438e+00</td>\n",
       "      <td>1.3</td>\n",
       "      <td>7.00</td>\n",
       "      <td>9.10</td>\n",
       "      <td>12.0</td>\n",
       "      <td>112.0</td>\n",
       "    </tr>\n",
       "    <tr>\n",
       "      <th>balcony</th>\n",
       "      <td>12180.0</td>\n",
       "      <td>1.150082e+00</td>\n",
       "      <td>1.071300e+00</td>\n",
       "      <td>0.0</td>\n",
       "      <td>0.00</td>\n",
       "      <td>1.00</td>\n",
       "      <td>2.0</td>\n",
       "      <td>5.0</td>\n",
       "    </tr>\n",
       "    <tr>\n",
       "      <th>airports_nearest</th>\n",
       "      <td>18157.0</td>\n",
       "      <td>2.879367e+04</td>\n",
       "      <td>1.263088e+04</td>\n",
       "      <td>0.0</td>\n",
       "      <td>18585.00</td>\n",
       "      <td>26726.00</td>\n",
       "      <td>37273.0</td>\n",
       "      <td>84869.0</td>\n",
       "    </tr>\n",
       "    <tr>\n",
       "      <th>cityCenters_nearest</th>\n",
       "      <td>18180.0</td>\n",
       "      <td>1.419128e+04</td>\n",
       "      <td>8.608386e+03</td>\n",
       "      <td>181.0</td>\n",
       "      <td>9238.00</td>\n",
       "      <td>13098.50</td>\n",
       "      <td>16293.0</td>\n",
       "      <td>65968.0</td>\n",
       "    </tr>\n",
       "    <tr>\n",
       "      <th>parks_around3000</th>\n",
       "      <td>18181.0</td>\n",
       "      <td>6.114075e-01</td>\n",
       "      <td>8.020736e-01</td>\n",
       "      <td>0.0</td>\n",
       "      <td>0.00</td>\n",
       "      <td>0.00</td>\n",
       "      <td>1.0</td>\n",
       "      <td>3.0</td>\n",
       "    </tr>\n",
       "    <tr>\n",
       "      <th>parks_nearest</th>\n",
       "      <td>8079.0</td>\n",
       "      <td>4.908046e+02</td>\n",
       "      <td>3.423180e+02</td>\n",
       "      <td>1.0</td>\n",
       "      <td>288.00</td>\n",
       "      <td>455.00</td>\n",
       "      <td>612.0</td>\n",
       "      <td>3190.0</td>\n",
       "    </tr>\n",
       "    <tr>\n",
       "      <th>ponds_around3000</th>\n",
       "      <td>18181.0</td>\n",
       "      <td>7.702547e-01</td>\n",
       "      <td>9.383456e-01</td>\n",
       "      <td>0.0</td>\n",
       "      <td>0.00</td>\n",
       "      <td>1.00</td>\n",
       "      <td>1.0</td>\n",
       "      <td>3.0</td>\n",
       "    </tr>\n",
       "    <tr>\n",
       "      <th>ponds_nearest</th>\n",
       "      <td>9110.0</td>\n",
       "      <td>5.179809e+02</td>\n",
       "      <td>2.777206e+02</td>\n",
       "      <td>13.0</td>\n",
       "      <td>294.00</td>\n",
       "      <td>502.00</td>\n",
       "      <td>729.0</td>\n",
       "      <td>1344.0</td>\n",
       "    </tr>\n",
       "    <tr>\n",
       "      <th>days_exposition</th>\n",
       "      <td>20518.0</td>\n",
       "      <td>1.808886e+02</td>\n",
       "      <td>2.197280e+02</td>\n",
       "      <td>1.0</td>\n",
       "      <td>45.00</td>\n",
       "      <td>95.00</td>\n",
       "      <td>232.0</td>\n",
       "      <td>1580.0</td>\n",
       "    </tr>\n",
       "  </tbody>\n",
       "</table>\n",
       "</div>"
      ],
      "text/plain": [
       "                       count          mean           std      min         25%  \\\n",
       "total_images         23699.0  9.858475e+00  5.682529e+00      0.0        6.00   \n",
       "last_price           23699.0  6.541549e+06  1.088701e+07  12190.0  3400000.00   \n",
       "total_area           23699.0  6.034865e+01  3.565408e+01     12.0       40.00   \n",
       "rooms                23699.0  2.070636e+00  1.078405e+00      0.0        1.00   \n",
       "ceiling_height       14504.0  2.771499e+00  1.261056e+00      1.0        2.52   \n",
       "floors_total         23613.0  1.067382e+01  6.597173e+00      1.0        5.00   \n",
       "living_area          21796.0  3.445785e+01  2.203045e+01      2.0       18.60   \n",
       "floor                23699.0  5.892358e+00  4.885249e+00      1.0        2.00   \n",
       "kitchen_area         21421.0  1.056981e+01  5.905438e+00      1.3        7.00   \n",
       "balcony              12180.0  1.150082e+00  1.071300e+00      0.0        0.00   \n",
       "airports_nearest     18157.0  2.879367e+04  1.263088e+04      0.0    18585.00   \n",
       "cityCenters_nearest  18180.0  1.419128e+04  8.608386e+03    181.0     9238.00   \n",
       "parks_around3000     18181.0  6.114075e-01  8.020736e-01      0.0        0.00   \n",
       "parks_nearest         8079.0  4.908046e+02  3.423180e+02      1.0      288.00   \n",
       "ponds_around3000     18181.0  7.702547e-01  9.383456e-01      0.0        0.00   \n",
       "ponds_nearest         9110.0  5.179809e+02  2.777206e+02     13.0      294.00   \n",
       "days_exposition      20518.0  1.808886e+02  2.197280e+02      1.0       45.00   \n",
       "\n",
       "                            50%        75%          max  \n",
       "total_images               9.00       14.0         50.0  \n",
       "last_price           4650000.00  6800000.0  763000000.0  \n",
       "total_area                52.00       69.9        900.0  \n",
       "rooms                      2.00        3.0         19.0  \n",
       "ceiling_height             2.65        2.8        100.0  \n",
       "floors_total               9.00       16.0         60.0  \n",
       "living_area               30.00       42.3        409.7  \n",
       "floor                      4.00        8.0         33.0  \n",
       "kitchen_area               9.10       12.0        112.0  \n",
       "balcony                    1.00        2.0          5.0  \n",
       "airports_nearest       26726.00    37273.0      84869.0  \n",
       "cityCenters_nearest    13098.50    16293.0      65968.0  \n",
       "parks_around3000           0.00        1.0          3.0  \n",
       "parks_nearest            455.00      612.0       3190.0  \n",
       "ponds_around3000           1.00        1.0          3.0  \n",
       "ponds_nearest            502.00      729.0       1344.0  \n",
       "days_exposition           95.00      232.0       1580.0  "
      ]
     },
     "execution_count": 2,
     "metadata": {},
     "output_type": "execute_result"
    }
   ],
   "source": [
    "data = pd.read_csv('/datasets/real_estate_data.csv', sep = '\\t')\n",
    "data.describe().T"
   ]
  },
  {
   "cell_type": "code",
   "execution_count": 3,
   "metadata": {
    "scrolled": true
   },
   "outputs": [
    {
     "data": {
      "text/html": [
       "<div>\n",
       "<style scoped>\n",
       "    .dataframe tbody tr th:only-of-type {\n",
       "        vertical-align: middle;\n",
       "    }\n",
       "\n",
       "    .dataframe tbody tr th {\n",
       "        vertical-align: top;\n",
       "    }\n",
       "\n",
       "    .dataframe thead th {\n",
       "        text-align: right;\n",
       "    }\n",
       "</style>\n",
       "<table border=\"1\" class=\"dataframe\">\n",
       "  <thead>\n",
       "    <tr style=\"text-align: right;\">\n",
       "      <th></th>\n",
       "      <th>total_images</th>\n",
       "      <th>last_price</th>\n",
       "      <th>total_area</th>\n",
       "      <th>first_day_exposition</th>\n",
       "      <th>rooms</th>\n",
       "      <th>ceiling_height</th>\n",
       "      <th>floors_total</th>\n",
       "      <th>living_area</th>\n",
       "      <th>floor</th>\n",
       "      <th>is_apartment</th>\n",
       "      <th>...</th>\n",
       "      <th>kitchen_area</th>\n",
       "      <th>balcony</th>\n",
       "      <th>locality_name</th>\n",
       "      <th>airports_nearest</th>\n",
       "      <th>cityCenters_nearest</th>\n",
       "      <th>parks_around3000</th>\n",
       "      <th>parks_nearest</th>\n",
       "      <th>ponds_around3000</th>\n",
       "      <th>ponds_nearest</th>\n",
       "      <th>days_exposition</th>\n",
       "    </tr>\n",
       "  </thead>\n",
       "  <tbody>\n",
       "    <tr>\n",
       "      <th>4992</th>\n",
       "      <td>0</td>\n",
       "      <td>1950000.0</td>\n",
       "      <td>36.0</td>\n",
       "      <td>2017-12-10T00:00:00</td>\n",
       "      <td>1</td>\n",
       "      <td>NaN</td>\n",
       "      <td>12.0</td>\n",
       "      <td>NaN</td>\n",
       "      <td>7</td>\n",
       "      <td>NaN</td>\n",
       "      <td>...</td>\n",
       "      <td>NaN</td>\n",
       "      <td>NaN</td>\n",
       "      <td>Кингисепп</td>\n",
       "      <td>NaN</td>\n",
       "      <td>NaN</td>\n",
       "      <td>NaN</td>\n",
       "      <td>NaN</td>\n",
       "      <td>NaN</td>\n",
       "      <td>NaN</td>\n",
       "      <td>44.0</td>\n",
       "    </tr>\n",
       "    <tr>\n",
       "      <th>13196</th>\n",
       "      <td>16</td>\n",
       "      <td>5300000.0</td>\n",
       "      <td>52.0</td>\n",
       "      <td>2017-12-14T00:00:00</td>\n",
       "      <td>2</td>\n",
       "      <td>2.84</td>\n",
       "      <td>15.0</td>\n",
       "      <td>30.7</td>\n",
       "      <td>14</td>\n",
       "      <td>NaN</td>\n",
       "      <td>...</td>\n",
       "      <td>8.0</td>\n",
       "      <td>1.0</td>\n",
       "      <td>Санкт-Петербург</td>\n",
       "      <td>17284.0</td>\n",
       "      <td>16081.0</td>\n",
       "      <td>1.0</td>\n",
       "      <td>353.0</td>\n",
       "      <td>2.0</td>\n",
       "      <td>652.0</td>\n",
       "      <td>30.0</td>\n",
       "    </tr>\n",
       "    <tr>\n",
       "      <th>8931</th>\n",
       "      <td>9</td>\n",
       "      <td>5350000.0</td>\n",
       "      <td>56.2</td>\n",
       "      <td>2015-08-19T00:00:00</td>\n",
       "      <td>2</td>\n",
       "      <td>2.66</td>\n",
       "      <td>14.0</td>\n",
       "      <td>33.1</td>\n",
       "      <td>4</td>\n",
       "      <td>False</td>\n",
       "      <td>...</td>\n",
       "      <td>10.7</td>\n",
       "      <td>0.0</td>\n",
       "      <td>Санкт-Петербург</td>\n",
       "      <td>28877.0</td>\n",
       "      <td>11738.0</td>\n",
       "      <td>0.0</td>\n",
       "      <td>NaN</td>\n",
       "      <td>1.0</td>\n",
       "      <td>226.0</td>\n",
       "      <td>389.0</td>\n",
       "    </tr>\n",
       "    <tr>\n",
       "      <th>11338</th>\n",
       "      <td>17</td>\n",
       "      <td>3500000.0</td>\n",
       "      <td>72.0</td>\n",
       "      <td>2019-03-24T00:00:00</td>\n",
       "      <td>3</td>\n",
       "      <td>2.50</td>\n",
       "      <td>5.0</td>\n",
       "      <td>43.2</td>\n",
       "      <td>4</td>\n",
       "      <td>NaN</td>\n",
       "      <td>...</td>\n",
       "      <td>8.6</td>\n",
       "      <td>NaN</td>\n",
       "      <td>Приозерск</td>\n",
       "      <td>NaN</td>\n",
       "      <td>NaN</td>\n",
       "      <td>NaN</td>\n",
       "      <td>NaN</td>\n",
       "      <td>NaN</td>\n",
       "      <td>NaN</td>\n",
       "      <td>NaN</td>\n",
       "    </tr>\n",
       "    <tr>\n",
       "      <th>12297</th>\n",
       "      <td>12</td>\n",
       "      <td>5250000.0</td>\n",
       "      <td>70.0</td>\n",
       "      <td>2015-02-11T00:00:00</td>\n",
       "      <td>2</td>\n",
       "      <td>2.60</td>\n",
       "      <td>17.0</td>\n",
       "      <td>40.0</td>\n",
       "      <td>1</td>\n",
       "      <td>NaN</td>\n",
       "      <td>...</td>\n",
       "      <td>11.0</td>\n",
       "      <td>0.0</td>\n",
       "      <td>Санкт-Петербург</td>\n",
       "      <td>32522.0</td>\n",
       "      <td>11972.0</td>\n",
       "      <td>1.0</td>\n",
       "      <td>420.0</td>\n",
       "      <td>0.0</td>\n",
       "      <td>NaN</td>\n",
       "      <td>700.0</td>\n",
       "    </tr>\n",
       "  </tbody>\n",
       "</table>\n",
       "<p>5 rows × 22 columns</p>\n",
       "</div>"
      ],
      "text/plain": [
       "       total_images  last_price  total_area first_day_exposition  rooms  \\\n",
       "4992              0   1950000.0        36.0  2017-12-10T00:00:00      1   \n",
       "13196            16   5300000.0        52.0  2017-12-14T00:00:00      2   \n",
       "8931              9   5350000.0        56.2  2015-08-19T00:00:00      2   \n",
       "11338            17   3500000.0        72.0  2019-03-24T00:00:00      3   \n",
       "12297            12   5250000.0        70.0  2015-02-11T00:00:00      2   \n",
       "\n",
       "       ceiling_height  floors_total  living_area  floor is_apartment  ...  \\\n",
       "4992              NaN          12.0          NaN      7          NaN  ...   \n",
       "13196            2.84          15.0         30.7     14          NaN  ...   \n",
       "8931             2.66          14.0         33.1      4        False  ...   \n",
       "11338            2.50           5.0         43.2      4          NaN  ...   \n",
       "12297            2.60          17.0         40.0      1          NaN  ...   \n",
       "\n",
       "       kitchen_area  balcony    locality_name  airports_nearest  \\\n",
       "4992            NaN      NaN        Кингисепп               NaN   \n",
       "13196           8.0      1.0  Санкт-Петербург           17284.0   \n",
       "8931           10.7      0.0  Санкт-Петербург           28877.0   \n",
       "11338           8.6      NaN        Приозерск               NaN   \n",
       "12297          11.0      0.0  Санкт-Петербург           32522.0   \n",
       "\n",
       "      cityCenters_nearest  parks_around3000  parks_nearest  ponds_around3000  \\\n",
       "4992                  NaN               NaN            NaN               NaN   \n",
       "13196             16081.0               1.0          353.0               2.0   \n",
       "8931              11738.0               0.0            NaN               1.0   \n",
       "11338                 NaN               NaN            NaN               NaN   \n",
       "12297             11972.0               1.0          420.0               0.0   \n",
       "\n",
       "       ponds_nearest  days_exposition  \n",
       "4992             NaN             44.0  \n",
       "13196          652.0             30.0  \n",
       "8931           226.0            389.0  \n",
       "11338            NaN              NaN  \n",
       "12297            NaN            700.0  \n",
       "\n",
       "[5 rows x 22 columns]"
      ]
     },
     "execution_count": 3,
     "metadata": {},
     "output_type": "execute_result"
    }
   ],
   "source": [
    "data.sample(5)"
   ]
  },
  {
   "cell_type": "code",
   "execution_count": 4,
   "metadata": {},
   "outputs": [
    {
     "name": "stdout",
     "output_type": "stream",
     "text": [
      "<class 'pandas.core.frame.DataFrame'>\n",
      "RangeIndex: 23699 entries, 0 to 23698\n",
      "Data columns (total 22 columns):\n",
      " #   Column                Non-Null Count  Dtype  \n",
      "---  ------                --------------  -----  \n",
      " 0   total_images          23699 non-null  int64  \n",
      " 1   last_price            23699 non-null  float64\n",
      " 2   total_area            23699 non-null  float64\n",
      " 3   first_day_exposition  23699 non-null  object \n",
      " 4   rooms                 23699 non-null  int64  \n",
      " 5   ceiling_height        14504 non-null  float64\n",
      " 6   floors_total          23613 non-null  float64\n",
      " 7   living_area           21796 non-null  float64\n",
      " 8   floor                 23699 non-null  int64  \n",
      " 9   is_apartment          2775 non-null   object \n",
      " 10  studio                23699 non-null  bool   \n",
      " 11  open_plan             23699 non-null  bool   \n",
      " 12  kitchen_area          21421 non-null  float64\n",
      " 13  balcony               12180 non-null  float64\n",
      " 14  locality_name         23650 non-null  object \n",
      " 15  airports_nearest      18157 non-null  float64\n",
      " 16  cityCenters_nearest   18180 non-null  float64\n",
      " 17  parks_around3000      18181 non-null  float64\n",
      " 18  parks_nearest         8079 non-null   float64\n",
      " 19  ponds_around3000      18181 non-null  float64\n",
      " 20  ponds_nearest         9110 non-null   float64\n",
      " 21  days_exposition       20518 non-null  float64\n",
      "dtypes: bool(2), float64(14), int64(3), object(3)\n",
      "memory usage: 3.7+ MB\n"
     ]
    }
   ],
   "source": [
    "data.info()"
   ]
  },
  {
   "cell_type": "markdown",
   "metadata": {},
   "source": [
    "В файле содержится информация о 23 698 объектах недвижимости Санкт-Петербурга и ближайших населенных пунктов. \n",
    "Согласно документации к данным:\n",
    "\n",
    "* airports_nearest — расстояние до ближайшего аэропорта в метрах (м)\n",
    "* balcony — число балконов\n",
    "* ceiling_height — высота потолков (м)\n",
    "* cityCenters_nearest — расстояние до центра города (м)\n",
    "* days_exposition — сколько дней было размещено объявление (от публикации до снятия)\n",
    "* first_day_exposition — дата публикации\n",
    "* floor — этаж\n",
    "* floors_total — всего этажей в доме\n",
    "* is_apartment — апартаменты (булев тип)\n",
    "* kitchen_area — площадь кухни в квадратных метрах (м²)\n",
    "* last_price — цена на момент снятия с публикации\n",
    "* living_area — жилая площадь в квадратных метрах (м²)\n",
    "* locality_name — название населённого пункта\n",
    "* open_plan — свободная планировка (булев тип)\n",
    "* parks_around3000 — число парков в радиусе 3 км\n",
    "* parks_nearest — расстояние до ближайшего парка (м)\n",
    "* ponds_around3000 — число водоёмов в радиусе 3 км\n",
    "* ponds_nearest — расстояние до ближайшего водоёма (м)\n",
    "* rooms — число комнат\n",
    "* studio — квартира-студия (булев тип)\n",
    "* total_area — площадь квартиры в квадратных метрах (м²)\n",
    "* total_images — число фотографий квартиры в объявлении"
   ]
  },
  {
   "cell_type": "markdown",
   "metadata": {},
   "source": [
    "### Вывод"
   ]
  },
  {
   "cell_type": "markdown",
   "metadata": {},
   "source": [
    "После изучения данных из файла можно сделать следующие выводы:\n",
    "* в некоторых колонках есть пропущенные значения, необходимо разобраться с ними\n",
    "* после заполнения пропусков в некоторых колонках небходимо изменить тип данных, чтобы таблица в целом выглядела более читабельно \n",
    "* также можно увидеть некоторые аномальные значения, которые явно искажают выборку, их необходимо проанализировать"
   ]
  },
  {
   "cell_type": "markdown",
   "metadata": {},
   "source": [
    "## Предобработка данных"
   ]
  },
  {
   "cell_type": "markdown",
   "metadata": {},
   "source": [
    "Сначала разберемся с пропущенными значениями, чтобы понять, насколько они для нас важны и нужно ли заполнять эти пропуски. \n",
    "Наибольшее количество пропусков (88% от всех данных) в колонке 'is_apartment'. Можно предположить, что поле и не заполняли в тех случаях, когда недвижимость не относилась к апартаментам, поэтому заполним пропуски значением False."
   ]
  },
  {
   "cell_type": "code",
   "execution_count": 5,
   "metadata": {},
   "outputs": [],
   "source": [
    "data['is_apartment'] = data['is_apartment'].fillna(False)"
   ]
  },
  {
   "cell_type": "markdown",
   "metadata": {},
   "source": [
    "Аналогичным образом поступим с данными о балконах. Если нет информации о том, что в квартире есть балкон, значит, скорее всего, его там нет. И сразу же заменим тип данных в этой колонке на целочисленный. "
   ]
  },
  {
   "cell_type": "code",
   "execution_count": 6,
   "metadata": {},
   "outputs": [],
   "source": [
    "data['balcony'] = data['balcony'].fillna(0).astype('int8')"
   ]
  },
  {
   "cell_type": "markdown",
   "metadata": {},
   "source": [
    "Пропуски в 'days_exposition' не будем заполнять каким-либо усредненным значением, чтобы искуственно не увеличивать число дней размещения объявления именно по среднему или медианному значению. Просто поменяем тип данных в этом столбце."
   ]
  },
  {
   "cell_type": "code",
   "execution_count": 7,
   "metadata": {},
   "outputs": [],
   "source": [
    "data['days_exposition']=data['days_exposition'].fillna(0).astype('int16')"
   ]
  },
  {
   "cell_type": "markdown",
   "metadata": {},
   "source": [
    "По количеству парков и водоемов в радиусе 3км пропущено 23% данных. Заменим их на ноль, предположив, что часть объектов недвижимости находится вдалеке от этих объектов. "
   ]
  },
  {
   "cell_type": "code",
   "execution_count": 8,
   "metadata": {},
   "outputs": [],
   "source": [
    "data['parks_around3000'] = data['parks_around3000'].fillna(0).astype('int8')\n",
    "data['ponds_around3000'] = data['ponds_around3000'].fillna(0).astype('int8')"
   ]
  },
  {
   "cell_type": "code",
   "execution_count": 9,
   "metadata": {},
   "outputs": [
    {
     "name": "stdout",
     "output_type": "stream",
     "text": [
      "<class 'pandas.core.frame.DataFrame'>\n",
      "RangeIndex: 23699 entries, 0 to 23698\n",
      "Data columns (total 22 columns):\n",
      " #   Column                Non-Null Count  Dtype  \n",
      "---  ------                --------------  -----  \n",
      " 0   total_images          23699 non-null  int64  \n",
      " 1   last_price            23699 non-null  float64\n",
      " 2   total_area            23699 non-null  float64\n",
      " 3   first_day_exposition  23699 non-null  object \n",
      " 4   rooms                 23699 non-null  int64  \n",
      " 5   ceiling_height        14504 non-null  float64\n",
      " 6   floors_total          23613 non-null  float64\n",
      " 7   living_area           21796 non-null  float64\n",
      " 8   floor                 23699 non-null  int64  \n",
      " 9   is_apartment          23699 non-null  bool   \n",
      " 10  studio                23699 non-null  bool   \n",
      " 11  open_plan             23699 non-null  bool   \n",
      " 12  kitchen_area          21421 non-null  float64\n",
      " 13  balcony               23699 non-null  int8   \n",
      " 14  locality_name         23650 non-null  object \n",
      " 15  airports_nearest      18157 non-null  float64\n",
      " 16  cityCenters_nearest   18180 non-null  float64\n",
      " 17  parks_around3000      23699 non-null  int8   \n",
      " 18  parks_nearest         8079 non-null   float64\n",
      " 19  ponds_around3000      23699 non-null  int8   \n",
      " 20  ponds_nearest         9110 non-null   float64\n",
      " 21  days_exposition       23699 non-null  int16  \n",
      "dtypes: bool(3), float64(10), int16(1), int64(3), int8(3), object(2)\n",
      "memory usage: 2.9+ MB\n"
     ]
    }
   ],
   "source": [
    "data.info()"
   ]
  },
  {
   "cell_type": "markdown",
   "metadata": {},
   "source": [
    "На этапе обзора данных из файла были отмечены некоторые аномалии. Например, в данных о высоте потолков. Минимальное значение 1м, максимальное - 100м. Ни то, ни другое значение не является реалистичным. Ошибка могла возникнуть на этапе ввода информации, хотя трудно однозначно сказать, с чем она связана: где-то напечатали лишний знак, не поставили запятую или просто ошиблись цифрой.\n",
    "Очевидно, что для работы с данными аномальные значения необходимо заменить на медианное значение по неаномальным. Таким образом, за нормальные значения примем данные от 2,4м до 3,5м. Минимальная высота потолков, по общим сведениям, в \"хрущевках\" 2,4м, а в \"сталинках\" или квартирах элитной застройки могут быть до 3,5м. Все, что за рамками данного диапазона будем считать аномальными значениями. \n",
    "Заменим аномальные значения медианным и также заполним пропуски в данных. Какая бы квартира не была, потолок в ней должен быть."
   ]
  },
  {
   "cell_type": "code",
   "execution_count": 10,
   "metadata": {},
   "outputs": [
    {
     "data": {
      "text/html": [
       "<div>\n",
       "<style scoped>\n",
       "    .dataframe tbody tr th:only-of-type {\n",
       "        vertical-align: middle;\n",
       "    }\n",
       "\n",
       "    .dataframe tbody tr th {\n",
       "        vertical-align: top;\n",
       "    }\n",
       "\n",
       "    .dataframe thead th {\n",
       "        text-align: right;\n",
       "    }\n",
       "</style>\n",
       "<table border=\"1\" class=\"dataframe\">\n",
       "  <thead>\n",
       "    <tr style=\"text-align: right;\">\n",
       "      <th></th>\n",
       "      <th>total_images</th>\n",
       "      <th>last_price</th>\n",
       "      <th>total_area</th>\n",
       "      <th>first_day_exposition</th>\n",
       "      <th>rooms</th>\n",
       "      <th>ceiling_height</th>\n",
       "      <th>floors_total</th>\n",
       "      <th>living_area</th>\n",
       "      <th>floor</th>\n",
       "      <th>is_apartment</th>\n",
       "      <th>...</th>\n",
       "      <th>kitchen_area</th>\n",
       "      <th>balcony</th>\n",
       "      <th>locality_name</th>\n",
       "      <th>airports_nearest</th>\n",
       "      <th>cityCenters_nearest</th>\n",
       "      <th>parks_around3000</th>\n",
       "      <th>parks_nearest</th>\n",
       "      <th>ponds_around3000</th>\n",
       "      <th>ponds_nearest</th>\n",
       "      <th>days_exposition</th>\n",
       "    </tr>\n",
       "  </thead>\n",
       "  <tbody>\n",
       "  </tbody>\n",
       "</table>\n",
       "<p>0 rows × 22 columns</p>\n",
       "</div>"
      ],
      "text/plain": [
       "Empty DataFrame\n",
       "Columns: [total_images, last_price, total_area, first_day_exposition, rooms, ceiling_height, floors_total, living_area, floor, is_apartment, studio, open_plan, kitchen_area, balcony, locality_name, airports_nearest, cityCenters_nearest, parks_around3000, parks_nearest, ponds_around3000, ponds_nearest, days_exposition]\n",
       "Index: []\n",
       "\n",
       "[0 rows x 22 columns]"
      ]
     },
     "execution_count": 10,
     "metadata": {},
     "output_type": "execute_result"
    }
   ],
   "source": [
    "min_normal_ceiling_height = 2.4\n",
    "max_normal_ceiling_height = 3.5\n",
    "ceiling_height_median = data.query('ceiling_height >= @min_normal_ceiling_height and ceiling_height <= @max_normal_ceiling_height').sort_values(by='ceiling_height').median()\n",
    "ceiling_height_anomal = data.query('ceiling_height <= @min_normal_ceiling_height and ceiling_height >= @max_normal_ceiling_height')\n",
    "\n",
    "data.query('ceiling_height <= @min_normal_ceiling_height and ceiling_height >= @max_normal_ceiling_height').fillna(ceiling_height_median)\n",
    "\n"
   ]
  },
  {
   "cell_type": "markdown",
   "metadata": {},
   "source": [
    "Разберемся с количеством этажей в доме. Максимальное значение в этой колонке - 60. Из общедоступных источников можно узнать, что самый высокий жилой дом в Санкт-Петербурге 37 этажей. Возможно, 60 - это единичная ошибка, и вместо него должно быть 6, но на всякий случай проверим, есть ли еще значения от 37 до 60"
   ]
  },
  {
   "cell_type": "code",
   "execution_count": 11,
   "metadata": {},
   "outputs": [
    {
     "data": {
      "text/plain": [
       "array([16., 11.,  5., 14., 12., 26., 24., 27.,  9.,  6., 17., 25.,  3.,\n",
       "       23., 19., 18.,  4., 22.,  8.,  2., 10.,  7., 13., 15., nan, 20.,\n",
       "       28., 36., 21., 35., 34., 60.,  1., 29., 33., 52., 37.])"
      ]
     },
     "execution_count": 11,
     "metadata": {},
     "output_type": "execute_result"
    }
   ],
   "source": [
    "data['floors_total'].unique()"
   ]
  },
  {
   "cell_type": "markdown",
   "metadata": {},
   "source": [
    "Есть 2 аномальных значения - 60 и 52. Кроме этого, есть пропущенные значения, но их крайне мало - 86 строк (менее 1%). Поэтому просто удалим этим данные, они не повлияют на результат исследования, а обработать их невозможно - замена пропусков и аномалий на любое значение (среднее или медиану) выглядит нелогично."
   ]
  },
  {
   "cell_type": "code",
   "execution_count": 12,
   "metadata": {},
   "outputs": [],
   "source": [
    "data.dropna(subset=['floors_total'], inplace = True)\n",
    "data=data.loc[data['floors_total']<52]\n",
    "data['floors_total']=data['floors_total'].astype('int8')"
   ]
  },
  {
   "cell_type": "markdown",
   "metadata": {},
   "source": [
    "Незаполненными остались данные по расстоянию от объекта до аэроорта/центра/парков/водоемов, а также некоторые названия населенных пунктов. В данном случае логично оставить эти данные пустыми, а не заполнять их каким-либо усредненным значением. \n",
    "Осталось только поменять типы данных."
   ]
  },
  {
   "cell_type": "code",
   "execution_count": 13,
   "metadata": {},
   "outputs": [],
   "source": [
    "data['first_day_exposition'] = pd.to_datetime(data['first_day_exposition'], format = '%Y-%m-%d')\n",
    "data['last_price'] = data['last_price'].astype('int32')\n",
    "data[['rooms','floor','total_images']] = data[['rooms','floor','total_images']].astype('int8')\n",
    "data[['living_area','kitchen_area','total_area']] = data[['living_area','kitchen_area', 'total_area']].astype('float32')"
   ]
  },
  {
   "cell_type": "code",
   "execution_count": 14,
   "metadata": {},
   "outputs": [
    {
     "name": "stdout",
     "output_type": "stream",
     "text": [
      "<class 'pandas.core.frame.DataFrame'>\n",
      "Int64Index: 23611 entries, 0 to 23698\n",
      "Data columns (total 22 columns):\n",
      " #   Column                Non-Null Count  Dtype         \n",
      "---  ------                --------------  -----         \n",
      " 0   total_images          23611 non-null  int8          \n",
      " 1   last_price            23611 non-null  int32         \n",
      " 2   total_area            23611 non-null  float32       \n",
      " 3   first_day_exposition  23611 non-null  datetime64[ns]\n",
      " 4   rooms                 23611 non-null  int8          \n",
      " 5   ceiling_height        14493 non-null  float64       \n",
      " 6   floors_total          23611 non-null  int8          \n",
      " 7   living_area           21741 non-null  float32       \n",
      " 8   floor                 23611 non-null  int8          \n",
      " 9   is_apartment          23611 non-null  bool          \n",
      " 10  studio                23611 non-null  bool          \n",
      " 11  open_plan             23611 non-null  bool          \n",
      " 12  kitchen_area          21380 non-null  float32       \n",
      " 13  balcony               23611 non-null  int8          \n",
      " 14  locality_name         23563 non-null  object        \n",
      " 15  airports_nearest      18079 non-null  float64       \n",
      " 16  cityCenters_nearest   18102 non-null  float64       \n",
      " 17  parks_around3000      23611 non-null  int8          \n",
      " 18  parks_nearest         8043 non-null   float64       \n",
      " 19  ponds_around3000      23611 non-null  int8          \n",
      " 20  ponds_nearest         9060 non-null   float64       \n",
      " 21  days_exposition       23611 non-null  int16         \n",
      "dtypes: bool(3), datetime64[ns](1), float32(3), float64(5), int16(1), int32(1), int8(7), object(1)\n",
      "memory usage: 2.1+ MB\n"
     ]
    }
   ],
   "source": [
    "data.info() #проверка"
   ]
  },
  {
   "cell_type": "markdown",
   "metadata": {},
   "source": [
    "## Расчёты и добавление результатов в таблицу"
   ]
  },
  {
   "cell_type": "code",
   "execution_count": 15,
   "metadata": {},
   "outputs": [],
   "source": [
    "data['price_square_meter'] = round(data['last_price']/data['total_area'],1)\n",
    "data['weekday'] = data['first_day_exposition'].dt.weekday\n",
    "data['month'] = data['first_day_exposition'].dt.month\n",
    "data['year'] = data['first_day_exposition'].dt.year\n",
    "def floor_category(row):\n",
    "    floors_total = row['floors_total']\n",
    "    floor = row['floor']\n",
    "    if floor == 1:\n",
    "        return 'первый'\n",
    "    elif floor == floors_total:\n",
    "        return 'последний'\n",
    "    elif 1 < floor < floors_total:\n",
    "        return 'другой'\n",
    "data['floor_category'] = data.apply(floor_category, axis = 1)\n",
    "data['living_area_ratio'] = round(data['living_area'] / data['total_area'], 3)\n",
    "data['kitchen_area_ratio'] = round(data['kitchen_area'] / data['total_area'], 3)"
   ]
  },
  {
   "cell_type": "code",
   "execution_count": 16,
   "metadata": {},
   "outputs": [
    {
     "data": {
      "text/html": [
       "<div>\n",
       "<style scoped>\n",
       "    .dataframe tbody tr th:only-of-type {\n",
       "        vertical-align: middle;\n",
       "    }\n",
       "\n",
       "    .dataframe tbody tr th {\n",
       "        vertical-align: top;\n",
       "    }\n",
       "\n",
       "    .dataframe thead th {\n",
       "        text-align: right;\n",
       "    }\n",
       "</style>\n",
       "<table border=\"1\" class=\"dataframe\">\n",
       "  <thead>\n",
       "    <tr style=\"text-align: right;\">\n",
       "      <th></th>\n",
       "      <th>total_images</th>\n",
       "      <th>last_price</th>\n",
       "      <th>total_area</th>\n",
       "      <th>first_day_exposition</th>\n",
       "      <th>rooms</th>\n",
       "      <th>ceiling_height</th>\n",
       "      <th>floors_total</th>\n",
       "      <th>living_area</th>\n",
       "      <th>floor</th>\n",
       "      <th>is_apartment</th>\n",
       "      <th>...</th>\n",
       "      <th>ponds_around3000</th>\n",
       "      <th>ponds_nearest</th>\n",
       "      <th>days_exposition</th>\n",
       "      <th>price_square_meter</th>\n",
       "      <th>weekday</th>\n",
       "      <th>month</th>\n",
       "      <th>year</th>\n",
       "      <th>floor_category</th>\n",
       "      <th>living_area_ratio</th>\n",
       "      <th>kitchen_area_ratio</th>\n",
       "    </tr>\n",
       "  </thead>\n",
       "  <tbody>\n",
       "    <tr>\n",
       "      <th>0</th>\n",
       "      <td>20</td>\n",
       "      <td>13000000</td>\n",
       "      <td>108.000000</td>\n",
       "      <td>2019-03-07</td>\n",
       "      <td>3</td>\n",
       "      <td>2.70</td>\n",
       "      <td>16</td>\n",
       "      <td>51.000000</td>\n",
       "      <td>8</td>\n",
       "      <td>False</td>\n",
       "      <td>...</td>\n",
       "      <td>2</td>\n",
       "      <td>755.0</td>\n",
       "      <td>0</td>\n",
       "      <td>120370.4</td>\n",
       "      <td>3</td>\n",
       "      <td>3</td>\n",
       "      <td>2019</td>\n",
       "      <td>другой</td>\n",
       "      <td>0.472</td>\n",
       "      <td>0.231</td>\n",
       "    </tr>\n",
       "    <tr>\n",
       "      <th>1</th>\n",
       "      <td>7</td>\n",
       "      <td>3350000</td>\n",
       "      <td>40.400002</td>\n",
       "      <td>2018-12-04</td>\n",
       "      <td>1</td>\n",
       "      <td>NaN</td>\n",
       "      <td>11</td>\n",
       "      <td>18.600000</td>\n",
       "      <td>1</td>\n",
       "      <td>False</td>\n",
       "      <td>...</td>\n",
       "      <td>0</td>\n",
       "      <td>NaN</td>\n",
       "      <td>81</td>\n",
       "      <td>82920.8</td>\n",
       "      <td>1</td>\n",
       "      <td>12</td>\n",
       "      <td>2018</td>\n",
       "      <td>первый</td>\n",
       "      <td>0.460</td>\n",
       "      <td>0.272</td>\n",
       "    </tr>\n",
       "    <tr>\n",
       "      <th>2</th>\n",
       "      <td>10</td>\n",
       "      <td>5196000</td>\n",
       "      <td>56.000000</td>\n",
       "      <td>2015-08-20</td>\n",
       "      <td>2</td>\n",
       "      <td>NaN</td>\n",
       "      <td>5</td>\n",
       "      <td>34.299999</td>\n",
       "      <td>4</td>\n",
       "      <td>False</td>\n",
       "      <td>...</td>\n",
       "      <td>2</td>\n",
       "      <td>574.0</td>\n",
       "      <td>558</td>\n",
       "      <td>92785.7</td>\n",
       "      <td>3</td>\n",
       "      <td>8</td>\n",
       "      <td>2015</td>\n",
       "      <td>другой</td>\n",
       "      <td>0.612</td>\n",
       "      <td>0.148</td>\n",
       "    </tr>\n",
       "    <tr>\n",
       "      <th>3</th>\n",
       "      <td>0</td>\n",
       "      <td>64900000</td>\n",
       "      <td>159.000000</td>\n",
       "      <td>2015-07-24</td>\n",
       "      <td>3</td>\n",
       "      <td>NaN</td>\n",
       "      <td>14</td>\n",
       "      <td>NaN</td>\n",
       "      <td>9</td>\n",
       "      <td>False</td>\n",
       "      <td>...</td>\n",
       "      <td>3</td>\n",
       "      <td>234.0</td>\n",
       "      <td>424</td>\n",
       "      <td>408176.1</td>\n",
       "      <td>4</td>\n",
       "      <td>7</td>\n",
       "      <td>2015</td>\n",
       "      <td>другой</td>\n",
       "      <td>NaN</td>\n",
       "      <td>NaN</td>\n",
       "    </tr>\n",
       "    <tr>\n",
       "      <th>4</th>\n",
       "      <td>2</td>\n",
       "      <td>10000000</td>\n",
       "      <td>100.000000</td>\n",
       "      <td>2018-06-19</td>\n",
       "      <td>2</td>\n",
       "      <td>3.03</td>\n",
       "      <td>14</td>\n",
       "      <td>32.000000</td>\n",
       "      <td>13</td>\n",
       "      <td>False</td>\n",
       "      <td>...</td>\n",
       "      <td>1</td>\n",
       "      <td>48.0</td>\n",
       "      <td>121</td>\n",
       "      <td>100000.0</td>\n",
       "      <td>1</td>\n",
       "      <td>6</td>\n",
       "      <td>2018</td>\n",
       "      <td>другой</td>\n",
       "      <td>0.320</td>\n",
       "      <td>0.410</td>\n",
       "    </tr>\n",
       "  </tbody>\n",
       "</table>\n",
       "<p>5 rows × 29 columns</p>\n",
       "</div>"
      ],
      "text/plain": [
       "   total_images  last_price  total_area first_day_exposition  rooms  \\\n",
       "0            20    13000000  108.000000           2019-03-07      3   \n",
       "1             7     3350000   40.400002           2018-12-04      1   \n",
       "2            10     5196000   56.000000           2015-08-20      2   \n",
       "3             0    64900000  159.000000           2015-07-24      3   \n",
       "4             2    10000000  100.000000           2018-06-19      2   \n",
       "\n",
       "   ceiling_height  floors_total  living_area  floor  is_apartment  ...  \\\n",
       "0            2.70            16    51.000000      8         False  ...   \n",
       "1             NaN            11    18.600000      1         False  ...   \n",
       "2             NaN             5    34.299999      4         False  ...   \n",
       "3             NaN            14          NaN      9         False  ...   \n",
       "4            3.03            14    32.000000     13         False  ...   \n",
       "\n",
       "   ponds_around3000  ponds_nearest  days_exposition  price_square_meter  \\\n",
       "0                 2          755.0                0            120370.4   \n",
       "1                 0            NaN               81             82920.8   \n",
       "2                 2          574.0              558             92785.7   \n",
       "3                 3          234.0              424            408176.1   \n",
       "4                 1           48.0              121            100000.0   \n",
       "\n",
       "  weekday  month  year  floor_category  living_area_ratio  kitchen_area_ratio  \n",
       "0       3      3  2019          другой              0.472               0.231  \n",
       "1       1     12  2018          первый              0.460               0.272  \n",
       "2       3      8  2015          другой              0.612               0.148  \n",
       "3       4      7  2015          другой                NaN                 NaN  \n",
       "4       1      6  2018          другой              0.320               0.410  \n",
       "\n",
       "[5 rows x 29 columns]"
      ]
     },
     "execution_count": 16,
     "metadata": {},
     "output_type": "execute_result"
    }
   ],
   "source": [
    "data.head()"
   ]
  },
  {
   "cell_type": "markdown",
   "metadata": {},
   "source": [
    "## Исследовательский анализ данных"
   ]
  },
  {
   "cell_type": "markdown",
   "metadata": {},
   "source": [
    "Изучим площадь, цену, число комнат, высоту потолков квартир. Для каждого параметра построим гистограмму."
   ]
  },
  {
   "cell_type": "code",
   "execution_count": 17,
   "metadata": {},
   "outputs": [
    {
     "data": {
      "text/plain": [
       "count    23611.000000\n",
       "mean        60.342171\n",
       "std         35.650120\n",
       "min         12.000000\n",
       "25%         40.000000\n",
       "50%         52.000000\n",
       "75%         69.800003\n",
       "max        900.000000\n",
       "Name: total_area, dtype: float64"
      ]
     },
     "execution_count": 17,
     "metadata": {},
     "output_type": "execute_result"
    },
    {
     "data": {
      "image/png": "[encoded data removed]",
      "text/plain": [
       "<Figure size 360x216 with 1 Axes>"
      ]
     },
     "metadata": {
      "needs_background": "light"
     },
     "output_type": "display_data"
    },
    {
     "data": {
      "image/png": "[encoded data removed]",
      "text/plain": [
       "<Figure size 360x216 with 1 Axes>"
      ]
     },
     "metadata": {
      "needs_background": "light"
     },
     "output_type": "display_data"
    }
   ],
   "source": [
    "data.plot(y='total_area', kind='hist', bins=100, grid=True, figsize=(5,3), range=(0,1000))\n",
    "data.plot(y='total_area', kind='hist', bins=100, grid=True, figsize=(5,3), range=(0,200))\n",
    "data['total_area'].describe()"
   ]
  },
  {
   "cell_type": "markdown",
   "metadata": {},
   "source": [
    "На диаграмме представлено нормальное распределение (распределение Гаусса).\n",
    "75% жилых объектов Санкт-Петербурга и близлижащих районов имеют общую площадь от 40,6 до 70 кв.м. Это вполне логично, т.к. это стандартная площадь 1-3-комнатных квартир. \n",
    "Оставшиеся 25% - это небольшие квартиры от 20 до 40,6 кв.м. (скорее всего, апартаменты) и жилые объекты с площадью от 70 до 900 кв.м."
   ]
  },
  {
   "cell_type": "code",
   "execution_count": 18,
   "metadata": {},
   "outputs": [
    {
     "data": {
      "text/plain": [
       "count    2.361100e+04\n",
       "mean     6.540780e+06\n",
       "std      1.090216e+07\n",
       "min      1.219000e+04\n",
       "25%      3.400000e+06\n",
       "50%      4.650000e+06\n",
       "75%      6.799000e+06\n",
       "max      7.630000e+08\n",
       "Name: last_price, dtype: float64"
      ]
     },
     "execution_count": 18,
     "metadata": {},
     "output_type": "execute_result"
    },
    {
     "data": {
      "image/png": "[encoded data removed]",
      "text/plain": [
       "<Figure size 504x504 with 1 Axes>"
      ]
     },
     "metadata": {
      "needs_background": "light"
     },
     "output_type": "display_data"
    }
   ],
   "source": [
    "data.plot(y = 'last_price', kind = 'hist', bins = 100, grid=True, range = (0,5000000), figsize = (7,7))\n",
    "data['last_price'].describe()"
   ]
  },
  {
   "cell_type": "markdown",
   "metadata": {},
   "source": [
    "На диаграмме также нормальное распределение (распределение Гаусса). 75% квартир находятся в диапазоне от 3,4 млн руб. до 6,8 млн руб. Минимальная цена 12 190 руб выглядит как выброс, скорее всего, это ошибочное значение."
   ]
  },
  {
   "cell_type": "code",
   "execution_count": 19,
   "metadata": {},
   "outputs": [
    {
     "data": {
      "text/plain": [
       "array([ 3,  1,  2,  4,  5,  6,  0,  7, 11,  8, 14, 10, 15,  9, 19, 16, 12],\n",
       "      dtype=int8)"
      ]
     },
     "execution_count": 19,
     "metadata": {},
     "output_type": "execute_result"
    }
   ],
   "source": [
    "data['rooms'].unique()"
   ]
  },
  {
   "cell_type": "code",
   "execution_count": 20,
   "metadata": {},
   "outputs": [
    {
     "data": {
      "text/plain": [
       "count    23611.000000\n",
       "mean         2.071196\n",
       "std          1.078403\n",
       "min          0.000000\n",
       "25%          1.000000\n",
       "50%          2.000000\n",
       "75%          3.000000\n",
       "max         19.000000\n",
       "Name: rooms, dtype: float64"
      ]
     },
     "execution_count": 20,
     "metadata": {},
     "output_type": "execute_result"
    },
    {
     "data": {
      "image/png": "[encoded data removed]",
      "text/plain": [
       "<Figure size 432x288 with 1 Axes>"
      ]
     },
     "metadata": {
      "needs_background": "light"
     },
     "output_type": "display_data"
    }
   ],
   "source": [
    "data.plot(y = 'rooms', kind = 'hist', bins = 20, grid=True)\n",
    "data['rooms'].describe()"
   ]
  },
  {
   "cell_type": "markdown",
   "metadata": {},
   "source": [
    "На рынке недвижимости Санкт-Петербурга наибольшую долю занимают однокомнатные и двухкомнатные квартиры. Также присутствуют аномальные значения (выбросы), но их доля в выборке очень низкая. "
   ]
  },
  {
   "cell_type": "code",
   "execution_count": 21,
   "metadata": {},
   "outputs": [
    {
     "data": {
      "text/plain": [
       "count    14493.000000\n",
       "mean         2.771496\n",
       "std          1.261531\n",
       "min          1.000000\n",
       "25%          2.520000\n",
       "50%          2.650000\n",
       "75%          2.800000\n",
       "max        100.000000\n",
       "Name: ceiling_height, dtype: float64"
      ]
     },
     "execution_count": 21,
     "metadata": {},
     "output_type": "execute_result"
    },
    {
     "data": {
      "image/png": "[encoded data removed]",
      "text/plain": [
       "<Figure size 360x216 with 1 Axes>"
      ]
     },
     "metadata": {
      "needs_background": "light"
     },
     "output_type": "display_data"
    }
   ],
   "source": [
    "data.plot(y ='ceiling_height', kind ='hist', bins = 30, range = (2,5), grid=True, figsize = (5,3))\n",
    "data['ceiling_height'].describe()"
   ]
  },
  {
   "cell_type": "markdown",
   "metadata": {},
   "source": [
    "Высота потолков в большинстве случаев находится на уровне среднего значения - 2,65м. Это связано с тем, что на этапе предобработки данных все пропуски и аномальные значения были заменены на медианное значение. Но даже с учетом этого можно сказать, что на рынке гораздо реже встречаются квартиры с высотой потолков более 3м. Также крайне мало квартир с минимальной высотой (2,4м)."
   ]
  },
  {
   "cell_type": "markdown",
   "metadata": {},
   "source": [
    "**Изучим время продажи квартиры**"
   ]
  },
  {
   "cell_type": "code",
   "execution_count": 22,
   "metadata": {},
   "outputs": [
    {
     "data": {
      "text/plain": [
       "count    23611.000000\n",
       "mean       156.590403\n",
       "std        213.510349\n",
       "min          0.000000\n",
       "25%         22.000000\n",
       "50%         73.000000\n",
       "75%        199.000000\n",
       "max       1580.000000\n",
       "Name: days_exposition, dtype: float64"
      ]
     },
     "execution_count": 22,
     "metadata": {},
     "output_type": "execute_result"
    },
    {
     "data": {
      "image/png": "[encoded data removed]",
      "text/plain": [
       "<Figure size 432x288 with 1 Axes>"
      ]
     },
     "metadata": {
      "needs_background": "light"
     },
     "output_type": "display_data"
    },
    {
     "data": {
      "image/png": "[encoded data removed]",
      "text/plain": [
       "<Figure size 432x288 with 1 Axes>"
      ]
     },
     "metadata": {
      "needs_background": "light"
     },
     "output_type": "display_data"
    },
    {
     "data": {
      "image/png": "[encoded data removed]",
      "text/plain": [
       "<Figure size 432x288 with 1 Axes>"
      ]
     },
     "metadata": {
      "needs_background": "light"
     },
     "output_type": "display_data"
    }
   ],
   "source": [
    "plt.boxplot(data['days_exposition'])\n",
    "plt.ylim(1,1000)\n",
    "\n",
    "data.plot(y = 'days_exposition', kind = 'hist', bins = 30, grid = True, range = (1,1600))\n",
    "data.plot(y = 'days_exposition', kind = 'hist', bins = 100, grid = True, range = (1,100))\n",
    "data['days_exposition'].describe()\n"
   ]
  },
  {
   "cell_type": "markdown",
   "metadata": {},
   "source": [
    "Графики представляют собой распределение Пуассона.\n",
    "Среднее значение 156 дней, а медиана - 74 дня. Однако, нужно учитывать, что снятие объявления с публикации не всегда может быть связано с продажей квартиры. Также как и то, что 0 - это пропущенные значения в данных, которые на этапе предобработки данных мы не стали ничем заменять.\n",
    "Наиболее популярные дни для снятия объявлений с продажи - это 30,45,60,90. Вероятнее всего, это связано не с реальной продажей квартиры, а со сроком размещения объявления на сервисе Яндекс.Недвижимость. \n",
    "Также есть и аномальные значения, например, максимальное количество дней, которое объявление было размещено на сервисе - 1580 дней. Это необоснованно долго и вряд ли соответствует действительности. \n",
    "Определим, какие еще значения могут считаться аномальными. Для этого посмотрим межквартильный размах (от 45 до 240 дней).\n",
    "При этом на графике мы видим значения от 0 до примерно 520 дней. Значит, все значения выше - также необоснованно долгие."
   ]
  },
  {
   "cell_type": "markdown",
   "metadata": {},
   "source": [
    "**Уберем редкие и выбивающие значения**\n",
    "\n",
    "Для этого отфильтруем данные и сохраним их в новый датафрейм"
   ]
  },
  {
   "cell_type": "code",
   "execution_count": 23,
   "metadata": {},
   "outputs": [
    {
     "data": {
      "text/plain": [
       "(1.0, 1000.0)"
      ]
     },
     "execution_count": 23,
     "metadata": {},
     "output_type": "execute_result"
    },
    {
     "data": {
      "image/png": "[encoded data removed]",
      "text/plain": [
       "<Figure size 432x288 with 1 Axes>"
      ]
     },
     "metadata": {
      "needs_background": "light"
     },
     "output_type": "display_data"
    }
   ],
   "source": [
    "good_data = data.query('days_exposition not in (7,30,45,60,90)')\n",
    "plt.boxplot(good_data['days_exposition'])\n",
    "plt.ylim(1,1000)"
   ]
  },
  {
   "cell_type": "code",
   "execution_count": 24,
   "metadata": {},
   "outputs": [
    {
     "data": {
      "text/plain": [
       "count    21551.000000\n",
       "mean       167.020231\n",
       "std        220.580446\n",
       "min          0.000000\n",
       "25%         20.000000\n",
       "50%         86.000000\n",
       "75%        218.000000\n",
       "max       1580.000000\n",
       "Name: days_exposition, dtype: float64"
      ]
     },
     "execution_count": 24,
     "metadata": {},
     "output_type": "execute_result"
    },
    {
     "data": {
      "image/png": "[encoded data removed]",
      "text/plain": [
       "<Figure size 432x288 with 1 Axes>"
      ]
     },
     "metadata": {
      "needs_background": "light"
     },
     "output_type": "display_data"
    },
    {
     "data": {
      "image/png": "[encoded data removed]",
      "text/plain": [
       "<Figure size 432x288 with 1 Axes>"
      ]
     },
     "metadata": {
      "needs_background": "light"
     },
     "output_type": "display_data"
    }
   ],
   "source": [
    "good_data.plot(y = 'days_exposition', kind = 'hist', bins = 30, grid = True, range = (1,1600))\n",
    "good_data.plot(y = 'days_exposition', kind = 'hist', bins = 100, grid = True, range = (1,200))\n",
    "#good_data['days_exposition'].value_counts()\n",
    "good_data['days_exposition'].describe()\n"
   ]
  },
  {
   "cell_type": "markdown",
   "metadata": {},
   "source": [
    "Теперь данные очищены от аномальных значений, и можно проанализировать новые гистограммы.\n",
    "Т.к. мы убрали аномально большие значения, среднее значение и медиана изменились (стали 197 и 116 соответственно).\n",
    "Если смотреть диаграмму размаха, то видим, нормальные значения расположились в диапазоне от 1 до 600 дней. "
   ]
  },
  {
   "cell_type": "code",
   "execution_count": 25,
   "metadata": {},
   "outputs": [
    {
     "data": {
      "text/plain": [
       "(1.0, 70.0)"
      ]
     },
     "execution_count": 25,
     "metadata": {},
     "output_type": "execute_result"
    },
    {
     "data": {
      "image/png": "[encoded data removed]",
      "text/plain": [
       "<Figure size 432x288 with 1 Axes>"
      ]
     },
     "metadata": {
      "needs_background": "light"
     },
     "output_type": "display_data"
    }
   ],
   "source": [
    "good_area = data.query('total_area !=900')\n",
    "plt.boxplot(good_area['total_area'])\n",
    "plt.ylim(1,70)"
   ]
  },
  {
   "cell_type": "code",
   "execution_count": 26,
   "metadata": {},
   "outputs": [
    {
     "data": {
      "text/plain": [
       "(1.0, 5.0)"
      ]
     },
     "execution_count": 26,
     "metadata": {},
     "output_type": "execute_result"
    },
    {
     "data": {
      "image/png": "[encoded data removed]",
      "text/plain": [
       "<Figure size 432x288 with 1 Axes>"
      ]
     },
     "metadata": {
      "needs_background": "light"
     },
     "output_type": "display_data"
    }
   ],
   "source": [
    "good_rooms = data.query('rooms !=19')\n",
    "plt.boxplot(good_rooms['rooms'])\n",
    "plt.ylim(1,5)"
   ]
  },
  {
   "cell_type": "markdown",
   "metadata": {},
   "source": [
    "**Какие факторы больше всего влияют на стоимость квартиры?**"
   ]
  },
  {
   "cell_type": "markdown",
   "metadata": {},
   "source": [
    "Изучим, зависит ли цена от площади, числа комнат, удалённости от центра. Зависит ли цена от того, на каком этаже расположена квартира: первом, последнем или другом. Также изучим зависимость от даты размещения: дня недели, месяца и года.\n",
    "Для определения зависимости рассчитаем коэффициенты корреляции."
   ]
  },
  {
   "cell_type": "code",
   "execution_count": 27,
   "metadata": {},
   "outputs": [
    {
     "data": {
      "text/plain": [
       "0.6535794400414481"
      ]
     },
     "execution_count": 27,
     "metadata": {},
     "output_type": "execute_result"
    },
    {
     "data": {
      "image/png": "[encoded data removed]",
      "text/plain": [
       "<Figure size 432x288 with 1 Axes>"
      ]
     },
     "metadata": {
      "needs_background": "light"
     },
     "output_type": "display_data"
    }
   ],
   "source": [
    "total_area_price = data.pivot_table(index = 'total_area', values = 'last_price', aggfunc = ['mean', 'count', 'median'])\n",
    "total_area_price.columns = ['mean', 'count', 'median']\n",
    "total_area_price.plot(y = 'median', style = 'o')\n",
    "total_area_price.sort_values('median', ascending = False)\n",
    "data['total_area'].corr(data['last_price'])"
   ]
  },
  {
   "cell_type": "markdown",
   "metadata": {},
   "source": [
    "Коэффициент корреляции составил 0,65. Это значит, что есть прямая зависимость между ценой и площадью. Площадь оказывает наибольшее влияние на цену квартиры. Также могут влиять месторасположение, удаленность от центра, инфраструктура вблизи жилого дома и т.д.\n",
    "Проверим корреляцию междуценой и числом комнат."
   ]
  },
  {
   "cell_type": "code",
   "execution_count": 28,
   "metadata": {},
   "outputs": [
    {
     "data": {
      "text/plain": [
       "0.3631221062536366"
      ]
     },
     "execution_count": 28,
     "metadata": {},
     "output_type": "execute_result"
    },
    {
     "data": {
      "image/png": "[encoded data removed]",
      "text/plain": [
       "<Figure size 432x288 with 1 Axes>"
      ]
     },
     "metadata": {
      "needs_background": "light"
     },
     "output_type": "display_data"
    }
   ],
   "source": [
    "price_rooms = data.pivot_table(index = 'rooms', values = 'last_price', aggfunc = ['mean', 'count', 'median'])\n",
    "price_rooms.columns = ['mean', 'count', 'median']\n",
    "price_rooms.query('count > 50').plot(y = 'median')\n",
    "\n",
    "price_rooms.query('count > 50').sort_values('median', ascending = False)\n",
    "\n",
    "data['rooms'].corr(data['last_price'])"
   ]
  },
  {
   "cell_type": "markdown",
   "metadata": {},
   "source": [
    "Коэффициент корреляции равен 0,36. Т.е. связь между этими параметрами есть. Если посмотреть на график, то можно увидеть, что чем больше комнат, тем больше цена квартиры. \n",
    "В целом, это выглядит логично, т.к. 1-3хкомнатные квартиры - это самый распространенный вариант. Четыре, пять и более комнат встречается реже, это уже более элитное современное жилье большой площади, поэтому и рост цены понятен.\n",
    "Проанализируем зависимость цены и удаленности от центра."
   ]
  },
  {
   "cell_type": "code",
   "execution_count": 29,
   "metadata": {},
   "outputs": [
    {
     "data": {
      "text/plain": [
       "-0.20624152445717997"
      ]
     },
     "execution_count": 29,
     "metadata": {},
     "output_type": "execute_result"
    }
   ],
   "source": [
    "price_cityCenter = data.pivot_table(index = 'cityCenters_nearest', values = 'last_price', aggfunc = ['mean', 'count', 'median'])\n",
    "price_cityCenter.columns = ['mean', 'count', 'median']\n",
    "data['cityCenters_nearest'].corr(data['last_price'])"
   ]
  },
  {
   "cell_type": "code",
   "execution_count": 30,
   "metadata": {},
   "outputs": [
    {
     "data": {
      "text/plain": [
       "<AxesSubplot:xlabel='cityCenters_nearest', ylabel='last_price'>"
      ]
     },
     "execution_count": 30,
     "metadata": {},
     "output_type": "execute_result"
    },
    {
     "data": {
      "image/png": "[encoded data removed]",
      "text/plain": [
       "<Figure size 432x288 with 1 Axes>"
      ]
     },
     "metadata": {
      "needs_background": "light"
     },
     "output_type": "display_data"
    }
   ],
   "source": [
    "data.plot(kind = 'scatter', y = 'last_price', x = 'cityCenters_nearest', alpha = 0.3)"
   ]
  },
  {
   "cell_type": "markdown",
   "metadata": {},
   "source": [
    "На графике четко видна зависимость между близостью к центру и ценой за квадратный метр. Чем ближе к центру, тем квартиры дороже.\n",
    "Проверим, зависит ли цена от того, на каком этаже расположена квартира: первом, последнем или другом."
   ]
  },
  {
   "cell_type": "code",
   "execution_count": 31,
   "metadata": {},
   "outputs": [
    {
     "data": {
      "text/plain": [
       "<AxesSubplot:xlabel='floor_category'>"
      ]
     },
     "execution_count": 31,
     "metadata": {},
     "output_type": "execute_result"
    },
    {
     "data": {
      "image/png": "[encoded data removed]",
      "text/plain": [
       "<Figure size 432x288 with 1 Axes>"
      ]
     },
     "metadata": {
      "needs_background": "light"
     },
     "output_type": "display_data"
    },
    {
     "data": {
      "image/png": "[encoded data removed]",
      "text/plain": [
       "<Figure size 432x288 with 1 Axes>"
      ]
     },
     "metadata": {
      "needs_background": "light"
     },
     "output_type": "display_data"
    }
   ],
   "source": [
    "price_floor_category = data.pivot_table(index = 'floor_category', values = 'last_price', aggfunc = ['mean', 'count', 'median'])\n",
    "price_floor_category.columns =['mean', 'count', 'median']\n",
    "price_floor_category.plot(y ='median')\n",
    "plt.yticks([0,1,2,3,4,5])\n",
    "price_floor_category.plot(y ='median')"
   ]
  },
  {
   "cell_type": "markdown",
   "metadata": {},
   "source": [
    "Наибольшую стоимость имеют квартиры не на крайних этажах. Наименьшая стоимость квадратного метра квартир на первом этаже, и чуть выше цена квартир на последнем этаже."
   ]
  },
  {
   "cell_type": "markdown",
   "metadata": {},
   "source": [
    "**Изучим зависимость цены квадратного метра от даты размещения.**\n",
    "\n",
    "Сначала по дням недели"
   ]
  },
  {
   "cell_type": "code",
   "execution_count": 32,
   "metadata": {},
   "outputs": [
    {
     "data": {
      "text/html": [
       "<div>\n",
       "<style scoped>\n",
       "    .dataframe tbody tr th:only-of-type {\n",
       "        vertical-align: middle;\n",
       "    }\n",
       "\n",
       "    .dataframe tbody tr th {\n",
       "        vertical-align: top;\n",
       "    }\n",
       "\n",
       "    .dataframe thead th {\n",
       "        text-align: right;\n",
       "    }\n",
       "</style>\n",
       "<table border=\"1\" class=\"dataframe\">\n",
       "  <thead>\n",
       "    <tr style=\"text-align: right;\">\n",
       "      <th></th>\n",
       "      <th>mean</th>\n",
       "      <th>count</th>\n",
       "      <th>median</th>\n",
       "    </tr>\n",
       "    <tr>\n",
       "      <th>weekday</th>\n",
       "      <th></th>\n",
       "      <th></th>\n",
       "      <th></th>\n",
       "    </tr>\n",
       "  </thead>\n",
       "  <tbody>\n",
       "    <tr>\n",
       "      <th>1</th>\n",
       "      <td>6.390112e+06</td>\n",
       "      <td>4170</td>\n",
       "      <td>4725000</td>\n",
       "    </tr>\n",
       "    <tr>\n",
       "      <th>2</th>\n",
       "      <td>6.631800e+06</td>\n",
       "      <td>3956</td>\n",
       "      <td>4700000</td>\n",
       "    </tr>\n",
       "    <tr>\n",
       "      <th>0</th>\n",
       "      <td>6.519826e+06</td>\n",
       "      <td>3601</td>\n",
       "      <td>4650000</td>\n",
       "    </tr>\n",
       "    <tr>\n",
       "      <th>3</th>\n",
       "      <td>6.704344e+06</td>\n",
       "      <td>4284</td>\n",
       "      <td>4650000</td>\n",
       "    </tr>\n",
       "    <tr>\n",
       "      <th>4</th>\n",
       "      <td>6.367272e+06</td>\n",
       "      <td>3988</td>\n",
       "      <td>4577500</td>\n",
       "    </tr>\n",
       "    <tr>\n",
       "      <th>5</th>\n",
       "      <td>6.980411e+06</td>\n",
       "      <td>1922</td>\n",
       "      <td>4550000</td>\n",
       "    </tr>\n",
       "    <tr>\n",
       "      <th>6</th>\n",
       "      <td>6.238971e+06</td>\n",
       "      <td>1690</td>\n",
       "      <td>4540000</td>\n",
       "    </tr>\n",
       "  </tbody>\n",
       "</table>\n",
       "</div>"
      ],
      "text/plain": [
       "                 mean  count   median\n",
       "weekday                              \n",
       "1        6.390112e+06   4170  4725000\n",
       "2        6.631800e+06   3956  4700000\n",
       "0        6.519826e+06   3601  4650000\n",
       "3        6.704344e+06   4284  4650000\n",
       "4        6.367272e+06   3988  4577500\n",
       "5        6.980411e+06   1922  4550000\n",
       "6        6.238971e+06   1690  4540000"
      ]
     },
     "execution_count": 32,
     "metadata": {},
     "output_type": "execute_result"
    },
    {
     "data": {
      "image/png": "[encoded data removed]",
      "text/plain": [
       "<Figure size 432x288 with 1 Axes>"
      ]
     },
     "metadata": {
      "needs_background": "light"
     },
     "output_type": "display_data"
    },
    {
     "data": {
      "image/png": "[encoded data removed]",
      "text/plain": [
       "<Figure size 432x288 with 1 Axes>"
      ]
     },
     "metadata": {
      "needs_background": "light"
     },
     "output_type": "display_data"
    }
   ],
   "source": [
    "price_weekday = data.pivot_table(index = 'weekday', values = 'last_price', aggfunc = ['mean', 'count', 'median'])\n",
    "price_weekday.columns = ['mean', 'count', 'median']\n",
    "price_weekday.plot(y = 'median')\n",
    "plt.yticks([4.55, 5])\n",
    "price_weekday.plot(y = 'median')\n",
    "\n",
    "price_weekday.sort_values('median', ascending = False)"
   ]
  },
  {
   "cell_type": "markdown",
   "metadata": {},
   "source": [
    "На графике видна следующая тенденция: ко вторнику цена несколько повышается и становится максимальной, а затем плавно начинает снижаться. Чуть большее снижение происходит к пятницу, и в субботу происходит резкое снижение цены до минимального значения.Затем цена снова начинает расти. \n",
    "Такую ситуацию на рынке сложно однозначно прокомментировать и назвать точную причину, можно только предположить, из-за чего так произошло. Возможно, в начале недели происходит увеличение количества объектов недвижимости на рынке. Агентства недвижимости в начале рабочей недели обрабатывают поступившие звявки на продажу и размещают объявления выставляя первоначально максимальную цену. К середине недели на некоторые объекты, которые долго не продаются, делают скидки. И максимальные скидки предоставляются в конце недели и в субботу, т.к. это время наибольшего числа просмотров. Скорее всего, покупали смотрят квартиры в большинстве случаев после работы или в выходные дни. И согласовывая покупку, договариваются о скидке.\n",
    "\n",
    "**Теперь посмотрим, как на цену влияет месяц покупки.**"
   ]
  },
  {
   "cell_type": "code",
   "execution_count": 33,
   "metadata": {},
   "outputs": [
    {
     "data": {
      "text/html": [
       "<div>\n",
       "<style scoped>\n",
       "    .dataframe tbody tr th:only-of-type {\n",
       "        vertical-align: middle;\n",
       "    }\n",
       "\n",
       "    .dataframe tbody tr th {\n",
       "        vertical-align: top;\n",
       "    }\n",
       "\n",
       "    .dataframe thead th {\n",
       "        text-align: right;\n",
       "    }\n",
       "</style>\n",
       "<table border=\"1\" class=\"dataframe\">\n",
       "  <thead>\n",
       "    <tr style=\"text-align: right;\">\n",
       "      <th></th>\n",
       "      <th>mean</th>\n",
       "      <th>count</th>\n",
       "      <th>median</th>\n",
       "    </tr>\n",
       "    <tr>\n",
       "      <th>month</th>\n",
       "      <th></th>\n",
       "      <th></th>\n",
       "      <th></th>\n",
       "    </tr>\n",
       "  </thead>\n",
       "  <tbody>\n",
       "    <tr>\n",
       "      <th>4</th>\n",
       "      <td>6.737882e+06</td>\n",
       "      <td>2362</td>\n",
       "      <td>4800000</td>\n",
       "    </tr>\n",
       "    <tr>\n",
       "      <th>9</th>\n",
       "      <td>6.836874e+06</td>\n",
       "      <td>1973</td>\n",
       "      <td>4700000</td>\n",
       "    </tr>\n",
       "    <tr>\n",
       "      <th>11</th>\n",
       "      <td>6.449008e+06</td>\n",
       "      <td>2364</td>\n",
       "      <td>4700000</td>\n",
       "    </tr>\n",
       "    <tr>\n",
       "      <th>12</th>\n",
       "      <td>7.011731e+06</td>\n",
       "      <td>1641</td>\n",
       "      <td>4700000</td>\n",
       "    </tr>\n",
       "    <tr>\n",
       "      <th>2</th>\n",
       "      <td>6.467983e+06</td>\n",
       "      <td>2637</td>\n",
       "      <td>4650000</td>\n",
       "    </tr>\n",
       "    <tr>\n",
       "      <th>3</th>\n",
       "      <td>6.356274e+06</td>\n",
       "      <td>2580</td>\n",
       "      <td>4650000</td>\n",
       "    </tr>\n",
       "    <tr>\n",
       "      <th>7</th>\n",
       "      <td>6.648568e+06</td>\n",
       "      <td>1690</td>\n",
       "      <td>4650000</td>\n",
       "    </tr>\n",
       "    <tr>\n",
       "      <th>1</th>\n",
       "      <td>6.665449e+06</td>\n",
       "      <td>1496</td>\n",
       "      <td>4600000</td>\n",
       "    </tr>\n",
       "    <tr>\n",
       "      <th>8</th>\n",
       "      <td>6.343181e+06</td>\n",
       "      <td>1741</td>\n",
       "      <td>4570000</td>\n",
       "    </tr>\n",
       "    <tr>\n",
       "      <th>10</th>\n",
       "      <td>6.236619e+06</td>\n",
       "      <td>2111</td>\n",
       "      <td>4570000</td>\n",
       "    </tr>\n",
       "    <tr>\n",
       "      <th>5</th>\n",
       "      <td>6.596837e+06</td>\n",
       "      <td>1265</td>\n",
       "      <td>4500000</td>\n",
       "    </tr>\n",
       "    <tr>\n",
       "      <th>6</th>\n",
       "      <td>6.317414e+06</td>\n",
       "      <td>1751</td>\n",
       "      <td>4400000</td>\n",
       "    </tr>\n",
       "  </tbody>\n",
       "</table>\n",
       "</div>"
      ],
      "text/plain": [
       "               mean  count   median\n",
       "month                              \n",
       "4      6.737882e+06   2362  4800000\n",
       "9      6.836874e+06   1973  4700000\n",
       "11     6.449008e+06   2364  4700000\n",
       "12     7.011731e+06   1641  4700000\n",
       "2      6.467983e+06   2637  4650000\n",
       "3      6.356274e+06   2580  4650000\n",
       "7      6.648568e+06   1690  4650000\n",
       "1      6.665449e+06   1496  4600000\n",
       "8      6.343181e+06   1741  4570000\n",
       "10     6.236619e+06   2111  4570000\n",
       "5      6.596837e+06   1265  4500000\n",
       "6      6.317414e+06   1751  4400000"
      ]
     },
     "execution_count": 33,
     "metadata": {},
     "output_type": "execute_result"
    },
    {
     "data": {
      "image/png": "[encoded data removed]",
      "text/plain": [
       "<Figure size 432x288 with 1 Axes>"
      ]
     },
     "metadata": {
      "needs_background": "light"
     },
     "output_type": "display_data"
    }
   ],
   "source": [
    "price_month = data.pivot_table(index = 'month', values = 'last_price', aggfunc = ['mean','count','median'])\n",
    "price_month.columns = ['mean', 'count', 'median']\n",
    "price_month.plot(y = 'median')\n",
    "\n",
    "price_month.sort_values('median', ascending = False)"
   ]
  },
  {
   "cell_type": "markdown",
   "metadata": {},
   "source": [
    "Исследование показывает, что рынок недвижимости подвержен сезонным изменениям. Самая высокая цена за 1 кв.м. наблюдается в апреле, сентябре и декабре, а самая низкая в мае-июне. \n",
    "График выглядит логичным и объяснимым. Цены зависят от спроса, а в январе деловая активность на рынке недвижимости снижается в связи с большим количеством праздников. К апрелю спрос повышается, соответсвенно, цены растут, а на майские праздники и до середины лета происодит снижение. Покупатели уходят в отпуска, откладывая решение квартирного вопроса на более поздний срок, а продавцы, которые не успели продать жилье раньше, снимают объекты с продажи, рассчитывая вернуться на рынок осенью, когда цены снова начнут расти. Пик продаж приходится на конец года, на декабрь. Многие хотят решить жилищный вопрос до Нового года, и в целом декабрь - это лидер по продажам и ценам не только на рынке недвижимости.\n",
    "\n",
    "**Проанализируем зависимости цены на недвижимость в зависимости от года**"
   ]
  },
  {
   "cell_type": "code",
   "execution_count": 34,
   "metadata": {},
   "outputs": [
    {
     "data": {
      "text/html": [
       "<div>\n",
       "<style scoped>\n",
       "    .dataframe tbody tr th:only-of-type {\n",
       "        vertical-align: middle;\n",
       "    }\n",
       "\n",
       "    .dataframe tbody tr th {\n",
       "        vertical-align: top;\n",
       "    }\n",
       "\n",
       "    .dataframe thead th {\n",
       "        text-align: right;\n",
       "    }\n",
       "</style>\n",
       "<table border=\"1\" class=\"dataframe\">\n",
       "  <thead>\n",
       "    <tr style=\"text-align: right;\">\n",
       "      <th></th>\n",
       "      <th>mean</th>\n",
       "      <th>count</th>\n",
       "      <th>median</th>\n",
       "    </tr>\n",
       "    <tr>\n",
       "      <th>year</th>\n",
       "      <th></th>\n",
       "      <th></th>\n",
       "      <th></th>\n",
       "    </tr>\n",
       "  </thead>\n",
       "  <tbody>\n",
       "    <tr>\n",
       "      <th>2014</th>\n",
       "      <td>1.208714e+07</td>\n",
       "      <td>137</td>\n",
       "      <td>7700000</td>\n",
       "    </tr>\n",
       "    <tr>\n",
       "      <th>2015</th>\n",
       "      <td>8.575612e+06</td>\n",
       "      <td>1184</td>\n",
       "      <td>5312500</td>\n",
       "    </tr>\n",
       "    <tr>\n",
       "      <th>2019</th>\n",
       "      <td>6.779324e+06</td>\n",
       "      <td>2871</td>\n",
       "      <td>5050000</td>\n",
       "    </tr>\n",
       "    <tr>\n",
       "      <th>2018</th>\n",
       "      <td>5.953426e+06</td>\n",
       "      <td>8490</td>\n",
       "      <td>4555000</td>\n",
       "    </tr>\n",
       "    <tr>\n",
       "      <th>2016</th>\n",
       "      <td>6.827605e+06</td>\n",
       "      <td>2763</td>\n",
       "      <td>4550000</td>\n",
       "    </tr>\n",
       "    <tr>\n",
       "      <th>2017</th>\n",
       "      <td>6.582439e+06</td>\n",
       "      <td>8166</td>\n",
       "      <td>4500000</td>\n",
       "    </tr>\n",
       "  </tbody>\n",
       "</table>\n",
       "</div>"
      ],
      "text/plain": [
       "              mean  count   median\n",
       "year                              \n",
       "2014  1.208714e+07    137  7700000\n",
       "2015  8.575612e+06   1184  5312500\n",
       "2019  6.779324e+06   2871  5050000\n",
       "2018  5.953426e+06   8490  4555000\n",
       "2016  6.827605e+06   2763  4550000\n",
       "2017  6.582439e+06   8166  4500000"
      ]
     },
     "execution_count": 34,
     "metadata": {},
     "output_type": "execute_result"
    },
    {
     "data": {
      "image/png": "[encoded data removed]",
      "text/plain": [
       "<Figure size 432x288 with 1 Axes>"
      ]
     },
     "metadata": {
      "needs_background": "light"
     },
     "output_type": "display_data"
    },
    {
     "data": {
      "image/png": "[encoded data removed]",
      "text/plain": [
       "<Figure size 432x288 with 1 Axes>"
      ]
     },
     "metadata": {
      "needs_background": "light"
     },
     "output_type": "display_data"
    }
   ],
   "source": [
    "price_year = data.pivot_table(index = 'year', values = 'last_price', aggfunc = ['mean', 'count', 'median'])\n",
    "price_year.columns = ['mean', 'count', 'median']\n",
    "price_year.plot(y = 'median')\n",
    "plt.yticks([4.5, 5.5, 6.5, 7.5])\n",
    "price_year.plot(y = 'median')\n",
    "price_year.sort_values('median', ascending = False)"
   ]
  },
  {
   "cell_type": "markdown",
   "metadata": {},
   "source": [
    "На графике можно наблюдать резкое снижение цен на недвижимость на протяжении 2014г. и к 2016г. цены достигли минимального значения за анализируемый период времени. Это связано с политическим кризисом 2014-2016гг. В отношении России были введены санкции, валюта сильно подорожала по отношению к рублю, ЦБ РФ поднял ключевую ставку, соответственно, увеличились ставки по ипотечным кредитам. Это не могло не сказаться на спросе на недвижимость и цены. \n",
    "\n",
    "Стоит отметить, что для анализа мы берем медианные значения, которые характеризуют ситуацию в целом. Если рассматривать рынок недвижимости по сегментам (новое жилье и вторичное), наверняка можно увидеть, что на новое жилье цены стали расти из-за удорожания стоимости материалов. \n",
    "\n",
    "Начиная с 2016гг. рынок недвижимости стал постепенно восстанавливаться, цены начали расти, но к концу 2019г. так и не достигли докризисного уровня. "
   ]
  },
  {
   "cell_type": "markdown",
   "metadata": {},
   "source": [
    "**Десять населённых пунктов с наибольшим числом объявлений**"
   ]
  },
  {
   "cell_type": "markdown",
   "metadata": {},
   "source": [
    "На данном этапе исследования выберем 10 населённых пунктов с наибольшим числом объявлений. Посчитаем среднюю цену квадратного метра в этих населённых пунктах"
   ]
  },
  {
   "cell_type": "code",
   "execution_count": 35,
   "metadata": {},
   "outputs": [
    {
     "data": {
      "text/html": [
       "<div>\n",
       "<style scoped>\n",
       "    .dataframe tbody tr th:only-of-type {\n",
       "        vertical-align: middle;\n",
       "    }\n",
       "\n",
       "    .dataframe tbody tr th {\n",
       "        vertical-align: top;\n",
       "    }\n",
       "\n",
       "    .dataframe thead th {\n",
       "        text-align: right;\n",
       "    }\n",
       "</style>\n",
       "<table border=\"1\" class=\"dataframe\">\n",
       "  <thead>\n",
       "    <tr style=\"text-align: right;\">\n",
       "      <th></th>\n",
       "      <th>count</th>\n",
       "      <th>mean</th>\n",
       "    </tr>\n",
       "    <tr>\n",
       "      <th>locality_name</th>\n",
       "      <th></th>\n",
       "      <th></th>\n",
       "    </tr>\n",
       "  </thead>\n",
       "  <tbody>\n",
       "    <tr>\n",
       "      <th>Санкт-Петербург</th>\n",
       "      <td>15650</td>\n",
       "      <td>8.065156e+06</td>\n",
       "    </tr>\n",
       "    <tr>\n",
       "      <th>посёлок Мурино</th>\n",
       "      <td>520</td>\n",
       "      <td>3.671211e+06</td>\n",
       "    </tr>\n",
       "    <tr>\n",
       "      <th>посёлок Шушары</th>\n",
       "      <td>439</td>\n",
       "      <td>4.109809e+06</td>\n",
       "    </tr>\n",
       "    <tr>\n",
       "      <th>Всеволожск</th>\n",
       "      <td>398</td>\n",
       "      <td>3.789068e+06</td>\n",
       "    </tr>\n",
       "    <tr>\n",
       "      <th>Пушкин</th>\n",
       "      <td>369</td>\n",
       "      <td>6.469036e+06</td>\n",
       "    </tr>\n",
       "    <tr>\n",
       "      <th>Колпино</th>\n",
       "      <td>338</td>\n",
       "      <td>3.964021e+06</td>\n",
       "    </tr>\n",
       "    <tr>\n",
       "      <th>посёлок Парголово</th>\n",
       "      <td>327</td>\n",
       "      <td>4.488075e+06</td>\n",
       "    </tr>\n",
       "    <tr>\n",
       "      <th>Гатчина</th>\n",
       "      <td>307</td>\n",
       "      <td>3.488337e+06</td>\n",
       "    </tr>\n",
       "    <tr>\n",
       "      <th>деревня Кудрово</th>\n",
       "      <td>299</td>\n",
       "      <td>4.234158e+06</td>\n",
       "    </tr>\n",
       "    <tr>\n",
       "      <th>Выборг</th>\n",
       "      <td>237</td>\n",
       "      <td>3.250983e+06</td>\n",
       "    </tr>\n",
       "  </tbody>\n",
       "</table>\n",
       "</div>"
      ],
      "text/plain": [
       "                   count          mean\n",
       "locality_name                         \n",
       "Санкт-Петербург    15650  8.065156e+06\n",
       "посёлок Мурино       520  3.671211e+06\n",
       "посёлок Шушары       439  4.109809e+06\n",
       "Всеволожск           398  3.789068e+06\n",
       "Пушкин               369  6.469036e+06\n",
       "Колпино              338  3.964021e+06\n",
       "посёлок Парголово    327  4.488075e+06\n",
       "Гатчина              307  3.488337e+06\n",
       "деревня Кудрово      299  4.234158e+06\n",
       "Выборг               237  3.250983e+06"
      ]
     },
     "execution_count": 35,
     "metadata": {},
     "output_type": "execute_result"
    }
   ],
   "source": [
    "locality_price = data.pivot_table(index = 'locality_name', values = 'last_price', aggfunc=['count', 'mean'])\n",
    "locality_price.columns = ['count', 'mean']\n",
    "locality_price = locality_price.sort_values('count', ascending = False).head(10)\n",
    "locality_price"
   ]
  },
  {
   "cell_type": "code",
   "execution_count": 36,
   "metadata": {},
   "outputs": [
    {
     "data": {
      "text/html": [
       "<div>\n",
       "<style scoped>\n",
       "    .dataframe tbody tr th:only-of-type {\n",
       "        vertical-align: middle;\n",
       "    }\n",
       "\n",
       "    .dataframe tbody tr th {\n",
       "        vertical-align: top;\n",
       "    }\n",
       "\n",
       "    .dataframe thead th {\n",
       "        text-align: right;\n",
       "    }\n",
       "</style>\n",
       "<table border=\"1\" class=\"dataframe\">\n",
       "  <thead>\n",
       "    <tr style=\"text-align: right;\">\n",
       "      <th></th>\n",
       "      <th>count</th>\n",
       "      <th>mean</th>\n",
       "    </tr>\n",
       "    <tr>\n",
       "      <th>locality_name</th>\n",
       "      <th></th>\n",
       "      <th></th>\n",
       "    </tr>\n",
       "  </thead>\n",
       "  <tbody>\n",
       "    <tr>\n",
       "      <th>Санкт-Петербург</th>\n",
       "      <td>15650</td>\n",
       "      <td>8.065156e+06</td>\n",
       "    </tr>\n",
       "  </tbody>\n",
       "</table>\n",
       "</div>"
      ],
      "text/plain": [
       "                 count          mean\n",
       "locality_name                       \n",
       "Санкт-Петербург  15650  8.065156e+06"
      ]
     },
     "execution_count": 36,
     "metadata": {},
     "output_type": "execute_result"
    }
   ],
   "source": [
    "locality_price[locality_price['mean']==locality_price['mean'].max()]"
   ]
  },
  {
   "cell_type": "code",
   "execution_count": 37,
   "metadata": {},
   "outputs": [
    {
     "data": {
      "text/html": [
       "<div>\n",
       "<style scoped>\n",
       "    .dataframe tbody tr th:only-of-type {\n",
       "        vertical-align: middle;\n",
       "    }\n",
       "\n",
       "    .dataframe tbody tr th {\n",
       "        vertical-align: top;\n",
       "    }\n",
       "\n",
       "    .dataframe thead th {\n",
       "        text-align: right;\n",
       "    }\n",
       "</style>\n",
       "<table border=\"1\" class=\"dataframe\">\n",
       "  <thead>\n",
       "    <tr style=\"text-align: right;\">\n",
       "      <th></th>\n",
       "      <th>count</th>\n",
       "      <th>mean</th>\n",
       "    </tr>\n",
       "    <tr>\n",
       "      <th>locality_name</th>\n",
       "      <th></th>\n",
       "      <th></th>\n",
       "    </tr>\n",
       "  </thead>\n",
       "  <tbody>\n",
       "    <tr>\n",
       "      <th>Выборг</th>\n",
       "      <td>237</td>\n",
       "      <td>3.250983e+06</td>\n",
       "    </tr>\n",
       "  </tbody>\n",
       "</table>\n",
       "</div>"
      ],
      "text/plain": [
       "               count          mean\n",
       "locality_name                     \n",
       "Выборг           237  3.250983e+06"
      ]
     },
     "execution_count": 37,
     "metadata": {},
     "output_type": "execute_result"
    }
   ],
   "source": [
    "locality_price[locality_price['mean']==locality_price['mean'].min()]"
   ]
  },
  {
   "cell_type": "markdown",
   "metadata": {},
   "source": [
    "Из сформированных данных по количеству объявлений населенным пунктом с самыми высокими ценами на недвижимость ожидаемо оказался Санкт-Петербург, а с самыми низкими ценами - Гатчина."
   ]
  },
  {
   "cell_type": "markdown",
   "metadata": {},
   "source": [
    "**Определим, какая область относится к центру Санкт-Петербурга**"
   ]
  },
  {
   "cell_type": "code",
   "execution_count": 38,
   "metadata": {},
   "outputs": [
    {
     "data": {
      "text/html": [
       "<div>\n",
       "<style scoped>\n",
       "    .dataframe tbody tr th:only-of-type {\n",
       "        vertical-align: middle;\n",
       "    }\n",
       "\n",
       "    .dataframe tbody tr th {\n",
       "        vertical-align: top;\n",
       "    }\n",
       "\n",
       "    .dataframe thead th {\n",
       "        text-align: right;\n",
       "    }\n",
       "</style>\n",
       "<table border=\"1\" class=\"dataframe\">\n",
       "  <thead>\n",
       "    <tr style=\"text-align: right;\">\n",
       "      <th></th>\n",
       "      <th>last_price</th>\n",
       "    </tr>\n",
       "    <tr>\n",
       "      <th>cityCenters_nearest_km</th>\n",
       "      <th></th>\n",
       "    </tr>\n",
       "  </thead>\n",
       "  <tbody>\n",
       "    <tr>\n",
       "      <th>1</th>\n",
       "      <td>1.885085e+07</td>\n",
       "    </tr>\n",
       "    <tr>\n",
       "      <th>2</th>\n",
       "      <td>1.616331e+07</td>\n",
       "    </tr>\n",
       "    <tr>\n",
       "      <th>3</th>\n",
       "      <td>1.345283e+07</td>\n",
       "    </tr>\n",
       "    <tr>\n",
       "      <th>4</th>\n",
       "      <td>1.358609e+07</td>\n",
       "    </tr>\n",
       "    <tr>\n",
       "      <th>5</th>\n",
       "      <td>1.530528e+07</td>\n",
       "    </tr>\n",
       "    <tr>\n",
       "      <th>6</th>\n",
       "      <td>1.438911e+07</td>\n",
       "    </tr>\n",
       "    <tr>\n",
       "      <th>7</th>\n",
       "      <td>1.279767e+07</td>\n",
       "    </tr>\n",
       "    <tr>\n",
       "      <th>8</th>\n",
       "      <td>8.430806e+06</td>\n",
       "    </tr>\n",
       "    <tr>\n",
       "      <th>9</th>\n",
       "      <td>6.429619e+06</td>\n",
       "    </tr>\n",
       "    <tr>\n",
       "      <th>10</th>\n",
       "      <td>6.371657e+06</td>\n",
       "    </tr>\n",
       "    <tr>\n",
       "      <th>11</th>\n",
       "      <td>5.962933e+06</td>\n",
       "    </tr>\n",
       "    <tr>\n",
       "      <th>12</th>\n",
       "      <td>5.976967e+06</td>\n",
       "    </tr>\n",
       "    <tr>\n",
       "      <th>13</th>\n",
       "      <td>6.018112e+06</td>\n",
       "    </tr>\n",
       "    <tr>\n",
       "      <th>14</th>\n",
       "      <td>5.758037e+06</td>\n",
       "    </tr>\n",
       "    <tr>\n",
       "      <th>15</th>\n",
       "      <td>5.543623e+06</td>\n",
       "    </tr>\n",
       "    <tr>\n",
       "      <th>16</th>\n",
       "      <td>5.525491e+06</td>\n",
       "    </tr>\n",
       "    <tr>\n",
       "      <th>17</th>\n",
       "      <td>4.872388e+06</td>\n",
       "    </tr>\n",
       "    <tr>\n",
       "      <th>18</th>\n",
       "      <td>5.349032e+06</td>\n",
       "    </tr>\n",
       "    <tr>\n",
       "      <th>19</th>\n",
       "      <td>4.678756e+06</td>\n",
       "    </tr>\n",
       "    <tr>\n",
       "      <th>20</th>\n",
       "      <td>6.365864e+06</td>\n",
       "    </tr>\n",
       "    <tr>\n",
       "      <th>21</th>\n",
       "      <td>5.183239e+06</td>\n",
       "    </tr>\n",
       "    <tr>\n",
       "      <th>22</th>\n",
       "      <td>5.425513e+06</td>\n",
       "    </tr>\n",
       "    <tr>\n",
       "      <th>23</th>\n",
       "      <td>4.126867e+06</td>\n",
       "    </tr>\n",
       "    <tr>\n",
       "      <th>24</th>\n",
       "      <td>3.862235e+06</td>\n",
       "    </tr>\n",
       "    <tr>\n",
       "      <th>25</th>\n",
       "      <td>4.048664e+06</td>\n",
       "    </tr>\n",
       "    <tr>\n",
       "      <th>26</th>\n",
       "      <td>3.575000e+06</td>\n",
       "    </tr>\n",
       "    <tr>\n",
       "      <th>27</th>\n",
       "      <td>8.300000e+06</td>\n",
       "    </tr>\n",
       "    <tr>\n",
       "      <th>28</th>\n",
       "      <td>4.910500e+06</td>\n",
       "    </tr>\n",
       "    <tr>\n",
       "      <th>29</th>\n",
       "      <td>3.833333e+06</td>\n",
       "    </tr>\n",
       "  </tbody>\n",
       "</table>\n",
       "</div>"
      ],
      "text/plain": [
       "                          last_price\n",
       "cityCenters_nearest_km              \n",
       "1                       1.885085e+07\n",
       "2                       1.616331e+07\n",
       "3                       1.345283e+07\n",
       "4                       1.358609e+07\n",
       "5                       1.530528e+07\n",
       "6                       1.438911e+07\n",
       "7                       1.279767e+07\n",
       "8                       8.430806e+06\n",
       "9                       6.429619e+06\n",
       "10                      6.371657e+06\n",
       "11                      5.962933e+06\n",
       "12                      5.976967e+06\n",
       "13                      6.018112e+06\n",
       "14                      5.758037e+06\n",
       "15                      5.543623e+06\n",
       "16                      5.525491e+06\n",
       "17                      4.872388e+06\n",
       "18                      5.349032e+06\n",
       "19                      4.678756e+06\n",
       "20                      6.365864e+06\n",
       "21                      5.183239e+06\n",
       "22                      5.425513e+06\n",
       "23                      4.126867e+06\n",
       "24                      3.862235e+06\n",
       "25                      4.048664e+06\n",
       "26                      3.575000e+06\n",
       "27                      8.300000e+06\n",
       "28                      4.910500e+06\n",
       "29                      3.833333e+06"
      ]
     },
     "execution_count": 38,
     "metadata": {},
     "output_type": "execute_result"
    },
    {
     "data": {
      "image/png": "[encoded data removed]",
      "text/plain": [
       "<Figure size 432x288 with 1 Axes>"
      ]
     },
     "metadata": {
      "needs_background": "light"
     },
     "output_type": "display_data"
    }
   ],
   "source": [
    "data['cityCenters_nearest_km'] = data['cityCenters_nearest']/1000\n",
    "data['cityCenters_nearest_km'] = data['cityCenters_nearest_km'].fillna(0)\n",
    "data['cityCenters_nearest_km'] = data['cityCenters_nearest_km'].astype('int32')\n",
    "pivot_table_km = data.query('locality_name == \"Санкт-Петербург\" and cityCenters_nearest_km !=0').pivot_table(index = 'cityCenters_nearest_km', values = 'last_price', aggfunc = 'mean')\n",
    "pivot_table_km.plot()\n",
    "pivot_table_km"
   ]
  },
  {
   "cell_type": "markdown",
   "metadata": {},
   "source": [
    "На графике представлена зависимость цены 1 кв.м. жилья от удаленности объекта от центра Санкт-Петербурга. Судя по графику, центром города можно считать площадь с радиусом 8-9 км."
   ]
  },
  {
   "cell_type": "markdown",
   "metadata": {},
   "source": [
    "**Выделим сегмент квартир в центре и проанализируем их**\n",
    "\n",
    "Зависимость стоимости квадратного метра от количества комнат. \n",
    "Сначала выделим центр, основываясь на предыдущих расчетах."
   ]
  },
  {
   "cell_type": "code",
   "execution_count": 39,
   "metadata": {},
   "outputs": [],
   "source": [
    "center_data = data.query('cityCenters_nearest_km <= 8 and locality_name == \"Санкт-Петербург\"')"
   ]
  },
  {
   "cell_type": "code",
   "execution_count": 40,
   "metadata": {},
   "outputs": [
    {
     "data": {
      "text/plain": [
       "0.3465388468978129"
      ]
     },
     "execution_count": 40,
     "metadata": {},
     "output_type": "execute_result"
    },
    {
     "data": {
      "image/png": "[encoded data removed]",
      "text/plain": [
       "<Figure size 432x288 with 1 Axes>"
      ]
     },
     "metadata": {
      "needs_background": "light"
     },
     "output_type": "display_data"
    }
   ],
   "source": [
    "center_rooms = center_data.pivot_table(index = 'rooms', values = 'last_price', aggfunc = ['mean', 'count', 'median'])\n",
    "center_rooms.columns = ['mean', 'count', 'median']\n",
    "center_rooms.query('count > 50').plot(y = 'median')\n",
    "\n",
    "center_rooms.query('count > 50').sort_values('median', ascending = False)\n",
    "\n",
    "center_data['rooms'].corr(center_data['last_price'])"
   ]
  },
  {
   "cell_type": "markdown",
   "metadata": {},
   "source": [
    "Коэффициент корреляции равен 0,35, что свидетельствует, что взаимосвязь между количеством комнат и ценой небольшая. На цену квартиры влияют другие факторы.\n",
    "\n",
    "Зависимость стоимости квартиры от этажа:"
   ]
  },
  {
   "cell_type": "code",
   "execution_count": 41,
   "metadata": {},
   "outputs": [
    {
     "data": {
      "text/html": [
       "<div>\n",
       "<style scoped>\n",
       "    .dataframe tbody tr th:only-of-type {\n",
       "        vertical-align: middle;\n",
       "    }\n",
       "\n",
       "    .dataframe tbody tr th {\n",
       "        vertical-align: top;\n",
       "    }\n",
       "\n",
       "    .dataframe thead th {\n",
       "        text-align: right;\n",
       "    }\n",
       "</style>\n",
       "<table border=\"1\" class=\"dataframe\">\n",
       "  <thead>\n",
       "    <tr style=\"text-align: right;\">\n",
       "      <th></th>\n",
       "      <th>mean</th>\n",
       "      <th>count</th>\n",
       "      <th>median</th>\n",
       "    </tr>\n",
       "    <tr>\n",
       "      <th>floor_category</th>\n",
       "      <th></th>\n",
       "      <th></th>\n",
       "      <th></th>\n",
       "    </tr>\n",
       "  </thead>\n",
       "  <tbody>\n",
       "    <tr>\n",
       "      <th>другой</th>\n",
       "      <td>1.365376e+07</td>\n",
       "      <td>3224</td>\n",
       "      <td>9000000</td>\n",
       "    </tr>\n",
       "    <tr>\n",
       "      <th>первый</th>\n",
       "      <td>8.777036e+06</td>\n",
       "      <td>470</td>\n",
       "      <td>6300000</td>\n",
       "    </tr>\n",
       "    <tr>\n",
       "      <th>последний</th>\n",
       "      <td>1.758368e+07</td>\n",
       "      <td>738</td>\n",
       "      <td>8994500</td>\n",
       "    </tr>\n",
       "  </tbody>\n",
       "</table>\n",
       "</div>"
      ],
      "text/plain": [
       "                        mean  count   median\n",
       "floor_category                              \n",
       "другой          1.365376e+07   3224  9000000\n",
       "первый          8.777036e+06    470  6300000\n",
       "последний       1.758368e+07    738  8994500"
      ]
     },
     "execution_count": 41,
     "metadata": {},
     "output_type": "execute_result"
    },
    {
     "data": {
      "image/png": "[encoded data removed]",
      "text/plain": [
       "<Figure size 432x288 with 1 Axes>"
      ]
     },
     "metadata": {
      "needs_background": "light"
     },
     "output_type": "display_data"
    }
   ],
   "source": [
    "center_floor_category = center_data.pivot_table(index = 'floor_category', values = 'last_price', aggfunc = ['mean', 'count', 'median'])\n",
    "center_floor_category.columns = ['mean', 'count', 'median']\n",
    "center_floor_category.plot(y = 'median')\n",
    "center_floor_category"
   ]
  },
  {
   "cell_type": "markdown",
   "metadata": {},
   "source": [
    "Ситуация в центре города полностью совпадает с общей картиной. Первые и последние этажи зданий всегда дешевле, и удаленность от центра тут не играет роли.\n",
    "\n",
    "Зависимость стоимости квадратного метра от удаленности от центра:"
   ]
  },
  {
   "cell_type": "code",
   "execution_count": 42,
   "metadata": {},
   "outputs": [
    {
     "data": {
      "text/plain": [
       "-0.10026105084964253"
      ]
     },
     "execution_count": 42,
     "metadata": {},
     "output_type": "execute_result"
    },
    {
     "data": {
      "image/png": "[encoded data removed]",
      "text/plain": [
       "<Figure size 432x288 with 1 Axes>"
      ]
     },
     "metadata": {
      "needs_background": "light"
     },
     "output_type": "display_data"
    }
   ],
   "source": [
    "center_data.plot(kind = 'scatter', y = 'last_price', x = 'cityCenters_nearest', alpha = 0.3)\n",
    "\n",
    "center_data['cityCenters_nearest'].corr(center_data['last_price'])"
   ]
  },
  {
   "cell_type": "markdown",
   "metadata": {},
   "source": [
    "Коэффициент корреляции равен -0,1. Тут нет никакой зависимости между параметрами, т.к. выборка изначально сделана по центру города.\n",
    "\n",
    "Зависимость стоимости квадратного метра от дня недели размещения объявления:"
   ]
  },
  {
   "cell_type": "code",
   "execution_count": 43,
   "metadata": {
    "scrolled": false
   },
   "outputs": [
    {
     "data": {
      "text/html": [
       "<div>\n",
       "<style scoped>\n",
       "    .dataframe tbody tr th:only-of-type {\n",
       "        vertical-align: middle;\n",
       "    }\n",
       "\n",
       "    .dataframe tbody tr th {\n",
       "        vertical-align: top;\n",
       "    }\n",
       "\n",
       "    .dataframe thead th {\n",
       "        text-align: right;\n",
       "    }\n",
       "</style>\n",
       "<table border=\"1\" class=\"dataframe\">\n",
       "  <thead>\n",
       "    <tr style=\"text-align: right;\">\n",
       "      <th></th>\n",
       "      <th>mean</th>\n",
       "      <th>count</th>\n",
       "      <th>median</th>\n",
       "    </tr>\n",
       "    <tr>\n",
       "      <th>weekday</th>\n",
       "      <th></th>\n",
       "      <th></th>\n",
       "      <th></th>\n",
       "    </tr>\n",
       "  </thead>\n",
       "  <tbody>\n",
       "    <tr>\n",
       "      <th>0</th>\n",
       "      <td>1.393291e+07</td>\n",
       "      <td>673</td>\n",
       "      <td>9000000</td>\n",
       "    </tr>\n",
       "    <tr>\n",
       "      <th>6</th>\n",
       "      <td>1.393910e+07</td>\n",
       "      <td>264</td>\n",
       "      <td>8900000</td>\n",
       "    </tr>\n",
       "    <tr>\n",
       "      <th>3</th>\n",
       "      <td>1.358937e+07</td>\n",
       "      <td>910</td>\n",
       "      <td>8845000</td>\n",
       "    </tr>\n",
       "    <tr>\n",
       "      <th>2</th>\n",
       "      <td>1.377945e+07</td>\n",
       "      <td>760</td>\n",
       "      <td>8806000</td>\n",
       "    </tr>\n",
       "    <tr>\n",
       "      <th>4</th>\n",
       "      <td>1.321215e+07</td>\n",
       "      <td>742</td>\n",
       "      <td>8500000</td>\n",
       "    </tr>\n",
       "    <tr>\n",
       "      <th>1</th>\n",
       "      <td>1.286971e+07</td>\n",
       "      <td>755</td>\n",
       "      <td>8400000</td>\n",
       "    </tr>\n",
       "    <tr>\n",
       "      <th>5</th>\n",
       "      <td>1.739682e+07</td>\n",
       "      <td>328</td>\n",
       "      <td>8250000</td>\n",
       "    </tr>\n",
       "  </tbody>\n",
       "</table>\n",
       "</div>"
      ],
      "text/plain": [
       "                 mean  count   median\n",
       "weekday                              \n",
       "0        1.393291e+07    673  9000000\n",
       "6        1.393910e+07    264  8900000\n",
       "3        1.358937e+07    910  8845000\n",
       "2        1.377945e+07    760  8806000\n",
       "4        1.321215e+07    742  8500000\n",
       "1        1.286971e+07    755  8400000\n",
       "5        1.739682e+07    328  8250000"
      ]
     },
     "execution_count": 43,
     "metadata": {},
     "output_type": "execute_result"
    },
    {
     "data": {
      "image/png": "[encoded data removed]",
      "text/plain": [
       "<Figure size 432x288 with 1 Axes>"
      ]
     },
     "metadata": {
      "needs_background": "light"
     },
     "output_type": "display_data"
    }
   ],
   "source": [
    "center_weekday= center_data.pivot_table(index = 'weekday', values = 'last_price', aggfunc = ['mean', 'count', 'median'])\n",
    "center_weekday.columns = ['mean', 'count', 'median']\n",
    "center_weekday.plot(y = 'median')\n",
    "\n",
    "center_weekday.sort_values('median', ascending = False)"
   ]
  },
  {
   "cell_type": "markdown",
   "metadata": {},
   "source": [
    "Здесь мы можем наблюдать отличия от общей выборки. Цены снижаются к середине недели, а далее начинают расти и к воскресенью достигают максимальных значений. \n",
    "Тут сложно выявить какую-то зависимость, она может быть разной в зависимости от выборки. Единственное, что можно предположить с высокой долей вероятности, что снижение цены совпадает с моментом продажи квартиры, и это снижение связано со скидкой, которую, как правило, предоставляет продавец."
   ]
  },
  {
   "cell_type": "markdown",
   "metadata": {},
   "source": [
    "Зависимость стоимости квадратного метра от месяца размещения объявления:"
   ]
  },
  {
   "cell_type": "code",
   "execution_count": 44,
   "metadata": {},
   "outputs": [
    {
     "data": {
      "text/html": [
       "<div>\n",
       "<style scoped>\n",
       "    .dataframe tbody tr th:only-of-type {\n",
       "        vertical-align: middle;\n",
       "    }\n",
       "\n",
       "    .dataframe tbody tr th {\n",
       "        vertical-align: top;\n",
       "    }\n",
       "\n",
       "    .dataframe thead th {\n",
       "        text-align: right;\n",
       "    }\n",
       "</style>\n",
       "<table border=\"1\" class=\"dataframe\">\n",
       "  <thead>\n",
       "    <tr style=\"text-align: right;\">\n",
       "      <th></th>\n",
       "      <th>mean</th>\n",
       "      <th>count</th>\n",
       "      <th>median</th>\n",
       "    </tr>\n",
       "    <tr>\n",
       "      <th>month</th>\n",
       "      <th></th>\n",
       "      <th></th>\n",
       "      <th></th>\n",
       "    </tr>\n",
       "  </thead>\n",
       "  <tbody>\n",
       "    <tr>\n",
       "      <th>9</th>\n",
       "      <td>1.453846e+07</td>\n",
       "      <td>389</td>\n",
       "      <td>9200000</td>\n",
       "    </tr>\n",
       "    <tr>\n",
       "      <th>1</th>\n",
       "      <td>1.450801e+07</td>\n",
       "      <td>273</td>\n",
       "      <td>9000000</td>\n",
       "    </tr>\n",
       "    <tr>\n",
       "      <th>11</th>\n",
       "      <td>1.311509e+07</td>\n",
       "      <td>431</td>\n",
       "      <td>9000000</td>\n",
       "    </tr>\n",
       "    <tr>\n",
       "      <th>7</th>\n",
       "      <td>1.382774e+07</td>\n",
       "      <td>353</td>\n",
       "      <td>8950000</td>\n",
       "    </tr>\n",
       "    <tr>\n",
       "      <th>2</th>\n",
       "      <td>1.388433e+07</td>\n",
       "      <td>469</td>\n",
       "      <td>8850000</td>\n",
       "    </tr>\n",
       "    <tr>\n",
       "      <th>5</th>\n",
       "      <td>1.382079e+07</td>\n",
       "      <td>263</td>\n",
       "      <td>8800000</td>\n",
       "    </tr>\n",
       "    <tr>\n",
       "      <th>3</th>\n",
       "      <td>1.316727e+07</td>\n",
       "      <td>484</td>\n",
       "      <td>8710840</td>\n",
       "    </tr>\n",
       "    <tr>\n",
       "      <th>8</th>\n",
       "      <td>1.288690e+07</td>\n",
       "      <td>325</td>\n",
       "      <td>8600000</td>\n",
       "    </tr>\n",
       "    <tr>\n",
       "      <th>6</th>\n",
       "      <td>1.344191e+07</td>\n",
       "      <td>341</td>\n",
       "      <td>8500000</td>\n",
       "    </tr>\n",
       "    <tr>\n",
       "      <th>10</th>\n",
       "      <td>1.258325e+07</td>\n",
       "      <td>374</td>\n",
       "      <td>8450000</td>\n",
       "    </tr>\n",
       "    <tr>\n",
       "      <th>4</th>\n",
       "      <td>1.460105e+07</td>\n",
       "      <td>424</td>\n",
       "      <td>8448500</td>\n",
       "    </tr>\n",
       "    <tr>\n",
       "      <th>12</th>\n",
       "      <td>1.563153e+07</td>\n",
       "      <td>306</td>\n",
       "      <td>8125000</td>\n",
       "    </tr>\n",
       "  </tbody>\n",
       "</table>\n",
       "</div>"
      ],
      "text/plain": [
       "               mean  count   median\n",
       "month                              \n",
       "9      1.453846e+07    389  9200000\n",
       "1      1.450801e+07    273  9000000\n",
       "11     1.311509e+07    431  9000000\n",
       "7      1.382774e+07    353  8950000\n",
       "2      1.388433e+07    469  8850000\n",
       "5      1.382079e+07    263  8800000\n",
       "3      1.316727e+07    484  8710840\n",
       "8      1.288690e+07    325  8600000\n",
       "6      1.344191e+07    341  8500000\n",
       "10     1.258325e+07    374  8450000\n",
       "4      1.460105e+07    424  8448500\n",
       "12     1.563153e+07    306  8125000"
      ]
     },
     "execution_count": 44,
     "metadata": {},
     "output_type": "execute_result"
    },
    {
     "data": {
      "image/png": "[encoded data removed]",
      "text/plain": [
       "<Figure size 432x288 with 1 Axes>"
      ]
     },
     "metadata": {
      "needs_background": "light"
     },
     "output_type": "display_data"
    }
   ],
   "source": [
    "center_month = center_data.pivot_table(index = 'month', values = 'last_price', aggfunc = ['mean', 'count', 'median'])\n",
    "center_month.columns = ['mean', 'count', 'median']\n",
    "center_month.plot(y = 'median')\n",
    "\n",
    "center_month.sort_values('median', ascending = False)"
   ]
  },
  {
   "cell_type": "markdown",
   "metadata": {},
   "source": [
    "В целом, ситуация такая же, как и в общей выборке. Но на примере центрального района города более четко видные изменения цены к каждом месяце. Первые полгода наблюдаются резкие скачки цен, лето, как и везде, - период затишья на рынке недвижимости и дальше снова рост цен."
   ]
  },
  {
   "cell_type": "markdown",
   "metadata": {},
   "source": [
    "Зависимость стоимости квадратного метра от года размещения объявления"
   ]
  },
  {
   "cell_type": "code",
   "execution_count": 45,
   "metadata": {},
   "outputs": [
    {
     "data": {
      "text/html": [
       "<div>\n",
       "<style scoped>\n",
       "    .dataframe tbody tr th:only-of-type {\n",
       "        vertical-align: middle;\n",
       "    }\n",
       "\n",
       "    .dataframe tbody tr th {\n",
       "        vertical-align: top;\n",
       "    }\n",
       "\n",
       "    .dataframe thead th {\n",
       "        text-align: right;\n",
       "    }\n",
       "</style>\n",
       "<table border=\"1\" class=\"dataframe\">\n",
       "  <thead>\n",
       "    <tr style=\"text-align: right;\">\n",
       "      <th></th>\n",
       "      <th>mean</th>\n",
       "      <th>count</th>\n",
       "      <th>median</th>\n",
       "    </tr>\n",
       "    <tr>\n",
       "      <th>year</th>\n",
       "      <th></th>\n",
       "      <th></th>\n",
       "      <th></th>\n",
       "    </tr>\n",
       "  </thead>\n",
       "  <tbody>\n",
       "    <tr>\n",
       "      <th>2015</th>\n",
       "      <td>1.614521e+07</td>\n",
       "      <td>367</td>\n",
       "      <td>9833970</td>\n",
       "    </tr>\n",
       "    <tr>\n",
       "      <th>2016</th>\n",
       "      <td>1.472057e+07</td>\n",
       "      <td>591</td>\n",
       "      <td>9200000</td>\n",
       "    </tr>\n",
       "    <tr>\n",
       "      <th>2019</th>\n",
       "      <td>1.390734e+07</td>\n",
       "      <td>518</td>\n",
       "      <td>8700000</td>\n",
       "    </tr>\n",
       "    <tr>\n",
       "      <th>2017</th>\n",
       "      <td>1.431642e+07</td>\n",
       "      <td>1557</td>\n",
       "      <td>8600000</td>\n",
       "    </tr>\n",
       "    <tr>\n",
       "      <th>2018</th>\n",
       "      <td>1.187125e+07</td>\n",
       "      <td>1361</td>\n",
       "      <td>8490000</td>\n",
       "    </tr>\n",
       "  </tbody>\n",
       "</table>\n",
       "</div>"
      ],
      "text/plain": [
       "              mean  count   median\n",
       "year                              \n",
       "2015  1.614521e+07    367  9833970\n",
       "2016  1.472057e+07    591  9200000\n",
       "2019  1.390734e+07    518  8700000\n",
       "2017  1.431642e+07   1557  8600000\n",
       "2018  1.187125e+07   1361  8490000"
      ]
     },
     "execution_count": 45,
     "metadata": {},
     "output_type": "execute_result"
    },
    {
     "data": {
      "image/png": "[encoded data removed]",
      "text/plain": [
       "<Figure size 432x288 with 1 Axes>"
      ]
     },
     "metadata": {
      "needs_background": "light"
     },
     "output_type": "display_data"
    }
   ],
   "source": [
    "center_year = center_data.pivot_table(index = 'year', values = 'last_price', aggfunc = ['mean', 'count', 'median'])\n",
    "center_year.columns = ['mean', 'count', 'median']\n",
    "center_year.query('count > 50').plot(y = 'median')\n",
    "\n",
    "center_year.query('count > 50').sort_values('median', ascending = False)"
   ]
  },
  {
   "cell_type": "markdown",
   "metadata": {},
   "source": [
    "Ситуация в центре аналогична общей картине. На протяжении 2015 года наблюдаетя снижение цен на фоне общего кризиса, к началу 2016г. цена продажи достигает минимального значения и дальше начинает расти. С 2018 г. увеличение цен становится более резким."
   ]
  },
  {
   "cell_type": "markdown",
   "metadata": {},
   "source": [
    "## Общий вывод"
   ]
  },
  {
   "cell_type": "markdown",
   "metadata": {},
   "source": [
    "Мы изучили архивные данные объявлений о продаже квартир в Санкт-Петербурге и ближайших населенных пунктов за 2014-2019гг. \n",
    "\n",
    "По этим данным проанализировали площадь, цены, число комнат, высоту потолков объектов.\n",
    "Установили, что 75% жилых объектов Санкт-Петербурга и близлижащих районов имеют общую площадь от 40,6 до 70 кв.м. и находятся в ценовом диапазоне от 3,4 млн руб. до 6,8 млн руб. Высота потолков в большинстве случаев находится на уровне среднего значения - 2,65м. На рынке редко встречаются квартиры с высотой потолков более 3м. Также крайне мало квартир с минимальной высотой (2,4м).\n",
    "\n",
    "Основные факторы, влияющие на стоимость квартиры - это удаленность от центра и этаж. Первый и последний этаж значительно удешевляют стоимость 1 кв.м. Наиболее дорогое жилье расположено в центре города и не на крайних этажах. Причем эта зависимость характерна как для всей выборки, так и отдельно для центральной части Санкт-Петербурга (радиусом 8км).\n",
    "\n",
    "Изучая зависимость по времени продажи, а именно по дням недели, месяцу и году, можно отметить, что безусловно большее влияние оказывают месяц и год. День недели может меняться в зависимости от выборки. Самые высокие цены наблюдаются в апреле и декабре - месяцах, когда наименьшее число праздников и отпусков. Летом цены на недвижимость находятся на минимальном уровне (в любой выборке). Кризис 2014-2016гг. сильно повлиял на рынок недвижимости. Цены снижались на протяжении всего 2015 года и к 2016г. достигли минимума за анализируемый период. Затем рынок постепенно стал восстанавливаться, с 2018г. цены на недвижимость в центре Санкт-Петербурга стали резко расти.\n",
    "\n",
    "Из всех данных выделили населенный пункт с самыми высокими ценами на жилье и с самыми низкими. Самое дорогое жилье в Санкт-Петербуге, а самое дешевое из близлижащих пунктов - в Гатчине."
   ]
  }
 ],
 "metadata": {
  "ExecuteTimeLog": [
   {
    "duration": 48,
    "start_time": "2022-04-23T22:20:19.637Z"
   },
   {
    "duration": 402,
    "start_time": "2022-04-23T22:20:22.155Z"
   },
   {
    "duration": 91,
    "start_time": "2022-04-23T22:20:24.567Z"
   },
   {
    "duration": 84,
    "start_time": "2022-04-23T22:20:38.500Z"
   },
   {
    "duration": 206,
    "start_time": "2022-04-25T08:31:14.494Z"
   },
   {
    "duration": 271,
    "start_time": "2022-04-25T08:31:31.404Z"
   },
   {
    "duration": 33,
    "start_time": "2022-04-25T09:16:14.569Z"
   },
   {
    "duration": 41,
    "start_time": "2022-04-25T09:16:21.289Z"
   },
   {
    "duration": 11,
    "start_time": "2022-04-25T09:38:58.890Z"
   },
   {
    "duration": 10,
    "start_time": "2022-04-25T10:35:55.001Z"
   },
   {
    "duration": 22,
    "start_time": "2022-04-25T11:15:09.209Z"
   },
   {
    "duration": 415,
    "start_time": "2022-04-26T17:55:07.098Z"
   },
   {
    "duration": 206,
    "start_time": "2022-04-26T17:55:09.429Z"
   },
   {
    "duration": 41,
    "start_time": "2022-04-26T17:55:14.216Z"
   },
   {
    "duration": 24,
    "start_time": "2022-04-26T17:55:35.570Z"
   },
   {
    "duration": 8,
    "start_time": "2022-04-26T18:01:27.717Z"
   },
   {
    "duration": 7,
    "start_time": "2022-04-26T18:02:58.670Z"
   },
   {
    "duration": 9,
    "start_time": "2022-04-26T18:11:54.896Z"
   },
   {
    "duration": 8,
    "start_time": "2022-04-26T18:15:59.776Z"
   },
   {
    "duration": 8,
    "start_time": "2022-04-26T18:33:30.713Z"
   },
   {
    "duration": 17,
    "start_time": "2022-04-26T18:33:46.719Z"
   },
   {
    "duration": 4,
    "start_time": "2022-04-26T18:34:15.201Z"
   },
   {
    "duration": 16,
    "start_time": "2022-04-26T18:34:18.895Z"
   },
   {
    "duration": 5,
    "start_time": "2022-04-26T18:35:16.729Z"
   },
   {
    "duration": 11,
    "start_time": "2022-04-26T18:36:41.045Z"
   },
   {
    "duration": 4,
    "start_time": "2022-04-26T18:36:43.550Z"
   },
   {
    "duration": 17,
    "start_time": "2022-04-26T18:36:46.056Z"
   },
   {
    "duration": 8,
    "start_time": "2022-04-26T18:40:23.146Z"
   },
   {
    "duration": 5,
    "start_time": "2022-04-26T18:40:25.497Z"
   },
   {
    "duration": 16,
    "start_time": "2022-04-26T18:40:27.252Z"
   },
   {
    "duration": 16,
    "start_time": "2022-04-26T18:40:57.045Z"
   },
   {
    "duration": 5,
    "start_time": "2022-04-26T18:41:08.766Z"
   },
   {
    "duration": 23,
    "start_time": "2022-04-26T18:41:10.216Z"
   },
   {
    "duration": 15,
    "start_time": "2022-04-26T18:41:44.478Z"
   },
   {
    "duration": 11,
    "start_time": "2022-04-26T18:43:38.154Z"
   },
   {
    "duration": 22,
    "start_time": "2022-04-26T18:43:42.116Z"
   },
   {
    "duration": 7,
    "start_time": "2022-04-26T19:04:15.610Z"
   },
   {
    "duration": 119,
    "start_time": "2022-04-26T19:19:14.248Z"
   },
   {
    "duration": 13,
    "start_time": "2022-04-26T19:21:35.917Z"
   },
   {
    "duration": 22,
    "start_time": "2022-04-26T19:23:55.883Z"
   },
   {
    "duration": 2641,
    "start_time": "2022-04-26T19:24:54.633Z"
   },
   {
    "duration": 8,
    "start_time": "2022-04-26T19:25:38.054Z"
   },
   {
    "duration": 18,
    "start_time": "2022-04-26T19:25:46.701Z"
   },
   {
    "duration": 7,
    "start_time": "2022-04-26T19:25:49.292Z"
   },
   {
    "duration": 14,
    "start_time": "2022-04-26T19:40:11.149Z"
   },
   {
    "duration": 6,
    "start_time": "2022-04-26T19:40:13.122Z"
   },
   {
    "duration": 16,
    "start_time": "2022-04-26T19:40:50.286Z"
   },
   {
    "duration": 25,
    "start_time": "2022-04-26T19:42:38.533Z"
   },
   {
    "duration": 25,
    "start_time": "2022-04-26T19:42:43.168Z"
   },
   {
    "duration": 6,
    "start_time": "2022-04-26T19:55:34.502Z"
   },
   {
    "duration": 7,
    "start_time": "2022-04-26T20:10:19.102Z"
   },
   {
    "duration": 24,
    "start_time": "2022-04-26T20:10:25.434Z"
   },
   {
    "duration": 5,
    "start_time": "2022-04-26T20:10:42.657Z"
   },
   {
    "duration": 18,
    "start_time": "2022-04-26T20:10:44.725Z"
   },
   {
    "duration": 9,
    "start_time": "2022-04-26T20:12:12.254Z"
   },
   {
    "duration": 18,
    "start_time": "2022-04-26T20:12:17.313Z"
   },
   {
    "duration": 54,
    "start_time": "2022-04-26T20:13:04.848Z"
   },
   {
    "duration": 19,
    "start_time": "2022-04-26T20:13:15.345Z"
   },
   {
    "duration": 9,
    "start_time": "2022-04-26T20:16:14.651Z"
   },
   {
    "duration": 16,
    "start_time": "2022-04-26T20:16:16.403Z"
   },
   {
    "duration": 18,
    "start_time": "2022-04-26T20:29:34.890Z"
   },
   {
    "duration": 22,
    "start_time": "2022-04-26T20:29:37.346Z"
   },
   {
    "duration": 12,
    "start_time": "2022-04-26T20:29:50.513Z"
   },
   {
    "duration": 12,
    "start_time": "2022-04-26T20:29:57.875Z"
   },
   {
    "duration": 11,
    "start_time": "2022-04-26T20:30:03.250Z"
   },
   {
    "duration": 15,
    "start_time": "2022-04-26T20:30:05.590Z"
   },
   {
    "duration": 13,
    "start_time": "2022-04-26T20:30:33.680Z"
   },
   {
    "duration": 23,
    "start_time": "2022-04-26T20:30:35.228Z"
   },
   {
    "duration": 5,
    "start_time": "2022-04-26T20:37:25.680Z"
   },
   {
    "duration": 5,
    "start_time": "2022-04-26T20:37:57.277Z"
   },
   {
    "duration": 44,
    "start_time": "2022-04-26T20:44:12.212Z"
   },
   {
    "duration": 6,
    "start_time": "2022-04-26T20:52:40.883Z"
   },
   {
    "duration": 15,
    "start_time": "2022-04-26T20:52:46.671Z"
   },
   {
    "duration": 7,
    "start_time": "2022-04-26T20:54:15.777Z"
   },
   {
    "duration": 19,
    "start_time": "2022-04-26T20:54:16.931Z"
   },
   {
    "duration": 38,
    "start_time": "2022-04-26T20:57:21.296Z"
   },
   {
    "duration": 16,
    "start_time": "2022-04-26T20:59:54.010Z"
   },
   {
    "duration": 9,
    "start_time": "2022-04-26T21:05:36.079Z"
   },
   {
    "duration": 18,
    "start_time": "2022-04-26T21:05:41.029Z"
   },
   {
    "duration": 11,
    "start_time": "2022-04-26T21:29:21.762Z"
   },
   {
    "duration": 15,
    "start_time": "2022-04-26T21:29:24.768Z"
   },
   {
    "duration": 65,
    "start_time": "2022-04-26T21:30:14.373Z"
   },
   {
    "duration": 18,
    "start_time": "2022-04-26T21:30:15.362Z"
   },
   {
    "duration": 14,
    "start_time": "2022-04-26T21:31:17.706Z"
   },
   {
    "duration": 17,
    "start_time": "2022-04-26T21:31:18.884Z"
   },
   {
    "duration": 22,
    "start_time": "2022-04-26T21:32:50.484Z"
   },
   {
    "duration": 19,
    "start_time": "2022-04-26T21:32:51.668Z"
   },
   {
    "duration": 173,
    "start_time": "2022-04-26T22:17:18.854Z"
   },
   {
    "duration": 19,
    "start_time": "2022-04-26T22:17:42.108Z"
   },
   {
    "duration": 8,
    "start_time": "2022-04-26T22:18:29.917Z"
   },
   {
    "duration": 41,
    "start_time": "2022-04-26T22:18:45.973Z"
   },
   {
    "duration": 40,
    "start_time": "2022-04-26T22:18:51.990Z"
   },
   {
    "duration": 306,
    "start_time": "2022-04-26T22:20:55.267Z"
   },
   {
    "duration": 37,
    "start_time": "2022-04-26T22:20:56.472Z"
   },
   {
    "duration": 4,
    "start_time": "2022-04-26T22:26:22.056Z"
   },
   {
    "duration": 1560,
    "start_time": "2022-04-26T22:32:39.158Z"
   },
   {
    "duration": 510,
    "start_time": "2022-04-27T18:05:20.788Z"
   },
   {
    "duration": 209,
    "start_time": "2022-04-27T18:05:23.218Z"
   },
   {
    "duration": 40,
    "start_time": "2022-04-27T18:05:28.900Z"
   },
   {
    "duration": 20,
    "start_time": "2022-04-27T18:05:30.340Z"
   },
   {
    "duration": 9,
    "start_time": "2022-04-27T18:05:36.234Z"
   },
   {
    "duration": 7,
    "start_time": "2022-04-27T18:05:38.827Z"
   },
   {
    "duration": 13,
    "start_time": "2022-04-27T18:05:40.494Z"
   },
   {
    "duration": 7,
    "start_time": "2022-04-27T18:05:41.975Z"
   },
   {
    "duration": 22,
    "start_time": "2022-04-27T18:05:49.384Z"
   },
   {
    "duration": 55,
    "start_time": "2022-04-27T18:05:56.613Z"
   },
   {
    "duration": 7,
    "start_time": "2022-04-27T18:06:06.461Z"
   },
   {
    "duration": 17,
    "start_time": "2022-04-27T18:06:09.510Z"
   },
   {
    "duration": 10,
    "start_time": "2022-04-27T18:06:12.508Z"
   },
   {
    "duration": 11,
    "start_time": "2022-04-27T18:06:14.746Z"
   },
   {
    "duration": 15,
    "start_time": "2022-04-27T18:06:19.550Z"
   },
   {
    "duration": 20,
    "start_time": "2022-04-27T18:06:22.453Z"
   },
   {
    "duration": 469,
    "start_time": "2022-04-27T18:06:28.361Z"
   },
   {
    "duration": 54,
    "start_time": "2022-04-27T18:06:32.100Z"
   },
   {
    "duration": 2093,
    "start_time": "2022-04-27T18:06:41.133Z"
   },
   {
    "duration": 1584,
    "start_time": "2022-04-27T18:07:40.486Z"
   },
   {
    "duration": 1802,
    "start_time": "2022-04-27T18:18:25.125Z"
   },
   {
    "duration": 1631,
    "start_time": "2022-04-27T18:18:54.408Z"
   },
   {
    "duration": 716,
    "start_time": "2022-04-27T18:43:44.208Z"
   },
   {
    "duration": 552,
    "start_time": "2022-04-27T18:44:24.105Z"
   },
   {
    "duration": 427,
    "start_time": "2022-04-27T18:44:36.474Z"
   },
   {
    "duration": 308,
    "start_time": "2022-04-27T18:48:17.552Z"
   },
   {
    "duration": 230,
    "start_time": "2022-04-27T18:49:40.378Z"
   },
   {
    "duration": 245,
    "start_time": "2022-04-27T18:49:50.936Z"
   },
   {
    "duration": 312,
    "start_time": "2022-04-27T18:52:30.595Z"
   },
   {
    "duration": 460,
    "start_time": "2022-04-27T18:52:47.005Z"
   },
   {
    "duration": 461,
    "start_time": "2022-04-27T19:31:54.587Z"
   },
   {
    "duration": 528,
    "start_time": "2022-04-27T19:38:17.816Z"
   },
   {
    "duration": 426,
    "start_time": "2022-04-27T19:38:31.179Z"
   },
   {
    "duration": 303,
    "start_time": "2022-04-27T19:38:46.067Z"
   },
   {
    "duration": 561,
    "start_time": "2022-04-27T19:38:56.993Z"
   },
   {
    "duration": 425,
    "start_time": "2022-04-27T19:39:05.385Z"
   },
   {
    "duration": 513,
    "start_time": "2022-04-27T19:39:22.058Z"
   },
   {
    "duration": 342,
    "start_time": "2022-04-27T20:33:59.025Z"
   },
   {
    "duration": 348,
    "start_time": "2022-04-27T20:36:15.869Z"
   },
   {
    "duration": 349,
    "start_time": "2022-04-27T20:36:36.768Z"
   },
   {
    "duration": 668,
    "start_time": "2022-04-27T20:37:12.944Z"
   },
   {
    "duration": 6,
    "start_time": "2022-04-27T20:37:42.897Z"
   },
   {
    "duration": 459,
    "start_time": "2022-04-27T20:40:11.293Z"
   },
   {
    "duration": 418,
    "start_time": "2022-04-27T20:40:39.106Z"
   },
   {
    "duration": 282,
    "start_time": "2022-04-27T20:48:49.550Z"
   },
   {
    "duration": 424,
    "start_time": "2022-04-28T06:25:47.504Z"
   },
   {
    "duration": 154,
    "start_time": "2022-04-28T06:25:50.167Z"
   },
   {
    "duration": 26,
    "start_time": "2022-04-28T06:25:52.944Z"
   },
   {
    "duration": 14,
    "start_time": "2022-04-28T06:25:54.085Z"
   },
   {
    "duration": 722,
    "start_time": "2022-04-28T06:34:37.917Z"
   },
   {
    "duration": 262,
    "start_time": "2022-04-28T06:34:43.032Z"
   },
   {
    "duration": 5,
    "start_time": "2022-04-28T06:36:09.479Z"
   },
   {
    "duration": 5,
    "start_time": "2022-04-28T06:36:11.820Z"
   },
   {
    "duration": 11,
    "start_time": "2022-04-28T06:36:13.108Z"
   },
   {
    "duration": 6,
    "start_time": "2022-04-28T06:36:14.107Z"
   },
   {
    "duration": 65,
    "start_time": "2022-04-28T06:36:17.496Z"
   },
   {
    "duration": 5,
    "start_time": "2022-04-28T06:36:19.206Z"
   },
   {
    "duration": 14,
    "start_time": "2022-04-28T06:36:20.809Z"
   },
   {
    "duration": 8,
    "start_time": "2022-04-28T06:36:47.347Z"
   },
   {
    "duration": 7,
    "start_time": "2022-04-28T06:36:49.020Z"
   },
   {
    "duration": 11,
    "start_time": "2022-04-28T06:36:50.493Z"
   },
   {
    "duration": 233,
    "start_time": "2022-04-28T06:36:53.571Z"
   },
   {
    "duration": 257,
    "start_time": "2022-04-28T06:36:56.482Z"
   },
   {
    "duration": 4,
    "start_time": "2022-04-28T06:36:59.589Z"
   },
   {
    "duration": 199,
    "start_time": "2022-04-28T06:37:02.314Z"
   },
   {
    "duration": 168,
    "start_time": "2022-04-28T06:37:04.464Z"
   },
   {
    "duration": 5,
    "start_time": "2022-04-28T08:20:35.266Z"
   },
   {
    "duration": 5,
    "start_time": "2022-04-28T08:20:47.409Z"
   },
   {
    "duration": 70,
    "start_time": "2022-04-28T09:16:36.353Z"
   },
   {
    "duration": 2,
    "start_time": "2022-04-28T09:16:44.837Z"
   },
   {
    "duration": 546,
    "start_time": "2022-04-28T09:16:51.315Z"
   },
   {
    "duration": 611,
    "start_time": "2022-04-28T09:17:45.785Z"
   },
   {
    "duration": 799,
    "start_time": "2022-04-28T14:05:37.971Z"
   },
   {
    "duration": 145,
    "start_time": "2022-04-28T14:05:40.104Z"
   },
   {
    "duration": 25,
    "start_time": "2022-04-28T14:05:43.390Z"
   },
   {
    "duration": 14,
    "start_time": "2022-04-28T14:05:45.106Z"
   },
   {
    "duration": 6,
    "start_time": "2022-04-28T14:05:53.012Z"
   },
   {
    "duration": 5,
    "start_time": "2022-04-28T14:05:59.762Z"
   },
   {
    "duration": 73,
    "start_time": "2022-04-28T14:06:21.980Z"
   },
   {
    "duration": 11,
    "start_time": "2022-04-28T14:09:50.085Z"
   },
   {
    "duration": 5,
    "start_time": "2022-04-28T14:10:38.751Z"
   },
   {
    "duration": 6,
    "start_time": "2022-04-28T14:11:06.479Z"
   },
   {
    "duration": 13,
    "start_time": "2022-04-28T14:11:07.483Z"
   },
   {
    "duration": 16,
    "start_time": "2022-04-28T14:11:10.884Z"
   },
   {
    "duration": 5,
    "start_time": "2022-04-28T14:11:12.688Z"
   },
   {
    "duration": 12,
    "start_time": "2022-04-28T14:11:15.330Z"
   },
   {
    "duration": 8,
    "start_time": "2022-04-28T14:11:16.771Z"
   },
   {
    "duration": 7,
    "start_time": "2022-04-28T14:11:18.422Z"
   },
   {
    "duration": 10,
    "start_time": "2022-04-28T14:11:20.094Z"
   },
   {
    "duration": 14,
    "start_time": "2022-04-28T14:11:22.086Z"
   },
   {
    "duration": 247,
    "start_time": "2022-04-28T14:11:24.197Z"
   },
   {
    "duration": 262,
    "start_time": "2022-04-28T14:11:27.363Z"
   },
   {
    "duration": 313,
    "start_time": "2022-04-28T14:11:34.419Z"
   },
   {
    "duration": 4,
    "start_time": "2022-04-28T14:11:36.880Z"
   },
   {
    "duration": 206,
    "start_time": "2022-04-28T14:11:37.800Z"
   },
   {
    "duration": 170,
    "start_time": "2022-04-28T14:11:40.671Z"
   },
   {
    "duration": 522,
    "start_time": "2022-04-28T14:11:43.483Z"
   },
   {
    "duration": 547,
    "start_time": "2022-04-28T15:46:21.291Z"
   },
   {
    "duration": 576,
    "start_time": "2022-04-28T16:08:07.740Z"
   },
   {
    "duration": 148,
    "start_time": "2022-04-28T16:54:10.723Z"
   },
   {
    "duration": 130,
    "start_time": "2022-04-28T16:54:20.912Z"
   },
   {
    "duration": 188,
    "start_time": "2022-04-28T16:54:30.967Z"
   },
   {
    "duration": 147,
    "start_time": "2022-04-28T16:54:37.994Z"
   },
   {
    "duration": 129,
    "start_time": "2022-04-28T16:54:47.479Z"
   },
   {
    "duration": 141,
    "start_time": "2022-04-28T16:55:21.407Z"
   },
   {
    "duration": 126,
    "start_time": "2022-04-28T16:55:40.582Z"
   },
   {
    "duration": 10,
    "start_time": "2022-04-28T16:56:24.676Z"
   },
   {
    "duration": 78,
    "start_time": "2022-04-28T16:56:37.634Z"
   },
   {
    "duration": 396,
    "start_time": "2022-04-28T16:57:09.827Z"
   },
   {
    "duration": 13,
    "start_time": "2022-04-28T17:23:40.020Z"
   },
   {
    "duration": 131,
    "start_time": "2022-04-28T17:23:52.277Z"
   },
   {
    "duration": 139,
    "start_time": "2022-04-28T17:30:41.038Z"
   },
   {
    "duration": 15,
    "start_time": "2022-04-28T17:44:11.045Z"
   },
   {
    "duration": 25,
    "start_time": "2022-04-28T17:46:58.847Z"
   },
   {
    "duration": 153,
    "start_time": "2022-04-28T17:48:09.354Z"
   },
   {
    "duration": 19,
    "start_time": "2022-04-28T18:06:48.025Z"
   },
   {
    "duration": 137,
    "start_time": "2022-04-28T18:06:58.801Z"
   },
   {
    "duration": 210,
    "start_time": "2022-04-28T18:09:53.834Z"
   },
   {
    "duration": 147,
    "start_time": "2022-04-28T18:13:48.240Z"
   },
   {
    "duration": 15,
    "start_time": "2022-04-28T18:14:57.673Z"
   },
   {
    "duration": 146,
    "start_time": "2022-04-28T18:19:11.745Z"
   },
   {
    "duration": 13,
    "start_time": "2022-04-28T19:00:31.778Z"
   },
   {
    "duration": 140,
    "start_time": "2022-04-28T19:00:40.841Z"
   },
   {
    "duration": 148,
    "start_time": "2022-04-28T20:23:24.098Z"
   },
   {
    "duration": 21,
    "start_time": "2022-04-28T20:44:16.806Z"
   },
   {
    "duration": 23,
    "start_time": "2022-04-28T20:44:35.995Z"
   },
   {
    "duration": 9,
    "start_time": "2022-04-28T20:44:38.226Z"
   },
   {
    "duration": 22,
    "start_time": "2022-04-28T20:46:11.092Z"
   },
   {
    "duration": 7,
    "start_time": "2022-04-28T20:46:14.512Z"
   },
   {
    "duration": 20,
    "start_time": "2022-04-28T20:50:21.027Z"
   },
   {
    "duration": 142,
    "start_time": "2022-04-28T20:50:54.197Z"
   },
   {
    "duration": 140,
    "start_time": "2022-04-28T20:52:44.938Z"
   },
   {
    "duration": 135,
    "start_time": "2022-04-28T20:53:13.544Z"
   },
   {
    "duration": 10,
    "start_time": "2022-04-28T20:58:53.035Z"
   },
   {
    "duration": 8,
    "start_time": "2022-04-28T20:59:04.714Z"
   },
   {
    "duration": 8,
    "start_time": "2022-04-28T21:00:04.184Z"
   },
   {
    "duration": 8,
    "start_time": "2022-04-28T21:00:05.916Z"
   },
   {
    "duration": 2463,
    "start_time": "2022-04-28T21:00:23.848Z"
   },
   {
    "duration": 147,
    "start_time": "2022-04-28T21:00:34.109Z"
   },
   {
    "duration": 130,
    "start_time": "2022-04-28T21:03:37.425Z"
   },
   {
    "duration": 147,
    "start_time": "2022-04-28T21:03:53.228Z"
   },
   {
    "duration": 186,
    "start_time": "2022-04-28T21:06:25.696Z"
   },
   {
    "duration": 148,
    "start_time": "2022-04-28T21:09:42.724Z"
   },
   {
    "duration": 137,
    "start_time": "2022-04-28T21:10:21.090Z"
   },
   {
    "duration": 139,
    "start_time": "2022-04-28T21:18:04.566Z"
   },
   {
    "duration": 167,
    "start_time": "2022-04-28T21:23:41.158Z"
   },
   {
    "duration": 719,
    "start_time": "2022-05-03T11:51:53.329Z"
   },
   {
    "duration": 153,
    "start_time": "2022-05-03T11:51:54.050Z"
   },
   {
    "duration": 26,
    "start_time": "2022-05-03T11:51:54.204Z"
   },
   {
    "duration": 15,
    "start_time": "2022-05-03T11:51:54.232Z"
   },
   {
    "duration": 31,
    "start_time": "2022-05-03T11:51:54.250Z"
   },
   {
    "duration": 16,
    "start_time": "2022-05-03T11:51:54.282Z"
   },
   {
    "duration": 6,
    "start_time": "2022-05-03T11:51:54.299Z"
   },
   {
    "duration": 9,
    "start_time": "2022-05-03T11:51:54.306Z"
   },
   {
    "duration": 14,
    "start_time": "2022-05-03T11:51:54.317Z"
   },
   {
    "duration": 14,
    "start_time": "2022-05-03T11:51:54.334Z"
   },
   {
    "duration": 5,
    "start_time": "2022-05-03T11:51:54.350Z"
   },
   {
    "duration": 14,
    "start_time": "2022-05-03T11:51:54.379Z"
   },
   {
    "duration": 9,
    "start_time": "2022-05-03T11:51:54.395Z"
   },
   {
    "duration": 8,
    "start_time": "2022-05-03T11:51:54.405Z"
   },
   {
    "duration": 11,
    "start_time": "2022-05-03T11:51:54.414Z"
   },
   {
    "duration": 14,
    "start_time": "2022-05-03T11:51:54.427Z"
   },
   {
    "duration": 286,
    "start_time": "2022-05-03T11:51:54.442Z"
   },
   {
    "duration": 32,
    "start_time": "2022-05-03T11:51:54.730Z"
   },
   {
    "duration": 365,
    "start_time": "2022-05-03T11:51:54.764Z"
   },
   {
    "duration": 290,
    "start_time": "2022-05-03T11:51:55.130Z"
   },
   {
    "duration": 5,
    "start_time": "2022-05-03T11:51:55.421Z"
   },
   {
    "duration": 231,
    "start_time": "2022-05-03T11:51:55.428Z"
   },
   {
    "duration": 194,
    "start_time": "2022-05-03T11:51:55.661Z"
   },
   {
    "duration": 576,
    "start_time": "2022-05-03T11:51:55.857Z"
   },
   {
    "duration": 97,
    "start_time": "2022-05-03T11:51:56.435Z"
   },
   {
    "duration": 579,
    "start_time": "2022-05-03T11:51:56.534Z"
   },
   {
    "duration": 160,
    "start_time": "2022-05-03T11:51:57.115Z"
   },
   {
    "duration": 165,
    "start_time": "2022-05-03T11:51:57.281Z"
   },
   {
    "duration": 34,
    "start_time": "2022-05-03T11:51:57.447Z"
   },
   {
    "duration": 179,
    "start_time": "2022-05-03T11:51:57.483Z"
   },
   {
    "duration": 183,
    "start_time": "2022-05-03T11:51:57.664Z"
   },
   {
    "duration": 162,
    "start_time": "2022-05-03T11:51:57.848Z"
   },
   {
    "duration": 172,
    "start_time": "2022-05-03T11:51:58.012Z"
   },
   {
    "duration": 165,
    "start_time": "2022-05-03T11:51:58.190Z"
   },
   {
    "duration": 34,
    "start_time": "2022-05-03T11:51:58.357Z"
   },
   {
    "duration": 7,
    "start_time": "2022-05-03T11:51:58.393Z"
   },
   {
    "duration": 9,
    "start_time": "2022-05-03T11:51:58.402Z"
   },
   {
    "duration": 169,
    "start_time": "2022-05-03T11:51:58.412Z"
   },
   {
    "duration": 10,
    "start_time": "2022-05-03T11:51:58.583Z"
   },
   {
    "duration": 206,
    "start_time": "2022-05-03T11:51:58.595Z"
   },
   {
    "duration": 241,
    "start_time": "2022-05-03T11:51:58.802Z"
   },
   {
    "duration": 160,
    "start_time": "2022-05-03T11:51:59.045Z"
   },
   {
    "duration": 157,
    "start_time": "2022-05-03T11:51:59.207Z"
   },
   {
    "duration": 162,
    "start_time": "2022-05-03T11:51:59.366Z"
   },
   {
    "duration": 273,
    "start_time": "2022-05-03T11:51:59.529Z"
   },
   {
    "duration": 665,
    "start_time": "2022-05-03T14:29:34.298Z"
   },
   {
    "duration": 147,
    "start_time": "2022-05-03T14:29:34.966Z"
   },
   {
    "duration": 27,
    "start_time": "2022-05-03T14:29:35.118Z"
   },
   {
    "duration": 36,
    "start_time": "2022-05-03T14:29:35.147Z"
   },
   {
    "duration": 7,
    "start_time": "2022-05-03T14:29:35.185Z"
   },
   {
    "duration": 7,
    "start_time": "2022-05-03T14:29:35.194Z"
   },
   {
    "duration": 7,
    "start_time": "2022-05-03T14:29:35.202Z"
   },
   {
    "duration": 5,
    "start_time": "2022-05-03T14:29:35.211Z"
   },
   {
    "duration": 13,
    "start_time": "2022-05-03T14:29:35.219Z"
   },
   {
    "duration": 48,
    "start_time": "2022-05-03T14:29:35.234Z"
   },
   {
    "duration": 5,
    "start_time": "2022-05-03T14:29:35.284Z"
   },
   {
    "duration": 15,
    "start_time": "2022-05-03T14:29:35.290Z"
   },
   {
    "duration": 6,
    "start_time": "2022-05-03T14:29:35.306Z"
   },
   {
    "duration": 11,
    "start_time": "2022-05-03T14:29:35.314Z"
   },
   {
    "duration": 11,
    "start_time": "2022-05-03T14:29:35.326Z"
   },
   {
    "duration": 45,
    "start_time": "2022-05-03T14:29:35.338Z"
   },
   {
    "duration": 244,
    "start_time": "2022-05-03T14:29:35.384Z"
   },
   {
    "duration": 43,
    "start_time": "2022-05-03T14:29:35.630Z"
   },
   {
    "duration": 352,
    "start_time": "2022-05-03T14:29:35.675Z"
   },
   {
    "duration": 275,
    "start_time": "2022-05-03T14:29:36.028Z"
   },
   {
    "duration": 6,
    "start_time": "2022-05-03T14:29:36.305Z"
   },
   {
    "duration": 226,
    "start_time": "2022-05-03T14:29:36.313Z"
   },
   {
    "duration": 189,
    "start_time": "2022-05-03T14:29:36.540Z"
   },
   {
    "duration": 552,
    "start_time": "2022-05-03T14:29:36.730Z"
   },
   {
    "duration": 103,
    "start_time": "2022-05-03T14:29:37.284Z"
   },
   {
    "duration": 574,
    "start_time": "2022-05-03T14:29:37.388Z"
   },
   {
    "duration": 153,
    "start_time": "2022-05-03T14:29:37.972Z"
   },
   {
    "duration": 170,
    "start_time": "2022-05-03T14:29:38.128Z"
   },
   {
    "duration": 28,
    "start_time": "2022-05-03T14:29:38.299Z"
   },
   {
    "duration": 196,
    "start_time": "2022-05-03T14:29:38.328Z"
   },
   {
    "duration": 162,
    "start_time": "2022-05-03T14:29:38.525Z"
   },
   {
    "duration": 153,
    "start_time": "2022-05-03T14:29:38.688Z"
   },
   {
    "duration": 155,
    "start_time": "2022-05-03T14:29:38.843Z"
   },
   {
    "duration": 162,
    "start_time": "2022-05-03T14:29:38.999Z"
   },
   {
    "duration": 29,
    "start_time": "2022-05-03T14:29:39.162Z"
   },
   {
    "duration": 7,
    "start_time": "2022-05-03T14:29:39.193Z"
   },
   {
    "duration": 10,
    "start_time": "2022-05-03T14:29:39.201Z"
   },
   {
    "duration": 160,
    "start_time": "2022-05-03T14:29:39.213Z"
   },
   {
    "duration": 9,
    "start_time": "2022-05-03T14:29:39.375Z"
   },
   {
    "duration": 162,
    "start_time": "2022-05-03T14:29:39.386Z"
   },
   {
    "duration": 242,
    "start_time": "2022-05-03T14:29:39.550Z"
   },
   {
    "duration": 151,
    "start_time": "2022-05-03T14:29:39.794Z"
   },
   {
    "duration": 165,
    "start_time": "2022-05-03T14:29:39.947Z"
   },
   {
    "duration": 154,
    "start_time": "2022-05-03T14:29:40.114Z"
   },
   {
    "duration": 181,
    "start_time": "2022-05-03T14:29:40.274Z"
   },
   {
    "duration": 469,
    "start_time": "2022-05-03T15:26:03.804Z"
   },
   {
    "duration": 677,
    "start_time": "2022-05-03T15:31:09.402Z"
   },
   {
    "duration": 152,
    "start_time": "2022-05-03T15:31:10.081Z"
   },
   {
    "duration": 28,
    "start_time": "2022-05-03T15:31:10.234Z"
   },
   {
    "duration": 15,
    "start_time": "2022-05-03T15:31:10.274Z"
   },
   {
    "duration": 6,
    "start_time": "2022-05-03T15:31:10.290Z"
   },
   {
    "duration": 8,
    "start_time": "2022-05-03T15:31:10.298Z"
   },
   {
    "duration": 11,
    "start_time": "2022-05-03T15:31:10.308Z"
   },
   {
    "duration": 9,
    "start_time": "2022-05-03T15:31:10.320Z"
   },
   {
    "duration": 20,
    "start_time": "2022-05-03T15:31:10.330Z"
   },
   {
    "duration": 17,
    "start_time": "2022-05-03T15:31:10.375Z"
   },
   {
    "duration": 5,
    "start_time": "2022-05-03T15:31:10.393Z"
   },
   {
    "duration": 14,
    "start_time": "2022-05-03T15:31:10.400Z"
   },
   {
    "duration": 8,
    "start_time": "2022-05-03T15:31:10.416Z"
   },
   {
    "duration": 7,
    "start_time": "2022-05-03T15:31:10.425Z"
   },
   {
    "duration": 45,
    "start_time": "2022-05-03T15:31:10.433Z"
   },
   {
    "duration": 15,
    "start_time": "2022-05-03T15:31:10.480Z"
   },
   {
    "duration": 257,
    "start_time": "2022-05-03T15:31:10.497Z"
   },
   {
    "duration": 44,
    "start_time": "2022-05-03T15:31:10.757Z"
   },
   {
    "duration": 364,
    "start_time": "2022-05-03T15:31:10.803Z"
   },
   {
    "duration": 276,
    "start_time": "2022-05-03T15:31:11.173Z"
   },
   {
    "duration": 5,
    "start_time": "2022-05-03T15:31:11.451Z"
   },
   {
    "duration": 242,
    "start_time": "2022-05-03T15:31:11.458Z"
   },
   {
    "duration": 194,
    "start_time": "2022-05-03T15:31:11.702Z"
   },
   {
    "duration": 581,
    "start_time": "2022-05-03T15:31:11.898Z"
   },
   {
    "duration": 107,
    "start_time": "2022-05-03T15:31:12.481Z"
   },
   {
    "duration": 573,
    "start_time": "2022-05-03T15:31:12.590Z"
   },
   {
    "duration": 173,
    "start_time": "2022-05-03T15:31:13.165Z"
   },
   {
    "duration": 167,
    "start_time": "2022-05-03T15:31:13.342Z"
   },
   {
    "duration": 28,
    "start_time": "2022-05-03T15:31:13.511Z"
   },
   {
    "duration": 198,
    "start_time": "2022-05-03T15:31:13.541Z"
   },
   {
    "duration": 170,
    "start_time": "2022-05-03T15:31:13.741Z"
   },
   {
    "duration": 165,
    "start_time": "2022-05-03T15:31:13.913Z"
   },
   {
    "duration": 165,
    "start_time": "2022-05-03T15:31:14.079Z"
   },
   {
    "duration": 166,
    "start_time": "2022-05-03T15:31:14.246Z"
   },
   {
    "duration": 23,
    "start_time": "2022-05-03T15:31:14.414Z"
   },
   {
    "duration": 8,
    "start_time": "2022-05-03T15:31:14.439Z"
   },
   {
    "duration": 31,
    "start_time": "2022-05-03T15:31:14.449Z"
   },
   {
    "duration": 160,
    "start_time": "2022-05-03T15:31:14.482Z"
   },
   {
    "duration": 10,
    "start_time": "2022-05-03T15:31:14.644Z"
   },
   {
    "duration": 174,
    "start_time": "2022-05-03T15:31:14.656Z"
   },
   {
    "duration": 255,
    "start_time": "2022-05-03T15:31:14.832Z"
   },
   {
    "duration": 157,
    "start_time": "2022-05-03T15:31:15.088Z"
   },
   {
    "duration": 162,
    "start_time": "2022-05-03T15:31:15.246Z"
   },
   {
    "duration": 154,
    "start_time": "2022-05-03T15:31:15.410Z"
   },
   {
    "duration": 191,
    "start_time": "2022-05-03T15:31:15.566Z"
   },
   {
    "duration": 101,
    "start_time": "2022-05-05T17:22:07.974Z"
   },
   {
    "duration": 90,
    "start_time": "2022-05-05T17:22:18.228Z"
   },
   {
    "duration": 90,
    "start_time": "2022-05-05T17:22:29.575Z"
   },
   {
    "duration": 114,
    "start_time": "2022-05-05T17:22:44.262Z"
   },
   {
    "duration": 86,
    "start_time": "2022-05-05T17:22:53.433Z"
   },
   {
    "duration": 85,
    "start_time": "2022-05-05T17:23:17.120Z"
   },
   {
    "duration": 100,
    "start_time": "2022-05-05T17:23:31.982Z"
   },
   {
    "duration": 94,
    "start_time": "2022-05-05T17:24:15.979Z"
   },
   {
    "duration": 88,
    "start_time": "2022-05-05T17:24:28.424Z"
   },
   {
    "duration": 1132,
    "start_time": "2022-05-05T17:27:40.176Z"
   },
   {
    "duration": 193,
    "start_time": "2022-05-05T17:27:42.602Z"
   },
   {
    "duration": 41,
    "start_time": "2022-05-05T17:27:45.731Z"
   },
   {
    "duration": 24,
    "start_time": "2022-05-05T17:27:46.440Z"
   },
   {
    "duration": 9,
    "start_time": "2022-05-05T17:27:52.743Z"
   },
   {
    "duration": 5,
    "start_time": "2022-05-05T17:27:55.619Z"
   },
   {
    "duration": 6,
    "start_time": "2022-05-05T17:27:58.172Z"
   },
   {
    "duration": 8,
    "start_time": "2022-05-05T17:28:01.037Z"
   },
   {
    "duration": 23,
    "start_time": "2022-05-05T17:28:03.393Z"
   },
   {
    "duration": 24,
    "start_time": "2022-05-05T17:28:09.315Z"
   },
   {
    "duration": 107,
    "start_time": "2022-05-05T17:31:12.099Z"
   },
   {
    "duration": 10,
    "start_time": "2022-05-05T17:32:09.008Z"
   },
   {
    "duration": 105,
    "start_time": "2022-05-05T17:33:24.175Z"
   },
   {
    "duration": 100,
    "start_time": "2022-05-05T17:33:38.016Z"
   },
   {
    "duration": 16,
    "start_time": "2022-05-05T17:33:48.842Z"
   },
   {
    "duration": 15,
    "start_time": "2022-05-05T17:34:20.201Z"
   },
   {
    "duration": 18,
    "start_time": "2022-05-05T17:37:49.716Z"
   },
   {
    "duration": 22,
    "start_time": "2022-05-05T17:37:51.047Z"
   },
   {
    "duration": 22,
    "start_time": "2022-05-05T17:39:09.598Z"
   },
   {
    "duration": 27,
    "start_time": "2022-05-05T17:39:11.506Z"
   },
   {
    "duration": 60,
    "start_time": "2022-05-05T17:39:49.440Z"
   },
   {
    "duration": 29,
    "start_time": "2022-05-05T17:39:51.666Z"
   },
   {
    "duration": 43,
    "start_time": "2022-05-05T17:40:24.569Z"
   },
   {
    "duration": 522,
    "start_time": "2022-05-05T17:40:51.045Z"
   },
   {
    "duration": 318,
    "start_time": "2022-05-05T17:41:54.498Z"
   },
   {
    "duration": 505,
    "start_time": "2022-05-05T17:42:17.953Z"
   },
   {
    "duration": 471,
    "start_time": "2022-05-05T17:44:18.606Z"
   },
   {
    "duration": 517,
    "start_time": "2022-05-05T17:44:47.980Z"
   },
   {
    "duration": 470,
    "start_time": "2022-05-05T17:44:56.298Z"
   },
   {
    "duration": 364,
    "start_time": "2022-05-05T17:46:11.131Z"
   },
   {
    "duration": 301,
    "start_time": "2022-05-05T17:46:22.055Z"
   },
   {
    "duration": 367,
    "start_time": "2022-05-05T17:47:49.944Z"
   },
   {
    "duration": 454,
    "start_time": "2022-05-05T17:47:58.249Z"
   },
   {
    "duration": 302,
    "start_time": "2022-05-05T17:48:48.735Z"
   },
   {
    "duration": 9,
    "start_time": "2022-05-05T18:02:07.144Z"
   },
   {
    "duration": 8,
    "start_time": "2022-05-05T18:02:59.325Z"
   },
   {
    "duration": 96,
    "start_time": "2022-05-05T18:05:50.452Z"
   },
   {
    "duration": 97,
    "start_time": "2022-05-05T18:06:14.059Z"
   },
   {
    "duration": 1468,
    "start_time": "2022-05-05T18:06:40.744Z"
   },
   {
    "duration": 1544,
    "start_time": "2022-05-05T18:07:22.819Z"
   },
   {
    "duration": 1801,
    "start_time": "2022-05-05T18:08:56.404Z"
   },
   {
    "duration": 139,
    "start_time": "2022-05-05T20:37:01.999Z"
   },
   {
    "duration": 784,
    "start_time": "2022-05-05T20:39:38.536Z"
   },
   {
    "duration": 225,
    "start_time": "2022-05-05T20:46:12.308Z"
   },
   {
    "duration": 249,
    "start_time": "2022-05-05T20:47:07.425Z"
   },
   {
    "duration": 62,
    "start_time": "2022-05-05T20:52:38.657Z"
   },
   {
    "duration": 408,
    "start_time": "2022-05-05T20:52:41.755Z"
   },
   {
    "duration": 37,
    "start_time": "2022-05-05T20:52:56.734Z"
   },
   {
    "duration": 22,
    "start_time": "2022-05-05T20:54:20.068Z"
   },
   {
    "duration": 15,
    "start_time": "2022-05-05T20:55:55.275Z"
   },
   {
    "duration": 645,
    "start_time": "2022-05-05T20:56:49.757Z"
   },
   {
    "duration": 243,
    "start_time": "2022-05-05T20:57:24.051Z"
   },
   {
    "duration": 251,
    "start_time": "2022-05-05T20:57:50.666Z"
   },
   {
    "duration": 255,
    "start_time": "2022-05-05T20:58:06.624Z"
   },
   {
    "duration": 240,
    "start_time": "2022-05-05T20:58:18.204Z"
   },
   {
    "duration": 37,
    "start_time": "2022-05-05T21:15:26.125Z"
   },
   {
    "duration": 249,
    "start_time": "2022-05-05T21:15:45.098Z"
   },
   {
    "duration": 13,
    "start_time": "2022-05-05T21:15:58.197Z"
   },
   {
    "duration": 272,
    "start_time": "2022-05-05T21:16:09.252Z"
   },
   {
    "duration": 234,
    "start_time": "2022-05-05T21:17:11.871Z"
   },
   {
    "duration": 234,
    "start_time": "2022-05-05T21:17:26.151Z"
   },
   {
    "duration": 235,
    "start_time": "2022-05-05T21:17:58.833Z"
   },
   {
    "duration": 47,
    "start_time": "2022-05-07T13:12:55.025Z"
   },
   {
    "duration": 659,
    "start_time": "2022-05-07T13:13:03.222Z"
   },
   {
    "duration": 155,
    "start_time": "2022-05-07T13:13:03.883Z"
   },
   {
    "duration": 34,
    "start_time": "2022-05-07T13:13:04.039Z"
   },
   {
    "duration": 23,
    "start_time": "2022-05-07T13:13:04.076Z"
   },
   {
    "duration": 6,
    "start_time": "2022-05-07T13:13:04.101Z"
   },
   {
    "duration": 10,
    "start_time": "2022-05-07T13:13:04.109Z"
   },
   {
    "duration": 17,
    "start_time": "2022-05-07T13:13:04.122Z"
   },
   {
    "duration": 23,
    "start_time": "2022-05-07T13:13:04.141Z"
   },
   {
    "duration": 18,
    "start_time": "2022-05-07T13:13:04.165Z"
   },
   {
    "duration": 16,
    "start_time": "2022-05-07T13:13:04.186Z"
   },
   {
    "duration": 5,
    "start_time": "2022-05-07T13:13:04.204Z"
   },
   {
    "duration": 22,
    "start_time": "2022-05-07T13:13:04.211Z"
   },
   {
    "duration": 44,
    "start_time": "2022-05-07T13:13:04.235Z"
   },
   {
    "duration": 15,
    "start_time": "2022-05-07T13:13:04.281Z"
   },
   {
    "duration": 297,
    "start_time": "2022-05-07T13:13:04.298Z"
   },
   {
    "duration": 23,
    "start_time": "2022-05-07T13:13:04.597Z"
   },
   {
    "duration": 376,
    "start_time": "2022-05-07T13:13:04.621Z"
   },
   {
    "duration": 295,
    "start_time": "2022-05-07T13:13:04.998Z"
   },
   {
    "duration": 5,
    "start_time": "2022-05-07T13:13:05.295Z"
   },
   {
    "duration": 200,
    "start_time": "2022-05-07T13:13:05.301Z"
   },
   {
    "duration": 191,
    "start_time": "2022-05-07T13:13:05.502Z"
   },
   {
    "duration": 200,
    "start_time": "2022-05-07T13:13:05.695Z"
   },
   {
    "duration": 570,
    "start_time": "2022-05-07T13:13:05.897Z"
   },
   {
    "duration": 107,
    "start_time": "2022-05-07T13:13:06.473Z"
   },
   {
    "duration": 605,
    "start_time": "2022-05-07T13:13:06.582Z"
   },
   {
    "duration": 160,
    "start_time": "2022-05-07T13:13:07.189Z"
   },
   {
    "duration": 164,
    "start_time": "2022-05-07T13:13:07.351Z"
   },
   {
    "duration": 33,
    "start_time": "2022-05-07T13:13:07.519Z"
   },
   {
    "duration": 214,
    "start_time": "2022-05-07T13:13:07.554Z"
   },
   {
    "duration": 157,
    "start_time": "2022-05-07T13:13:07.769Z"
   },
   {
    "duration": 174,
    "start_time": "2022-05-07T13:13:07.927Z"
   },
   {
    "duration": 166,
    "start_time": "2022-05-07T13:13:08.103Z"
   },
   {
    "duration": 163,
    "start_time": "2022-05-07T13:13:08.274Z"
   },
   {
    "duration": 23,
    "start_time": "2022-05-07T13:13:08.439Z"
   },
   {
    "duration": 9,
    "start_time": "2022-05-07T13:13:08.472Z"
   },
   {
    "duration": 14,
    "start_time": "2022-05-07T13:13:08.483Z"
   },
   {
    "duration": 169,
    "start_time": "2022-05-07T13:13:08.499Z"
   },
   {
    "duration": 11,
    "start_time": "2022-05-07T13:13:08.670Z"
   },
   {
    "duration": 178,
    "start_time": "2022-05-07T13:13:08.682Z"
   },
   {
    "duration": 254,
    "start_time": "2022-05-07T13:13:08.862Z"
   },
   {
    "duration": 148,
    "start_time": "2022-05-07T13:13:09.118Z"
   },
   {
    "duration": 171,
    "start_time": "2022-05-07T13:13:09.267Z"
   },
   {
    "duration": 152,
    "start_time": "2022-05-07T13:13:09.439Z"
   },
   {
    "duration": 182,
    "start_time": "2022-05-07T13:13:09.593Z"
   },
   {
    "duration": 164,
    "start_time": "2022-05-07T13:13:41.738Z"
   },
   {
    "duration": 697,
    "start_time": "2022-05-07T13:24:12.955Z"
   },
   {
    "duration": 150,
    "start_time": "2022-05-07T13:24:13.654Z"
   },
   {
    "duration": 25,
    "start_time": "2022-05-07T13:24:13.805Z"
   },
   {
    "duration": 15,
    "start_time": "2022-05-07T13:24:13.832Z"
   },
   {
    "duration": 5,
    "start_time": "2022-05-07T13:24:13.849Z"
   },
   {
    "duration": 5,
    "start_time": "2022-05-07T13:24:13.873Z"
   },
   {
    "duration": 7,
    "start_time": "2022-05-07T13:24:13.879Z"
   },
   {
    "duration": 7,
    "start_time": "2022-05-07T13:24:13.888Z"
   },
   {
    "duration": 14,
    "start_time": "2022-05-07T13:24:13.896Z"
   },
   {
    "duration": 14,
    "start_time": "2022-05-07T13:24:13.914Z"
   },
   {
    "duration": 6,
    "start_time": "2022-05-07T13:24:13.930Z"
   },
   {
    "duration": 14,
    "start_time": "2022-05-07T13:24:13.974Z"
   },
   {
    "duration": 14,
    "start_time": "2022-05-07T13:24:13.989Z"
   },
   {
    "duration": 14,
    "start_time": "2022-05-07T13:24:14.005Z"
   },
   {
    "duration": 298,
    "start_time": "2022-05-07T13:24:14.021Z"
   },
   {
    "duration": 24,
    "start_time": "2022-05-07T13:24:14.320Z"
   },
   {
    "duration": 373,
    "start_time": "2022-05-07T13:24:14.345Z"
   },
   {
    "duration": 299,
    "start_time": "2022-05-07T13:24:14.720Z"
   },
   {
    "duration": 6,
    "start_time": "2022-05-07T13:24:15.021Z"
   },
   {
    "duration": 198,
    "start_time": "2022-05-07T13:24:15.029Z"
   },
   {
    "duration": 192,
    "start_time": "2022-05-07T13:24:15.229Z"
   },
   {
    "duration": 553,
    "start_time": "2022-05-07T13:24:15.423Z"
   },
   {
    "duration": 109,
    "start_time": "2022-05-07T13:24:15.978Z"
   },
   {
    "duration": 557,
    "start_time": "2022-05-07T13:24:16.089Z"
   },
   {
    "duration": 157,
    "start_time": "2022-05-07T13:24:16.648Z"
   },
   {
    "duration": 152,
    "start_time": "2022-05-07T13:24:16.806Z"
   },
   {
    "duration": 35,
    "start_time": "2022-05-07T13:24:16.960Z"
   },
   {
    "duration": 192,
    "start_time": "2022-05-07T13:24:16.999Z"
   },
   {
    "duration": 145,
    "start_time": "2022-05-07T13:24:17.193Z"
   },
   {
    "duration": 169,
    "start_time": "2022-05-07T13:24:17.339Z"
   },
   {
    "duration": 174,
    "start_time": "2022-05-07T13:24:17.510Z"
   },
   {
    "duration": 158,
    "start_time": "2022-05-07T13:24:17.686Z"
   },
   {
    "duration": 33,
    "start_time": "2022-05-07T13:24:17.845Z"
   },
   {
    "duration": 7,
    "start_time": "2022-05-07T13:24:17.880Z"
   },
   {
    "duration": 9,
    "start_time": "2022-05-07T13:24:17.888Z"
   },
   {
    "duration": 164,
    "start_time": "2022-05-07T13:24:17.899Z"
   },
   {
    "duration": 14,
    "start_time": "2022-05-07T13:24:18.065Z"
   },
   {
    "duration": 169,
    "start_time": "2022-05-07T13:24:18.081Z"
   },
   {
    "duration": 154,
    "start_time": "2022-05-07T13:24:18.252Z"
   },
   {
    "duration": 258,
    "start_time": "2022-05-07T13:24:18.407Z"
   },
   {
    "duration": 178,
    "start_time": "2022-05-07T13:24:18.667Z"
   },
   {
    "duration": 148,
    "start_time": "2022-05-07T13:24:18.847Z"
   },
   {
    "duration": 182,
    "start_time": "2022-05-07T13:24:18.998Z"
   },
   {
    "duration": 1166,
    "start_time": "2022-05-07T18:28:23.097Z"
   },
   {
    "duration": 220,
    "start_time": "2022-05-07T18:28:25.697Z"
   },
   {
    "duration": 40,
    "start_time": "2022-05-07T18:28:29.055Z"
   },
   {
    "duration": 21,
    "start_time": "2022-05-07T18:28:30.907Z"
   },
   {
    "duration": 8,
    "start_time": "2022-05-07T18:28:36.278Z"
   },
   {
    "duration": 7,
    "start_time": "2022-05-07T18:28:38.319Z"
   },
   {
    "duration": 7,
    "start_time": "2022-05-07T18:28:41.538Z"
   },
   {
    "duration": 8,
    "start_time": "2022-05-07T18:28:43.779Z"
   },
   {
    "duration": 20,
    "start_time": "2022-05-07T18:28:47.051Z"
   },
   {
    "duration": 144,
    "start_time": "2022-05-07T18:29:07.007Z"
   },
   {
    "duration": 100,
    "start_time": "2022-05-07T18:30:36.991Z"
   },
   {
    "duration": 15,
    "start_time": "2022-05-07T18:30:54.665Z"
   },
   {
    "duration": 47,
    "start_time": "2022-05-07T18:31:20.734Z"
   },
   {
    "duration": 41,
    "start_time": "2022-05-07T18:33:58.322Z"
   },
   {
    "duration": 13,
    "start_time": "2022-05-07T18:34:40.008Z"
   },
   {
    "duration": 19,
    "start_time": "2022-05-07T18:35:07.332Z"
   },
   {
    "duration": 27,
    "start_time": "2022-05-07T18:35:34.742Z"
   },
   {
    "duration": 27,
    "start_time": "2022-05-07T18:36:01.670Z"
   },
   {
    "duration": 28,
    "start_time": "2022-05-07T18:36:19.701Z"
   },
   {
    "duration": 39,
    "start_time": "2022-05-07T18:42:32.600Z"
   },
   {
    "duration": 41,
    "start_time": "2022-05-07T18:43:20.592Z"
   },
   {
    "duration": 292,
    "start_time": "2022-05-07T18:44:14.224Z"
   },
   {
    "duration": 260,
    "start_time": "2022-05-07T18:44:54.947Z"
   },
   {
    "duration": 273,
    "start_time": "2022-05-07T18:45:17.238Z"
   },
   {
    "duration": 31,
    "start_time": "2022-05-07T18:47:40.298Z"
   },
   {
    "duration": 58,
    "start_time": "2022-05-07T18:50:50.544Z"
   },
   {
    "duration": 75,
    "start_time": "2022-05-07T18:51:26.930Z"
   },
   {
    "duration": 50,
    "start_time": "2022-05-07T18:52:33.363Z"
   },
   {
    "duration": 21,
    "start_time": "2022-05-07T19:11:14.251Z"
   },
   {
    "duration": 21,
    "start_time": "2022-05-07T19:11:16.006Z"
   },
   {
    "duration": 25,
    "start_time": "2022-05-07T19:12:37.445Z"
   },
   {
    "duration": 27,
    "start_time": "2022-05-07T19:12:38.795Z"
   },
   {
    "duration": 562,
    "start_time": "2022-05-07T19:13:02.578Z"
   },
   {
    "duration": 33,
    "start_time": "2022-05-07T19:13:08.734Z"
   },
   {
    "duration": 524,
    "start_time": "2022-05-07T19:13:12.223Z"
   },
   {
    "duration": 1067,
    "start_time": "2022-05-07T19:13:46.687Z"
   },
   {
    "duration": 2454,
    "start_time": "2022-05-07T19:14:02.076Z"
   },
   {
    "duration": 848,
    "start_time": "2022-05-07T19:14:41.638Z"
   },
   {
    "duration": 217,
    "start_time": "2022-05-07T19:52:45.416Z"
   },
   {
    "duration": 223,
    "start_time": "2022-05-07T20:04:36.357Z"
   },
   {
    "duration": 417,
    "start_time": "2022-05-07T20:33:31.039Z"
   },
   {
    "duration": 525,
    "start_time": "2022-05-07T20:33:47.882Z"
   },
   {
    "duration": 404,
    "start_time": "2022-05-07T20:37:08.868Z"
   },
   {
    "duration": 574,
    "start_time": "2022-05-07T20:37:21.444Z"
   },
   {
    "duration": 468,
    "start_time": "2022-05-07T20:39:15.721Z"
   },
   {
    "duration": 377,
    "start_time": "2022-05-07T20:39:30.147Z"
   },
   {
    "duration": 450,
    "start_time": "2022-05-07T20:39:46.104Z"
   },
   {
    "duration": 395,
    "start_time": "2022-05-07T20:40:52.307Z"
   },
   {
    "duration": 424,
    "start_time": "2022-05-07T20:41:49.334Z"
   },
   {
    "duration": 577,
    "start_time": "2022-05-07T20:46:14.401Z"
   },
   {
    "duration": 905,
    "start_time": "2022-05-10T13:40:09.925Z"
   },
   {
    "duration": 207,
    "start_time": "2022-05-10T13:40:10.833Z"
   },
   {
    "duration": 65,
    "start_time": "2022-05-10T13:40:11.042Z"
   },
   {
    "duration": 50,
    "start_time": "2022-05-10T13:40:11.111Z"
   },
   {
    "duration": 12,
    "start_time": "2022-05-10T13:40:11.164Z"
   },
   {
    "duration": 12,
    "start_time": "2022-05-10T13:40:11.179Z"
   },
   {
    "duration": 19,
    "start_time": "2022-05-10T13:40:11.193Z"
   },
   {
    "duration": 28,
    "start_time": "2022-05-10T13:40:11.214Z"
   },
   {
    "duration": 33,
    "start_time": "2022-05-10T13:40:11.244Z"
   },
   {
    "duration": 82,
    "start_time": "2022-05-10T13:40:11.281Z"
   },
   {
    "duration": 7,
    "start_time": "2022-05-10T13:40:11.365Z"
   },
   {
    "duration": 35,
    "start_time": "2022-05-10T13:40:11.376Z"
   },
   {
    "duration": 48,
    "start_time": "2022-05-10T13:40:11.414Z"
   },
   {
    "duration": 43,
    "start_time": "2022-05-10T13:40:11.465Z"
   },
   {
    "duration": 506,
    "start_time": "2022-05-10T13:40:11.511Z"
   },
   {
    "duration": 42,
    "start_time": "2022-05-10T13:40:12.020Z"
   },
   {
    "duration": 1021,
    "start_time": "2022-05-10T13:40:12.064Z"
   },
   {
    "duration": 517,
    "start_time": "2022-05-10T13:40:13.087Z"
   },
   {
    "duration": 7,
    "start_time": "2022-05-10T13:40:13.606Z"
   },
   {
    "duration": 317,
    "start_time": "2022-05-10T13:40:13.615Z"
   },
   {
    "duration": 472,
    "start_time": "2022-05-10T13:40:13.934Z"
   },
   {
    "duration": 931,
    "start_time": "2022-05-10T13:40:14.409Z"
   },
   {
    "duration": 162,
    "start_time": "2022-05-10T13:40:15.343Z"
   },
   {
    "duration": 877,
    "start_time": "2022-05-10T13:40:15.507Z"
   },
   {
    "duration": 176,
    "start_time": "2022-05-10T13:40:16.387Z"
   },
   {
    "duration": 182,
    "start_time": "2022-05-10T13:40:16.565Z"
   },
   {
    "duration": 249,
    "start_time": "2022-05-10T13:40:16.753Z"
   },
   {
    "duration": 259,
    "start_time": "2022-05-10T13:40:17.007Z"
   },
   {
    "duration": 47,
    "start_time": "2022-05-10T13:40:17.268Z"
   },
   {
    "duration": 315,
    "start_time": "2022-05-10T13:40:17.318Z"
   },
   {
    "duration": 432,
    "start_time": "2022-05-10T13:40:17.636Z"
   },
   {
    "duration": 465,
    "start_time": "2022-05-10T13:40:18.070Z"
   },
   {
    "duration": 269,
    "start_time": "2022-05-10T13:40:18.537Z"
   },
   {
    "duration": 497,
    "start_time": "2022-05-10T13:40:18.808Z"
   },
   {
    "duration": 52,
    "start_time": "2022-05-10T13:40:19.308Z"
   },
   {
    "duration": 10,
    "start_time": "2022-05-10T13:40:19.363Z"
   },
   {
    "duration": 26,
    "start_time": "2022-05-10T13:40:19.375Z"
   },
   {
    "duration": 265,
    "start_time": "2022-05-10T13:40:19.403Z"
   },
   {
    "duration": 16,
    "start_time": "2022-05-10T13:40:19.670Z"
   },
   {
    "duration": 372,
    "start_time": "2022-05-10T13:40:19.689Z"
   },
   {
    "duration": 336,
    "start_time": "2022-05-10T13:40:20.064Z"
   },
   {
    "duration": 247,
    "start_time": "2022-05-10T13:40:20.402Z"
   },
   {
    "duration": 278,
    "start_time": "2022-05-10T13:40:20.651Z"
   },
   {
    "duration": 263,
    "start_time": "2022-05-10T13:40:20.931Z"
   },
   {
    "duration": 285,
    "start_time": "2022-05-10T13:40:21.196Z"
   },
   {
    "duration": 856,
    "start_time": "2023-02-28T18:24:47.867Z"
   },
   {
    "duration": 497,
    "start_time": "2023-02-28T18:24:48.726Z"
   },
   {
    "duration": 36,
    "start_time": "2023-02-28T18:24:49.225Z"
   },
   {
    "duration": 31,
    "start_time": "2023-02-28T18:24:49.264Z"
   },
   {
    "duration": 11,
    "start_time": "2023-02-28T18:24:49.297Z"
   },
   {
    "duration": 38,
    "start_time": "2023-02-28T18:24:49.310Z"
   },
   {
    "duration": 7,
    "start_time": "2023-02-28T18:24:49.350Z"
   },
   {
    "duration": 11,
    "start_time": "2023-02-28T18:24:49.358Z"
   },
   {
    "duration": 18,
    "start_time": "2023-02-28T18:24:49.371Z"
   },
   {
    "duration": 60,
    "start_time": "2023-02-28T18:24:49.392Z"
   },
   {
    "duration": 7,
    "start_time": "2023-02-28T18:24:49.454Z"
   },
   {
    "duration": 35,
    "start_time": "2023-02-28T18:24:49.463Z"
   },
   {
    "duration": 29,
    "start_time": "2023-02-28T18:24:49.502Z"
   },
   {
    "duration": 20,
    "start_time": "2023-02-28T18:24:49.533Z"
   },
   {
    "duration": 334,
    "start_time": "2023-02-28T18:24:49.555Z"
   },
   {
    "duration": 32,
    "start_time": "2023-02-28T18:24:49.892Z"
   },
   {
    "duration": 775,
    "start_time": "2023-02-28T18:24:49.927Z"
   },
   {
    "duration": 332,
    "start_time": "2023-02-28T18:24:50.707Z"
   },
   {
    "duration": 6,
    "start_time": "2023-02-28T18:24:51.041Z"
   },
   {
    "duration": 224,
    "start_time": "2023-02-28T18:24:51.048Z"
   },
   {
    "duration": 234,
    "start_time": "2023-02-28T18:24:51.274Z"
   },
   {
    "duration": 638,
    "start_time": "2023-02-28T18:24:51.510Z"
   },
   {
    "duration": 113,
    "start_time": "2023-02-28T18:24:52.150Z"
   },
   {
    "duration": 715,
    "start_time": "2023-02-28T18:24:52.265Z"
   },
   {
    "duration": 117,
    "start_time": "2023-02-28T18:24:52.981Z"
   },
   {
    "duration": 130,
    "start_time": "2023-02-28T18:24:53.101Z"
   },
   {
    "duration": 161,
    "start_time": "2023-02-28T18:24:53.232Z"
   },
   {
    "duration": 190,
    "start_time": "2023-02-28T18:24:53.397Z"
   },
   {
    "duration": 37,
    "start_time": "2023-02-28T18:24:53.588Z"
   },
   {
    "duration": 231,
    "start_time": "2023-02-28T18:24:53.627Z"
   },
   {
    "duration": 311,
    "start_time": "2023-02-28T18:24:53.860Z"
   },
   {
    "duration": 324,
    "start_time": "2023-02-28T18:24:54.173Z"
   },
   {
    "duration": 188,
    "start_time": "2023-02-28T18:24:54.499Z"
   },
   {
    "duration": 378,
    "start_time": "2023-02-28T18:24:54.691Z"
   },
   {
    "duration": 43,
    "start_time": "2023-02-28T18:24:55.071Z"
   },
   {
    "duration": 18,
    "start_time": "2023-02-28T18:24:55.126Z"
   },
   {
    "duration": 19,
    "start_time": "2023-02-28T18:24:55.145Z"
   },
   {
    "duration": 201,
    "start_time": "2023-02-28T18:24:55.166Z"
   },
   {
    "duration": 9,
    "start_time": "2023-02-28T18:24:55.369Z"
   },
   {
    "duration": 242,
    "start_time": "2023-02-28T18:24:55.379Z"
   },
   {
    "duration": 179,
    "start_time": "2023-02-28T18:24:55.626Z"
   },
   {
    "duration": 169,
    "start_time": "2023-02-28T18:24:55.808Z"
   },
   {
    "duration": 247,
    "start_time": "2023-02-28T18:24:55.980Z"
   },
   {
    "duration": 230,
    "start_time": "2023-02-28T18:24:56.229Z"
   },
   {
    "duration": 227,
    "start_time": "2023-02-28T18:24:56.461Z"
   }
  ],
  "kernelspec": {
   "display_name": "Python 3 (ipykernel)",
   "language": "python",
   "name": "python3"
  },
  "language_info": {
   "codemirror_mode": {
    "name": "ipython",
    "version": 3
   },
   "file_extension": ".py",
   "mimetype": "text/x-python",
   "name": "python",
   "nbconvert_exporter": "python",
   "pygments_lexer": "ipython3",
   "version": "3.9.5"
  },
  "toc": {
   "base_numbering": 1,
   "nav_menu": {},
   "number_sections": true,
   "sideBar": true,
   "skip_h1_title": true,
   "title_cell": "Содержание",
   "title_sidebar": "Contents",
   "toc_cell": true,
   "toc_position": {},
   "toc_section_display": true,
   "toc_window_display": false
  }
 },
 "nbformat": 4,
 "nbformat_minor": 4
}
